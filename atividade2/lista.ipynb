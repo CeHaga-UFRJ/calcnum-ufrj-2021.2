{
 "cells": [
  {
   "cell_type": "markdown",
   "metadata": {},
   "source": [
    "# Atividade 2 - Cálculo Numérico\n",
    "Carlos Bravo - 119136241"
   ]
  },
  {
   "cell_type": "markdown",
   "metadata": {},
   "source": [
    "## Imports"
   ]
  },
  {
   "cell_type": "code",
   "execution_count": 1,
   "metadata": {},
   "outputs": [],
   "source": [
    "using Plots\n",
    "include(\"../lib.jl\");"
   ]
  },
  {
   "cell_type": "markdown",
   "metadata": {},
   "source": [
    "## Exercício 1 (2.1)"
   ]
  },
  {
   "cell_type": "markdown",
   "metadata": {},
   "source": [
    "O Método de Newton é utilizado para aproximar as raízes de uma função. O método funciona da seguinte forma:\n",
    "1. É \"chutado\" um valor inicial que, mesmo errado, está próximo do valor correto\n",
    "2. É calculada a reta tangente nesse ponto\n",
    "    * A reta tangente é uma aproximação da função no entorno do ponto\n",
    "    * É mais fácil encontrar a raíz de uma reta que uma função arbitrária\n",
    "3. É calculada a raíz da reta e aproximado como um chute melhor\n",
    "4. Passos 2-3 são repetidos durante N vezes ou até chegar na margem de erro desejada\n",
    "\n",
    "O passo chave desse método é o segundo, utilizar a reta tangente como uma fácil aproximação"
   ]
  },
  {
   "cell_type": "markdown",
   "metadata": {},
   "source": [
    "Queremos encontrar $x = \\sqrt[3]{43}$, o que podemos rearrumar para $x^3 - 43 = 0$. Essa organização é preferível, pois utilizando $f(x) = x^3 - 43$, podemos utilizar do método de Newton para encontrar a raíz. \n",
    "\n",
    "Além disso, será definido 20 iterações. Uma escolha arbitrária, mas um número de repetições suficiente para aproximar com algumas casas decimais de precisão.\n",
    "\n",
    "Sobre o chute inicial, como $\\sqrt[3]{43}$ está entre 3 e 4, 3.5 parece um bom chute.\n",
    "\n",
    "Ficaram definidos os seguintes parâmetros:\n",
    " * $f(x) = x^3 - 43$\n",
    " * $f'(x) = 3x^2$\n",
    " * $x_0 = 3.5$\n",
    " * $n = 20$ "
   ]
  },
  {
   "cell_type": "code",
   "execution_count": 2,
   "metadata": {},
   "outputs": [
    {
     "data": {
      "text/plain": [
       "3.5033980603867243"
      ]
     },
     "execution_count": 2,
     "metadata": {},
     "output_type": "execute_result"
    }
   ],
   "source": [
    "f(x) = x^3-43 # Funcao\n",
    "df(x) = 3x^2 # Derivada\n",
    "x0 = 3.5 # Chute inicial\n",
    "n = 20 # Numero de termos\n",
    "\n",
    "raiz = newton_raphson(f, df, x0, n)\n",
    "raiz"
   ]
  },
  {
   "cell_type": "code",
   "execution_count": 3,
   "metadata": {},
   "outputs": [
    {
     "data": {
      "text/plain": [
       "7.105427357601002e-15"
      ]
     },
     "execution_count": 3,
     "metadata": {},
     "output_type": "execute_result"
    }
   ],
   "source": [
    "# Conferindo margem de erro\n",
    "raiz^3 - 43"
   ]
  },
  {
   "cell_type": "markdown",
   "metadata": {},
   "source": [
    "Como a precisão é de 15 casas decimais, o valor $3.5033980603867243$ é uma ótima aproximação de $\\sqrt[3]{43}$.\n",
    "\n",
    "Em qualquer chute inicial com passos o suficiente seria possível chegar nesse valor, no entanto há alguns valores iniciais que impedem o método de funcionar corretamente, um \"chute problemático\".\n",
    "\n",
    "A definição do Método de Newton para calcular a aproximação $x_n$ é:\n",
    "$$ x_n = x_{n-1} - \\frac{f(x_{n-1})}{f'(x_{n-1})}$$\n",
    "\n",
    "Podemos facilmente ver que essa fórmula \"quebra\" em um valor específico, quando $f'(x_{n-1}) = 0$. Como $f'(x) = 3x^2$, o único valor de $x$ que a função retorna 0 é quando $x=0$, dessa forma, não podendo ser um chute inicial. É possível ver que esse chute não nos leva a nenhum lugar substituindo na chamada do método:"
   ]
  },
  {
   "cell_type": "code",
   "execution_count": 4,
   "metadata": {},
   "outputs": [
    {
     "data": {
      "text/plain": [
       "NaN"
      ]
     },
     "execution_count": 4,
     "metadata": {},
     "output_type": "execute_result"
    }
   ],
   "source": [
    "newton_raphson(f, df, 0, n)"
   ]
  },
  {
   "cell_type": "markdown",
   "metadata": {},
   "source": [
    "## Exercício 2  (2.2)"
   ]
  },
  {
   "cell_type": "markdown",
   "metadata": {},
   "source": [
    "Para encontrar a função podemos aplicar a fórmula\n",
    "$$ x_n = x_{n-1} - \\frac{f(x_{n-1})}{f'(x_{n-1})}$$\n",
    "\n",
    "Como alterna entre 2 valores, há 2 formas possíveis:\n",
    "$$ 2 = 1 - \\frac{f(1)}{f'(1)} \\rightarrow \\frac{f(1)}{f'(1)} = -1$$\n",
    "$$ 1 = 2 - \\frac{f(2)}{f'(2)} \\rightarrow \\frac{f(2)}{f'(2)} = 1$$\n",
    "\n",
    "Como $f(x)$ é um polinômio de grau 2, podemos reescrever:\n",
    "* $f(x) = ax^2 + bx + c$\n",
    "* $f'(x) = 2ax + b$\n",
    "\n",
    "Substituindo nas fórmulas encontradas obtemos as seguintes equações:\n",
    "$$a+b+c=-(2a+b)$$\n",
    "$$4a+2b+c=4a+b$$"
   ]
  },
  {
   "cell_type": "markdown",
   "metadata": {},
   "source": [
    "Manipulando as 2 equações obtemos as seguintes condições, respectivamente:\n",
    "1. $3a=c$\n",
    "2. $b=-c$\n",
    "\n",
    "Originalmente, tínhamos a equação $ax^2+bx+c$, substituindo os valores encontrados, obtemos $ax^2-3ax+3a$, que é a família de equações possíveis para satisfazer a condição. No entanto, tem uma condição implícita do fato de $f(x)$ ser um polinômio de segundo grau, que é $a \\neq 0$. Assim, basta escolher outro valor, como por exemplo $a=1$.\n",
    "\n",
    "Definindo $f(x)=x^2-3x+3$ e aplicando o método podemos ver que vai ficar alternando entre os valores:"
   ]
  },
  {
   "cell_type": "code",
   "execution_count": 5,
   "metadata": {},
   "outputs": [],
   "source": [
    "f(x) = x^2 - 3x + 3\n",
    "df(x) = 2x - 3;"
   ]
  },
  {
   "cell_type": "code",
   "execution_count": 6,
   "metadata": {},
   "outputs": [
    {
     "data": {
      "text/plain": [
       "2.0"
      ]
     },
     "execution_count": 6,
     "metadata": {},
     "output_type": "execute_result"
    }
   ],
   "source": [
    "1 - f(1)/df(1)"
   ]
  },
  {
   "cell_type": "code",
   "execution_count": 7,
   "metadata": {},
   "outputs": [
    {
     "data": {
      "text/plain": [
       "1.0"
      ]
     },
     "execution_count": 7,
     "metadata": {},
     "output_type": "execute_result"
    }
   ],
   "source": [
    "2 - f(2)/df(2)"
   ]
  },
  {
   "cell_type": "markdown",
   "metadata": {},
   "source": [
    "Temos a condição de alternância, mas faltou a condição $x_0=1$. No entanto, isso se deve simplesmente ao fato de que $1$ foi o chute inicial, o que é um valor de livre escolha. \n",
    "\n",
    "Assim, se $f(x)$ for definida como anteriormente e o chute inicial for $1$, as condições estão satisfeitas."
   ]
  },
  {
   "cell_type": "markdown",
   "metadata": {},
   "source": [
    "## Exercício 3 (4.1)"
   ]
  },
  {
   "cell_type": "markdown",
   "metadata": {},
   "source": [
    "A fórmula do Teorema de Taylor de ordem 1 é:\n",
    "$$\\left | f(x)-(f(a)+f'(a)(x-a)) \\right | \\leq \\frac{M(x-a)^2}{2}$$\n",
    "Ou, em português:\n",
    "\n",
    "_O que você quer_ - _Uma aproximação disso_ $\\leq$ _O quão errado pode estar_\n",
    "\n",
    "Assim, podemos manipular a equação da seguinte forma:\n",
    "$$\\left | f(x)-f(a)-f'(a)(x-a) \\right | \\leq \\frac{M(x-a)^2}{2}$$\n",
    "$$\\left | \\frac{f(x)-f(a)}{x-a}-f'(a) \\right | \\leq \\frac{M(x-a)}{2}$$\n",
    "$$\\left | f'(a)- \\frac{f(x)-f(a)}{x-a} \\right | \\leq \\frac{M(x-a)}{2}$$\n",
    "\n",
    "* O que queremos: $f'(a)$\n",
    "* Como aproximamos: $\\frac{f(x)-f(a)}{x-a}$\n",
    "* Erro máximo: $\\frac{M(x-a)}{2}$"
   ]
  },
  {
   "cell_type": "markdown",
   "metadata": {},
   "source": [
    "## Exercício 4 (4.2)"
   ]
  },
  {
   "cell_type": "markdown",
   "metadata": {},
   "source": [
    "Para aproximar $sen(0.01)$ com erro de $10^{-6}$ podemos usar a fórmula de Taylor de ordem n. Primeiro, devemos encontrar em qual termo parar a aproximação, então precisamos encontrar em qual termo o erro é menor que o estipulado.\n",
    "\n",
    "O erro do termo n é dado por $\\frac{M(x-a)^{n+1}}{(n+1)!}$.\n",
    "* Usando o termo conhecido $sen(0)=0$, temos que $x-a = 0.01$\n",
    "* n é o que queremos descobrir\n",
    "* M é um teto para a derivada $f^{(n+1)}(x)$. Como a derivada alterna entre {sen, cos, -sen, -cos}, podemos limitar todas as derivadas por 1"
   ]
  },
  {
   "cell_type": "code",
   "execution_count": 8,
   "metadata": {},
   "outputs": [
    {
     "name": "stdout",
     "output_type": "stream",
     "text": [
      "0 → 0.01\n",
      "1 → 5.0e-5\n",
      "2 → 1.666666666666667e-7\n",
      "3 → 4.166666666666667e-10\n",
      "4 → 8.333333333333335e-13\n",
      "5 → 1.3888888888888892e-15\n",
      "6 → 1.9841269841269846e-18\n",
      "7 → 2.4801587301587306e-21\n",
      "8 → 2.7557319223985896e-24\n",
      "9 → 2.7557319223985897e-27\n",
      "10 → 2.5052108385441727e-30\n"
     ]
    }
   ],
   "source": [
    "M = 1 # Teto para a derivada f^{(n+1)}\n",
    "x = 0.01 # Ponto que queremos aproximar\n",
    "a = 0 # Ponto proximo que conhecemos\n",
    "for n = 0:10 # Percorre os 10 primeiros termos\n",
    "    res = (M*(x-a)^(n+1))/factorial(n+1) # Calcula o erro correspondente\n",
    "    println(\"$n → $res\")\n",
    "end"
   ]
  },
  {
   "cell_type": "markdown",
   "metadata": {},
   "source": [
    "A partir dessa lista, encontramos que precisamos usar taylor de ordem 2 para obter o erro desejado. Agora, basta calcular a aproximação:\n",
    "$$f(a) + f'(a)(x-a) + \\frac{f''(a)(x-a)^2}{2}$$\n",
    "* f(a) = sen(0) = 0\n",
    "* f'(a) = cos(0) = 1\n",
    "* f''(a) = -sen(0) = 0\n",
    "* x - a = 0.01"
   ]
  },
  {
   "cell_type": "code",
   "execution_count": 9,
   "metadata": {},
   "outputs": [
    {
     "data": {
      "text/plain": [
       "0.01"
      ]
     },
     "execution_count": 9,
     "metadata": {},
     "output_type": "execute_result"
    }
   ],
   "source": [
    "0 + 1*(0.01) + 0*(0.01)^2/2"
   ]
  },
  {
   "cell_type": "markdown",
   "metadata": {},
   "source": [
    "Assim, $sen(0.01) \\approx 0.01$ com erro menor que $10^{-6}$"
   ]
  },
  {
   "cell_type": "markdown",
   "metadata": {},
   "source": [
    "## Exercício 5 (4.3)"
   ]
  },
  {
   "cell_type": "markdown",
   "metadata": {},
   "source": [
    "O Teorema de Taylor de Ordem n nos diz que a aproximação da função é dada por:\n",
    "$$\\sum_{n=0}\\frac{f^{(n)}(a)(x-a)^n}{n!}$$\n",
    "As derivadas da função $sen(x)$ irão alternar entre os seguintes valores:\n",
    "\n",
    "0. sen(x)\n",
    "1. cos(x)\n",
    "2. -sen(x)\n",
    "3. -cos(x)\n",
    "\n",
    "Como queremos aproximar seno para um valor muito próximo de 0, teremos que $a=0$, porém isso implica duas consequências:\n",
    "\n",
    "1. $f^{(2k)}(0) = 0$:\n",
    "\n",
    "Toda derivada de ordem par aplicada em a será 0, pois $sen(0) = -sen(0) = 0$, então só precisamos nos preocupar com derivadas de ordem ímpar.\n",
    "\n",
    "2. $(x-a) \\approx 0$:\n",
    "\n",
    "Como $x=0.01$ e $a=0$, $x-a = 10^{-2}$. Cada vez que aumentarmos a quantidade de termos, aumentaremos o expoente $n$, que aplicado em um valor pequeno retorna um valor menor ainda. Quando $n=1$, o termo possui ordem de $10^{-2}$. Mas quando $n=3$, a ordem vai para $10^{-6}$, deixando o erro muito baixo. \n",
    "\n",
    "Assim, qualquer ordem maior que $n=1$ já possui uma diferença muito pequena, assim como o erro quando $sen(x) \\approx x$ "
   ]
  },
  {
   "cell_type": "markdown",
   "metadata": {},
   "source": [
    "## Exercício 6 (4.4)"
   ]
  },
  {
   "cell_type": "markdown",
   "metadata": {},
   "source": [
    "(Discutido com Gabriele Jandres e Markson Arguello)"
   ]
  },
  {
   "cell_type": "markdown",
   "metadata": {},
   "source": [
    "Para usar Taylor de terceira ordem precisamos definir os seguintes parâmetros:\n",
    "* $x = 1.5$\n",
    "* $a = 1$\n",
    "* $f(a) = ln(1) = 0$\n",
    "* $f^{(1)}(a) = \\frac{1}{1} = 1$\n",
    "* $f^{(2)}(a) = -\\frac{1}{1} = -1$\n",
    "* $f^{(3)}(a) = \\frac{2}{1} = 2$\n",
    "* $f^{(4)}(x) = -\\frac{6}{x^4} \\rightarrow M = 6$\n",
    "    * Para $1 \\leq x \\leq 1.5$, temos que $|f^{(4)}(x)| \\leq 6$ \n",
    "    \n",
    "Substituindo os valores obtemos:"
   ]
  },
  {
   "cell_type": "code",
   "execution_count": 10,
   "metadata": {},
   "outputs": [
    {
     "name": "stdout",
     "output_type": "stream",
     "text": [
      "Aproximação: 0.4166666666666667\n",
      "Erro: 0.015625\n"
     ]
    }
   ],
   "source": [
    "ln = 0.5 - (0.5)^2/2 + 2*(0.5)^3/6\n",
    "erro = 6 * (0.5)^4/24\n",
    "println(\"Aproximação: $ln\\nErro: $erro\")"
   ]
  },
  {
   "cell_type": "markdown",
   "metadata": {},
   "source": [
    "Essa aproximação contém 1 dígito correto, ou seja, $0.4$. Para encontrar o erro faremos da mesma forma que anteriormente na questão 4.2. Mas antes, precisamos mudar o teto $M$. Por causa do termo polinomial, a n-ésima derivada possui o multiplicador $(n-1)!$, de resto ficando igual. Como o resto do termo é o mesmo, esse coeficiente será o nosso $M$:"
   ]
  },
  {
   "cell_type": "code",
   "execution_count": 11,
   "metadata": {},
   "outputs": [
    {
     "name": "stdout",
     "output_type": "stream",
     "text": [
      "1 → 0.125\n",
      "2 → 0.041666666666666664\n",
      "3 → 0.015625\n",
      "4 → 0.00625\n",
      "5 → 0.0026041666666666665\n",
      "6 → 0.0011160714285714285\n",
      "7 → 0.00048828125\n",
      "8 → 0.00021701388888888888\n",
      "9 → 9.765625e-5\n",
      "10 → 4.438920454545455e-5\n",
      "11 → 2.0345052083333332e-5\n",
      "12 → 9.390024038461539e-6\n",
      "13 → 4.359654017857143e-6\n",
      "14 → 2.0345052083333333e-6\n",
      "15 → 9.5367431640625e-7\n",
      "16 → 4.4878791360294117e-7\n",
      "17 → 2.1192762586805554e-7\n",
      "18 → 1.0038677014802631e-7\n",
      "19 → 4.76837158203125e-8\n",
      "20 → 2.270653134300595e-8\n",
      "21 → 1.0837208140980114e-8\n",
      "22 → 5.183012589164402e-9\n",
      "23 → 2.483526865641276e-9\n",
      "24 → 1.1920928955078125e-9\n",
      "25 → 5.73121584378756e-10\n"
     ]
    }
   ],
   "source": [
    "for n = 1:25\n",
    "    erro = (0.5)^(n+1) / (n+1)\n",
    "    println(\"$n → $erro\")\n",
    "end"
   ]
  },
  {
   "cell_type": "markdown",
   "metadata": {},
   "source": [
    "Seguindo essa tabela, o polinômio deve conter então 22 termos para que o erro seja menor que $10^{-8}$"
   ]
  },
  {
   "cell_type": "markdown",
   "metadata": {},
   "source": [
    "## Exercício 7 (4.5)"
   ]
  },
  {
   "cell_type": "markdown",
   "metadata": {},
   "source": [
    "A implementação se encontra no arquivo _lib.jl_, o método _taylor\\_ln_. O valor pedido e o erro podem ser modificados nas variáveis abaixo:"
   ]
  },
  {
   "cell_type": "code",
   "execution_count": 12,
   "metadata": {},
   "outputs": [
    {
     "data": {
      "text/plain": [
       "0.40546510460350027"
      ]
     },
     "execution_count": 12,
     "metadata": {},
     "output_type": "execute_result"
    }
   ],
   "source": [
    "x = 1.5\n",
    "erro = 1e-8\n",
    "\n",
    "taylor_ln(x, erro)"
   ]
  },
  {
   "cell_type": "markdown",
   "metadata": {},
   "source": [
    "## Exercício 8 (4.6)"
   ]
  },
  {
   "cell_type": "markdown",
   "metadata": {},
   "source": [
    "Podemos expressar seno da seguinte forma usando o Teorema de Taylor:\n",
    "$$sen(x) = x - \\frac{x^3}{3!} + \\frac{x^5}{5!} - ...$$\n",
    "O termo $x$ irá desaparecer com o termo $-x$ do limite. Os expoentes irão ser subtraídos em $3$ por causa do denominador do limite. Assim, o que sobra é:\n",
    "$$lim_{x \\rightarrow 0}\\left (-\\frac{1}{3!} + \\frac{x^2}{5!} - ...\\right )$$\n",
    "Substituindo x por 0, todos os termos irão sumir exceto pelo primeiro, sobrando apenas $-\\frac{1}{3!}$, então o limite é igual a $-\\frac{1}{6}$"
   ]
  },
  {
   "cell_type": "markdown",
   "metadata": {},
   "source": [
    "## Exercício 9 (4.7)"
   ]
  },
  {
   "cell_type": "markdown",
   "metadata": {},
   "source": [
    "Primeiro definiremos as funções $cos$ e suas seguintes aproximações no Teorema de Taylor quando $a = 0$"
   ]
  },
  {
   "cell_type": "code",
   "execution_count": 13,
   "metadata": {},
   "outputs": [],
   "source": [
    "f(x) = cos(x)\n",
    "t1(x) = 1\n",
    "t2(x) = t1(x) - x^2/factorial(2)\n",
    "t3(x) = t2(x) + x^4/factorial(4)\n",
    "t4(x) = t3(x) - x^6/factorial(6)\n",
    "t5(x) = t4(x) + x^8/factorial(8);"
   ]
  },
  {
   "cell_type": "markdown",
   "metadata": {},
   "source": [
    "Agora é fazer o gráfico"
   ]
  },
  {
   "cell_type": "code",
   "execution_count": 14,
   "metadata": {},
   "outputs": [],
   "source": [
    "gr()\n",
    "theme(:dark)\n",
    "x = range(-7, 7, length=100)\n",
    "y = f.(x)\n",
    ";"
   ]
  },
  {
   "cell_type": "code",
   "execution_count": 18,
   "metadata": {},
   "outputs": [
    {
     "data": {
      "image/svg+xml": "<?xml version=\"1.0\" encoding=\"utf-8\"?>\n<svg xmlns=\"http://www.w3.org/2000/svg\" xmlns:xlink=\"http://www.w3.org/1999/xlink\" width=\"600\" height=\"400\" viewBox=\"0 0 2400 1600\">\n<defs>\n  <clipPath id=\"clip250\">\n    <rect x=\"0\" y=\"0\" width=\"2400\" height=\"1600\"/>\n  </clipPath>\n</defs>\n<path clip-path=\"url(#clip250)\" d=\"\nM0 1600 L2400 1600 L2400 0 L0 0  Z\n  \" fill=\"#363d46\" fill-rule=\"evenodd\" fill-opacity=\"1\"/>\n<defs>\n  <clipPath id=\"clip251\">\n    <rect x=\"480\" y=\"0\" width=\"1681\" height=\"1600\"/>\n  </clipPath>\n</defs>\n<path clip-path=\"url(#clip250)\" d=\"\nM149.191 1486.45 L2352.76 1486.45 L2352.76 47.2441 L149.191 47.2441  Z\n  \" fill=\"#30343b\" fill-rule=\"evenodd\" fill-opacity=\"1\"/>\n<defs>\n  <clipPath id=\"clip252\">\n    <rect x=\"149\" y=\"47\" width=\"2205\" height=\"1440\"/>\n  </clipPath>\n</defs>\n<polyline clip-path=\"url(#clip252)\" style=\"stroke:#adb2b7; stroke-linecap:butt; stroke-linejoin:round; stroke-width:2; stroke-opacity:0.1; fill:none\" points=\"\n  360.044,1486.45 360.044,47.2441 \n  \"/>\n<polyline clip-path=\"url(#clip252)\" style=\"stroke:#adb2b7; stroke-linecap:butt; stroke-linejoin:round; stroke-width:2; stroke-opacity:0.1; fill:none\" points=\"\n  657.021,1486.45 657.021,47.2441 \n  \"/>\n<polyline clip-path=\"url(#clip252)\" style=\"stroke:#adb2b7; stroke-linecap:butt; stroke-linejoin:round; stroke-width:2; stroke-opacity:0.1; fill:none\" points=\"\n  953.997,1486.45 953.997,47.2441 \n  \"/>\n<polyline clip-path=\"url(#clip252)\" style=\"stroke:#adb2b7; stroke-linecap:butt; stroke-linejoin:round; stroke-width:2; stroke-opacity:0.1; fill:none\" points=\"\n  1250.97,1486.45 1250.97,47.2441 \n  \"/>\n<polyline clip-path=\"url(#clip252)\" style=\"stroke:#adb2b7; stroke-linecap:butt; stroke-linejoin:round; stroke-width:2; stroke-opacity:0.1; fill:none\" points=\"\n  1547.95,1486.45 1547.95,47.2441 \n  \"/>\n<polyline clip-path=\"url(#clip252)\" style=\"stroke:#adb2b7; stroke-linecap:butt; stroke-linejoin:round; stroke-width:2; stroke-opacity:0.1; fill:none\" points=\"\n  1844.93,1486.45 1844.93,47.2441 \n  \"/>\n<polyline clip-path=\"url(#clip252)\" style=\"stroke:#adb2b7; stroke-linecap:butt; stroke-linejoin:round; stroke-width:2; stroke-opacity:0.1; fill:none\" points=\"\n  2141.9,1486.45 2141.9,47.2441 \n  \"/>\n<polyline clip-path=\"url(#clip250)\" style=\"stroke:#adb2b7; stroke-linecap:butt; stroke-linejoin:round; stroke-width:4; stroke-opacity:1; fill:none\" points=\"\n  149.191,1486.45 2352.76,1486.45 \n  \"/>\n<polyline clip-path=\"url(#clip250)\" style=\"stroke:#adb2b7; stroke-linecap:butt; stroke-linejoin:round; stroke-width:4; stroke-opacity:1; fill:none\" points=\"\n  360.044,1486.45 360.044,1467.55 \n  \"/>\n<polyline clip-path=\"url(#clip250)\" style=\"stroke:#adb2b7; stroke-linecap:butt; stroke-linejoin:round; stroke-width:4; stroke-opacity:1; fill:none\" points=\"\n  657.021,1486.45 657.021,1467.55 \n  \"/>\n<polyline clip-path=\"url(#clip250)\" style=\"stroke:#adb2b7; stroke-linecap:butt; stroke-linejoin:round; stroke-width:4; stroke-opacity:1; fill:none\" points=\"\n  953.997,1486.45 953.997,1467.55 \n  \"/>\n<polyline clip-path=\"url(#clip250)\" style=\"stroke:#adb2b7; stroke-linecap:butt; stroke-linejoin:round; stroke-width:4; stroke-opacity:1; fill:none\" points=\"\n  1250.97,1486.45 1250.97,1467.55 \n  \"/>\n<polyline clip-path=\"url(#clip250)\" style=\"stroke:#adb2b7; stroke-linecap:butt; stroke-linejoin:round; stroke-width:4; stroke-opacity:1; fill:none\" points=\"\n  1547.95,1486.45 1547.95,1467.55 \n  \"/>\n<polyline clip-path=\"url(#clip250)\" style=\"stroke:#adb2b7; stroke-linecap:butt; stroke-linejoin:round; stroke-width:4; stroke-opacity:1; fill:none\" points=\"\n  1844.93,1486.45 1844.93,1467.55 \n  \"/>\n<polyline clip-path=\"url(#clip250)\" style=\"stroke:#adb2b7; stroke-linecap:butt; stroke-linejoin:round; stroke-width:4; stroke-opacity:1; fill:none\" points=\"\n  2141.9,1486.45 2141.9,1467.55 \n  \"/>\n<path clip-path=\"url(#clip250)\" d=\"M329.107 1532.02 L358.783 1532.02 L358.783 1535.95 L329.107 1535.95 L329.107 1532.02 Z\" fill=\"#ffffff\" fill-rule=\"evenodd\" fill-opacity=\"1\" /><path clip-path=\"url(#clip250)\" d=\"M379.454 1529.7 Q376.306 1529.7 374.454 1531.86 Q372.625 1534.01 372.625 1537.76 Q372.625 1541.49 374.454 1543.66 Q376.306 1545.82 379.454 1545.82 Q382.602 1545.82 384.431 1543.66 Q386.282 1541.49 386.282 1537.76 Q386.282 1534.01 384.431 1531.86 Q382.602 1529.7 379.454 1529.7 M388.736 1515.05 L388.736 1519.31 Q386.977 1518.48 385.171 1518.04 Q383.389 1517.6 381.63 1517.6 Q377 1517.6 374.546 1520.72 Q372.116 1523.85 371.769 1530.17 Q373.134 1528.15 375.195 1527.09 Q377.255 1526 379.732 1526 Q384.94 1526 387.949 1529.17 Q390.981 1532.32 390.981 1537.76 Q390.981 1543.08 387.833 1546.3 Q384.685 1549.52 379.454 1549.52 Q373.458 1549.52 370.287 1544.94 Q367.116 1540.33 367.116 1531.6 Q367.116 1523.41 371.005 1518.55 Q374.894 1513.66 381.444 1513.66 Q383.204 1513.66 384.986 1514.01 Q386.792 1514.36 388.736 1515.05 Z\" fill=\"#ffffff\" fill-rule=\"evenodd\" fill-opacity=\"1\" /><path clip-path=\"url(#clip250)\" d=\"M625.921 1532.02 L655.597 1532.02 L655.597 1535.95 L625.921 1535.95 L625.921 1532.02 Z\" fill=\"#ffffff\" fill-rule=\"evenodd\" fill-opacity=\"1\" /><path clip-path=\"url(#clip250)\" d=\"M678.537 1518.36 L666.731 1536.81 L678.537 1536.81 L678.537 1518.36 M677.31 1514.29 L683.189 1514.29 L683.189 1536.81 L688.12 1536.81 L688.12 1540.7 L683.189 1540.7 L683.189 1548.85 L678.537 1548.85 L678.537 1540.7 L662.935 1540.7 L662.935 1536.19 L677.31 1514.29 Z\" fill=\"#ffffff\" fill-rule=\"evenodd\" fill-opacity=\"1\" /><path clip-path=\"url(#clip250)\" d=\"M923.939 1532.02 L953.615 1532.02 L953.615 1535.95 L923.939 1535.95 L923.939 1532.02 Z\" fill=\"#ffffff\" fill-rule=\"evenodd\" fill-opacity=\"1\" /><path clip-path=\"url(#clip250)\" d=\"M967.735 1544.91 L984.055 1544.91 L984.055 1548.85 L962.11 1548.85 L962.11 1544.91 Q964.772 1542.16 969.356 1537.53 Q973.962 1532.88 975.143 1531.53 Q977.388 1529.01 978.268 1527.27 Q979.17 1525.51 979.17 1523.82 Q979.17 1521.07 977.226 1519.33 Q975.305 1517.6 972.203 1517.6 Q970.004 1517.6 967.55 1518.36 Q965.12 1519.13 962.342 1520.68 L962.342 1515.95 Q965.166 1514.82 967.62 1514.24 Q970.073 1513.66 972.11 1513.66 Q977.481 1513.66 980.675 1516.35 Q983.869 1519.03 983.869 1523.52 Q983.869 1525.65 983.059 1527.57 Q982.272 1529.47 980.166 1532.07 Q979.587 1532.74 976.485 1535.95 Q973.383 1539.15 967.735 1544.91 Z\" fill=\"#ffffff\" fill-rule=\"evenodd\" fill-opacity=\"1\" /><path clip-path=\"url(#clip250)\" d=\"M1250.97 1517.37 Q1247.36 1517.37 1245.53 1520.93 Q1243.73 1524.47 1243.73 1531.6 Q1243.73 1538.71 1245.53 1542.27 Q1247.36 1545.82 1250.97 1545.82 Q1254.61 1545.82 1256.41 1542.27 Q1258.24 1538.71 1258.24 1531.6 Q1258.24 1524.47 1256.41 1520.93 Q1254.61 1517.37 1250.97 1517.37 M1250.97 1513.66 Q1256.78 1513.66 1259.84 1518.27 Q1262.92 1522.85 1262.92 1531.6 Q1262.92 1540.33 1259.84 1544.94 Q1256.78 1549.52 1250.97 1549.52 Q1245.16 1549.52 1242.08 1544.94 Q1239.03 1540.33 1239.03 1531.6 Q1239.03 1522.85 1242.08 1518.27 Q1245.16 1513.66 1250.97 1513.66 Z\" fill=\"#ffffff\" fill-rule=\"evenodd\" fill-opacity=\"1\" /><path clip-path=\"url(#clip250)\" d=\"M1542.6 1544.91 L1558.92 1544.91 L1558.92 1548.85 L1536.98 1548.85 L1536.98 1544.91 Q1539.64 1542.16 1544.22 1537.53 Q1548.83 1532.88 1550.01 1531.53 Q1552.26 1529.01 1553.13 1527.27 Q1554.04 1525.51 1554.04 1523.82 Q1554.04 1521.07 1552.09 1519.33 Q1550.17 1517.6 1547.07 1517.6 Q1544.87 1517.6 1542.42 1518.36 Q1539.99 1519.13 1537.21 1520.68 L1537.21 1515.95 Q1540.03 1514.82 1542.49 1514.24 Q1544.94 1513.66 1546.98 1513.66 Q1552.35 1513.66 1555.54 1516.35 Q1558.74 1519.03 1558.74 1523.52 Q1558.74 1525.65 1557.93 1527.57 Q1557.14 1529.47 1555.03 1532.07 Q1554.45 1532.74 1551.35 1535.95 Q1548.25 1539.15 1542.6 1544.91 Z\" fill=\"#ffffff\" fill-rule=\"evenodd\" fill-opacity=\"1\" /><path clip-path=\"url(#clip250)\" d=\"M1847.94 1518.36 L1836.13 1536.81 L1847.94 1536.81 L1847.94 1518.36 M1846.71 1514.29 L1852.59 1514.29 L1852.59 1536.81 L1857.52 1536.81 L1857.52 1540.7 L1852.59 1540.7 L1852.59 1548.85 L1847.94 1548.85 L1847.94 1540.7 L1832.33 1540.7 L1832.33 1536.19 L1846.71 1514.29 Z\" fill=\"#ffffff\" fill-rule=\"evenodd\" fill-opacity=\"1\" /><path clip-path=\"url(#clip250)\" d=\"M2142.31 1529.7 Q2139.16 1529.7 2137.31 1531.86 Q2135.48 1534.01 2135.48 1537.76 Q2135.48 1541.49 2137.31 1543.66 Q2139.16 1545.82 2142.31 1545.82 Q2145.46 1545.82 2147.28 1543.66 Q2149.14 1541.49 2149.14 1537.76 Q2149.14 1534.01 2147.28 1531.86 Q2145.46 1529.7 2142.31 1529.7 M2151.59 1515.05 L2151.59 1519.31 Q2149.83 1518.48 2148.03 1518.04 Q2146.24 1517.6 2144.48 1517.6 Q2139.85 1517.6 2137.4 1520.72 Q2134.97 1523.85 2134.62 1530.17 Q2135.99 1528.15 2138.05 1527.09 Q2140.11 1526 2142.59 1526 Q2147.79 1526 2150.8 1529.17 Q2153.84 1532.32 2153.84 1537.76 Q2153.84 1543.08 2150.69 1546.3 Q2147.54 1549.52 2142.31 1549.52 Q2136.31 1549.52 2133.14 1544.94 Q2129.97 1540.33 2129.97 1531.6 Q2129.97 1523.41 2133.86 1518.55 Q2137.75 1513.66 2144.3 1513.66 Q2146.06 1513.66 2147.84 1514.01 Q2149.65 1514.36 2151.59 1515.05 Z\" fill=\"#ffffff\" fill-rule=\"evenodd\" fill-opacity=\"1\" /><polyline clip-path=\"url(#clip252)\" style=\"stroke:#adb2b7; stroke-linecap:butt; stroke-linejoin:round; stroke-width:2; stroke-opacity:0.1; fill:none\" points=\"\n  149.191,1322.28 2352.76,1322.28 \n  \"/>\n<polyline clip-path=\"url(#clip252)\" style=\"stroke:#adb2b7; stroke-linecap:butt; stroke-linejoin:round; stroke-width:2; stroke-opacity:0.1; fill:none\" points=\"\n  149.191,1075.42 2352.76,1075.42 \n  \"/>\n<polyline clip-path=\"url(#clip252)\" style=\"stroke:#adb2b7; stroke-linecap:butt; stroke-linejoin:round; stroke-width:2; stroke-opacity:0.1; fill:none\" points=\"\n  149.191,828.561 2352.76,828.561 \n  \"/>\n<polyline clip-path=\"url(#clip252)\" style=\"stroke:#adb2b7; stroke-linecap:butt; stroke-linejoin:round; stroke-width:2; stroke-opacity:0.1; fill:none\" points=\"\n  149.191,581.7 2352.76,581.7 \n  \"/>\n<polyline clip-path=\"url(#clip252)\" style=\"stroke:#adb2b7; stroke-linecap:butt; stroke-linejoin:round; stroke-width:2; stroke-opacity:0.1; fill:none\" points=\"\n  149.191,334.838 2352.76,334.838 \n  \"/>\n<polyline clip-path=\"url(#clip252)\" style=\"stroke:#adb2b7; stroke-linecap:butt; stroke-linejoin:round; stroke-width:2; stroke-opacity:0.1; fill:none\" points=\"\n  149.191,87.9763 2352.76,87.9763 \n  \"/>\n<polyline clip-path=\"url(#clip250)\" style=\"stroke:#adb2b7; stroke-linecap:butt; stroke-linejoin:round; stroke-width:4; stroke-opacity:1; fill:none\" points=\"\n  149.191,1486.45 149.191,47.2441 \n  \"/>\n<polyline clip-path=\"url(#clip250)\" style=\"stroke:#adb2b7; stroke-linecap:butt; stroke-linejoin:round; stroke-width:4; stroke-opacity:1; fill:none\" points=\"\n  149.191,1322.28 168.089,1322.28 \n  \"/>\n<polyline clip-path=\"url(#clip250)\" style=\"stroke:#adb2b7; stroke-linecap:butt; stroke-linejoin:round; stroke-width:4; stroke-opacity:1; fill:none\" points=\"\n  149.191,1075.42 168.089,1075.42 \n  \"/>\n<polyline clip-path=\"url(#clip250)\" style=\"stroke:#adb2b7; stroke-linecap:butt; stroke-linejoin:round; stroke-width:4; stroke-opacity:1; fill:none\" points=\"\n  149.191,828.561 168.089,828.561 \n  \"/>\n<polyline clip-path=\"url(#clip250)\" style=\"stroke:#adb2b7; stroke-linecap:butt; stroke-linejoin:round; stroke-width:4; stroke-opacity:1; fill:none\" points=\"\n  149.191,581.7 168.089,581.7 \n  \"/>\n<polyline clip-path=\"url(#clip250)\" style=\"stroke:#adb2b7; stroke-linecap:butt; stroke-linejoin:round; stroke-width:4; stroke-opacity:1; fill:none\" points=\"\n  149.191,334.838 168.089,334.838 \n  \"/>\n<polyline clip-path=\"url(#clip250)\" style=\"stroke:#adb2b7; stroke-linecap:butt; stroke-linejoin:round; stroke-width:4; stroke-opacity:1; fill:none\" points=\"\n  149.191,87.9763 168.089,87.9763 \n  \"/>\n<path clip-path=\"url(#clip250)\" d=\"M51.3162 1322.74 L80.992 1322.74 L80.992 1326.67 L51.3162 1326.67 L51.3162 1322.74 Z\" fill=\"#ffffff\" fill-rule=\"evenodd\" fill-opacity=\"1\" /><path clip-path=\"url(#clip250)\" d=\"M101.663 1320.42 Q98.515 1320.42 96.6632 1322.57 Q94.8345 1324.73 94.8345 1328.48 Q94.8345 1332.2 96.6632 1334.38 Q98.515 1336.53 101.663 1336.53 Q104.811 1336.53 106.64 1334.38 Q108.492 1332.2 108.492 1328.48 Q108.492 1324.73 106.64 1322.57 Q104.811 1320.42 101.663 1320.42 M110.946 1305.77 L110.946 1310.03 Q109.186 1309.19 107.381 1308.75 Q105.598 1308.32 103.839 1308.32 Q99.2095 1308.32 96.7558 1311.44 Q94.3252 1314.56 93.978 1320.88 Q95.3437 1318.87 97.4039 1317.81 Q99.4641 1316.72 101.941 1316.72 Q107.149 1316.72 110.158 1319.89 Q113.191 1323.04 113.191 1328.48 Q113.191 1333.8 110.043 1337.02 Q106.895 1340.24 101.663 1340.24 Q95.6678 1340.24 92.4965 1335.65 Q89.3253 1331.05 89.3253 1322.32 Q89.3253 1314.13 93.2141 1309.26 Q97.103 1304.38 103.654 1304.38 Q105.413 1304.38 107.196 1304.73 Q109.001 1305.07 110.946 1305.77 Z\" fill=\"#ffffff\" fill-rule=\"evenodd\" fill-opacity=\"1\" /><path clip-path=\"url(#clip250)\" d=\"M50.9921 1075.87 L80.6679 1075.87 L80.6679 1079.81 L50.9921 1079.81 L50.9921 1075.87 Z\" fill=\"#ffffff\" fill-rule=\"evenodd\" fill-opacity=\"1\" /><path clip-path=\"url(#clip250)\" d=\"M103.608 1062.22 L91.8021 1080.67 L103.608 1080.67 L103.608 1062.22 M102.381 1058.14 L108.26 1058.14 L108.26 1080.67 L113.191 1080.67 L113.191 1084.56 L108.26 1084.56 L108.26 1092.7 L103.608 1092.7 L103.608 1084.56 L88.0058 1084.56 L88.0058 1080.04 L102.381 1058.14 Z\" fill=\"#ffffff\" fill-rule=\"evenodd\" fill-opacity=\"1\" /><path clip-path=\"url(#clip250)\" d=\"M53.0754 829.013 L82.7512 829.013 L82.7512 832.948 L53.0754 832.948 L53.0754 829.013 Z\" fill=\"#ffffff\" fill-rule=\"evenodd\" fill-opacity=\"1\" /><path clip-path=\"url(#clip250)\" d=\"M96.8715 841.906 L113.191 841.906 L113.191 845.841 L91.2465 845.841 L91.2465 841.906 Q93.9086 839.152 98.4919 834.522 Q103.098 829.869 104.279 828.527 Q106.524 826.004 107.404 824.267 Q108.307 822.508 108.307 820.818 Q108.307 818.064 106.362 816.328 Q104.441 814.592 101.339 814.592 Q99.14 814.592 96.6863 815.355 Q94.2558 816.119 91.478 817.67 L91.478 812.948 Q94.3021 811.814 96.7558 811.235 Q99.2095 810.656 101.246 810.656 Q106.617 810.656 109.811 813.342 Q113.006 816.027 113.006 820.517 Q113.006 822.647 112.196 824.568 Q111.408 826.467 109.302 829.059 Q108.723 829.73 105.621 832.948 Q102.52 836.142 96.8715 841.906 Z\" fill=\"#ffffff\" fill-rule=\"evenodd\" fill-opacity=\"1\" /><path clip-path=\"url(#clip250)\" d=\"M101.246 567.498 Q97.6354 567.498 95.8067 571.063 Q94.0012 574.605 94.0012 581.734 Q94.0012 588.841 95.8067 592.406 Q97.6354 595.947 101.246 595.947 Q104.881 595.947 106.686 592.406 Q108.515 588.841 108.515 581.734 Q108.515 574.605 106.686 571.063 Q104.881 567.498 101.246 567.498 M101.246 563.795 Q107.057 563.795 110.112 568.401 Q113.191 572.984 113.191 581.734 Q113.191 590.461 110.112 595.068 Q107.057 599.651 101.246 599.651 Q95.4363 599.651 92.3576 595.068 Q89.3021 590.461 89.3021 581.734 Q89.3021 572.984 92.3576 568.401 Q95.4363 563.795 101.246 563.795 Z\" fill=\"#ffffff\" fill-rule=\"evenodd\" fill-opacity=\"1\" /><path clip-path=\"url(#clip250)\" d=\"M96.8715 348.183 L113.191 348.183 L113.191 352.118 L91.2465 352.118 L91.2465 348.183 Q93.9086 345.428 98.4919 340.799 Q103.098 336.146 104.279 334.803 Q106.524 332.28 107.404 330.544 Q108.307 328.785 108.307 327.095 Q108.307 324.34 106.362 322.604 Q104.441 320.868 101.339 320.868 Q99.14 320.868 96.6863 321.632 Q94.2558 322.396 91.478 323.947 L91.478 319.225 Q94.3021 318.09 96.7558 317.512 Q99.2095 316.933 101.246 316.933 Q106.617 316.933 109.811 319.618 Q113.006 322.303 113.006 326.794 Q113.006 328.924 112.196 330.845 Q111.408 332.743 109.302 335.336 Q108.723 336.007 105.621 339.225 Q102.52 342.419 96.8715 348.183 Z\" fill=\"#ffffff\" fill-rule=\"evenodd\" fill-opacity=\"1\" /><path clip-path=\"url(#clip250)\" d=\"M103.608 74.7703 L91.8021 93.2193 L103.608 93.2193 L103.608 74.7703 M102.381 70.6963 L108.26 70.6963 L108.26 93.2193 L113.191 93.2193 L113.191 97.1082 L108.26 97.1082 L108.26 105.256 L103.608 105.256 L103.608 97.1082 L88.0058 97.1082 L88.0058 92.5943 L102.381 70.6963 Z\" fill=\"#ffffff\" fill-rule=\"evenodd\" fill-opacity=\"1\" /><polyline clip-path=\"url(#clip252)\" style=\"stroke:#fe4365; stroke-linecap:butt; stroke-linejoin:round; stroke-width:8; stroke-opacity:1; fill:none\" points=\"\n  211.556,488.645 232.554,478.144 253.553,469.711 274.551,463.514 295.549,459.676 316.548,458.275 337.546,459.337 358.544,462.843 379.543,468.721 400.541,476.855 \n  421.539,487.082 442.538,499.199 463.536,512.962 484.534,528.097 505.533,544.303 526.531,561.256 547.529,578.616 568.528,596.038 589.526,613.174 610.524,629.682 \n  631.523,645.231 652.521,659.512 673.519,672.24 694.518,683.16 715.516,692.054 736.514,698.746 757.513,703.1 778.511,705.031 799.509,704.499 820.508,701.516 \n  841.506,696.141 862.504,688.481 883.503,678.689 904.501,666.961 925.499,653.53 946.498,638.666 967.496,622.664 988.494,605.844 1009.49,588.542 1030.49,571.104 \n  1051.49,553.877 1072.49,537.206 1093.49,521.423 1114.48,506.843 1135.48,493.758 1156.48,482.429 1177.48,473.081 1198.48,465.902 1219.48,461.035 1240.47,458.577 \n  1261.47,458.577 1282.47,461.035 1303.47,465.902 1324.47,473.081 1345.47,482.429 1366.46,493.758 1387.46,506.843 1408.46,521.423 1429.46,537.206 1450.46,553.877 \n  1471.46,571.104 1492.45,588.542 1513.45,605.844 1534.45,622.664 1555.45,638.666 1576.45,653.53 1597.45,666.961 1618.44,678.689 1639.44,688.481 1660.44,696.141 \n  1681.44,701.516 1702.44,704.499 1723.44,705.031 1744.43,703.1 1765.43,698.746 1786.43,692.054 1807.43,683.16 1828.43,672.24 1849.43,659.512 1870.42,645.231 \n  1891.42,629.682 1912.42,613.174 1933.42,596.038 1954.42,578.616 1975.42,561.256 1996.41,544.303 2017.41,528.097 2038.41,512.962 2059.41,499.199 2080.41,487.082 \n  2101.41,476.855 2122.4,468.721 2143.4,462.843 2164.4,459.337 2185.4,458.275 2206.4,459.676 2227.4,463.514 2248.39,469.711 2269.39,478.144 2290.39,488.645 \n  \n  \"/>\n<polyline clip-path=\"url(#clip252)\" style=\"stroke:#eca25c; stroke-linecap:butt; stroke-linejoin:round; stroke-width:8; stroke-opacity:1; fill:none\" points=\"\n  211.556,458.269 232.554,458.269 253.553,458.269 274.551,458.269 295.549,458.269 316.548,458.269 337.546,458.269 358.544,458.269 379.543,458.269 400.541,458.269 \n  421.539,458.269 442.538,458.269 463.536,458.269 484.534,458.269 505.533,458.269 526.531,458.269 547.529,458.269 568.528,458.269 589.526,458.269 610.524,458.269 \n  631.523,458.269 652.521,458.269 673.519,458.269 694.518,458.269 715.516,458.269 736.514,458.269 757.513,458.269 778.511,458.269 799.509,458.269 820.508,458.269 \n  841.506,458.269 862.504,458.269 883.503,458.269 904.501,458.269 925.499,458.269 946.498,458.269 967.496,458.269 988.494,458.269 1009.49,458.269 1030.49,458.269 \n  1051.49,458.269 1072.49,458.269 1093.49,458.269 1114.48,458.269 1135.48,458.269 1156.48,458.269 1177.48,458.269 1198.48,458.269 1219.48,458.269 1240.47,458.269 \n  1261.47,458.269 1282.47,458.269 1303.47,458.269 1324.47,458.269 1345.47,458.269 1366.46,458.269 1387.46,458.269 1408.46,458.269 1429.46,458.269 1450.46,458.269 \n  1471.46,458.269 1492.45,458.269 1513.45,458.269 1534.45,458.269 1555.45,458.269 1576.45,458.269 1597.45,458.269 1618.44,458.269 1639.44,458.269 1660.44,458.269 \n  1681.44,458.269 1702.44,458.269 1723.44,458.269 1744.43,458.269 1765.43,458.269 1786.43,458.269 1807.43,458.269 1828.43,458.269 1849.43,458.269 1870.42,458.269 \n  1891.42,458.269 1912.42,458.269 1933.42,458.269 1954.42,458.269 1975.42,458.269 1996.41,458.269 2017.41,458.269 2038.41,458.269 2059.41,458.269 2080.41,458.269 \n  2101.41,458.269 2122.4,458.269 2143.4,458.269 2164.4,458.269 2185.4,458.269 2206.4,458.269 2227.4,458.269 2248.39,458.269 2269.39,458.269 2290.39,458.269 \n  \n  \"/>\n<polyline clip-path=\"url(#clip252)\" style=\"stroke:#3f9778; stroke-linecap:butt; stroke-linejoin:round; stroke-width:8; stroke-opacity:1; fill:none\" points=\"\n  211.556,3482.32 232.554,3361.37 253.553,3242.89 274.551,3126.88 295.549,3013.34 316.548,2902.26 337.546,2793.65 358.544,2687.51 379.543,2583.84 400.541,2482.64 \n  421.539,2383.9 442.538,2287.64 463.536,2193.84 484.534,2102.51 505.533,2013.65 526.531,1927.25 547.529,1843.33 568.528,1761.87 589.526,1682.89 610.524,1606.37 \n  631.523,1532.32 652.521,1460.73 673.519,1391.62 694.518,1324.97 715.516,1260.8 736.514,1199.09 757.513,1139.85 778.511,1083.07 799.509,1028.77 820.508,976.934 \n  841.506,927.567 862.504,880.668 883.503,836.237 904.501,794.275 925.499,754.781 946.498,717.756 967.496,683.199 988.494,651.11 1009.49,621.489 1030.49,594.337 \n  1051.49,569.654 1072.49,547.439 1093.49,527.692 1114.48,510.413 1135.48,495.603 1156.48,483.261 1177.48,473.388 1198.48,465.982 1219.48,461.046 1240.47,458.577 \n  1261.47,458.577 1282.47,461.046 1303.47,465.982 1324.47,473.388 1345.47,483.261 1366.46,495.603 1387.46,510.413 1408.46,527.692 1429.46,547.439 1450.46,569.654 \n  1471.46,594.337 1492.45,621.489 1513.45,651.11 1534.45,683.199 1555.45,717.756 1576.45,754.781 1597.45,794.275 1618.44,836.237 1639.44,880.668 1660.44,927.567 \n  1681.44,976.934 1702.44,1028.77 1723.44,1083.07 1744.43,1139.85 1765.43,1199.09 1786.43,1260.8 1807.43,1324.97 1828.43,1391.62 1849.43,1460.73 1870.42,1532.32 \n  1891.42,1606.37 1912.42,1682.89 1933.42,1761.87 1954.42,1843.33 1975.42,1927.25 1996.41,2013.65 2017.41,2102.51 2038.41,2193.84 2059.41,2287.64 2080.41,2383.9 \n  2101.41,2482.64 2122.4,2583.84 2143.4,2687.51 2164.4,2793.65 2185.4,2902.26 2206.4,3013.34 2227.4,3126.88 2248.39,3242.89 2269.39,3361.37 2290.39,3482.32 \n  \n  \"/>\n<polyline clip-path=\"url(#clip252)\" style=\"stroke:#005d7f; stroke-linecap:butt; stroke-linejoin:round; stroke-width:8; stroke-opacity:1; fill:none\" points=\"\n  211.556,-8865.9 232.554,-8018.85 253.553,-7227.39 274.551,-6489.15 295.549,-5801.81 316.548,-5163.1 337.546,-4570.81 358.544,-4022.75 379.543,-3516.81 400.541,-3050.91 \n  421.539,-2623.04 442.538,-2231.2 463.536,-1873.49 484.534,-1548.02 505.533,-1252.96 526.531,-986.549 547.529,-747.047 568.528,-532.78 589.526,-342.118 610.524,-173.482 \n  631.523,-25.3411 652.521,103.785 673.519,215.329 694.518,310.671 715.516,391.146 736.514,458.036 757.513,512.575 778.511,555.948 799.509,589.291 820.508,613.689 \n  841.506,630.18 862.504,639.749 883.503,643.336 904.501,641.828 925.499,636.065 946.498,626.836 967.496,614.883 988.494,600.896 1009.49,585.517 1030.49,569.337 \n  1051.49,552.901 1072.49,536.702 1093.49,521.184 1114.48,506.742 1135.48,493.721 1156.48,482.418 1177.48,473.079 1198.48,465.902 1219.48,461.035 1240.47,458.577 \n  1261.47,458.577 1282.47,461.035 1303.47,465.902 1324.47,473.079 1345.47,482.418 1366.46,493.721 1387.46,506.742 1408.46,521.184 1429.46,536.702 1450.46,552.901 \n  1471.46,569.337 1492.45,585.517 1513.45,600.896 1534.45,614.883 1555.45,626.836 1576.45,636.065 1597.45,641.828 1618.44,643.336 1639.44,639.749 1660.44,630.18 \n  1681.44,613.689 1702.44,589.291 1723.44,555.948 1744.43,512.575 1765.43,458.036 1786.43,391.146 1807.43,310.671 1828.43,215.329 1849.43,103.785 1870.42,-25.3411 \n  1891.42,-173.482 1912.42,-342.118 1933.42,-532.78 1954.42,-747.047 1975.42,-986.549 1996.41,-1252.96 2017.41,-1548.02 2038.41,-1873.49 2059.41,-2231.2 2080.41,-2623.04 \n  2101.41,-3050.91 2122.4,-3516.81 2143.4,-4022.75 2164.4,-4570.81 2185.4,-5163.1 2206.4,-5801.81 2227.4,-6489.15 2248.39,-7227.39 2269.39,-8018.85 2290.39,-8865.9 \n  \n  \"/>\n<polyline clip-path=\"url(#clip252)\" style=\"stroke:#00a8ff; stroke-linecap:butt; stroke-linejoin:round; stroke-width:8; stroke-opacity:1; fill:none\" points=\"\n  211.556,11302.9 232.554,9825.42 253.553,8520.05 274.551,7370.94 295.549,6363.32 316.548,5483.43 337.546,4718.51 358.544,4056.7 379.543,3487.04 400.541,2999.41 \n  421.539,2584.48 442.538,2233.71 463.536,1939.24 484.534,1693.93 505.533,1491.25 526.531,1325.32 547.529,1190.79 568.528,1082.87 589.526,997.286 610.524,930.209 \n  631.523,878.268 652.521,838.498 673.519,808.315 694.518,785.485 715.516,768.101 736.514,754.55 757.513,743.492 778.511,733.835 799.509,724.71 820.508,715.448 \n  841.506,705.56 862.504,694.713 883.503,682.716 904.501,669.494 925.499,655.077 946.498,639.579 967.496,623.183 988.494,606.126 1009.49,588.688 1030.49,571.175 \n  1051.49,553.909 1072.49,537.219 1093.49,521.428 1114.48,506.845 1135.48,493.759 1156.48,482.429 1177.48,473.081 1198.48,465.902 1219.48,461.035 1240.47,458.577 \n  1261.47,458.577 1282.47,461.035 1303.47,465.902 1324.47,473.081 1345.47,482.429 1366.46,493.759 1387.46,506.845 1408.46,521.428 1429.46,537.219 1450.46,553.909 \n  1471.46,571.175 1492.45,588.688 1513.45,606.126 1534.45,623.183 1555.45,639.579 1576.45,655.077 1597.45,669.494 1618.44,682.716 1639.44,694.713 1660.44,705.56 \n  1681.44,715.448 1702.44,724.71 1723.44,733.835 1744.43,743.492 1765.43,754.55 1786.43,768.101 1807.43,785.485 1828.43,808.315 1849.43,838.498 1870.42,878.268 \n  1891.42,930.209 1912.42,997.286 1933.42,1082.87 1954.42,1190.79 1975.42,1325.32 1996.41,1491.25 2017.41,1693.93 2038.41,1939.24 2059.41,2233.71 2080.41,2584.48 \n  2101.41,2999.41 2122.4,3487.04 2143.4,4056.7 2164.4,4718.51 2185.4,5483.43 2206.4,6363.32 2227.4,7370.94 2248.39,8520.05 2269.39,9825.42 2290.39,11302.9 \n  \n  \"/>\n<polyline clip-path=\"url(#clip252)\" style=\"stroke:#dc3df1; stroke-linecap:butt; stroke-linejoin:round; stroke-width:8; stroke-opacity:1; fill:none\" points=\"\n  211.556,-6344.81 232.554,-5163.83 253.553,-4168 274.551,-3331.17 295.549,-2630.36 316.548,-2045.37 337.546,-1558.6 358.544,-1154.74 379.543,-820.515 400.541,-544.532 \n  421.539,-317.018 442.538,-129.663 463.536,24.5618 484.534,151.556 505.533,256.238 526.531,342.669 547.529,414.177 568.528,473.46 589.526,522.683 610.524,563.564 \n  631.523,597.451 652.521,625.387 673.519,648.172 694.518,666.413 715.516,680.569 736.514,690.991 757.513,697.952 778.511,701.676 799.509,702.356 820.508,700.177 \n  841.506,695.324 862.504,687.995 883.503,678.409 904.501,666.804 925.499,653.446 946.498,638.622 967.496,622.643 988.494,605.834 1009.49,588.538 1030.49,571.102 \n  1051.49,553.877 1072.49,537.206 1093.49,521.423 1114.48,506.843 1135.48,493.758 1156.48,482.429 1177.48,473.081 1198.48,465.902 1219.48,461.035 1240.47,458.577 \n  1261.47,458.577 1282.47,461.035 1303.47,465.902 1324.47,473.081 1345.47,482.429 1366.46,493.758 1387.46,506.843 1408.46,521.423 1429.46,537.206 1450.46,553.877 \n  1471.46,571.102 1492.45,588.538 1513.45,605.834 1534.45,622.643 1555.45,638.622 1576.45,653.446 1597.45,666.804 1618.44,678.409 1639.44,687.995 1660.44,695.324 \n  1681.44,700.177 1702.44,702.356 1723.44,701.676 1744.43,697.952 1765.43,690.991 1786.43,680.569 1807.43,666.413 1828.43,648.172 1849.43,625.387 1870.42,597.451 \n  1891.42,563.564 1912.42,522.683 1933.42,473.46 1954.42,414.177 1975.42,342.669 1996.41,256.238 2017.41,151.556 2038.41,24.5618 2059.41,-129.663 2080.41,-317.018 \n  2101.41,-544.532 2122.4,-820.515 2143.4,-1154.74 2164.4,-1558.6 2185.4,-2045.37 2206.4,-2630.36 2227.4,-3331.17 2248.39,-4168 2269.39,-5163.83 2290.39,-6344.81 \n  \n  \"/>\n<path clip-path=\"url(#clip250)\" d=\"\nM222.643 1438.47 L995.814 1438.47 L995.814 1075.59 L222.643 1075.59  Z\n  \" fill=\"#363d46\" fill-rule=\"evenodd\" fill-opacity=\"1\"/>\n<polyline clip-path=\"url(#clip250)\" style=\"stroke:#ffffff; stroke-linecap:butt; stroke-linejoin:round; stroke-width:4; stroke-opacity:1; fill:none\" points=\"\n  222.643,1438.47 995.814,1438.47 995.814,1075.59 222.643,1075.59 222.643,1438.47 \n  \"/>\n<polyline clip-path=\"url(#clip250)\" style=\"stroke:#fe4365; stroke-linecap:butt; stroke-linejoin:round; stroke-width:4; stroke-opacity:1; fill:none\" points=\"\n  247.127,1127.43 394.031,1127.43 \n  \"/>\n<path clip-path=\"url(#clip250)\" d=\"M439.025 1119.78 L439.025 1123.77 Q437.219 1122.77 435.39 1122.28 Q433.585 1121.77 431.733 1121.77 Q427.59 1121.77 425.298 1124.41 Q423.006 1127.03 423.006 1131.77 Q423.006 1136.52 425.298 1139.16 Q427.59 1141.77 431.733 1141.77 Q433.585 1141.77 435.39 1141.29 Q437.219 1140.78 439.025 1139.78 L439.025 1143.72 Q437.242 1144.55 435.321 1144.97 Q433.423 1145.39 431.27 1145.39 Q425.414 1145.39 421.965 1141.71 Q418.515 1138.02 418.515 1131.77 Q418.515 1125.43 421.988 1121.8 Q425.483 1118.16 431.548 1118.16 Q433.515 1118.16 435.39 1118.58 Q437.265 1118.97 439.025 1119.78 Z\" fill=\"#ffffff\" fill-rule=\"evenodd\" fill-opacity=\"1\" /><path clip-path=\"url(#clip250)\" d=\"M456.478 1121.77 Q453.052 1121.77 451.062 1124.46 Q449.071 1127.12 449.071 1131.77 Q449.071 1136.43 451.038 1139.11 Q453.029 1141.77 456.478 1141.77 Q459.881 1141.77 461.872 1139.09 Q463.862 1136.4 463.862 1131.77 Q463.862 1127.17 461.872 1124.48 Q459.881 1121.77 456.478 1121.77 M456.478 1118.16 Q462.034 1118.16 465.205 1121.77 Q468.376 1125.39 468.376 1131.77 Q468.376 1138.14 465.205 1141.77 Q462.034 1145.39 456.478 1145.39 Q450.9 1145.39 447.728 1141.77 Q444.58 1138.14 444.58 1131.77 Q444.58 1125.39 447.728 1121.77 Q450.9 1118.16 456.478 1118.16 Z\" fill=\"#ffffff\" fill-rule=\"evenodd\" fill-opacity=\"1\" /><path clip-path=\"url(#clip250)\" d=\"M491.964 1119.55 L491.964 1123.58 Q490.159 1122.65 488.214 1122.19 Q486.27 1121.73 484.186 1121.73 Q481.015 1121.73 479.418 1122.7 Q477.844 1123.67 477.844 1125.62 Q477.844 1127.1 478.978 1127.96 Q480.112 1128.79 483.538 1129.55 L484.997 1129.88 Q489.534 1130.85 491.432 1132.63 Q493.353 1134.39 493.353 1137.56 Q493.353 1141.17 490.483 1143.28 Q487.635 1145.39 482.636 1145.39 Q480.552 1145.39 478.284 1144.97 Q476.038 1144.58 473.538 1143.77 L473.538 1139.37 Q475.899 1140.59 478.191 1141.22 Q480.483 1141.82 482.728 1141.82 Q485.737 1141.82 487.358 1140.8 Q488.978 1139.76 488.978 1137.89 Q488.978 1136.15 487.798 1135.22 Q486.64 1134.3 482.682 1133.44 L481.2 1133.09 Q477.242 1132.26 475.483 1130.55 Q473.724 1128.81 473.724 1125.8 Q473.724 1122.15 476.316 1120.15 Q478.909 1118.16 483.677 1118.16 Q486.038 1118.16 488.122 1118.51 Q490.205 1118.86 491.964 1119.55 Z\" fill=\"#ffffff\" fill-rule=\"evenodd\" fill-opacity=\"1\" /><path clip-path=\"url(#clip250)\" d=\"M510.367 1108.74 Q507.265 1114.07 505.76 1119.27 Q504.256 1124.48 504.256 1129.83 Q504.256 1135.18 505.76 1140.43 Q507.288 1145.66 510.367 1150.96 L506.663 1150.96 Q503.191 1145.52 501.455 1140.27 Q499.742 1135.02 499.742 1129.83 Q499.742 1124.67 501.455 1119.44 Q503.168 1114.21 506.663 1108.74 L510.367 1108.74 Z\" fill=\"#ffffff\" fill-rule=\"evenodd\" fill-opacity=\"1\" /><path clip-path=\"url(#clip250)\" d=\"M517.959 1108.74 L521.663 1108.74 Q525.135 1114.21 526.848 1119.44 Q528.584 1124.67 528.584 1129.83 Q528.584 1135.02 526.848 1140.27 Q525.135 1145.52 521.663 1150.96 L517.959 1150.96 Q521.038 1145.66 522.543 1140.43 Q524.07 1135.18 524.07 1129.83 Q524.07 1124.48 522.543 1119.27 Q521.038 1114.07 517.959 1108.74 Z\" fill=\"#ffffff\" fill-rule=\"evenodd\" fill-opacity=\"1\" /><path clip-path=\"url(#clip250)\" d=\"M565.32 1108.7 L565.32 1112.24 L561.246 1112.24 Q558.955 1112.24 558.052 1113.16 Q557.172 1114.09 557.172 1116.5 L557.172 1118.79 L564.186 1118.79 L564.186 1122.1 L557.172 1122.1 L557.172 1144.71 L552.89 1144.71 L552.89 1122.1 L548.816 1122.1 L548.816 1118.79 L552.89 1118.79 L552.89 1116.98 Q552.89 1112.65 554.904 1110.69 Q556.918 1108.7 561.292 1108.7 L565.32 1108.7 Z\" fill=\"#ffffff\" fill-rule=\"evenodd\" fill-opacity=\"1\" /><path clip-path=\"url(#clip250)\" d=\"M568.445 1134.48 L568.445 1118.79 L572.704 1118.79 L572.704 1134.32 Q572.704 1138 574.14 1139.85 Q575.575 1141.68 578.445 1141.68 Q581.894 1141.68 583.885 1139.48 Q585.899 1137.28 585.899 1133.49 L585.899 1118.79 L590.158 1118.79 L590.158 1144.71 L585.899 1144.71 L585.899 1140.73 Q584.348 1143.09 582.288 1144.25 Q580.251 1145.39 577.542 1145.39 Q573.075 1145.39 570.76 1142.61 Q568.445 1139.83 568.445 1134.48 M579.163 1118.16 L579.163 1118.16 Z\" fill=\"#ffffff\" fill-rule=\"evenodd\" fill-opacity=\"1\" /><path clip-path=\"url(#clip250)\" d=\"M620.482 1129.07 L620.482 1144.71 L616.223 1144.71 L616.223 1129.21 Q616.223 1125.52 614.788 1123.7 Q613.352 1121.87 610.482 1121.87 Q607.033 1121.87 605.042 1124.07 Q603.052 1126.27 603.052 1130.06 L603.052 1144.71 L598.769 1144.71 L598.769 1118.79 L603.052 1118.79 L603.052 1122.82 Q604.579 1120.48 606.639 1119.32 Q608.723 1118.16 611.431 1118.16 Q615.899 1118.16 618.19 1120.94 Q620.482 1123.7 620.482 1129.07 Z\" fill=\"#ffffff\" fill-rule=\"evenodd\" fill-opacity=\"1\" /><path clip-path=\"url(#clip250)\" d=\"M647.635 1119.78 L647.635 1123.77 Q645.829 1122.77 644 1122.28 Q642.195 1121.77 640.343 1121.77 Q636.2 1121.77 633.908 1124.41 Q631.616 1127.03 631.616 1131.77 Q631.616 1136.52 633.908 1139.16 Q636.2 1141.77 640.343 1141.77 Q642.195 1141.77 644 1141.29 Q645.829 1140.78 647.635 1139.78 L647.635 1143.72 Q645.852 1144.55 643.931 1144.97 Q642.033 1145.39 639.88 1145.39 Q634.024 1145.39 630.575 1141.71 Q627.125 1138.02 627.125 1131.77 Q627.125 1125.43 630.598 1121.8 Q634.093 1118.16 640.158 1118.16 Q642.125 1118.16 644 1118.58 Q645.875 1118.97 647.635 1119.78 Z\" fill=\"#ffffff\" fill-rule=\"evenodd\" fill-opacity=\"1\" /><path clip-path=\"url(#clip250)\" d=\"M659.255 1111.43 L659.255 1118.79 L668.028 1118.79 L668.028 1122.1 L659.255 1122.1 L659.255 1136.17 Q659.255 1139.34 660.111 1140.25 Q660.991 1141.15 663.653 1141.15 L668.028 1141.15 L668.028 1144.71 L663.653 1144.71 Q658.723 1144.71 656.848 1142.89 Q654.973 1141.03 654.973 1136.17 L654.973 1122.1 L651.848 1122.1 L651.848 1118.79 L654.973 1118.79 L654.973 1111.43 L659.255 1111.43 Z\" fill=\"#ffffff\" fill-rule=\"evenodd\" fill-opacity=\"1\" /><path clip-path=\"url(#clip250)\" d=\"M673.63 1118.79 L677.889 1118.79 L677.889 1144.71 L673.63 1144.71 L673.63 1118.79 M673.63 1108.7 L677.889 1108.7 L677.889 1114.09 L673.63 1114.09 L673.63 1108.7 Z\" fill=\"#ffffff\" fill-rule=\"evenodd\" fill-opacity=\"1\" /><path clip-path=\"url(#clip250)\" d=\"M696.847 1121.77 Q693.421 1121.77 691.431 1124.46 Q689.44 1127.12 689.44 1131.77 Q689.44 1136.43 691.408 1139.11 Q693.398 1141.77 696.847 1141.77 Q700.25 1141.77 702.241 1139.09 Q704.232 1136.4 704.232 1131.77 Q704.232 1127.17 702.241 1124.48 Q700.25 1121.77 696.847 1121.77 M696.847 1118.16 Q702.403 1118.16 705.574 1121.77 Q708.745 1125.39 708.745 1131.77 Q708.745 1138.14 705.574 1141.77 Q702.403 1145.39 696.847 1145.39 Q691.269 1145.39 688.097 1141.77 Q684.949 1138.14 684.949 1131.77 Q684.949 1125.39 688.097 1121.77 Q691.269 1118.16 696.847 1118.16 Z\" fill=\"#ffffff\" fill-rule=\"evenodd\" fill-opacity=\"1\" /><path clip-path=\"url(#clip250)\" d=\"M737.356 1129.07 L737.356 1144.71 L733.097 1144.71 L733.097 1129.21 Q733.097 1125.52 731.662 1123.7 Q730.227 1121.87 727.356 1121.87 Q723.907 1121.87 721.917 1124.07 Q719.926 1126.27 719.926 1130.06 L719.926 1144.71 L715.644 1144.71 L715.644 1118.79 L719.926 1118.79 L719.926 1122.82 Q721.454 1120.48 723.514 1119.32 Q725.597 1118.16 728.305 1118.16 Q732.773 1118.16 735.065 1120.94 Q737.356 1123.7 737.356 1129.07 Z\" fill=\"#ffffff\" fill-rule=\"evenodd\" fill-opacity=\"1\" /><polyline clip-path=\"url(#clip250)\" style=\"stroke:#eca25c; stroke-linecap:butt; stroke-linejoin:round; stroke-width:4; stroke-opacity:1; fill:none\" points=\"\n  247.127,1179.27 394.031,1179.27 \n  \"/>\n<path clip-path=\"url(#clip250)\" d=\"M418.515 1161.99 L447.751 1161.99 L447.751 1165.93 L435.483 1165.93 L435.483 1196.55 L430.784 1196.55 L430.784 1165.93 L418.515 1165.93 L418.515 1161.99 Z\" fill=\"#ffffff\" fill-rule=\"evenodd\" fill-opacity=\"1\" /><path clip-path=\"url(#clip250)\" d=\"M456.015 1183.52 Q450.853 1183.52 448.863 1184.7 Q446.872 1185.88 446.872 1188.73 Q446.872 1191 448.353 1192.34 Q449.858 1193.66 452.427 1193.66 Q455.969 1193.66 458.099 1191.16 Q460.251 1188.64 460.251 1184.47 L460.251 1183.52 L456.015 1183.52 M464.511 1181.76 L464.511 1196.55 L460.251 1196.55 L460.251 1192.62 Q458.793 1194.98 456.617 1196.11 Q454.441 1197.23 451.293 1197.23 Q447.312 1197.23 444.951 1195 Q442.613 1192.76 442.613 1189.01 Q442.613 1184.63 445.529 1182.41 Q448.469 1180.19 454.279 1180.19 L460.251 1180.19 L460.251 1179.77 Q460.251 1176.83 458.307 1175.24 Q456.386 1173.61 452.89 1173.61 Q450.668 1173.61 448.562 1174.15 Q446.455 1174.68 444.511 1175.74 L444.511 1171.81 Q446.849 1170.91 449.048 1170.47 Q451.247 1170 453.33 1170 Q458.955 1170 461.733 1172.92 Q464.511 1175.84 464.511 1181.76 Z\" fill=\"#ffffff\" fill-rule=\"evenodd\" fill-opacity=\"1\" /><path clip-path=\"url(#clip250)\" d=\"M484.071 1198.96 Q482.265 1203.59 480.552 1205 Q478.839 1206.42 475.969 1206.42 L472.566 1206.42 L472.566 1202.85 L475.066 1202.85 Q476.825 1202.85 477.798 1202.02 Q478.77 1201.18 479.95 1198.08 L480.714 1196.14 L470.228 1170.63 L474.742 1170.63 L482.844 1190.91 L490.946 1170.63 L495.46 1170.63 L484.071 1198.96 Z\" fill=\"#ffffff\" fill-rule=\"evenodd\" fill-opacity=\"1\" /><path clip-path=\"url(#clip250)\" d=\"M501.339 1160.54 L505.598 1160.54 L505.598 1196.55 L501.339 1196.55 L501.339 1160.54 Z\" fill=\"#ffffff\" fill-rule=\"evenodd\" fill-opacity=\"1\" /><path clip-path=\"url(#clip250)\" d=\"M524.557 1173.61 Q521.131 1173.61 519.14 1176.3 Q517.149 1178.96 517.149 1183.61 Q517.149 1188.27 519.117 1190.95 Q521.108 1193.61 524.557 1193.61 Q527.959 1193.61 529.95 1190.93 Q531.941 1188.24 531.941 1183.61 Q531.941 1179.01 529.95 1176.32 Q527.959 1173.61 524.557 1173.61 M524.557 1170 Q530.112 1170 533.283 1173.61 Q536.455 1177.23 536.455 1183.61 Q536.455 1189.98 533.283 1193.61 Q530.112 1197.23 524.557 1197.23 Q518.978 1197.23 515.807 1193.61 Q512.658 1189.98 512.658 1183.61 Q512.658 1177.23 515.807 1173.61 Q518.978 1170 524.557 1170 Z\" fill=\"#ffffff\" fill-rule=\"evenodd\" fill-opacity=\"1\" /><path clip-path=\"url(#clip250)\" d=\"M558.538 1174.61 Q557.82 1174.19 556.964 1174.01 Q556.13 1173.8 555.112 1173.8 Q551.501 1173.8 549.556 1176.16 Q547.635 1178.5 547.635 1182.9 L547.635 1196.55 L543.353 1196.55 L543.353 1170.63 L547.635 1170.63 L547.635 1174.66 Q548.978 1172.3 551.131 1171.16 Q553.283 1170 556.362 1170 Q556.802 1170 557.334 1170.07 Q557.867 1170.12 558.515 1170.24 L558.538 1174.61 Z\" fill=\"#ffffff\" fill-rule=\"evenodd\" fill-opacity=\"1\" /><path clip-path=\"url(#clip250)\" d=\"M598.977 1163.13 L598.977 1167.69 Q596.315 1166.42 593.954 1165.79 Q591.593 1165.17 589.394 1165.17 Q585.575 1165.17 583.491 1166.65 Q581.431 1168.13 581.431 1170.86 Q581.431 1173.15 582.797 1174.33 Q584.186 1175.49 588.028 1176.21 L590.853 1176.79 Q596.084 1177.78 598.561 1180.3 Q601.061 1182.8 601.061 1187.02 Q601.061 1192.04 597.681 1194.63 Q594.325 1197.23 587.82 1197.23 Q585.366 1197.23 582.589 1196.67 Q579.834 1196.11 576.871 1195.03 L576.871 1190.21 Q579.718 1191.81 582.45 1192.62 Q585.181 1193.43 587.82 1193.43 Q591.825 1193.43 594.001 1191.86 Q596.177 1190.28 596.177 1187.36 Q596.177 1184.82 594.603 1183.38 Q593.052 1181.95 589.487 1181.23 L586.64 1180.67 Q581.408 1179.63 579.07 1177.41 Q576.732 1175.19 576.732 1171.23 Q576.732 1166.65 579.95 1164.01 Q583.191 1161.37 588.862 1161.37 Q591.292 1161.37 593.815 1161.81 Q596.339 1162.25 598.977 1163.13 Z\" fill=\"#ffffff\" fill-rule=\"evenodd\" fill-opacity=\"1\" /><path clip-path=\"url(#clip250)\" d=\"M630.343 1182.53 L630.343 1184.61 L610.76 1184.61 Q611.038 1189.01 613.399 1191.32 Q615.783 1193.61 620.019 1193.61 Q622.473 1193.61 624.764 1193.01 Q627.079 1192.41 629.348 1191.21 L629.348 1195.23 Q627.056 1196.21 624.649 1196.72 Q622.241 1197.23 619.764 1197.23 Q613.561 1197.23 609.926 1193.61 Q606.315 1190 606.315 1183.85 Q606.315 1177.48 609.741 1173.75 Q613.19 1170 619.024 1170 Q624.255 1170 627.288 1173.38 Q630.343 1176.74 630.343 1182.53 M626.084 1181.28 Q626.038 1177.78 624.116 1175.7 Q622.218 1173.61 619.07 1173.61 Q615.505 1173.61 613.352 1175.63 Q611.223 1177.64 610.899 1181.3 L626.084 1181.28 Z\" fill=\"#ffffff\" fill-rule=\"evenodd\" fill-opacity=\"1\" /><path clip-path=\"url(#clip250)\" d=\"M652.357 1174.61 Q651.639 1174.19 650.783 1174.01 Q649.949 1173.8 648.931 1173.8 Q645.32 1173.8 643.375 1176.16 Q641.454 1178.5 641.454 1182.9 L641.454 1196.55 L637.172 1196.55 L637.172 1170.63 L641.454 1170.63 L641.454 1174.66 Q642.797 1172.3 644.949 1171.16 Q647.102 1170 650.181 1170 Q650.621 1170 651.153 1170.07 Q651.686 1170.12 652.334 1170.24 L652.357 1174.61 Z\" fill=\"#ffffff\" fill-rule=\"evenodd\" fill-opacity=\"1\" /><path clip-path=\"url(#clip250)\" d=\"M656.824 1170.63 L661.084 1170.63 L661.084 1196.55 L656.824 1196.55 L656.824 1170.63 M656.824 1160.54 L661.084 1160.54 L661.084 1165.93 L656.824 1165.93 L656.824 1160.54 Z\" fill=\"#ffffff\" fill-rule=\"evenodd\" fill-opacity=\"1\" /><path clip-path=\"url(#clip250)\" d=\"M692.171 1182.53 L692.171 1184.61 L672.588 1184.61 Q672.866 1189.01 675.227 1191.32 Q677.611 1193.61 681.847 1193.61 Q684.301 1193.61 686.593 1193.01 Q688.908 1192.41 691.176 1191.21 L691.176 1195.23 Q688.884 1196.21 686.477 1196.72 Q684.07 1197.23 681.593 1197.23 Q675.389 1197.23 671.755 1193.61 Q668.144 1190 668.144 1183.85 Q668.144 1177.48 671.57 1173.75 Q675.019 1170 680.852 1170 Q686.083 1170 689.116 1173.38 Q692.171 1176.74 692.171 1182.53 M687.912 1181.28 Q687.866 1177.78 685.945 1175.7 Q684.046 1173.61 680.898 1173.61 Q677.334 1173.61 675.181 1175.63 Q673.051 1177.64 672.727 1181.3 L687.912 1181.28 Z\" fill=\"#ffffff\" fill-rule=\"evenodd\" fill-opacity=\"1\" /><path clip-path=\"url(#clip250)\" d=\"M715.69 1171.39 L715.69 1175.42 Q713.884 1174.49 711.94 1174.03 Q709.995 1173.57 707.912 1173.57 Q704.741 1173.57 703.144 1174.54 Q701.57 1175.51 701.57 1177.46 Q701.57 1178.94 702.704 1179.8 Q703.838 1180.63 707.264 1181.39 L708.722 1181.72 Q713.259 1182.69 715.157 1184.47 Q717.079 1186.23 717.079 1189.4 Q717.079 1193.01 714.208 1195.12 Q711.361 1197.23 706.361 1197.23 Q704.278 1197.23 702.009 1196.81 Q699.764 1196.42 697.264 1195.61 L697.264 1191.21 Q699.625 1192.43 701.917 1193.06 Q704.208 1193.66 706.454 1193.66 Q709.463 1193.66 711.083 1192.64 Q712.704 1191.6 712.704 1189.73 Q712.704 1187.99 711.523 1187.06 Q710.366 1186.14 706.407 1185.28 L704.926 1184.93 Q700.968 1184.1 699.208 1182.39 Q697.449 1180.65 697.449 1177.64 Q697.449 1173.99 700.042 1171.99 Q702.634 1170 707.403 1170 Q709.764 1170 711.847 1170.35 Q713.931 1170.7 715.69 1171.39 Z\" fill=\"#ffffff\" fill-rule=\"evenodd\" fill-opacity=\"1\" /><path clip-path=\"url(#clip250)\" d=\"M736.778 1181.67 L749.254 1181.67 L749.254 1185.47 L736.778 1185.47 L736.778 1181.67 Z\" fill=\"#ffffff\" fill-rule=\"evenodd\" fill-opacity=\"1\" /><path clip-path=\"url(#clip250)\" d=\"M772.518 1192.62 L780.157 1192.62 L780.157 1166.25 L771.847 1167.92 L771.847 1163.66 L780.111 1161.99 L784.787 1161.99 L784.787 1192.62 L792.426 1192.62 L792.426 1196.55 L772.518 1196.55 L772.518 1192.62 Z\" fill=\"#ffffff\" fill-rule=\"evenodd\" fill-opacity=\"1\" /><path clip-path=\"url(#clip250)\" d=\"M820.55 1163.27 L820.55 1170.63 L829.323 1170.63 L829.323 1173.94 L820.55 1173.94 L820.55 1188.01 Q820.55 1191.18 821.407 1192.09 Q822.286 1192.99 824.948 1192.99 L829.323 1192.99 L829.323 1196.55 L824.948 1196.55 Q820.018 1196.55 818.143 1194.73 Q816.268 1192.87 816.268 1188.01 L816.268 1173.94 L813.143 1173.94 L813.143 1170.63 L816.268 1170.63 L816.268 1163.27 L820.55 1163.27 Z\" fill=\"#ffffff\" fill-rule=\"evenodd\" fill-opacity=\"1\" /><path clip-path=\"url(#clip250)\" d=\"M857.101 1182.53 L857.101 1184.61 L837.518 1184.61 Q837.796 1189.01 840.157 1191.32 Q842.541 1193.61 846.777 1193.61 Q849.231 1193.61 851.522 1193.01 Q853.837 1192.41 856.106 1191.21 L856.106 1195.23 Q853.814 1196.21 851.407 1196.72 Q848.999 1197.23 846.522 1197.23 Q840.319 1197.23 836.685 1193.61 Q833.073 1190 833.073 1183.85 Q833.073 1177.48 836.499 1173.75 Q839.948 1170 845.782 1170 Q851.013 1170 854.046 1173.38 Q857.101 1176.74 857.101 1182.53 M852.842 1181.28 Q852.796 1177.78 850.874 1175.7 Q848.976 1173.61 845.828 1173.61 Q842.263 1173.61 840.11 1175.63 Q837.981 1177.64 837.657 1181.3 L852.842 1181.28 Z\" fill=\"#ffffff\" fill-rule=\"evenodd\" fill-opacity=\"1\" /><path clip-path=\"url(#clip250)\" d=\"M879.115 1174.61 Q878.397 1174.19 877.541 1174.01 Q876.707 1173.8 875.689 1173.8 Q872.078 1173.8 870.133 1176.16 Q868.212 1178.5 868.212 1182.9 L868.212 1196.55 L863.93 1196.55 L863.93 1170.63 L868.212 1170.63 L868.212 1174.66 Q869.555 1172.3 871.707 1171.16 Q873.86 1170 876.939 1170 Q877.379 1170 877.911 1170.07 Q878.444 1170.12 879.092 1170.24 L879.115 1174.61 Z\" fill=\"#ffffff\" fill-rule=\"evenodd\" fill-opacity=\"1\" /><path clip-path=\"url(#clip250)\" d=\"M902.934 1175.61 Q904.531 1172.74 906.754 1171.37 Q908.976 1170 911.985 1170 Q916.036 1170 918.235 1172.85 Q920.434 1175.67 920.434 1180.91 L920.434 1196.55 L916.152 1196.55 L916.152 1181.05 Q916.152 1177.32 914.832 1175.51 Q913.513 1173.71 910.805 1173.71 Q907.494 1173.71 905.573 1175.91 Q903.652 1178.11 903.652 1181.9 L903.652 1196.55 L899.369 1196.55 L899.369 1181.05 Q899.369 1177.3 898.05 1175.51 Q896.731 1173.71 893.976 1173.71 Q890.712 1173.71 888.791 1175.93 Q886.869 1178.13 886.869 1181.9 L886.869 1196.55 L882.587 1196.55 L882.587 1170.63 L886.869 1170.63 L886.869 1174.66 Q888.328 1172.27 890.365 1171.14 Q892.402 1170 895.203 1170 Q898.027 1170 899.994 1171.44 Q901.985 1172.87 902.934 1175.61 Z\" fill=\"#ffffff\" fill-rule=\"evenodd\" fill-opacity=\"1\" /><path clip-path=\"url(#clip250)\" d=\"M945.457 1171.39 L945.457 1175.42 Q943.652 1174.49 941.707 1174.03 Q939.763 1173.57 937.679 1173.57 Q934.508 1173.57 932.911 1174.54 Q931.337 1175.51 931.337 1177.46 Q931.337 1178.94 932.471 1179.8 Q933.605 1180.63 937.031 1181.39 L938.49 1181.72 Q943.027 1182.69 944.925 1184.47 Q946.846 1186.23 946.846 1189.4 Q946.846 1193.01 943.976 1195.12 Q941.128 1197.23 936.128 1197.23 Q934.045 1197.23 931.777 1196.81 Q929.531 1196.42 927.031 1195.61 L927.031 1191.21 Q929.392 1192.43 931.684 1193.06 Q933.976 1193.66 936.221 1193.66 Q939.23 1193.66 940.851 1192.64 Q942.471 1191.6 942.471 1189.73 Q942.471 1187.99 941.29 1187.06 Q940.133 1186.14 936.175 1185.28 L934.693 1184.93 Q930.735 1184.1 928.976 1182.39 Q927.216 1180.65 927.216 1177.64 Q927.216 1173.99 929.809 1171.99 Q932.402 1170 937.17 1170 Q939.531 1170 941.615 1170.35 Q943.698 1170.7 945.457 1171.39 Z\" fill=\"#ffffff\" fill-rule=\"evenodd\" fill-opacity=\"1\" /><polyline clip-path=\"url(#clip250)\" style=\"stroke:#3f9778; stroke-linecap:butt; stroke-linejoin:round; stroke-width:4; stroke-opacity:1; fill:none\" points=\"\n  247.127,1231.11 394.031,1231.11 \n  \"/>\n<path clip-path=\"url(#clip250)\" d=\"M418.515 1213.83 L447.751 1213.83 L447.751 1217.77 L435.483 1217.77 L435.483 1248.39 L430.784 1248.39 L430.784 1217.77 L418.515 1217.77 L418.515 1213.83 Z\" fill=\"#ffffff\" fill-rule=\"evenodd\" fill-opacity=\"1\" /><path clip-path=\"url(#clip250)\" d=\"M456.015 1235.36 Q450.853 1235.36 448.863 1236.54 Q446.872 1237.72 446.872 1240.57 Q446.872 1242.84 448.353 1244.18 Q449.858 1245.5 452.427 1245.5 Q455.969 1245.5 458.099 1243 Q460.251 1240.48 460.251 1236.31 L460.251 1235.36 L456.015 1235.36 M464.511 1233.6 L464.511 1248.39 L460.251 1248.39 L460.251 1244.46 Q458.793 1246.82 456.617 1247.95 Q454.441 1249.07 451.293 1249.07 Q447.312 1249.07 444.951 1246.84 Q442.613 1244.6 442.613 1240.85 Q442.613 1236.47 445.529 1234.25 Q448.469 1232.03 454.279 1232.03 L460.251 1232.03 L460.251 1231.61 Q460.251 1228.67 458.307 1227.08 Q456.386 1225.45 452.89 1225.45 Q450.668 1225.45 448.562 1225.99 Q446.455 1226.52 444.511 1227.58 L444.511 1223.65 Q446.849 1222.75 449.048 1222.31 Q451.247 1221.84 453.33 1221.84 Q458.955 1221.84 461.733 1224.76 Q464.511 1227.68 464.511 1233.6 Z\" fill=\"#ffffff\" fill-rule=\"evenodd\" fill-opacity=\"1\" /><path clip-path=\"url(#clip250)\" d=\"M484.071 1250.8 Q482.265 1255.43 480.552 1256.84 Q478.839 1258.26 475.969 1258.26 L472.566 1258.26 L472.566 1254.69 L475.066 1254.69 Q476.825 1254.69 477.798 1253.86 Q478.77 1253.02 479.95 1249.92 L480.714 1247.98 L470.228 1222.47 L474.742 1222.47 L482.844 1242.75 L490.946 1222.47 L495.46 1222.47 L484.071 1250.8 Z\" fill=\"#ffffff\" fill-rule=\"evenodd\" fill-opacity=\"1\" /><path clip-path=\"url(#clip250)\" d=\"M501.339 1212.38 L505.598 1212.38 L505.598 1248.39 L501.339 1248.39 L501.339 1212.38 Z\" fill=\"#ffffff\" fill-rule=\"evenodd\" fill-opacity=\"1\" /><path clip-path=\"url(#clip250)\" d=\"M524.557 1225.45 Q521.131 1225.45 519.14 1228.14 Q517.149 1230.8 517.149 1235.45 Q517.149 1240.11 519.117 1242.79 Q521.108 1245.45 524.557 1245.45 Q527.959 1245.45 529.95 1242.77 Q531.941 1240.08 531.941 1235.45 Q531.941 1230.85 529.95 1228.16 Q527.959 1225.45 524.557 1225.45 M524.557 1221.84 Q530.112 1221.84 533.283 1225.45 Q536.455 1229.07 536.455 1235.45 Q536.455 1241.82 533.283 1245.45 Q530.112 1249.07 524.557 1249.07 Q518.978 1249.07 515.807 1245.45 Q512.658 1241.82 512.658 1235.45 Q512.658 1229.07 515.807 1225.45 Q518.978 1221.84 524.557 1221.84 Z\" fill=\"#ffffff\" fill-rule=\"evenodd\" fill-opacity=\"1\" /><path clip-path=\"url(#clip250)\" d=\"M558.538 1226.45 Q557.82 1226.03 556.964 1225.85 Q556.13 1225.64 555.112 1225.64 Q551.501 1225.64 549.556 1228 Q547.635 1230.34 547.635 1234.74 L547.635 1248.39 L543.353 1248.39 L543.353 1222.47 L547.635 1222.47 L547.635 1226.5 Q548.978 1224.14 551.131 1223 Q553.283 1221.84 556.362 1221.84 Q556.802 1221.84 557.334 1221.91 Q557.867 1221.96 558.515 1222.08 L558.538 1226.45 Z\" fill=\"#ffffff\" fill-rule=\"evenodd\" fill-opacity=\"1\" /><path clip-path=\"url(#clip250)\" d=\"M598.977 1214.97 L598.977 1219.53 Q596.315 1218.26 593.954 1217.63 Q591.593 1217.01 589.394 1217.01 Q585.575 1217.01 583.491 1218.49 Q581.431 1219.97 581.431 1222.7 Q581.431 1224.99 582.797 1226.17 Q584.186 1227.33 588.028 1228.05 L590.853 1228.63 Q596.084 1229.62 598.561 1232.14 Q601.061 1234.64 601.061 1238.86 Q601.061 1243.88 597.681 1246.47 Q594.325 1249.07 587.82 1249.07 Q585.366 1249.07 582.589 1248.51 Q579.834 1247.95 576.871 1246.87 L576.871 1242.05 Q579.718 1243.65 582.45 1244.46 Q585.181 1245.27 587.82 1245.27 Q591.825 1245.27 594.001 1243.7 Q596.177 1242.12 596.177 1239.2 Q596.177 1236.66 594.603 1235.22 Q593.052 1233.79 589.487 1233.07 L586.64 1232.51 Q581.408 1231.47 579.07 1229.25 Q576.732 1227.03 576.732 1223.07 Q576.732 1218.49 579.95 1215.85 Q583.191 1213.21 588.862 1213.21 Q591.292 1213.21 593.815 1213.65 Q596.339 1214.09 598.977 1214.97 Z\" fill=\"#ffffff\" fill-rule=\"evenodd\" fill-opacity=\"1\" /><path clip-path=\"url(#clip250)\" d=\"M630.343 1234.37 L630.343 1236.45 L610.76 1236.45 Q611.038 1240.85 613.399 1243.16 Q615.783 1245.45 620.019 1245.45 Q622.473 1245.45 624.764 1244.85 Q627.079 1244.25 629.348 1243.05 L629.348 1247.07 Q627.056 1248.05 624.649 1248.56 Q622.241 1249.07 619.764 1249.07 Q613.561 1249.07 609.926 1245.45 Q606.315 1241.84 606.315 1235.69 Q606.315 1229.32 609.741 1225.59 Q613.19 1221.84 619.024 1221.84 Q624.255 1221.84 627.288 1225.22 Q630.343 1228.58 630.343 1234.37 M626.084 1233.12 Q626.038 1229.62 624.116 1227.54 Q622.218 1225.45 619.07 1225.45 Q615.505 1225.45 613.352 1227.47 Q611.223 1229.48 610.899 1233.14 L626.084 1233.12 Z\" fill=\"#ffffff\" fill-rule=\"evenodd\" fill-opacity=\"1\" /><path clip-path=\"url(#clip250)\" d=\"M652.357 1226.45 Q651.639 1226.03 650.783 1225.85 Q649.949 1225.64 648.931 1225.64 Q645.32 1225.64 643.375 1228 Q641.454 1230.34 641.454 1234.74 L641.454 1248.39 L637.172 1248.39 L637.172 1222.47 L641.454 1222.47 L641.454 1226.5 Q642.797 1224.14 644.949 1223 Q647.102 1221.84 650.181 1221.84 Q650.621 1221.84 651.153 1221.91 Q651.686 1221.96 652.334 1222.08 L652.357 1226.45 Z\" fill=\"#ffffff\" fill-rule=\"evenodd\" fill-opacity=\"1\" /><path clip-path=\"url(#clip250)\" d=\"M656.824 1222.47 L661.084 1222.47 L661.084 1248.39 L656.824 1248.39 L656.824 1222.47 M656.824 1212.38 L661.084 1212.38 L661.084 1217.77 L656.824 1217.77 L656.824 1212.38 Z\" fill=\"#ffffff\" fill-rule=\"evenodd\" fill-opacity=\"1\" /><path clip-path=\"url(#clip250)\" d=\"M692.171 1234.37 L692.171 1236.45 L672.588 1236.45 Q672.866 1240.85 675.227 1243.16 Q677.611 1245.45 681.847 1245.45 Q684.301 1245.45 686.593 1244.85 Q688.908 1244.25 691.176 1243.05 L691.176 1247.07 Q688.884 1248.05 686.477 1248.56 Q684.07 1249.07 681.593 1249.07 Q675.389 1249.07 671.755 1245.45 Q668.144 1241.84 668.144 1235.69 Q668.144 1229.32 671.57 1225.59 Q675.019 1221.84 680.852 1221.84 Q686.083 1221.84 689.116 1225.22 Q692.171 1228.58 692.171 1234.37 M687.912 1233.12 Q687.866 1229.62 685.945 1227.54 Q684.046 1225.45 680.898 1225.45 Q677.334 1225.45 675.181 1227.47 Q673.051 1229.48 672.727 1233.14 L687.912 1233.12 Z\" fill=\"#ffffff\" fill-rule=\"evenodd\" fill-opacity=\"1\" /><path clip-path=\"url(#clip250)\" d=\"M715.69 1223.23 L715.69 1227.26 Q713.884 1226.33 711.94 1225.87 Q709.995 1225.41 707.912 1225.41 Q704.741 1225.41 703.144 1226.38 Q701.57 1227.35 701.57 1229.3 Q701.57 1230.78 702.704 1231.64 Q703.838 1232.47 707.264 1233.23 L708.722 1233.56 Q713.259 1234.53 715.157 1236.31 Q717.079 1238.07 717.079 1241.24 Q717.079 1244.85 714.208 1246.96 Q711.361 1249.07 706.361 1249.07 Q704.278 1249.07 702.009 1248.65 Q699.764 1248.26 697.264 1247.45 L697.264 1243.05 Q699.625 1244.27 701.917 1244.9 Q704.208 1245.5 706.454 1245.5 Q709.463 1245.5 711.083 1244.48 Q712.704 1243.44 712.704 1241.57 Q712.704 1239.83 711.523 1238.9 Q710.366 1237.98 706.407 1237.12 L704.926 1236.77 Q700.968 1235.94 699.208 1234.23 Q697.449 1232.49 697.449 1229.48 Q697.449 1225.83 700.042 1223.83 Q702.634 1221.84 707.403 1221.84 Q709.764 1221.84 711.847 1222.19 Q713.931 1222.54 715.69 1223.23 Z\" fill=\"#ffffff\" fill-rule=\"evenodd\" fill-opacity=\"1\" /><path clip-path=\"url(#clip250)\" d=\"M736.778 1233.51 L749.254 1233.51 L749.254 1237.31 L736.778 1237.31 L736.778 1233.51 Z\" fill=\"#ffffff\" fill-rule=\"evenodd\" fill-opacity=\"1\" /><path clip-path=\"url(#clip250)\" d=\"M775.736 1244.46 L792.055 1244.46 L792.055 1248.39 L770.111 1248.39 L770.111 1244.46 Q772.773 1241.7 777.356 1237.08 Q781.963 1232.42 783.143 1231.08 Q785.389 1228.56 786.268 1226.82 Q787.171 1225.06 787.171 1223.37 Q787.171 1220.62 785.226 1218.88 Q783.305 1217.14 780.203 1217.14 Q778.004 1217.14 775.551 1217.91 Q773.12 1218.67 770.342 1220.22 L770.342 1215.5 Q773.166 1214.37 775.62 1213.79 Q778.074 1213.21 780.111 1213.21 Q785.481 1213.21 788.676 1215.89 Q791.87 1218.58 791.87 1223.07 Q791.87 1225.2 791.06 1227.12 Q790.273 1229.02 788.166 1231.61 Q787.588 1232.28 784.486 1235.5 Q781.384 1238.7 775.736 1244.46 Z\" fill=\"#ffffff\" fill-rule=\"evenodd\" fill-opacity=\"1\" /><path clip-path=\"url(#clip250)\" d=\"M820.55 1215.11 L820.55 1222.47 L829.323 1222.47 L829.323 1225.78 L820.55 1225.78 L820.55 1239.85 Q820.55 1243.02 821.407 1243.93 Q822.286 1244.83 824.948 1244.83 L829.323 1244.83 L829.323 1248.39 L824.948 1248.39 Q820.018 1248.39 818.143 1246.57 Q816.268 1244.71 816.268 1239.85 L816.268 1225.78 L813.143 1225.78 L813.143 1222.47 L816.268 1222.47 L816.268 1215.11 L820.55 1215.11 Z\" fill=\"#ffffff\" fill-rule=\"evenodd\" fill-opacity=\"1\" /><path clip-path=\"url(#clip250)\" d=\"M857.101 1234.37 L857.101 1236.45 L837.518 1236.45 Q837.796 1240.85 840.157 1243.16 Q842.541 1245.45 846.777 1245.45 Q849.231 1245.45 851.522 1244.85 Q853.837 1244.25 856.106 1243.05 L856.106 1247.07 Q853.814 1248.05 851.407 1248.56 Q848.999 1249.07 846.522 1249.07 Q840.319 1249.07 836.685 1245.45 Q833.073 1241.84 833.073 1235.69 Q833.073 1229.32 836.499 1225.59 Q839.948 1221.84 845.782 1221.84 Q851.013 1221.84 854.046 1225.22 Q857.101 1228.58 857.101 1234.37 M852.842 1233.12 Q852.796 1229.62 850.874 1227.54 Q848.976 1225.45 845.828 1225.45 Q842.263 1225.45 840.11 1227.47 Q837.981 1229.48 837.657 1233.14 L852.842 1233.12 Z\" fill=\"#ffffff\" fill-rule=\"evenodd\" fill-opacity=\"1\" /><path clip-path=\"url(#clip250)\" d=\"M879.115 1226.45 Q878.397 1226.03 877.541 1225.85 Q876.707 1225.64 875.689 1225.64 Q872.078 1225.64 870.133 1228 Q868.212 1230.34 868.212 1234.74 L868.212 1248.39 L863.93 1248.39 L863.93 1222.47 L868.212 1222.47 L868.212 1226.5 Q869.555 1224.14 871.707 1223 Q873.86 1221.84 876.939 1221.84 Q877.379 1221.84 877.911 1221.91 Q878.444 1221.96 879.092 1222.08 L879.115 1226.45 Z\" fill=\"#ffffff\" fill-rule=\"evenodd\" fill-opacity=\"1\" /><path clip-path=\"url(#clip250)\" d=\"M902.934 1227.45 Q904.531 1224.58 906.754 1223.21 Q908.976 1221.84 911.985 1221.84 Q916.036 1221.84 918.235 1224.69 Q920.434 1227.51 920.434 1232.75 L920.434 1248.39 L916.152 1248.39 L916.152 1232.89 Q916.152 1229.16 914.832 1227.35 Q913.513 1225.55 910.805 1225.55 Q907.494 1225.55 905.573 1227.75 Q903.652 1229.95 903.652 1233.74 L903.652 1248.39 L899.369 1248.39 L899.369 1232.89 Q899.369 1229.14 898.05 1227.35 Q896.731 1225.55 893.976 1225.55 Q890.712 1225.55 888.791 1227.77 Q886.869 1229.97 886.869 1233.74 L886.869 1248.39 L882.587 1248.39 L882.587 1222.47 L886.869 1222.47 L886.869 1226.5 Q888.328 1224.11 890.365 1222.98 Q892.402 1221.84 895.203 1221.84 Q898.027 1221.84 899.994 1223.28 Q901.985 1224.71 902.934 1227.45 Z\" fill=\"#ffffff\" fill-rule=\"evenodd\" fill-opacity=\"1\" /><path clip-path=\"url(#clip250)\" d=\"M945.457 1223.23 L945.457 1227.26 Q943.652 1226.33 941.707 1225.87 Q939.763 1225.41 937.679 1225.41 Q934.508 1225.41 932.911 1226.38 Q931.337 1227.35 931.337 1229.3 Q931.337 1230.78 932.471 1231.64 Q933.605 1232.47 937.031 1233.23 L938.49 1233.56 Q943.027 1234.53 944.925 1236.31 Q946.846 1238.07 946.846 1241.24 Q946.846 1244.85 943.976 1246.96 Q941.128 1249.07 936.128 1249.07 Q934.045 1249.07 931.777 1248.65 Q929.531 1248.26 927.031 1247.45 L927.031 1243.05 Q929.392 1244.27 931.684 1244.9 Q933.976 1245.5 936.221 1245.5 Q939.23 1245.5 940.851 1244.48 Q942.471 1243.44 942.471 1241.57 Q942.471 1239.83 941.29 1238.9 Q940.133 1237.98 936.175 1237.12 L934.693 1236.77 Q930.735 1235.94 928.976 1234.23 Q927.216 1232.49 927.216 1229.48 Q927.216 1225.83 929.809 1223.83 Q932.402 1221.84 937.17 1221.84 Q939.531 1221.84 941.615 1222.19 Q943.698 1222.54 945.457 1223.23 Z\" fill=\"#ffffff\" fill-rule=\"evenodd\" fill-opacity=\"1\" /><polyline clip-path=\"url(#clip250)\" style=\"stroke:#005d7f; stroke-linecap:butt; stroke-linejoin:round; stroke-width:4; stroke-opacity:1; fill:none\" points=\"\n  247.127,1282.95 394.031,1282.95 \n  \"/>\n<path clip-path=\"url(#clip250)\" d=\"M418.515 1265.67 L447.751 1265.67 L447.751 1269.61 L435.483 1269.61 L435.483 1300.23 L430.784 1300.23 L430.784 1269.61 L418.515 1269.61 L418.515 1265.67 Z\" fill=\"#ffffff\" fill-rule=\"evenodd\" fill-opacity=\"1\" /><path clip-path=\"url(#clip250)\" d=\"M456.015 1287.2 Q450.853 1287.2 448.863 1288.38 Q446.872 1289.56 446.872 1292.41 Q446.872 1294.68 448.353 1296.02 Q449.858 1297.34 452.427 1297.34 Q455.969 1297.34 458.099 1294.84 Q460.251 1292.32 460.251 1288.15 L460.251 1287.2 L456.015 1287.2 M464.511 1285.44 L464.511 1300.23 L460.251 1300.23 L460.251 1296.3 Q458.793 1298.66 456.617 1299.79 Q454.441 1300.91 451.293 1300.91 Q447.312 1300.91 444.951 1298.68 Q442.613 1296.44 442.613 1292.69 Q442.613 1288.31 445.529 1286.09 Q448.469 1283.87 454.279 1283.87 L460.251 1283.87 L460.251 1283.45 Q460.251 1280.51 458.307 1278.92 Q456.386 1277.29 452.89 1277.29 Q450.668 1277.29 448.562 1277.83 Q446.455 1278.36 444.511 1279.42 L444.511 1275.49 Q446.849 1274.59 449.048 1274.15 Q451.247 1273.68 453.33 1273.68 Q458.955 1273.68 461.733 1276.6 Q464.511 1279.52 464.511 1285.44 Z\" fill=\"#ffffff\" fill-rule=\"evenodd\" fill-opacity=\"1\" /><path clip-path=\"url(#clip250)\" d=\"M484.071 1302.64 Q482.265 1307.27 480.552 1308.68 Q478.839 1310.1 475.969 1310.1 L472.566 1310.1 L472.566 1306.53 L475.066 1306.53 Q476.825 1306.53 477.798 1305.7 Q478.77 1304.86 479.95 1301.76 L480.714 1299.82 L470.228 1274.31 L474.742 1274.31 L482.844 1294.59 L490.946 1274.31 L495.46 1274.31 L484.071 1302.64 Z\" fill=\"#ffffff\" fill-rule=\"evenodd\" fill-opacity=\"1\" /><path clip-path=\"url(#clip250)\" d=\"M501.339 1264.22 L505.598 1264.22 L505.598 1300.23 L501.339 1300.23 L501.339 1264.22 Z\" fill=\"#ffffff\" fill-rule=\"evenodd\" fill-opacity=\"1\" /><path clip-path=\"url(#clip250)\" d=\"M524.557 1277.29 Q521.131 1277.29 519.14 1279.98 Q517.149 1282.64 517.149 1287.29 Q517.149 1291.95 519.117 1294.63 Q521.108 1297.29 524.557 1297.29 Q527.959 1297.29 529.95 1294.61 Q531.941 1291.92 531.941 1287.29 Q531.941 1282.69 529.95 1280 Q527.959 1277.29 524.557 1277.29 M524.557 1273.68 Q530.112 1273.68 533.283 1277.29 Q536.455 1280.91 536.455 1287.29 Q536.455 1293.66 533.283 1297.29 Q530.112 1300.91 524.557 1300.91 Q518.978 1300.91 515.807 1297.29 Q512.658 1293.66 512.658 1287.29 Q512.658 1280.91 515.807 1277.29 Q518.978 1273.68 524.557 1273.68 Z\" fill=\"#ffffff\" fill-rule=\"evenodd\" fill-opacity=\"1\" /><path clip-path=\"url(#clip250)\" d=\"M558.538 1278.29 Q557.82 1277.87 556.964 1277.69 Q556.13 1277.48 555.112 1277.48 Q551.501 1277.48 549.556 1279.84 Q547.635 1282.18 547.635 1286.58 L547.635 1300.23 L543.353 1300.23 L543.353 1274.31 L547.635 1274.31 L547.635 1278.34 Q548.978 1275.98 551.131 1274.84 Q553.283 1273.68 556.362 1273.68 Q556.802 1273.68 557.334 1273.75 Q557.867 1273.8 558.515 1273.92 L558.538 1278.29 Z\" fill=\"#ffffff\" fill-rule=\"evenodd\" fill-opacity=\"1\" /><path clip-path=\"url(#clip250)\" d=\"M598.977 1266.81 L598.977 1271.37 Q596.315 1270.1 593.954 1269.47 Q591.593 1268.85 589.394 1268.85 Q585.575 1268.85 583.491 1270.33 Q581.431 1271.81 581.431 1274.54 Q581.431 1276.83 582.797 1278.01 Q584.186 1279.17 588.028 1279.89 L590.853 1280.47 Q596.084 1281.46 598.561 1283.98 Q601.061 1286.48 601.061 1290.7 Q601.061 1295.72 597.681 1298.31 Q594.325 1300.91 587.82 1300.91 Q585.366 1300.91 582.589 1300.35 Q579.834 1299.79 576.871 1298.71 L576.871 1293.89 Q579.718 1295.49 582.45 1296.3 Q585.181 1297.11 587.82 1297.11 Q591.825 1297.11 594.001 1295.54 Q596.177 1293.96 596.177 1291.04 Q596.177 1288.5 594.603 1287.06 Q593.052 1285.63 589.487 1284.91 L586.64 1284.35 Q581.408 1283.31 579.07 1281.09 Q576.732 1278.87 576.732 1274.91 Q576.732 1270.33 579.95 1267.69 Q583.191 1265.05 588.862 1265.05 Q591.292 1265.05 593.815 1265.49 Q596.339 1265.93 598.977 1266.81 Z\" fill=\"#ffffff\" fill-rule=\"evenodd\" fill-opacity=\"1\" /><path clip-path=\"url(#clip250)\" d=\"M630.343 1286.21 L630.343 1288.29 L610.76 1288.29 Q611.038 1292.69 613.399 1295 Q615.783 1297.29 620.019 1297.29 Q622.473 1297.29 624.764 1296.69 Q627.079 1296.09 629.348 1294.89 L629.348 1298.91 Q627.056 1299.89 624.649 1300.4 Q622.241 1300.91 619.764 1300.91 Q613.561 1300.91 609.926 1297.29 Q606.315 1293.68 606.315 1287.53 Q606.315 1281.16 609.741 1277.43 Q613.19 1273.68 619.024 1273.68 Q624.255 1273.68 627.288 1277.06 Q630.343 1280.42 630.343 1286.21 M626.084 1284.96 Q626.038 1281.46 624.116 1279.38 Q622.218 1277.29 619.07 1277.29 Q615.505 1277.29 613.352 1279.31 Q611.223 1281.32 610.899 1284.98 L626.084 1284.96 Z\" fill=\"#ffffff\" fill-rule=\"evenodd\" fill-opacity=\"1\" /><path clip-path=\"url(#clip250)\" d=\"M652.357 1278.29 Q651.639 1277.87 650.783 1277.69 Q649.949 1277.48 648.931 1277.48 Q645.32 1277.48 643.375 1279.84 Q641.454 1282.18 641.454 1286.58 L641.454 1300.23 L637.172 1300.23 L637.172 1274.31 L641.454 1274.31 L641.454 1278.34 Q642.797 1275.98 644.949 1274.84 Q647.102 1273.68 650.181 1273.68 Q650.621 1273.68 651.153 1273.75 Q651.686 1273.8 652.334 1273.92 L652.357 1278.29 Z\" fill=\"#ffffff\" fill-rule=\"evenodd\" fill-opacity=\"1\" /><path clip-path=\"url(#clip250)\" d=\"M656.824 1274.31 L661.084 1274.31 L661.084 1300.23 L656.824 1300.23 L656.824 1274.31 M656.824 1264.22 L661.084 1264.22 L661.084 1269.61 L656.824 1269.61 L656.824 1264.22 Z\" fill=\"#ffffff\" fill-rule=\"evenodd\" fill-opacity=\"1\" /><path clip-path=\"url(#clip250)\" d=\"M692.171 1286.21 L692.171 1288.29 L672.588 1288.29 Q672.866 1292.69 675.227 1295 Q677.611 1297.29 681.847 1297.29 Q684.301 1297.29 686.593 1296.69 Q688.908 1296.09 691.176 1294.89 L691.176 1298.91 Q688.884 1299.89 686.477 1300.4 Q684.07 1300.91 681.593 1300.91 Q675.389 1300.91 671.755 1297.29 Q668.144 1293.68 668.144 1287.53 Q668.144 1281.16 671.57 1277.43 Q675.019 1273.68 680.852 1273.68 Q686.083 1273.68 689.116 1277.06 Q692.171 1280.42 692.171 1286.21 M687.912 1284.96 Q687.866 1281.46 685.945 1279.38 Q684.046 1277.29 680.898 1277.29 Q677.334 1277.29 675.181 1279.31 Q673.051 1281.32 672.727 1284.98 L687.912 1284.96 Z\" fill=\"#ffffff\" fill-rule=\"evenodd\" fill-opacity=\"1\" /><path clip-path=\"url(#clip250)\" d=\"M715.69 1275.07 L715.69 1279.1 Q713.884 1278.17 711.94 1277.71 Q709.995 1277.25 707.912 1277.25 Q704.741 1277.25 703.144 1278.22 Q701.57 1279.19 701.57 1281.14 Q701.57 1282.62 702.704 1283.48 Q703.838 1284.31 707.264 1285.07 L708.722 1285.4 Q713.259 1286.37 715.157 1288.15 Q717.079 1289.91 717.079 1293.08 Q717.079 1296.69 714.208 1298.8 Q711.361 1300.91 706.361 1300.91 Q704.278 1300.91 702.009 1300.49 Q699.764 1300.1 697.264 1299.29 L697.264 1294.89 Q699.625 1296.11 701.917 1296.74 Q704.208 1297.34 706.454 1297.34 Q709.463 1297.34 711.083 1296.32 Q712.704 1295.28 712.704 1293.41 Q712.704 1291.67 711.523 1290.74 Q710.366 1289.82 706.407 1288.96 L704.926 1288.61 Q700.968 1287.78 699.208 1286.07 Q697.449 1284.33 697.449 1281.32 Q697.449 1277.67 700.042 1275.67 Q702.634 1273.68 707.403 1273.68 Q709.764 1273.68 711.847 1274.03 Q713.931 1274.38 715.69 1275.07 Z\" fill=\"#ffffff\" fill-rule=\"evenodd\" fill-opacity=\"1\" /><path clip-path=\"url(#clip250)\" d=\"M736.778 1285.35 L749.254 1285.35 L749.254 1289.15 L736.778 1289.15 L736.778 1285.35 Z\" fill=\"#ffffff\" fill-rule=\"evenodd\" fill-opacity=\"1\" /><path clip-path=\"url(#clip250)\" d=\"M785.875 1281.6 Q789.231 1282.32 791.106 1284.59 Q793.004 1286.85 793.004 1290.19 Q793.004 1295.3 789.486 1298.1 Q785.967 1300.91 779.486 1300.91 Q777.31 1300.91 774.995 1300.47 Q772.703 1300.05 770.25 1299.19 L770.25 1294.68 Q772.194 1295.81 774.509 1296.39 Q776.824 1296.97 779.347 1296.97 Q783.745 1296.97 786.037 1295.23 Q788.351 1293.5 788.351 1290.19 Q788.351 1287.13 786.199 1285.42 Q784.069 1283.68 780.25 1283.68 L776.222 1283.68 L776.222 1279.84 L780.435 1279.84 Q783.884 1279.84 785.713 1278.48 Q787.541 1277.09 787.541 1274.49 Q787.541 1271.83 785.643 1270.42 Q783.768 1268.98 780.25 1268.98 Q778.328 1268.98 776.129 1269.4 Q773.93 1269.82 771.291 1270.7 L771.291 1266.53 Q773.953 1265.79 776.268 1265.42 Q778.606 1265.05 780.666 1265.05 Q785.99 1265.05 789.092 1267.48 Q792.194 1269.89 792.194 1274.01 Q792.194 1276.88 790.551 1278.87 Q788.907 1280.84 785.875 1281.6 Z\" fill=\"#ffffff\" fill-rule=\"evenodd\" fill-opacity=\"1\" /><path clip-path=\"url(#clip250)\" d=\"M820.55 1266.95 L820.55 1274.31 L829.323 1274.31 L829.323 1277.62 L820.55 1277.62 L820.55 1291.69 Q820.55 1294.86 821.407 1295.77 Q822.286 1296.67 824.948 1296.67 L829.323 1296.67 L829.323 1300.23 L824.948 1300.23 Q820.018 1300.23 818.143 1298.41 Q816.268 1296.55 816.268 1291.69 L816.268 1277.62 L813.143 1277.62 L813.143 1274.31 L816.268 1274.31 L816.268 1266.95 L820.55 1266.95 Z\" fill=\"#ffffff\" fill-rule=\"evenodd\" fill-opacity=\"1\" /><path clip-path=\"url(#clip250)\" d=\"M857.101 1286.21 L857.101 1288.29 L837.518 1288.29 Q837.796 1292.69 840.157 1295 Q842.541 1297.29 846.777 1297.29 Q849.231 1297.29 851.522 1296.69 Q853.837 1296.09 856.106 1294.89 L856.106 1298.91 Q853.814 1299.89 851.407 1300.4 Q848.999 1300.91 846.522 1300.91 Q840.319 1300.91 836.685 1297.29 Q833.073 1293.68 833.073 1287.53 Q833.073 1281.16 836.499 1277.43 Q839.948 1273.68 845.782 1273.68 Q851.013 1273.68 854.046 1277.06 Q857.101 1280.42 857.101 1286.21 M852.842 1284.96 Q852.796 1281.46 850.874 1279.38 Q848.976 1277.29 845.828 1277.29 Q842.263 1277.29 840.11 1279.31 Q837.981 1281.32 837.657 1284.98 L852.842 1284.96 Z\" fill=\"#ffffff\" fill-rule=\"evenodd\" fill-opacity=\"1\" /><path clip-path=\"url(#clip250)\" d=\"M879.115 1278.29 Q878.397 1277.87 877.541 1277.69 Q876.707 1277.48 875.689 1277.48 Q872.078 1277.48 870.133 1279.84 Q868.212 1282.18 868.212 1286.58 L868.212 1300.23 L863.93 1300.23 L863.93 1274.31 L868.212 1274.31 L868.212 1278.34 Q869.555 1275.98 871.707 1274.84 Q873.86 1273.68 876.939 1273.68 Q877.379 1273.68 877.911 1273.75 Q878.444 1273.8 879.092 1273.92 L879.115 1278.29 Z\" fill=\"#ffffff\" fill-rule=\"evenodd\" fill-opacity=\"1\" /><path clip-path=\"url(#clip250)\" d=\"M902.934 1279.29 Q904.531 1276.42 906.754 1275.05 Q908.976 1273.68 911.985 1273.68 Q916.036 1273.68 918.235 1276.53 Q920.434 1279.35 920.434 1284.59 L920.434 1300.23 L916.152 1300.23 L916.152 1284.73 Q916.152 1281 914.832 1279.19 Q913.513 1277.39 910.805 1277.39 Q907.494 1277.39 905.573 1279.59 Q903.652 1281.79 903.652 1285.58 L903.652 1300.23 L899.369 1300.23 L899.369 1284.73 Q899.369 1280.98 898.05 1279.19 Q896.731 1277.39 893.976 1277.39 Q890.712 1277.39 888.791 1279.61 Q886.869 1281.81 886.869 1285.58 L886.869 1300.23 L882.587 1300.23 L882.587 1274.31 L886.869 1274.31 L886.869 1278.34 Q888.328 1275.95 890.365 1274.82 Q892.402 1273.68 895.203 1273.68 Q898.027 1273.68 899.994 1275.12 Q901.985 1276.55 902.934 1279.29 Z\" fill=\"#ffffff\" fill-rule=\"evenodd\" fill-opacity=\"1\" /><path clip-path=\"url(#clip250)\" d=\"M945.457 1275.07 L945.457 1279.1 Q943.652 1278.17 941.707 1277.71 Q939.763 1277.25 937.679 1277.25 Q934.508 1277.25 932.911 1278.22 Q931.337 1279.19 931.337 1281.14 Q931.337 1282.62 932.471 1283.48 Q933.605 1284.31 937.031 1285.07 L938.49 1285.4 Q943.027 1286.37 944.925 1288.15 Q946.846 1289.91 946.846 1293.08 Q946.846 1296.69 943.976 1298.8 Q941.128 1300.91 936.128 1300.91 Q934.045 1300.91 931.777 1300.49 Q929.531 1300.1 927.031 1299.29 L927.031 1294.89 Q929.392 1296.11 931.684 1296.74 Q933.976 1297.34 936.221 1297.34 Q939.23 1297.34 940.851 1296.32 Q942.471 1295.28 942.471 1293.41 Q942.471 1291.67 941.29 1290.74 Q940.133 1289.82 936.175 1288.96 L934.693 1288.61 Q930.735 1287.78 928.976 1286.07 Q927.216 1284.33 927.216 1281.32 Q927.216 1277.67 929.809 1275.67 Q932.402 1273.68 937.17 1273.68 Q939.531 1273.68 941.615 1274.03 Q943.698 1274.38 945.457 1275.07 Z\" fill=\"#ffffff\" fill-rule=\"evenodd\" fill-opacity=\"1\" /><polyline clip-path=\"url(#clip250)\" style=\"stroke:#00a8ff; stroke-linecap:butt; stroke-linejoin:round; stroke-width:4; stroke-opacity:1; fill:none\" points=\"\n  247.127,1334.79 394.031,1334.79 \n  \"/>\n<path clip-path=\"url(#clip250)\" d=\"M418.515 1317.51 L447.751 1317.51 L447.751 1321.45 L435.483 1321.45 L435.483 1352.07 L430.784 1352.07 L430.784 1321.45 L418.515 1321.45 L418.515 1317.51 Z\" fill=\"#ffffff\" fill-rule=\"evenodd\" fill-opacity=\"1\" /><path clip-path=\"url(#clip250)\" d=\"M456.015 1339.04 Q450.853 1339.04 448.863 1340.22 Q446.872 1341.4 446.872 1344.25 Q446.872 1346.52 448.353 1347.86 Q449.858 1349.18 452.427 1349.18 Q455.969 1349.18 458.099 1346.68 Q460.251 1344.16 460.251 1339.99 L460.251 1339.04 L456.015 1339.04 M464.511 1337.28 L464.511 1352.07 L460.251 1352.07 L460.251 1348.14 Q458.793 1350.5 456.617 1351.63 Q454.441 1352.75 451.293 1352.75 Q447.312 1352.75 444.951 1350.52 Q442.613 1348.28 442.613 1344.53 Q442.613 1340.15 445.529 1337.93 Q448.469 1335.71 454.279 1335.71 L460.251 1335.71 L460.251 1335.29 Q460.251 1332.35 458.307 1330.76 Q456.386 1329.13 452.89 1329.13 Q450.668 1329.13 448.562 1329.67 Q446.455 1330.2 444.511 1331.26 L444.511 1327.33 Q446.849 1326.43 449.048 1325.99 Q451.247 1325.52 453.33 1325.52 Q458.955 1325.52 461.733 1328.44 Q464.511 1331.36 464.511 1337.28 Z\" fill=\"#ffffff\" fill-rule=\"evenodd\" fill-opacity=\"1\" /><path clip-path=\"url(#clip250)\" d=\"M484.071 1354.48 Q482.265 1359.11 480.552 1360.52 Q478.839 1361.94 475.969 1361.94 L472.566 1361.94 L472.566 1358.37 L475.066 1358.37 Q476.825 1358.37 477.798 1357.54 Q478.77 1356.7 479.95 1353.6 L480.714 1351.66 L470.228 1326.15 L474.742 1326.15 L482.844 1346.43 L490.946 1326.15 L495.46 1326.15 L484.071 1354.48 Z\" fill=\"#ffffff\" fill-rule=\"evenodd\" fill-opacity=\"1\" /><path clip-path=\"url(#clip250)\" d=\"M501.339 1316.06 L505.598 1316.06 L505.598 1352.07 L501.339 1352.07 L501.339 1316.06 Z\" fill=\"#ffffff\" fill-rule=\"evenodd\" fill-opacity=\"1\" /><path clip-path=\"url(#clip250)\" d=\"M524.557 1329.13 Q521.131 1329.13 519.14 1331.82 Q517.149 1334.48 517.149 1339.13 Q517.149 1343.79 519.117 1346.47 Q521.108 1349.13 524.557 1349.13 Q527.959 1349.13 529.95 1346.45 Q531.941 1343.76 531.941 1339.13 Q531.941 1334.53 529.95 1331.84 Q527.959 1329.13 524.557 1329.13 M524.557 1325.52 Q530.112 1325.52 533.283 1329.13 Q536.455 1332.75 536.455 1339.13 Q536.455 1345.5 533.283 1349.13 Q530.112 1352.75 524.557 1352.75 Q518.978 1352.75 515.807 1349.13 Q512.658 1345.5 512.658 1339.13 Q512.658 1332.75 515.807 1329.13 Q518.978 1325.52 524.557 1325.52 Z\" fill=\"#ffffff\" fill-rule=\"evenodd\" fill-opacity=\"1\" /><path clip-path=\"url(#clip250)\" d=\"M558.538 1330.13 Q557.82 1329.71 556.964 1329.53 Q556.13 1329.32 555.112 1329.32 Q551.501 1329.32 549.556 1331.68 Q547.635 1334.02 547.635 1338.42 L547.635 1352.07 L543.353 1352.07 L543.353 1326.15 L547.635 1326.15 L547.635 1330.18 Q548.978 1327.82 551.131 1326.68 Q553.283 1325.52 556.362 1325.52 Q556.802 1325.52 557.334 1325.59 Q557.867 1325.64 558.515 1325.76 L558.538 1330.13 Z\" fill=\"#ffffff\" fill-rule=\"evenodd\" fill-opacity=\"1\" /><path clip-path=\"url(#clip250)\" d=\"M598.977 1318.65 L598.977 1323.21 Q596.315 1321.94 593.954 1321.31 Q591.593 1320.69 589.394 1320.69 Q585.575 1320.69 583.491 1322.17 Q581.431 1323.65 581.431 1326.38 Q581.431 1328.67 582.797 1329.85 Q584.186 1331.01 588.028 1331.73 L590.853 1332.31 Q596.084 1333.3 598.561 1335.82 Q601.061 1338.32 601.061 1342.54 Q601.061 1347.56 597.681 1350.15 Q594.325 1352.75 587.82 1352.75 Q585.366 1352.75 582.589 1352.19 Q579.834 1351.63 576.871 1350.55 L576.871 1345.73 Q579.718 1347.33 582.45 1348.14 Q585.181 1348.95 587.82 1348.95 Q591.825 1348.95 594.001 1347.38 Q596.177 1345.8 596.177 1342.88 Q596.177 1340.34 594.603 1338.9 Q593.052 1337.47 589.487 1336.75 L586.64 1336.19 Q581.408 1335.15 579.07 1332.93 Q576.732 1330.71 576.732 1326.75 Q576.732 1322.17 579.95 1319.53 Q583.191 1316.89 588.862 1316.89 Q591.292 1316.89 593.815 1317.33 Q596.339 1317.77 598.977 1318.65 Z\" fill=\"#ffffff\" fill-rule=\"evenodd\" fill-opacity=\"1\" /><path clip-path=\"url(#clip250)\" d=\"M630.343 1338.05 L630.343 1340.13 L610.76 1340.13 Q611.038 1344.53 613.399 1346.84 Q615.783 1349.13 620.019 1349.13 Q622.473 1349.13 624.764 1348.53 Q627.079 1347.93 629.348 1346.73 L629.348 1350.75 Q627.056 1351.73 624.649 1352.24 Q622.241 1352.75 619.764 1352.75 Q613.561 1352.75 609.926 1349.13 Q606.315 1345.52 606.315 1339.37 Q606.315 1333 609.741 1329.27 Q613.19 1325.52 619.024 1325.52 Q624.255 1325.52 627.288 1328.9 Q630.343 1332.26 630.343 1338.05 M626.084 1336.8 Q626.038 1333.3 624.116 1331.22 Q622.218 1329.13 619.07 1329.13 Q615.505 1329.13 613.352 1331.15 Q611.223 1333.16 610.899 1336.82 L626.084 1336.8 Z\" fill=\"#ffffff\" fill-rule=\"evenodd\" fill-opacity=\"1\" /><path clip-path=\"url(#clip250)\" d=\"M652.357 1330.13 Q651.639 1329.71 650.783 1329.53 Q649.949 1329.32 648.931 1329.32 Q645.32 1329.32 643.375 1331.68 Q641.454 1334.02 641.454 1338.42 L641.454 1352.07 L637.172 1352.07 L637.172 1326.15 L641.454 1326.15 L641.454 1330.18 Q642.797 1327.82 644.949 1326.68 Q647.102 1325.52 650.181 1325.52 Q650.621 1325.52 651.153 1325.59 Q651.686 1325.64 652.334 1325.76 L652.357 1330.13 Z\" fill=\"#ffffff\" fill-rule=\"evenodd\" fill-opacity=\"1\" /><path clip-path=\"url(#clip250)\" d=\"M656.824 1326.15 L661.084 1326.15 L661.084 1352.07 L656.824 1352.07 L656.824 1326.15 M656.824 1316.06 L661.084 1316.06 L661.084 1321.45 L656.824 1321.45 L656.824 1316.06 Z\" fill=\"#ffffff\" fill-rule=\"evenodd\" fill-opacity=\"1\" /><path clip-path=\"url(#clip250)\" d=\"M692.171 1338.05 L692.171 1340.13 L672.588 1340.13 Q672.866 1344.53 675.227 1346.84 Q677.611 1349.13 681.847 1349.13 Q684.301 1349.13 686.593 1348.53 Q688.908 1347.93 691.176 1346.73 L691.176 1350.75 Q688.884 1351.73 686.477 1352.24 Q684.07 1352.75 681.593 1352.75 Q675.389 1352.75 671.755 1349.13 Q668.144 1345.52 668.144 1339.37 Q668.144 1333 671.57 1329.27 Q675.019 1325.52 680.852 1325.52 Q686.083 1325.52 689.116 1328.9 Q692.171 1332.26 692.171 1338.05 M687.912 1336.8 Q687.866 1333.3 685.945 1331.22 Q684.046 1329.13 680.898 1329.13 Q677.334 1329.13 675.181 1331.15 Q673.051 1333.16 672.727 1336.82 L687.912 1336.8 Z\" fill=\"#ffffff\" fill-rule=\"evenodd\" fill-opacity=\"1\" /><path clip-path=\"url(#clip250)\" d=\"M715.69 1326.91 L715.69 1330.94 Q713.884 1330.01 711.94 1329.55 Q709.995 1329.09 707.912 1329.09 Q704.741 1329.09 703.144 1330.06 Q701.57 1331.03 701.57 1332.98 Q701.57 1334.46 702.704 1335.32 Q703.838 1336.15 707.264 1336.91 L708.722 1337.24 Q713.259 1338.21 715.157 1339.99 Q717.079 1341.75 717.079 1344.92 Q717.079 1348.53 714.208 1350.64 Q711.361 1352.75 706.361 1352.75 Q704.278 1352.75 702.009 1352.33 Q699.764 1351.94 697.264 1351.13 L697.264 1346.73 Q699.625 1347.95 701.917 1348.58 Q704.208 1349.18 706.454 1349.18 Q709.463 1349.18 711.083 1348.16 Q712.704 1347.12 712.704 1345.25 Q712.704 1343.51 711.523 1342.58 Q710.366 1341.66 706.407 1340.8 L704.926 1340.45 Q700.968 1339.62 699.208 1337.91 Q697.449 1336.17 697.449 1333.16 Q697.449 1329.51 700.042 1327.51 Q702.634 1325.52 707.403 1325.52 Q709.764 1325.52 711.847 1325.87 Q713.931 1326.22 715.69 1326.91 Z\" fill=\"#ffffff\" fill-rule=\"evenodd\" fill-opacity=\"1\" /><path clip-path=\"url(#clip250)\" d=\"M736.778 1337.19 L749.254 1337.19 L749.254 1340.99 L736.778 1340.99 L736.778 1337.19 Z\" fill=\"#ffffff\" fill-rule=\"evenodd\" fill-opacity=\"1\" /><path clip-path=\"url(#clip250)\" d=\"M784.555 1321.59 L772.75 1340.04 L784.555 1340.04 L784.555 1321.59 M783.328 1317.51 L789.208 1317.51 L789.208 1340.04 L794.138 1340.04 L794.138 1343.93 L789.208 1343.93 L789.208 1352.07 L784.555 1352.07 L784.555 1343.93 L768.953 1343.93 L768.953 1339.41 L783.328 1317.51 Z\" fill=\"#ffffff\" fill-rule=\"evenodd\" fill-opacity=\"1\" /><path clip-path=\"url(#clip250)\" d=\"M820.55 1318.79 L820.55 1326.15 L829.323 1326.15 L829.323 1329.46 L820.55 1329.46 L820.55 1343.53 Q820.55 1346.7 821.407 1347.61 Q822.286 1348.51 824.948 1348.51 L829.323 1348.51 L829.323 1352.07 L824.948 1352.07 Q820.018 1352.07 818.143 1350.25 Q816.268 1348.39 816.268 1343.53 L816.268 1329.46 L813.143 1329.46 L813.143 1326.15 L816.268 1326.15 L816.268 1318.79 L820.55 1318.79 Z\" fill=\"#ffffff\" fill-rule=\"evenodd\" fill-opacity=\"1\" /><path clip-path=\"url(#clip250)\" d=\"M857.101 1338.05 L857.101 1340.13 L837.518 1340.13 Q837.796 1344.53 840.157 1346.84 Q842.541 1349.13 846.777 1349.13 Q849.231 1349.13 851.522 1348.53 Q853.837 1347.93 856.106 1346.73 L856.106 1350.75 Q853.814 1351.73 851.407 1352.24 Q848.999 1352.75 846.522 1352.75 Q840.319 1352.75 836.685 1349.13 Q833.073 1345.52 833.073 1339.37 Q833.073 1333 836.499 1329.27 Q839.948 1325.52 845.782 1325.52 Q851.013 1325.52 854.046 1328.9 Q857.101 1332.26 857.101 1338.05 M852.842 1336.8 Q852.796 1333.3 850.874 1331.22 Q848.976 1329.13 845.828 1329.13 Q842.263 1329.13 840.11 1331.15 Q837.981 1333.16 837.657 1336.82 L852.842 1336.8 Z\" fill=\"#ffffff\" fill-rule=\"evenodd\" fill-opacity=\"1\" /><path clip-path=\"url(#clip250)\" d=\"M879.115 1330.13 Q878.397 1329.71 877.541 1329.53 Q876.707 1329.32 875.689 1329.32 Q872.078 1329.32 870.133 1331.68 Q868.212 1334.02 868.212 1338.42 L868.212 1352.07 L863.93 1352.07 L863.93 1326.15 L868.212 1326.15 L868.212 1330.18 Q869.555 1327.82 871.707 1326.68 Q873.86 1325.52 876.939 1325.52 Q877.379 1325.52 877.911 1325.59 Q878.444 1325.64 879.092 1325.76 L879.115 1330.13 Z\" fill=\"#ffffff\" fill-rule=\"evenodd\" fill-opacity=\"1\" /><path clip-path=\"url(#clip250)\" d=\"M902.934 1331.13 Q904.531 1328.26 906.754 1326.89 Q908.976 1325.52 911.985 1325.52 Q916.036 1325.52 918.235 1328.37 Q920.434 1331.19 920.434 1336.43 L920.434 1352.07 L916.152 1352.07 L916.152 1336.57 Q916.152 1332.84 914.832 1331.03 Q913.513 1329.23 910.805 1329.23 Q907.494 1329.23 905.573 1331.43 Q903.652 1333.63 903.652 1337.42 L903.652 1352.07 L899.369 1352.07 L899.369 1336.57 Q899.369 1332.82 898.05 1331.03 Q896.731 1329.23 893.976 1329.23 Q890.712 1329.23 888.791 1331.45 Q886.869 1333.65 886.869 1337.42 L886.869 1352.07 L882.587 1352.07 L882.587 1326.15 L886.869 1326.15 L886.869 1330.18 Q888.328 1327.79 890.365 1326.66 Q892.402 1325.52 895.203 1325.52 Q898.027 1325.52 899.994 1326.96 Q901.985 1328.39 902.934 1331.13 Z\" fill=\"#ffffff\" fill-rule=\"evenodd\" fill-opacity=\"1\" /><path clip-path=\"url(#clip250)\" d=\"M945.457 1326.91 L945.457 1330.94 Q943.652 1330.01 941.707 1329.55 Q939.763 1329.09 937.679 1329.09 Q934.508 1329.09 932.911 1330.06 Q931.337 1331.03 931.337 1332.98 Q931.337 1334.46 932.471 1335.32 Q933.605 1336.15 937.031 1336.91 L938.49 1337.24 Q943.027 1338.21 944.925 1339.99 Q946.846 1341.75 946.846 1344.92 Q946.846 1348.53 943.976 1350.64 Q941.128 1352.75 936.128 1352.75 Q934.045 1352.75 931.777 1352.33 Q929.531 1351.94 927.031 1351.13 L927.031 1346.73 Q929.392 1347.95 931.684 1348.58 Q933.976 1349.18 936.221 1349.18 Q939.23 1349.18 940.851 1348.16 Q942.471 1347.12 942.471 1345.25 Q942.471 1343.51 941.29 1342.58 Q940.133 1341.66 936.175 1340.8 L934.693 1340.45 Q930.735 1339.62 928.976 1337.91 Q927.216 1336.17 927.216 1333.16 Q927.216 1329.51 929.809 1327.51 Q932.402 1325.52 937.17 1325.52 Q939.531 1325.52 941.615 1325.87 Q943.698 1326.22 945.457 1326.91 Z\" fill=\"#ffffff\" fill-rule=\"evenodd\" fill-opacity=\"1\" /><polyline clip-path=\"url(#clip250)\" style=\"stroke:#dc3df1; stroke-linecap:butt; stroke-linejoin:round; stroke-width:4; stroke-opacity:1; fill:none\" points=\"\n  247.127,1386.63 394.031,1386.63 \n  \"/>\n<path clip-path=\"url(#clip250)\" d=\"M418.515 1369.35 L447.751 1369.35 L447.751 1373.29 L435.483 1373.29 L435.483 1403.91 L430.784 1403.91 L430.784 1373.29 L418.515 1373.29 L418.515 1369.35 Z\" fill=\"#ffffff\" fill-rule=\"evenodd\" fill-opacity=\"1\" /><path clip-path=\"url(#clip250)\" d=\"M456.015 1390.88 Q450.853 1390.88 448.863 1392.06 Q446.872 1393.24 446.872 1396.09 Q446.872 1398.36 448.353 1399.7 Q449.858 1401.02 452.427 1401.02 Q455.969 1401.02 458.099 1398.52 Q460.251 1396 460.251 1391.83 L460.251 1390.88 L456.015 1390.88 M464.511 1389.12 L464.511 1403.91 L460.251 1403.91 L460.251 1399.98 Q458.793 1402.34 456.617 1403.47 Q454.441 1404.59 451.293 1404.59 Q447.312 1404.59 444.951 1402.36 Q442.613 1400.12 442.613 1396.37 Q442.613 1391.99 445.529 1389.77 Q448.469 1387.55 454.279 1387.55 L460.251 1387.55 L460.251 1387.13 Q460.251 1384.19 458.307 1382.6 Q456.386 1380.97 452.89 1380.97 Q450.668 1380.97 448.562 1381.51 Q446.455 1382.04 444.511 1383.1 L444.511 1379.17 Q446.849 1378.27 449.048 1377.83 Q451.247 1377.36 453.33 1377.36 Q458.955 1377.36 461.733 1380.28 Q464.511 1383.2 464.511 1389.12 Z\" fill=\"#ffffff\" fill-rule=\"evenodd\" fill-opacity=\"1\" /><path clip-path=\"url(#clip250)\" d=\"M484.071 1406.32 Q482.265 1410.95 480.552 1412.36 Q478.839 1413.78 475.969 1413.78 L472.566 1413.78 L472.566 1410.21 L475.066 1410.21 Q476.825 1410.21 477.798 1409.38 Q478.77 1408.54 479.95 1405.44 L480.714 1403.5 L470.228 1377.99 L474.742 1377.99 L482.844 1398.27 L490.946 1377.99 L495.46 1377.99 L484.071 1406.32 Z\" fill=\"#ffffff\" fill-rule=\"evenodd\" fill-opacity=\"1\" /><path clip-path=\"url(#clip250)\" d=\"M501.339 1367.9 L505.598 1367.9 L505.598 1403.91 L501.339 1403.91 L501.339 1367.9 Z\" fill=\"#ffffff\" fill-rule=\"evenodd\" fill-opacity=\"1\" /><path clip-path=\"url(#clip250)\" d=\"M524.557 1380.97 Q521.131 1380.97 519.14 1383.66 Q517.149 1386.32 517.149 1390.97 Q517.149 1395.63 519.117 1398.31 Q521.108 1400.97 524.557 1400.97 Q527.959 1400.97 529.95 1398.29 Q531.941 1395.6 531.941 1390.97 Q531.941 1386.37 529.95 1383.68 Q527.959 1380.97 524.557 1380.97 M524.557 1377.36 Q530.112 1377.36 533.283 1380.97 Q536.455 1384.59 536.455 1390.97 Q536.455 1397.34 533.283 1400.97 Q530.112 1404.59 524.557 1404.59 Q518.978 1404.59 515.807 1400.97 Q512.658 1397.34 512.658 1390.97 Q512.658 1384.59 515.807 1380.97 Q518.978 1377.36 524.557 1377.36 Z\" fill=\"#ffffff\" fill-rule=\"evenodd\" fill-opacity=\"1\" /><path clip-path=\"url(#clip250)\" d=\"M558.538 1381.97 Q557.82 1381.55 556.964 1381.37 Q556.13 1381.16 555.112 1381.16 Q551.501 1381.16 549.556 1383.52 Q547.635 1385.86 547.635 1390.26 L547.635 1403.91 L543.353 1403.91 L543.353 1377.99 L547.635 1377.99 L547.635 1382.02 Q548.978 1379.66 551.131 1378.52 Q553.283 1377.36 556.362 1377.36 Q556.802 1377.36 557.334 1377.43 Q557.867 1377.48 558.515 1377.6 L558.538 1381.97 Z\" fill=\"#ffffff\" fill-rule=\"evenodd\" fill-opacity=\"1\" /><path clip-path=\"url(#clip250)\" d=\"M598.977 1370.49 L598.977 1375.05 Q596.315 1373.78 593.954 1373.15 Q591.593 1372.53 589.394 1372.53 Q585.575 1372.53 583.491 1374.01 Q581.431 1375.49 581.431 1378.22 Q581.431 1380.51 582.797 1381.69 Q584.186 1382.85 588.028 1383.57 L590.853 1384.15 Q596.084 1385.14 598.561 1387.66 Q601.061 1390.16 601.061 1394.38 Q601.061 1399.4 597.681 1401.99 Q594.325 1404.59 587.82 1404.59 Q585.366 1404.59 582.589 1404.03 Q579.834 1403.47 576.871 1402.39 L576.871 1397.57 Q579.718 1399.17 582.45 1399.98 Q585.181 1400.79 587.82 1400.79 Q591.825 1400.79 594.001 1399.22 Q596.177 1397.64 596.177 1394.72 Q596.177 1392.18 594.603 1390.74 Q593.052 1389.31 589.487 1388.59 L586.64 1388.03 Q581.408 1386.99 579.07 1384.77 Q576.732 1382.55 576.732 1378.59 Q576.732 1374.01 579.95 1371.37 Q583.191 1368.73 588.862 1368.73 Q591.292 1368.73 593.815 1369.17 Q596.339 1369.61 598.977 1370.49 Z\" fill=\"#ffffff\" fill-rule=\"evenodd\" fill-opacity=\"1\" /><path clip-path=\"url(#clip250)\" d=\"M630.343 1389.89 L630.343 1391.97 L610.76 1391.97 Q611.038 1396.37 613.399 1398.68 Q615.783 1400.97 620.019 1400.97 Q622.473 1400.97 624.764 1400.37 Q627.079 1399.77 629.348 1398.57 L629.348 1402.59 Q627.056 1403.57 624.649 1404.08 Q622.241 1404.59 619.764 1404.59 Q613.561 1404.59 609.926 1400.97 Q606.315 1397.36 606.315 1391.21 Q606.315 1384.84 609.741 1381.11 Q613.19 1377.36 619.024 1377.36 Q624.255 1377.36 627.288 1380.74 Q630.343 1384.1 630.343 1389.89 M626.084 1388.64 Q626.038 1385.14 624.116 1383.06 Q622.218 1380.97 619.07 1380.97 Q615.505 1380.97 613.352 1382.99 Q611.223 1385 610.899 1388.66 L626.084 1388.64 Z\" fill=\"#ffffff\" fill-rule=\"evenodd\" fill-opacity=\"1\" /><path clip-path=\"url(#clip250)\" d=\"M652.357 1381.97 Q651.639 1381.55 650.783 1381.37 Q649.949 1381.16 648.931 1381.16 Q645.32 1381.16 643.375 1383.52 Q641.454 1385.86 641.454 1390.26 L641.454 1403.91 L637.172 1403.91 L637.172 1377.99 L641.454 1377.99 L641.454 1382.02 Q642.797 1379.66 644.949 1378.52 Q647.102 1377.36 650.181 1377.36 Q650.621 1377.36 651.153 1377.43 Q651.686 1377.48 652.334 1377.6 L652.357 1381.97 Z\" fill=\"#ffffff\" fill-rule=\"evenodd\" fill-opacity=\"1\" /><path clip-path=\"url(#clip250)\" d=\"M656.824 1377.99 L661.084 1377.99 L661.084 1403.91 L656.824 1403.91 L656.824 1377.99 M656.824 1367.9 L661.084 1367.9 L661.084 1373.29 L656.824 1373.29 L656.824 1367.9 Z\" fill=\"#ffffff\" fill-rule=\"evenodd\" fill-opacity=\"1\" /><path clip-path=\"url(#clip250)\" d=\"M692.171 1389.89 L692.171 1391.97 L672.588 1391.97 Q672.866 1396.37 675.227 1398.68 Q677.611 1400.97 681.847 1400.97 Q684.301 1400.97 686.593 1400.37 Q688.908 1399.77 691.176 1398.57 L691.176 1402.59 Q688.884 1403.57 686.477 1404.08 Q684.07 1404.59 681.593 1404.59 Q675.389 1404.59 671.755 1400.97 Q668.144 1397.36 668.144 1391.21 Q668.144 1384.84 671.57 1381.11 Q675.019 1377.36 680.852 1377.36 Q686.083 1377.36 689.116 1380.74 Q692.171 1384.1 692.171 1389.89 M687.912 1388.64 Q687.866 1385.14 685.945 1383.06 Q684.046 1380.97 680.898 1380.97 Q677.334 1380.97 675.181 1382.99 Q673.051 1385 672.727 1388.66 L687.912 1388.64 Z\" fill=\"#ffffff\" fill-rule=\"evenodd\" fill-opacity=\"1\" /><path clip-path=\"url(#clip250)\" d=\"M715.69 1378.75 L715.69 1382.78 Q713.884 1381.85 711.94 1381.39 Q709.995 1380.93 707.912 1380.93 Q704.741 1380.93 703.144 1381.9 Q701.57 1382.87 701.57 1384.82 Q701.57 1386.3 702.704 1387.16 Q703.838 1387.99 707.264 1388.75 L708.722 1389.08 Q713.259 1390.05 715.157 1391.83 Q717.079 1393.59 717.079 1396.76 Q717.079 1400.37 714.208 1402.48 Q711.361 1404.59 706.361 1404.59 Q704.278 1404.59 702.009 1404.17 Q699.764 1403.78 697.264 1402.97 L697.264 1398.57 Q699.625 1399.79 701.917 1400.42 Q704.208 1401.02 706.454 1401.02 Q709.463 1401.02 711.083 1400 Q712.704 1398.96 712.704 1397.09 Q712.704 1395.35 711.523 1394.42 Q710.366 1393.5 706.407 1392.64 L704.926 1392.29 Q700.968 1391.46 699.208 1389.75 Q697.449 1388.01 697.449 1385 Q697.449 1381.35 700.042 1379.35 Q702.634 1377.36 707.403 1377.36 Q709.764 1377.36 711.847 1377.71 Q713.931 1378.06 715.69 1378.75 Z\" fill=\"#ffffff\" fill-rule=\"evenodd\" fill-opacity=\"1\" /><path clip-path=\"url(#clip250)\" d=\"M736.778 1389.03 L749.254 1389.03 L749.254 1392.83 L736.778 1392.83 L736.778 1389.03 Z\" fill=\"#ffffff\" fill-rule=\"evenodd\" fill-opacity=\"1\" /><path clip-path=\"url(#clip250)\" d=\"M771.754 1369.35 L790.111 1369.35 L790.111 1373.29 L776.037 1373.29 L776.037 1381.76 Q777.055 1381.41 778.074 1381.25 Q779.092 1381.07 780.111 1381.07 Q785.898 1381.07 789.277 1384.24 Q792.657 1387.41 792.657 1392.83 Q792.657 1398.41 789.185 1401.51 Q785.713 1404.59 779.393 1404.59 Q777.217 1404.59 774.949 1404.22 Q772.703 1403.84 770.296 1403.1 L770.296 1398.41 Q772.379 1399.54 774.602 1400.09 Q776.824 1400.65 779.301 1400.65 Q783.305 1400.65 785.643 1398.54 Q787.981 1396.44 787.981 1392.83 Q787.981 1389.22 785.643 1387.11 Q783.305 1385 779.301 1385 Q777.426 1385 775.551 1385.42 Q773.699 1385.84 771.754 1386.72 L771.754 1369.35 Z\" fill=\"#ffffff\" fill-rule=\"evenodd\" fill-opacity=\"1\" /><path clip-path=\"url(#clip250)\" d=\"M820.55 1370.63 L820.55 1377.99 L829.323 1377.99 L829.323 1381.3 L820.55 1381.3 L820.55 1395.37 Q820.55 1398.54 821.407 1399.45 Q822.286 1400.35 824.948 1400.35 L829.323 1400.35 L829.323 1403.91 L824.948 1403.91 Q820.018 1403.91 818.143 1402.09 Q816.268 1400.23 816.268 1395.37 L816.268 1381.3 L813.143 1381.3 L813.143 1377.99 L816.268 1377.99 L816.268 1370.63 L820.55 1370.63 Z\" fill=\"#ffffff\" fill-rule=\"evenodd\" fill-opacity=\"1\" /><path clip-path=\"url(#clip250)\" d=\"M857.101 1389.89 L857.101 1391.97 L837.518 1391.97 Q837.796 1396.37 840.157 1398.68 Q842.541 1400.97 846.777 1400.97 Q849.231 1400.97 851.522 1400.37 Q853.837 1399.77 856.106 1398.57 L856.106 1402.59 Q853.814 1403.57 851.407 1404.08 Q848.999 1404.59 846.522 1404.59 Q840.319 1404.59 836.685 1400.97 Q833.073 1397.36 833.073 1391.21 Q833.073 1384.84 836.499 1381.11 Q839.948 1377.36 845.782 1377.36 Q851.013 1377.36 854.046 1380.74 Q857.101 1384.1 857.101 1389.89 M852.842 1388.64 Q852.796 1385.14 850.874 1383.06 Q848.976 1380.97 845.828 1380.97 Q842.263 1380.97 840.11 1382.99 Q837.981 1385 837.657 1388.66 L852.842 1388.64 Z\" fill=\"#ffffff\" fill-rule=\"evenodd\" fill-opacity=\"1\" /><path clip-path=\"url(#clip250)\" d=\"M879.115 1381.97 Q878.397 1381.55 877.541 1381.37 Q876.707 1381.16 875.689 1381.16 Q872.078 1381.16 870.133 1383.52 Q868.212 1385.86 868.212 1390.26 L868.212 1403.91 L863.93 1403.91 L863.93 1377.99 L868.212 1377.99 L868.212 1382.02 Q869.555 1379.66 871.707 1378.52 Q873.86 1377.36 876.939 1377.36 Q877.379 1377.36 877.911 1377.43 Q878.444 1377.48 879.092 1377.6 L879.115 1381.97 Z\" fill=\"#ffffff\" fill-rule=\"evenodd\" fill-opacity=\"1\" /><path clip-path=\"url(#clip250)\" d=\"M902.934 1382.97 Q904.531 1380.1 906.754 1378.73 Q908.976 1377.36 911.985 1377.36 Q916.036 1377.36 918.235 1380.21 Q920.434 1383.03 920.434 1388.27 L920.434 1403.91 L916.152 1403.91 L916.152 1388.41 Q916.152 1384.68 914.832 1382.87 Q913.513 1381.07 910.805 1381.07 Q907.494 1381.07 905.573 1383.27 Q903.652 1385.47 903.652 1389.26 L903.652 1403.91 L899.369 1403.91 L899.369 1388.41 Q899.369 1384.66 898.05 1382.87 Q896.731 1381.07 893.976 1381.07 Q890.712 1381.07 888.791 1383.29 Q886.869 1385.49 886.869 1389.26 L886.869 1403.91 L882.587 1403.91 L882.587 1377.99 L886.869 1377.99 L886.869 1382.02 Q888.328 1379.63 890.365 1378.5 Q892.402 1377.36 895.203 1377.36 Q898.027 1377.36 899.994 1378.8 Q901.985 1380.23 902.934 1382.97 Z\" fill=\"#ffffff\" fill-rule=\"evenodd\" fill-opacity=\"1\" /><path clip-path=\"url(#clip250)\" d=\"M945.457 1378.75 L945.457 1382.78 Q943.652 1381.85 941.707 1381.39 Q939.763 1380.93 937.679 1380.93 Q934.508 1380.93 932.911 1381.9 Q931.337 1382.87 931.337 1384.82 Q931.337 1386.3 932.471 1387.16 Q933.605 1387.99 937.031 1388.75 L938.49 1389.08 Q943.027 1390.05 944.925 1391.83 Q946.846 1393.59 946.846 1396.76 Q946.846 1400.37 943.976 1402.48 Q941.128 1404.59 936.128 1404.59 Q934.045 1404.59 931.777 1404.17 Q929.531 1403.78 927.031 1402.97 L927.031 1398.57 Q929.392 1399.79 931.684 1400.42 Q933.976 1401.02 936.221 1401.02 Q939.23 1401.02 940.851 1400 Q942.471 1398.96 942.471 1397.09 Q942.471 1395.35 941.29 1394.42 Q940.133 1393.5 936.175 1392.64 L934.693 1392.29 Q930.735 1391.46 928.976 1389.75 Q927.216 1388.01 927.216 1385 Q927.216 1381.35 929.809 1379.35 Q932.402 1377.36 937.17 1377.36 Q939.531 1377.36 941.615 1377.71 Q943.698 1378.06 945.457 1378.75 Z\" fill=\"#ffffff\" fill-rule=\"evenodd\" fill-opacity=\"1\" /></svg>\n"
     },
     "execution_count": 18,
     "metadata": {},
     "output_type": "execute_result"
    }
   ],
   "source": [
    "plot(x, y, ylim=[-7,4], label=\"cos() function\", legend=:bottomleft, lw=2, xticks=-6:2:6, yticks=-6:2:4)\n",
    "plot!(x, t1.(x), label=\"Taylor Series - 1 terms\", lw=2)\n",
    "plot!(x, t2.(x), label=\"Taylor Series - 2 terms\", lw=2)\n",
    "plot!(x, t3.(x), label=\"Taylor Series - 3 terms\", lw=2)\n",
    "plot!(x, t4.(x), label=\"Taylor Series - 4 terms\", lw=2)\n",
    "plot!(x, t5.(x), label=\"Taylor Series - 5 terms\", lw=2)"
   ]
  }
 ],
 "metadata": {
  "kernelspec": {
   "display_name": "Julia 1.6.3",
   "language": "julia",
   "name": "julia-1.6"
  },
  "language_info": {
   "file_extension": ".jl",
   "mimetype": "application/julia",
   "name": "julia",
   "version": "1.6.3"
  }
 },
 "nbformat": 4,
 "nbformat_minor": 4
}
