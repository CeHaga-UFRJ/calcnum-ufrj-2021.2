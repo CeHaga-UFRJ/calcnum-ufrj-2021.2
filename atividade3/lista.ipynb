{
 "cells": [
  {
   "cell_type": "markdown",
   "metadata": {},
   "source": [
    "# Atividade 3 - Cálculo Numérico\n",
    "Carlos Bravo - 119136241\n",
    "\n",
    "As funções chamadas estão implementadas no arquivo _lib.jl_\n",
    "\n",
    "Algumas questões foram discutidas com:\n",
    "* David Albuquerque\n",
    "* Francisco Taam\n",
    "* Gabriele Jandres\n",
    "* Markson Arguello"
   ]
  },
  {
   "cell_type": "markdown",
   "metadata": {},
   "source": [
    "## Imports"
   ]
  },
  {
   "cell_type": "code",
   "execution_count": 1,
   "metadata": {},
   "outputs": [],
   "source": [
    "include(\"../lib.jl\");\n",
    "using Plots\n",
    "gr()\n",
    "theme(:dark)"
   ]
  },
  {
   "cell_type": "markdown",
   "metadata": {},
   "source": [
    "## Exercício 1 (1.1)"
   ]
  },
  {
   "cell_type": "markdown",
   "metadata": {},
   "source": [
    "Para aproximar $x = \\sqrt{10}$, podemos reescrever para $x^2 - 10$ e encontrar a raiz dessa função. Antes, precisamos definir o número de passos.\n",
    "\n",
    "Como o intervalo está sempre dividindo pela metade usando a fórmula $\\frac{b-a}{2}$, ao repetir por $n$ passos, obteremos um intervalo de tamanho $\\frac{b-a}{2^n}$. Reescrevendo essa equação e chamando o intervalo de $\\text{INT}$, obtemos:\n",
    "\n",
    "$\\text{INT} = \\frac{b-a}{2^n} \\rightarrow 2^n = \\frac{b-a}{\\text{INT}} \\rightarrow n = log_2(\\frac{b-a}{\\text{INT}})$\n",
    "\n",
    "Sabemos os seguintes dados:\n",
    "* $a = 0$\n",
    "* $b = 20$\n",
    "* $\\text{Intervalo} = 2*\\text{Erro} = 2*10^{-8}$\n",
    "Assim:\n",
    "$$n = log_2(\\frac{20}{2*10^{-8}}) = log_2(10^9) \\approx 29.89$$\n",
    "\n",
    "Sabemos então que o número _máximo_ de passos é 30, no entanto a quantidade real pode ser menor, pois é possível encontrar a raiz no caminho. Agora é possível chamar o método para descobrir o valor e o número real de passos"
   ]
  },
  {
   "cell_type": "code",
   "execution_count": 2,
   "metadata": {},
   "outputs": [
    {
     "data": {
      "text/plain": [
       "(3.162277666851878, 30.0)"
      ]
     },
     "execution_count": 2,
     "metadata": {},
     "output_type": "execute_result"
    }
   ],
   "source": [
    "f(x) = x^2 - 10 # Funcao a ser encontrada a raiz\n",
    "a = 0\n",
    "b = 20 # Intervalo\n",
    "error = 1e-8 # Erro\n",
    "bisection(f, a, b, error)"
   ]
  },
  {
   "cell_type": "markdown",
   "metadata": {},
   "source": [
    "Usando o método da bisseção e definindo um erro de domínio de $10^{-8}$, é possível aproximar $\\sqrt{10} \\approx 3.162277666851878$ após 30 iterações do método."
   ]
  },
  {
   "cell_type": "markdown",
   "metadata": {},
   "source": [
    "## Exercício 2 (1.2)"
   ]
  },
  {
   "cell_type": "markdown",
   "metadata": {},
   "source": [
    "Primeiro vai ser chamado o método da bisseção implementado no exercício anterior e depois chamado o método de Newton implementado na lista anterior."
   ]
  },
  {
   "cell_type": "code",
   "execution_count": 3,
   "metadata": {},
   "outputs": [
    {
     "name": "stdout",
     "output_type": "stream",
     "text": [
      "Para esse polinômio escolhido, uma de suas raizes no intervalo [-100,100] é 0.8490237724785439\n"
     ]
    }
   ],
   "source": [
    "f(x) = x^5 + 3x^4 - 2 # Funcao de quinto grau\n",
    "df(x) = 5x^4 + 12x^3 # Derivada\n",
    "a = -100 # Limite inferior do intervalo\n",
    "b = 100 # Limite superior do intervalo\n",
    "range_size = 1e-2 # Tamanho do intervalo usando biseccao\n",
    "steps = 20 # Quantidade de passos no metodo de newton\n",
    "result = bisection_newton(f, df, a, b, range_size, steps)\n",
    "println(\"Para esse polinômio escolhido, uma de suas raizes no intervalo [\",a,\",\",b,\"] é \",result)"
   ]
  },
  {
   "cell_type": "markdown",
   "metadata": {},
   "source": [
    "## Exercício 3 (1.3)"
   ]
  },
  {
   "cell_type": "markdown",
   "metadata": {},
   "source": [
    "Queremos encontrar $x$ tal que $x = ln(3)$. Usando a propriedade $e^{ln(c)}=c$ e reescrevendo a equação obtemos:\n",
    "$$x = ln(3) \\rightarrow e^x = 3 \\rightarrow e^x-3=0$$\n",
    "Essa forma nos ajuda pois sabemos calcular $e^c$ para qualquer $c$. Agora que temos uma equação igualada a $0$, podemos encontrar a raiz de sua função usando um dos métodos.\n",
    "\n",
    "O método escolhido será o de Newton com 20 passos. Para isso devemos definir os seguintes parâmetros:\n",
    "* $f(x) = e^x-3$. A função que encontramos\n",
    "* $f'(x) = e^x$. Sua derivada, sabendo que $(e^x)' = e^x$\n",
    "* Chute inicial = $1$. Como $e \\approx 2.7$, $e^1$ já é uma boa aproximação de $3$\n",
    "* Número de passos = $20$. Esse é o parâmetro que foi solicitado"
   ]
  },
  {
   "cell_type": "code",
   "execution_count": 4,
   "metadata": {},
   "outputs": [
    {
     "data": {
      "text/plain": [
       "1.0986122886681096"
      ]
     },
     "execution_count": 4,
     "metadata": {},
     "output_type": "execute_result"
    }
   ],
   "source": [
    "f(x) = ℯ^x-3 # Funcao que encontramos\n",
    "df(x) = ℯ^x # Sua derivada\n",
    "x0 = 1 # Chute inicial\n",
    "n = 20 # Numero de passos\n",
    "newton_raphson(f, df, x0, n)"
   ]
  },
  {
   "cell_type": "markdown",
   "metadata": {},
   "source": [
    "Então $ln(3) \\approx 1.0986122886681096$"
   ]
  },
  {
   "cell_type": "markdown",
   "metadata": {},
   "source": [
    "## Exercício 4 (1.4)"
   ]
  },
  {
   "cell_type": "markdown",
   "metadata": {},
   "source": [
    "Para encontrar $cos(40°)$, podemos usar interpolação em cossenos conhecidos e aproximar uma função. Conhecemos os cossenos nos ângulos $30°$, $45°$ e $60°$. Como temos 3 pontos conhecidos, é possível encontrar uma parábola e a partir dela encontrar o cosseno de $40°$. Antes, é necessário converter os ângulos para radianos, pois esse é o domínio da função $cos(x)$.\n",
    "\n",
    "Assim, nossa tabela fica:\n",
    "$$cos(30°) = cos(\\frac{\\pi}{6}) = \\frac{\\sqrt{3}}{2}$$\n",
    "$$cos(45°) = cos(\\frac{\\pi}{4}) = \\frac{\\sqrt{2}}{2}$$\n",
    "$$cos(60°) = cos(\\frac{\\pi}{3}) = \\frac{1}{2}$$\n",
    "\n",
    "E o ponto que queremos encontrar é $cos(40°) = cos(\\frac{2\\pi}{9})$"
   ]
  },
  {
   "cell_type": "code",
   "execution_count": 5,
   "metadata": {},
   "outputs": [],
   "source": [
    "x = [π/6, π/4, π/3] # Pontos do dominio\n",
    "y = [sqrt(3)/2, sqrt(2)/2, 1/2] # Pontos na imagem\n",
    ";"
   ]
  },
  {
   "cell_type": "code",
   "execution_count": 6,
   "metadata": {},
   "outputs": [],
   "source": [
    "# Calcula os coeficientes\n",
    "c = interpolation(x, y);"
   ]
  },
  {
   "cell_type": "code",
   "execution_count": 7,
   "metadata": {},
   "outputs": [
    {
     "data": {
      "text/plain": [
       "0.7654338952290286"
      ]
     },
     "execution_count": 7,
     "metadata": {},
     "output_type": "execute_result"
    }
   ],
   "source": [
    "# Avalia no ponto 2pi/9\n",
    "points = [2π/9]\n",
    "result = evaluate(c, points)\n",
    "result[1]"
   ]
  },
  {
   "cell_type": "markdown",
   "metadata": {},
   "source": [
    "Assim, $cos(40°) \\approx 0.7654338952290286$"
   ]
  },
  {
   "cell_type": "markdown",
   "metadata": {},
   "source": [
    "## Exercício 5 (1.5)"
   ]
  },
  {
   "cell_type": "markdown",
   "metadata": {},
   "source": [
    "A partir das medições realizadas pela polícia, é possível aproximar a temperatura em função do tempo. Como temos 3 medições, é feita uma parábola usando interpolação."
   ]
  },
  {
   "cell_type": "code",
   "execution_count": 8,
   "metadata": {},
   "outputs": [
    {
     "data": {
      "text/plain": [
       "3-element Vector{Float64}:\n",
       " -157.00000000000006\n",
       "   26.73333333333334\n",
       "   -0.9333333333333336"
      ]
     },
     "execution_count": 8,
     "metadata": {},
     "output_type": "execute_result"
    }
   ],
   "source": [
    "temperatures = [34, 30, 25] # Temperaturas medidas\n",
    "time = [15, 16.5, 17.5] # Tempo da medicao\n",
    "coeffs_tempxtime = interpolation(time, temperatures) # Interpolacao para temperatura x tempo"
   ]
  },
  {
   "cell_type": "markdown",
   "metadata": {},
   "source": [
    "Agora que temos os coeficientes da parábola, precisamos encontrar o tempo no qual a temperatura é 37°. Sendo $T(t)$ a temperatura no tempo $t$, queremos encontrar $t_0$ tal que $T(t_0) = 37$.\n",
    "\n",
    "Podemos reescrever para $T(t_0) - 37 = 0$. Assim, para encontrar o $t_0$ correspondente, basta expandir a função para um polinômio de $t_0$ e usar o método da bisseção para encontrar a raiz da equação."
   ]
  },
  {
   "cell_type": "code",
   "execution_count": 9,
   "metadata": {},
   "outputs": [
    {
     "data": {
      "image/svg+xml": [
       "<?xml version=\"1.0\" encoding=\"utf-8\"?>\n",
       "<svg xmlns=\"http://www.w3.org/2000/svg\" xmlns:xlink=\"http://www.w3.org/1999/xlink\" width=\"600\" height=\"400\" viewBox=\"0 0 2400 1600\">\n",
       "<defs>\n",
       "  <clipPath id=\"clip740\">\n",
       "    <rect x=\"0\" y=\"0\" width=\"2400\" height=\"1600\"/>\n",
       "  </clipPath>\n",
       "</defs>\n",
       "<path clip-path=\"url(#clip740)\" d=\"\n",
       "M0 1600 L2400 1600 L2400 0 L0 0  Z\n",
       "  \" fill=\"#363d46\" fill-rule=\"evenodd\" fill-opacity=\"1\"/>\n",
       "<defs>\n",
       "  <clipPath id=\"clip741\">\n",
       "    <rect x=\"480\" y=\"0\" width=\"1681\" height=\"1600\"/>\n",
       "  </clipPath>\n",
       "</defs>\n",
       "<path clip-path=\"url(#clip740)\" d=\"\n",
       "M149.191 1486.45 L2352.76 1486.45 L2352.76 47.2441 L149.191 47.2441  Z\n",
       "  \" fill=\"#30343b\" fill-rule=\"evenodd\" fill-opacity=\"1\"/>\n",
       "<defs>\n",
       "  <clipPath id=\"clip742\">\n",
       "    <rect x=\"149\" y=\"47\" width=\"2205\" height=\"1440\"/>\n",
       "  </clipPath>\n",
       "</defs>\n",
       "<polyline clip-path=\"url(#clip742)\" style=\"stroke:#adb2b7; stroke-linecap:butt; stroke-linejoin:round; stroke-width:2; stroke-opacity:0.1; fill:none\" points=\"\n",
       "  508.532,1486.45 508.532,47.2441 \n",
       "  \"/>\n",
       "<polyline clip-path=\"url(#clip742)\" style=\"stroke:#adb2b7; stroke-linecap:butt; stroke-linejoin:round; stroke-width:2; stroke-opacity:0.1; fill:none\" points=\"\n",
       "  1102.49,1486.45 1102.49,47.2441 \n",
       "  \"/>\n",
       "<polyline clip-path=\"url(#clip742)\" style=\"stroke:#adb2b7; stroke-linecap:butt; stroke-linejoin:round; stroke-width:2; stroke-opacity:0.1; fill:none\" points=\"\n",
       "  1696.44,1486.45 1696.44,47.2441 \n",
       "  \"/>\n",
       "<polyline clip-path=\"url(#clip742)\" style=\"stroke:#adb2b7; stroke-linecap:butt; stroke-linejoin:round; stroke-width:2; stroke-opacity:0.1; fill:none\" points=\"\n",
       "  2290.39,1486.45 2290.39,47.2441 \n",
       "  \"/>\n",
       "<polyline clip-path=\"url(#clip740)\" style=\"stroke:#adb2b7; stroke-linecap:butt; stroke-linejoin:round; stroke-width:4; stroke-opacity:1; fill:none\" points=\"\n",
       "  149.191,1486.45 2352.76,1486.45 \n",
       "  \"/>\n",
       "<polyline clip-path=\"url(#clip740)\" style=\"stroke:#adb2b7; stroke-linecap:butt; stroke-linejoin:round; stroke-width:4; stroke-opacity:1; fill:none\" points=\"\n",
       "  508.532,1486.45 508.532,1467.55 \n",
       "  \"/>\n",
       "<polyline clip-path=\"url(#clip740)\" style=\"stroke:#adb2b7; stroke-linecap:butt; stroke-linejoin:round; stroke-width:4; stroke-opacity:1; fill:none\" points=\"\n",
       "  1102.49,1486.45 1102.49,1467.55 \n",
       "  \"/>\n",
       "<polyline clip-path=\"url(#clip740)\" style=\"stroke:#adb2b7; stroke-linecap:butt; stroke-linejoin:round; stroke-width:4; stroke-opacity:1; fill:none\" points=\"\n",
       "  1696.44,1486.45 1696.44,1467.55 \n",
       "  \"/>\n",
       "<polyline clip-path=\"url(#clip740)\" style=\"stroke:#adb2b7; stroke-linecap:butt; stroke-linejoin:round; stroke-width:4; stroke-opacity:1; fill:none\" points=\"\n",
       "  2290.39,1486.45 2290.39,1467.55 \n",
       "  \"/>\n",
       "<path clip-path=\"url(#clip740)\" d=\"M483.544 1544.91 L491.183 1544.91 L491.183 1518.55 L482.873 1520.21 L482.873 1515.95 L491.137 1514.29 L495.812 1514.29 L495.812 1544.91 L503.451 1544.91 L503.451 1548.85 L483.544 1548.85 L483.544 1544.91 Z\" fill=\"#ffffff\" fill-rule=\"evenodd\" fill-opacity=\"1\" /><path clip-path=\"url(#clip740)\" d=\"M527.062 1530.21 Q530.419 1530.93 532.294 1533.2 Q534.192 1535.47 534.192 1538.8 Q534.192 1543.92 530.673 1546.72 Q527.155 1549.52 520.673 1549.52 Q518.498 1549.52 516.183 1549.08 Q513.891 1548.66 511.437 1547.81 L511.437 1543.29 Q513.382 1544.43 515.697 1545.01 Q518.011 1545.58 520.535 1545.58 Q524.933 1545.58 527.224 1543.85 Q529.539 1542.11 529.539 1538.8 Q529.539 1535.75 527.386 1534.03 Q525.257 1532.3 521.437 1532.3 L517.41 1532.3 L517.41 1528.45 L521.623 1528.45 Q525.072 1528.45 526.9 1527.09 Q528.729 1525.7 528.729 1523.11 Q528.729 1520.45 526.831 1519.03 Q524.956 1517.6 521.437 1517.6 Q519.516 1517.6 517.317 1518.01 Q515.118 1518.43 512.479 1519.31 L512.479 1515.14 Q515.141 1514.4 517.456 1514.03 Q519.794 1513.66 521.854 1513.66 Q527.178 1513.66 530.28 1516.09 Q533.382 1518.5 533.382 1522.62 Q533.382 1525.49 531.738 1527.48 Q530.095 1529.45 527.062 1530.21 Z\" fill=\"#ffffff\" fill-rule=\"evenodd\" fill-opacity=\"1\" /><path clip-path=\"url(#clip740)\" d=\"M1076.93 1544.91 L1084.57 1544.91 L1084.57 1518.55 L1076.26 1520.21 L1076.26 1515.95 L1084.52 1514.29 L1089.2 1514.29 L1089.2 1544.91 L1096.84 1544.91 L1096.84 1548.85 L1076.93 1548.85 L1076.93 1544.91 Z\" fill=\"#ffffff\" fill-rule=\"evenodd\" fill-opacity=\"1\" /><path clip-path=\"url(#clip740)\" d=\"M1119.13 1518.36 L1107.32 1536.81 L1119.13 1536.81 L1119.13 1518.36 M1117.9 1514.29 L1123.78 1514.29 L1123.78 1536.81 L1128.71 1536.81 L1128.71 1540.7 L1123.78 1540.7 L1123.78 1548.85 L1119.13 1548.85 L1119.13 1540.7 L1103.53 1540.7 L1103.53 1536.19 L1117.9 1514.29 Z\" fill=\"#ffffff\" fill-rule=\"evenodd\" fill-opacity=\"1\" /><path clip-path=\"url(#clip740)\" d=\"M1671.62 1544.91 L1679.26 1544.91 L1679.26 1518.55 L1670.95 1520.21 L1670.95 1515.95 L1679.22 1514.29 L1683.89 1514.29 L1683.89 1544.91 L1691.53 1544.91 L1691.53 1548.85 L1671.62 1548.85 L1671.62 1544.91 Z\" fill=\"#ffffff\" fill-rule=\"evenodd\" fill-opacity=\"1\" /><path clip-path=\"url(#clip740)\" d=\"M1701.02 1514.29 L1719.38 1514.29 L1719.38 1518.22 L1705.3 1518.22 L1705.3 1526.7 Q1706.32 1526.35 1707.34 1526.19 Q1708.36 1526 1709.38 1526 Q1715.16 1526 1718.54 1529.17 Q1721.92 1532.34 1721.92 1537.76 Q1721.92 1543.34 1718.45 1546.44 Q1714.98 1549.52 1708.66 1549.52 Q1706.48 1549.52 1704.22 1549.15 Q1701.97 1548.78 1699.56 1548.04 L1699.56 1543.34 Q1701.65 1544.47 1703.87 1545.03 Q1706.09 1545.58 1708.57 1545.58 Q1712.57 1545.58 1714.91 1543.48 Q1717.25 1541.37 1717.25 1537.76 Q1717.25 1534.15 1714.91 1532.04 Q1712.57 1529.94 1708.57 1529.94 Q1706.69 1529.94 1704.82 1530.35 Q1702.97 1530.77 1701.02 1531.65 L1701.02 1514.29 Z\" fill=\"#ffffff\" fill-rule=\"evenodd\" fill-opacity=\"1\" /><path clip-path=\"url(#clip740)\" d=\"M2265 1544.91 L2272.64 1544.91 L2272.64 1518.55 L2264.33 1520.21 L2264.33 1515.95 L2272.59 1514.29 L2277.27 1514.29 L2277.27 1544.91 L2284.9 1544.91 L2284.9 1548.85 L2265 1548.85 L2265 1544.91 Z\" fill=\"#ffffff\" fill-rule=\"evenodd\" fill-opacity=\"1\" /><path clip-path=\"url(#clip740)\" d=\"M2304.93 1529.7 Q2301.78 1529.7 2299.93 1531.86 Q2298.1 1534.01 2298.1 1537.76 Q2298.1 1541.49 2299.93 1543.66 Q2301.78 1545.82 2304.93 1545.82 Q2308.08 1545.82 2309.9 1543.66 Q2311.76 1541.49 2311.76 1537.76 Q2311.76 1534.01 2309.9 1531.86 Q2308.08 1529.7 2304.93 1529.7 M2314.21 1515.05 L2314.21 1519.31 Q2312.45 1518.48 2310.65 1518.04 Q2308.86 1517.6 2307.1 1517.6 Q2302.47 1517.6 2300.02 1520.72 Q2297.59 1523.85 2297.24 1530.17 Q2298.61 1528.15 2300.67 1527.09 Q2302.73 1526 2305.21 1526 Q2310.41 1526 2313.42 1529.17 Q2316.46 1532.32 2316.46 1537.76 Q2316.46 1543.08 2313.31 1546.3 Q2310.16 1549.52 2304.93 1549.52 Q2298.93 1549.52 2295.76 1544.94 Q2292.59 1540.33 2292.59 1531.6 Q2292.59 1523.41 2296.48 1518.55 Q2300.37 1513.66 2306.92 1513.66 Q2308.68 1513.66 2310.46 1514.01 Q2312.27 1514.36 2314.21 1515.05 Z\" fill=\"#ffffff\" fill-rule=\"evenodd\" fill-opacity=\"1\" /><polyline clip-path=\"url(#clip742)\" style=\"stroke:#adb2b7; stroke-linecap:butt; stroke-linejoin:round; stroke-width:2; stroke-opacity:0.1; fill:none\" points=\"\n",
       "  149.191,1285.98 2352.76,1285.98 \n",
       "  \"/>\n",
       "<polyline clip-path=\"url(#clip742)\" style=\"stroke:#adb2b7; stroke-linecap:butt; stroke-linejoin:round; stroke-width:2; stroke-opacity:0.1; fill:none\" points=\"\n",
       "  149.191,1046.38 2352.76,1046.38 \n",
       "  \"/>\n",
       "<polyline clip-path=\"url(#clip742)\" style=\"stroke:#adb2b7; stroke-linecap:butt; stroke-linejoin:round; stroke-width:2; stroke-opacity:0.1; fill:none\" points=\"\n",
       "  149.191,806.779 2352.76,806.779 \n",
       "  \"/>\n",
       "<polyline clip-path=\"url(#clip742)\" style=\"stroke:#adb2b7; stroke-linecap:butt; stroke-linejoin:round; stroke-width:2; stroke-opacity:0.1; fill:none\" points=\"\n",
       "  149.191,567.178 2352.76,567.178 \n",
       "  \"/>\n",
       "<polyline clip-path=\"url(#clip742)\" style=\"stroke:#adb2b7; stroke-linecap:butt; stroke-linejoin:round; stroke-width:2; stroke-opacity:0.1; fill:none\" points=\"\n",
       "  149.191,327.577 2352.76,327.577 \n",
       "  \"/>\n",
       "<polyline clip-path=\"url(#clip742)\" style=\"stroke:#adb2b7; stroke-linecap:butt; stroke-linejoin:round; stroke-width:2; stroke-opacity:0.1; fill:none\" points=\"\n",
       "  149.191,87.9763 2352.76,87.9763 \n",
       "  \"/>\n",
       "<polyline clip-path=\"url(#clip740)\" style=\"stroke:#adb2b7; stroke-linecap:butt; stroke-linejoin:round; stroke-width:4; stroke-opacity:1; fill:none\" points=\"\n",
       "  149.191,1486.45 149.191,47.2441 \n",
       "  \"/>\n",
       "<polyline clip-path=\"url(#clip740)\" style=\"stroke:#adb2b7; stroke-linecap:butt; stroke-linejoin:round; stroke-width:4; stroke-opacity:1; fill:none\" points=\"\n",
       "  149.191,1285.98 168.089,1285.98 \n",
       "  \"/>\n",
       "<polyline clip-path=\"url(#clip740)\" style=\"stroke:#adb2b7; stroke-linecap:butt; stroke-linejoin:round; stroke-width:4; stroke-opacity:1; fill:none\" points=\"\n",
       "  149.191,1046.38 168.089,1046.38 \n",
       "  \"/>\n",
       "<polyline clip-path=\"url(#clip740)\" style=\"stroke:#adb2b7; stroke-linecap:butt; stroke-linejoin:round; stroke-width:4; stroke-opacity:1; fill:none\" points=\"\n",
       "  149.191,806.779 168.089,806.779 \n",
       "  \"/>\n",
       "<polyline clip-path=\"url(#clip740)\" style=\"stroke:#adb2b7; stroke-linecap:butt; stroke-linejoin:round; stroke-width:4; stroke-opacity:1; fill:none\" points=\"\n",
       "  149.191,567.178 168.089,567.178 \n",
       "  \"/>\n",
       "<polyline clip-path=\"url(#clip740)\" style=\"stroke:#adb2b7; stroke-linecap:butt; stroke-linejoin:round; stroke-width:4; stroke-opacity:1; fill:none\" points=\"\n",
       "  149.191,327.577 168.089,327.577 \n",
       "  \"/>\n",
       "<polyline clip-path=\"url(#clip740)\" style=\"stroke:#adb2b7; stroke-linecap:butt; stroke-linejoin:round; stroke-width:4; stroke-opacity:1; fill:none\" points=\"\n",
       "  149.191,87.9763 168.089,87.9763 \n",
       "  \"/>\n",
       "<path clip-path=\"url(#clip740)\" d=\"M52.4736 1286.43 L82.1494 1286.43 L82.1494 1290.37 L52.4736 1290.37 L52.4736 1286.43 Z\" fill=\"#ffffff\" fill-rule=\"evenodd\" fill-opacity=\"1\" /><path clip-path=\"url(#clip740)\" d=\"M92.2882 1268.7 L110.645 1268.7 L110.645 1272.64 L96.5706 1272.64 L96.5706 1281.11 Q97.5891 1280.76 98.6076 1280.6 Q99.6261 1280.41 100.645 1280.41 Q106.432 1280.41 109.811 1283.59 Q113.191 1286.76 113.191 1292.17 Q113.191 1297.75 109.719 1300.85 Q106.246 1303.93 99.927 1303.93 Q97.7511 1303.93 95.4826 1303.56 Q93.2373 1303.19 90.8299 1302.45 L90.8299 1297.75 Q92.9132 1298.89 95.1354 1299.44 Q97.3576 1300 99.8345 1300 Q103.839 1300 106.177 1297.89 Q108.515 1295.78 108.515 1292.17 Q108.515 1288.56 106.177 1286.46 Q103.839 1284.35 99.8345 1284.35 Q97.9595 1284.35 96.0845 1284.77 Q94.2326 1285.18 92.2882 1286.06 L92.2882 1268.7 Z\" fill=\"#ffffff\" fill-rule=\"evenodd\" fill-opacity=\"1\" /><path clip-path=\"url(#clip740)\" d=\"M50.9921 1046.83 L80.6679 1046.83 L80.6679 1050.77 L50.9921 1050.77 L50.9921 1046.83 Z\" fill=\"#ffffff\" fill-rule=\"evenodd\" fill-opacity=\"1\" /><path clip-path=\"url(#clip740)\" d=\"M103.608 1033.17 L91.8021 1051.62 L103.608 1051.62 L103.608 1033.17 M102.381 1029.1 L108.26 1029.1 L108.26 1051.62 L113.191 1051.62 L113.191 1055.51 L108.26 1055.51 L108.26 1063.66 L103.608 1063.66 L103.608 1055.51 L88.0058 1055.51 L88.0058 1051 L102.381 1029.1 Z\" fill=\"#ffffff\" fill-rule=\"evenodd\" fill-opacity=\"1\" /><path clip-path=\"url(#clip740)\" d=\"M52.1264 807.231 L81.8021 807.231 L81.8021 811.166 L52.1264 811.166 L52.1264 807.231 Z\" fill=\"#ffffff\" fill-rule=\"evenodd\" fill-opacity=\"1\" /><path clip-path=\"url(#clip740)\" d=\"M106.061 805.425 Q109.418 806.143 111.293 808.411 Q113.191 810.68 113.191 814.013 Q113.191 819.129 109.672 821.93 Q106.154 824.731 99.6724 824.731 Q97.4965 824.731 95.1817 824.291 Q92.89 823.874 90.4364 823.018 L90.4364 818.504 Q92.3808 819.638 94.6956 820.217 Q97.0104 820.796 99.5335 820.796 Q103.932 820.796 106.223 819.06 Q108.538 817.323 108.538 814.013 Q108.538 810.958 106.385 809.245 Q104.256 807.509 100.436 807.509 L96.4085 807.509 L96.4085 803.666 L100.621 803.666 Q104.071 803.666 105.899 802.3 Q107.728 800.911 107.728 798.319 Q107.728 795.657 105.83 794.245 Q103.955 792.81 100.436 792.81 Q98.515 792.81 96.316 793.226 Q94.1169 793.643 91.478 794.523 L91.478 790.356 Q94.14 789.615 96.4548 789.245 Q98.7928 788.874 100.853 788.874 Q106.177 788.874 109.279 791.305 Q112.381 793.712 112.381 797.833 Q112.381 800.703 110.737 802.694 Q109.094 804.661 106.061 805.425 Z\" fill=\"#ffffff\" fill-rule=\"evenodd\" fill-opacity=\"1\" /><path clip-path=\"url(#clip740)\" d=\"M53.0754 567.63 L82.7512 567.63 L82.7512 571.565 L53.0754 571.565 L53.0754 567.63 Z\" fill=\"#ffffff\" fill-rule=\"evenodd\" fill-opacity=\"1\" /><path clip-path=\"url(#clip740)\" d=\"M96.8715 580.523 L113.191 580.523 L113.191 584.458 L91.2465 584.458 L91.2465 580.523 Q93.9086 577.769 98.4919 573.139 Q103.098 568.486 104.279 567.144 Q106.524 564.621 107.404 562.884 Q108.307 561.125 108.307 559.435 Q108.307 556.681 106.362 554.945 Q104.441 553.209 101.339 553.209 Q99.14 553.209 96.6863 553.972 Q94.2558 554.736 91.478 556.287 L91.478 551.565 Q94.3021 550.431 96.7558 549.852 Q99.2095 549.273 101.246 549.273 Q106.617 549.273 109.811 551.959 Q113.006 554.644 113.006 559.134 Q113.006 561.264 112.196 563.185 Q111.408 565.084 109.302 567.676 Q108.723 568.347 105.621 571.565 Q102.52 574.759 96.8715 580.523 Z\" fill=\"#ffffff\" fill-rule=\"evenodd\" fill-opacity=\"1\" /><path clip-path=\"url(#clip740)\" d=\"M52.7051 328.029 L82.3808 328.029 L82.3808 331.964 L52.7051 331.964 L52.7051 328.029 Z\" fill=\"#ffffff\" fill-rule=\"evenodd\" fill-opacity=\"1\" /><path clip-path=\"url(#clip740)\" d=\"M93.2836 340.922 L100.922 340.922 L100.922 314.557 L92.6123 316.223 L92.6123 311.964 L100.876 310.297 L105.552 310.297 L105.552 340.922 L113.191 340.922 L113.191 344.857 L93.2836 344.857 L93.2836 340.922 Z\" fill=\"#ffffff\" fill-rule=\"evenodd\" fill-opacity=\"1\" /><path clip-path=\"url(#clip740)\" d=\"M101.246 73.775 Q97.6354 73.775 95.8067 77.3398 Q94.0012 80.8814 94.0012 88.011 Q94.0012 95.1174 95.8067 98.6822 Q97.6354 102.224 101.246 102.224 Q104.881 102.224 106.686 98.6822 Q108.515 95.1174 108.515 88.011 Q108.515 80.8814 106.686 77.3398 Q104.881 73.775 101.246 73.775 M101.246 70.0713 Q107.057 70.0713 110.112 74.6777 Q113.191 79.261 113.191 88.011 Q113.191 96.7378 110.112 101.344 Q107.057 105.928 101.246 105.928 Q95.4363 105.928 92.3576 101.344 Q89.3021 96.7378 89.3021 88.011 Q89.3021 79.261 92.3576 74.6777 Q95.4363 70.0713 101.246 70.0713 Z\" fill=\"#ffffff\" fill-rule=\"evenodd\" fill-opacity=\"1\" /><polyline clip-path=\"url(#clip742)\" style=\"stroke:#fe4365; stroke-linecap:butt; stroke-linejoin:round; stroke-width:4; stroke-opacity:1; fill:none\" points=\"\n",
       "  211.556,1445.72 253.981,1388.67 296.406,1333.9 338.832,1281.42 381.257,1231.22 423.682,1183.3 466.107,1137.66 508.532,1094.3 550.958,1053.23 593.383,1014.43 \n",
       "  635.808,977.923 678.233,943.694 720.658,911.748 763.084,882.083 805.509,854.7 847.934,829.599 890.359,806.779 932.784,786.242 975.21,767.987 1017.63,752.014 \n",
       "  1060.06,738.322 1102.49,726.912 1144.91,717.785 1187.34,710.939 1229.76,706.375 1272.19,704.093 1314.61,704.093 1357.04,706.375 1399.46,710.939 1441.89,717.785 \n",
       "  1484.31,726.912 1526.74,738.322 1569.16,752.014 1611.59,767.987 1654.01,786.242 1696.44,806.779 1738.86,829.599 1781.29,854.7 1823.71,882.083 1866.14,911.748 \n",
       "  1908.56,943.694 1950.99,977.923 1993.41,1014.43 2035.84,1053.23 2078.26,1094.3 2120.69,1137.66 2163.12,1183.3 2205.54,1231.22 2247.97,1281.42 2290.39,1333.9 \n",
       "  \n",
       "  \"/>\n",
       "<polyline clip-path=\"url(#clip742)\" style=\"stroke:#eca25c; stroke-linecap:butt; stroke-linejoin:round; stroke-width:4; stroke-opacity:1; fill:none\" points=\"\n",
       "  -2054.37,87.9763 4556.32,87.9763 \n",
       "  \"/>\n",
       "<path clip-path=\"url(#clip740)\" d=\"\n",
       "M1982.03 198.898 L2279.3 198.898 L2279.3 95.2176 L1982.03 95.2176  Z\n",
       "  \" fill=\"#363d46\" fill-rule=\"evenodd\" fill-opacity=\"1\"/>\n",
       "<polyline clip-path=\"url(#clip740)\" style=\"stroke:#ffffff; stroke-linecap:butt; stroke-linejoin:round; stroke-width:4; stroke-opacity:1; fill:none\" points=\"\n",
       "  1982.03,198.898 2279.3,198.898 2279.3,95.2176 1982.03,95.2176 1982.03,198.898 \n",
       "  \"/>\n",
       "<polyline clip-path=\"url(#clip740)\" style=\"stroke:#fe4365; stroke-linecap:butt; stroke-linejoin:round; stroke-width:4; stroke-opacity:1; fill:none\" points=\"\n",
       "  2006.52,147.058 2153.42,147.058 \n",
       "  \"/>\n",
       "<path clip-path=\"url(#clip740)\" d=\"M2191.75 166.745 Q2189.94 171.375 2188.23 172.787 Q2186.52 174.199 2183.65 174.199 L2180.24 174.199 L2180.24 170.634 L2182.74 170.634 Q2184.5 170.634 2185.47 169.8 Q2186.45 168.967 2187.63 165.865 L2188.39 163.921 L2177.91 138.412 L2182.42 138.412 L2190.52 158.689 L2198.62 138.412 L2203.14 138.412 L2191.75 166.745 Z\" fill=\"#ffffff\" fill-rule=\"evenodd\" fill-opacity=\"1\" /><path clip-path=\"url(#clip740)\" d=\"M2210.43 160.402 L2218.07 160.402 L2218.07 134.037 L2209.76 135.703 L2209.76 131.444 L2218.02 129.778 L2222.7 129.778 L2222.7 160.402 L2230.34 160.402 L2230.34 164.338 L2210.43 164.338 L2210.43 160.402 Z\" fill=\"#ffffff\" fill-rule=\"evenodd\" fill-opacity=\"1\" /></svg>\n"
      ]
     },
     "execution_count": 9,
     "metadata": {},
     "output_type": "execute_result"
    }
   ],
   "source": [
    "T(t) = coeffs_tempxtime[3]t^2 + coeffs_tempxtime[2]t + coeffs_tempxtime[1] # Funcao temperatura\n",
    "f(x) = T(x) - 37 # Funcao que queremos encontrar a raiz\n",
    "\n",
    "# Plot da funcao\n",
    "x = range(12.5, 16, length=50)\n",
    "plot(x, f.(x))\n",
    "plot!([0], seriestype=:hline, label=\"\")"
   ]
  },
  {
   "cell_type": "markdown",
   "metadata": {},
   "source": [
    "No entanto temos um problema. Ao analisarmos o modelo, é possível perceber que essa função não tem raiz, ou seja, a temperatura do corpo nunca chegou a 37. Para isso há 2 opções:\n",
    "1. O nosso modelo está falho\n",
    "2. É um corpo falso que foi aquecido com o intuito de incriminar alguém\n",
    "\n",
    "Vamos deixar o segundo caso para a polícia e aceitarmos o primeiro, que é a possibilidade do nosso modelo não representar bem a função que queremos. O problema do nosso modelo é que estamos aproximando o resfriamento do corpo usando polinômios, mas na realidade o que melhor aproxima é uma exponencial.\n",
    "\n",
    "Podemos aceitar esse modelo e usar a aproximação de cerca de $34°$ para a temperatura de um corpo vivo, ou podemos modificar nosso modelo. Um polinômio contínuo a princípio terá um valor para todo $x$. Nosso polinômio nos dá a temperatura para um certo tempo. Se fizermos ao contrário, um tempo para uma certa temperatura, teremos assim um tempo correspondente a $37°$. \n",
    "\n",
    "Um modelo dessa forma poderia dar problema se o corpo ainda estivesse vivo, pois pela definição de função, seria o equivalente a cada temperatura ter acontecido em um único momento, impedindo de um corpo ter tido a mesma temperatura em momento diferentes. Mas no caso do resfriamento de um cadáver, isso não é um problema, pois como a temperatura só cai, não haverá repetições"
   ]
  },
  {
   "cell_type": "code",
   "execution_count": 10,
   "metadata": {},
   "outputs": [
    {
     "data": {
      "text/plain": [
       "3-element Vector{Float64}:\n",
       "  7.916666666666675\n",
       "  0.8694444444444441\n",
       " -0.01944444444444444"
      ]
     },
     "execution_count": 10,
     "metadata": {},
     "output_type": "execute_result"
    }
   ],
   "source": [
    "coeffs_timextemp = interpolation(temperatures, time)"
   ]
  },
  {
   "cell_type": "code",
   "execution_count": 11,
   "metadata": {},
   "outputs": [
    {
     "data": {
      "image/svg+xml": [
       "<?xml version=\"1.0\" encoding=\"utf-8\"?>\n",
       "<svg xmlns=\"http://www.w3.org/2000/svg\" xmlns:xlink=\"http://www.w3.org/1999/xlink\" width=\"600\" height=\"400\" viewBox=\"0 0 2400 1600\">\n",
       "<defs>\n",
       "  <clipPath id=\"clip780\">\n",
       "    <rect x=\"0\" y=\"0\" width=\"2400\" height=\"1600\"/>\n",
       "  </clipPath>\n",
       "</defs>\n",
       "<path clip-path=\"url(#clip780)\" d=\"\n",
       "M0 1600 L2400 1600 L2400 0 L0 0  Z\n",
       "  \" fill=\"#363d46\" fill-rule=\"evenodd\" fill-opacity=\"1\"/>\n",
       "<defs>\n",
       "  <clipPath id=\"clip781\">\n",
       "    <rect x=\"480\" y=\"0\" width=\"1681\" height=\"1600\"/>\n",
       "  </clipPath>\n",
       "</defs>\n",
       "<path clip-path=\"url(#clip780)\" d=\"\n",
       "M184.191 1486.45 L2352.76 1486.45 L2352.76 47.2441 L184.191 47.2441  Z\n",
       "  \" fill=\"#30343b\" fill-rule=\"evenodd\" fill-opacity=\"1\"/>\n",
       "<defs>\n",
       "  <clipPath id=\"clip782\">\n",
       "    <rect x=\"184\" y=\"47\" width=\"2170\" height=\"1440\"/>\n",
       "  </clipPath>\n",
       "</defs>\n",
       "<polyline clip-path=\"url(#clip782)\" style=\"stroke:#adb2b7; stroke-linecap:butt; stroke-linejoin:round; stroke-width:2; stroke-opacity:0.1; fill:none\" points=\"\n",
       "  245.565,1486.45 245.565,47.2441 \n",
       "  \"/>\n",
       "<polyline clip-path=\"url(#clip782)\" style=\"stroke:#adb2b7; stroke-linecap:butt; stroke-linejoin:round; stroke-width:2; stroke-opacity:0.1; fill:none\" points=\"\n",
       "  654.728,1486.45 654.728,47.2441 \n",
       "  \"/>\n",
       "<polyline clip-path=\"url(#clip782)\" style=\"stroke:#adb2b7; stroke-linecap:butt; stroke-linejoin:round; stroke-width:2; stroke-opacity:0.1; fill:none\" points=\"\n",
       "  1063.89,1486.45 1063.89,47.2441 \n",
       "  \"/>\n",
       "<polyline clip-path=\"url(#clip782)\" style=\"stroke:#adb2b7; stroke-linecap:butt; stroke-linejoin:round; stroke-width:2; stroke-opacity:0.1; fill:none\" points=\"\n",
       "  1473.05,1486.45 1473.05,47.2441 \n",
       "  \"/>\n",
       "<polyline clip-path=\"url(#clip782)\" style=\"stroke:#adb2b7; stroke-linecap:butt; stroke-linejoin:round; stroke-width:2; stroke-opacity:0.1; fill:none\" points=\"\n",
       "  1882.22,1486.45 1882.22,47.2441 \n",
       "  \"/>\n",
       "<polyline clip-path=\"url(#clip782)\" style=\"stroke:#adb2b7; stroke-linecap:butt; stroke-linejoin:round; stroke-width:2; stroke-opacity:0.1; fill:none\" points=\"\n",
       "  2291.38,1486.45 2291.38,47.2441 \n",
       "  \"/>\n",
       "<polyline clip-path=\"url(#clip780)\" style=\"stroke:#adb2b7; stroke-linecap:butt; stroke-linejoin:round; stroke-width:4; stroke-opacity:1; fill:none\" points=\"\n",
       "  184.191,1486.45 2352.76,1486.45 \n",
       "  \"/>\n",
       "<polyline clip-path=\"url(#clip780)\" style=\"stroke:#adb2b7; stroke-linecap:butt; stroke-linejoin:round; stroke-width:4; stroke-opacity:1; fill:none\" points=\"\n",
       "  245.565,1486.45 245.565,1467.55 \n",
       "  \"/>\n",
       "<polyline clip-path=\"url(#clip780)\" style=\"stroke:#adb2b7; stroke-linecap:butt; stroke-linejoin:round; stroke-width:4; stroke-opacity:1; fill:none\" points=\"\n",
       "  654.728,1486.45 654.728,1467.55 \n",
       "  \"/>\n",
       "<polyline clip-path=\"url(#clip780)\" style=\"stroke:#adb2b7; stroke-linecap:butt; stroke-linejoin:round; stroke-width:4; stroke-opacity:1; fill:none\" points=\"\n",
       "  1063.89,1486.45 1063.89,1467.55 \n",
       "  \"/>\n",
       "<polyline clip-path=\"url(#clip780)\" style=\"stroke:#adb2b7; stroke-linecap:butt; stroke-linejoin:round; stroke-width:4; stroke-opacity:1; fill:none\" points=\"\n",
       "  1473.05,1486.45 1473.05,1467.55 \n",
       "  \"/>\n",
       "<polyline clip-path=\"url(#clip780)\" style=\"stroke:#adb2b7; stroke-linecap:butt; stroke-linejoin:round; stroke-width:4; stroke-opacity:1; fill:none\" points=\"\n",
       "  1882.22,1486.45 1882.22,1467.55 \n",
       "  \"/>\n",
       "<polyline clip-path=\"url(#clip780)\" style=\"stroke:#adb2b7; stroke-linecap:butt; stroke-linejoin:round; stroke-width:4; stroke-opacity:1; fill:none\" points=\"\n",
       "  2291.38,1486.45 2291.38,1467.55 \n",
       "  \"/>\n",
       "<path clip-path=\"url(#clip780)\" d=\"M234.732 1530.21 Q238.088 1530.93 239.963 1533.2 Q241.861 1535.47 241.861 1538.8 Q241.861 1543.92 238.343 1546.72 Q234.824 1549.52 228.343 1549.52 Q226.167 1549.52 223.852 1549.08 Q221.561 1548.66 219.107 1547.81 L219.107 1543.29 Q221.051 1544.43 223.366 1545.01 Q225.681 1545.58 228.204 1545.58 Q232.602 1545.58 234.894 1543.85 Q237.209 1542.11 237.209 1538.8 Q237.209 1535.75 235.056 1534.03 Q232.926 1532.3 229.107 1532.3 L225.079 1532.3 L225.079 1528.45 L229.292 1528.45 Q232.741 1528.45 234.57 1527.09 Q236.399 1525.7 236.399 1523.11 Q236.399 1520.45 234.5 1519.03 Q232.625 1517.6 229.107 1517.6 Q227.186 1517.6 224.987 1518.01 Q222.788 1518.43 220.149 1519.31 L220.149 1515.14 Q222.811 1514.4 225.125 1514.03 Q227.463 1513.66 229.524 1513.66 Q234.848 1513.66 237.949 1516.09 Q241.051 1518.5 241.051 1522.62 Q241.051 1525.49 239.408 1527.48 Q237.764 1529.45 234.732 1530.21 Z\" fill=\"#ffffff\" fill-rule=\"evenodd\" fill-opacity=\"1\" /><path clip-path=\"url(#clip780)\" d=\"M264.894 1530.21 Q268.25 1530.93 270.125 1533.2 Q272.023 1535.47 272.023 1538.8 Q272.023 1543.92 268.505 1546.72 Q264.986 1549.52 258.505 1549.52 Q256.329 1549.52 254.014 1549.08 Q251.723 1548.66 249.269 1547.81 L249.269 1543.29 Q251.213 1544.43 253.528 1545.01 Q255.843 1545.58 258.366 1545.58 Q262.764 1545.58 265.056 1543.85 Q267.371 1542.11 267.371 1538.8 Q267.371 1535.75 265.218 1534.03 Q263.088 1532.3 259.269 1532.3 L255.241 1532.3 L255.241 1528.45 L259.454 1528.45 Q262.903 1528.45 264.732 1527.09 Q266.56 1525.7 266.56 1523.11 Q266.56 1520.45 264.662 1519.03 Q262.787 1517.6 259.269 1517.6 Q257.348 1517.6 255.148 1518.01 Q252.949 1518.43 250.311 1519.31 L250.311 1515.14 Q252.973 1514.4 255.287 1514.03 Q257.625 1513.66 259.685 1513.66 Q265.01 1513.66 268.111 1516.09 Q271.213 1518.5 271.213 1522.62 Q271.213 1525.49 269.57 1527.48 Q267.926 1529.45 264.894 1530.21 Z\" fill=\"#ffffff\" fill-rule=\"evenodd\" fill-opacity=\"1\" /><path clip-path=\"url(#clip780)\" d=\"M643.328 1530.21 Q646.684 1530.93 648.559 1533.2 Q650.458 1535.47 650.458 1538.8 Q650.458 1543.92 646.939 1546.72 Q643.421 1549.52 636.939 1549.52 Q634.763 1549.52 632.448 1549.08 Q630.157 1548.66 627.703 1547.81 L627.703 1543.29 Q629.648 1544.43 631.962 1545.01 Q634.277 1545.58 636.8 1545.58 Q641.198 1545.58 643.49 1543.85 Q645.805 1542.11 645.805 1538.8 Q645.805 1535.75 643.652 1534.03 Q641.522 1532.3 637.703 1532.3 L633.675 1532.3 L633.675 1528.45 L637.888 1528.45 Q641.337 1528.45 643.166 1527.09 Q644.995 1525.7 644.995 1523.11 Q644.995 1520.45 643.097 1519.03 Q641.222 1517.6 637.703 1517.6 Q635.782 1517.6 633.583 1518.01 Q631.384 1518.43 628.745 1519.31 L628.745 1515.14 Q631.407 1514.4 633.722 1514.03 Q636.06 1513.66 638.12 1513.66 Q643.444 1513.66 646.546 1516.09 Q649.647 1518.5 649.647 1522.62 Q649.647 1525.49 648.004 1527.48 Q646.36 1529.45 643.328 1530.21 Z\" fill=\"#ffffff\" fill-rule=\"evenodd\" fill-opacity=\"1\" /><path clip-path=\"url(#clip780)\" d=\"M672.17 1518.36 L660.365 1536.81 L672.17 1536.81 L672.17 1518.36 M670.944 1514.29 L676.823 1514.29 L676.823 1536.81 L681.754 1536.81 L681.754 1540.7 L676.823 1540.7 L676.823 1548.85 L672.17 1548.85 L672.17 1540.7 L656.569 1540.7 L656.569 1536.19 L670.944 1514.29 Z\" fill=\"#ffffff\" fill-rule=\"evenodd\" fill-opacity=\"1\" /><path clip-path=\"url(#clip780)\" d=\"M1053.23 1530.21 Q1056.59 1530.93 1058.46 1533.2 Q1060.36 1535.47 1060.36 1538.8 Q1060.36 1543.92 1056.84 1546.72 Q1053.32 1549.52 1046.84 1549.52 Q1044.67 1549.52 1042.35 1549.08 Q1040.06 1548.66 1037.61 1547.81 L1037.61 1543.29 Q1039.55 1544.43 1041.87 1545.01 Q1044.18 1545.58 1046.7 1545.58 Q1051.1 1545.58 1053.39 1543.85 Q1055.71 1542.11 1055.71 1538.8 Q1055.71 1535.75 1053.56 1534.03 Q1051.43 1532.3 1047.61 1532.3 L1043.58 1532.3 L1043.58 1528.45 L1047.79 1528.45 Q1051.24 1528.45 1053.07 1527.09 Q1054.9 1525.7 1054.9 1523.11 Q1054.9 1520.45 1053 1519.03 Q1051.13 1517.6 1047.61 1517.6 Q1045.69 1517.6 1043.49 1518.01 Q1041.29 1518.43 1038.65 1519.31 L1038.65 1515.14 Q1041.31 1514.4 1043.63 1514.03 Q1045.96 1513.66 1048.02 1513.66 Q1053.35 1513.66 1056.45 1516.09 Q1059.55 1518.5 1059.55 1522.62 Q1059.55 1525.49 1057.91 1527.48 Q1056.26 1529.45 1053.23 1530.21 Z\" fill=\"#ffffff\" fill-rule=\"evenodd\" fill-opacity=\"1\" /><path clip-path=\"url(#clip780)\" d=\"M1069.27 1514.29 L1087.63 1514.29 L1087.63 1518.22 L1073.56 1518.22 L1073.56 1526.7 Q1074.57 1526.35 1075.59 1526.19 Q1076.61 1526 1077.63 1526 Q1083.42 1526 1086.8 1529.17 Q1090.18 1532.34 1090.18 1537.76 Q1090.18 1543.34 1086.7 1546.44 Q1083.23 1549.52 1076.91 1549.52 Q1074.74 1549.52 1072.47 1549.15 Q1070.22 1548.78 1067.82 1548.04 L1067.82 1543.34 Q1069.9 1544.47 1072.12 1545.03 Q1074.34 1545.58 1076.82 1545.58 Q1080.82 1545.58 1083.16 1543.48 Q1085.5 1541.37 1085.5 1537.76 Q1085.5 1534.15 1083.16 1532.04 Q1080.82 1529.94 1076.82 1529.94 Q1074.94 1529.94 1073.07 1530.35 Q1071.22 1530.77 1069.27 1531.65 L1069.27 1514.29 Z\" fill=\"#ffffff\" fill-rule=\"evenodd\" fill-opacity=\"1\" /><path clip-path=\"url(#clip780)\" d=\"M1461.82 1530.21 Q1465.17 1530.93 1467.05 1533.2 Q1468.95 1535.47 1468.95 1538.8 Q1468.95 1543.92 1465.43 1546.72 Q1461.91 1549.52 1455.43 1549.52 Q1453.25 1549.52 1450.94 1549.08 Q1448.65 1548.66 1446.19 1547.81 L1446.19 1543.29 Q1448.14 1544.43 1450.45 1545.01 Q1452.77 1545.58 1455.29 1545.58 Q1459.69 1545.58 1461.98 1543.85 Q1464.29 1542.11 1464.29 1538.8 Q1464.29 1535.75 1462.14 1534.03 Q1460.01 1532.3 1456.19 1532.3 L1452.16 1532.3 L1452.16 1528.45 L1456.38 1528.45 Q1459.83 1528.45 1461.65 1527.09 Q1463.48 1525.7 1463.48 1523.11 Q1463.48 1520.45 1461.59 1519.03 Q1459.71 1517.6 1456.19 1517.6 Q1454.27 1517.6 1452.07 1518.01 Q1449.87 1518.43 1447.23 1519.31 L1447.23 1515.14 Q1449.9 1514.4 1452.21 1514.03 Q1454.55 1513.66 1456.61 1513.66 Q1461.93 1513.66 1465.03 1516.09 Q1468.14 1518.5 1468.14 1522.62 Q1468.14 1525.49 1466.49 1527.48 Q1464.85 1529.45 1461.82 1530.21 Z\" fill=\"#ffffff\" fill-rule=\"evenodd\" fill-opacity=\"1\" /><path clip-path=\"url(#clip780)\" d=\"M1488.39 1529.7 Q1485.24 1529.7 1483.39 1531.86 Q1481.56 1534.01 1481.56 1537.76 Q1481.56 1541.49 1483.39 1543.66 Q1485.24 1545.82 1488.39 1545.82 Q1491.54 1545.82 1493.37 1543.66 Q1495.22 1541.49 1495.22 1537.76 Q1495.22 1534.01 1493.37 1531.86 Q1491.54 1529.7 1488.39 1529.7 M1497.67 1515.05 L1497.67 1519.31 Q1495.91 1518.48 1494.11 1518.04 Q1492.33 1517.6 1490.57 1517.6 Q1485.94 1517.6 1483.48 1520.72 Q1481.05 1523.85 1480.71 1530.17 Q1482.07 1528.15 1484.13 1527.09 Q1486.19 1526 1488.67 1526 Q1493.88 1526 1496.89 1529.17 Q1499.92 1532.32 1499.92 1537.76 Q1499.92 1543.08 1496.77 1546.3 Q1493.62 1549.52 1488.39 1549.52 Q1482.4 1549.52 1479.22 1544.94 Q1476.05 1540.33 1476.05 1531.6 Q1476.05 1523.41 1479.94 1518.55 Q1483.83 1513.66 1490.38 1513.66 Q1492.14 1513.66 1493.92 1514.01 Q1495.73 1514.36 1497.67 1515.05 Z\" fill=\"#ffffff\" fill-rule=\"evenodd\" fill-opacity=\"1\" /><path clip-path=\"url(#clip780)\" d=\"M1871.51 1530.21 Q1874.87 1530.93 1876.74 1533.2 Q1878.64 1535.47 1878.64 1538.8 Q1878.64 1543.92 1875.12 1546.72 Q1871.6 1549.52 1865.12 1549.52 Q1862.95 1549.52 1860.63 1549.08 Q1858.34 1548.66 1855.89 1547.81 L1855.89 1543.29 Q1857.83 1544.43 1860.15 1545.01 Q1862.46 1545.58 1864.98 1545.58 Q1869.38 1545.58 1871.67 1543.85 Q1873.99 1542.11 1873.99 1538.8 Q1873.99 1535.75 1871.84 1534.03 Q1869.71 1532.3 1865.89 1532.3 L1861.86 1532.3 L1861.86 1528.45 L1866.07 1528.45 Q1869.52 1528.45 1871.35 1527.09 Q1873.18 1525.7 1873.18 1523.11 Q1873.18 1520.45 1871.28 1519.03 Q1869.41 1517.6 1865.89 1517.6 Q1863.97 1517.6 1861.77 1518.01 Q1859.57 1518.43 1856.93 1519.31 L1856.93 1515.14 Q1859.59 1514.4 1861.91 1514.03 Q1864.24 1513.66 1866.3 1513.66 Q1871.63 1513.66 1874.73 1516.09 Q1877.83 1518.5 1877.83 1522.62 Q1877.83 1525.49 1876.19 1527.48 Q1874.54 1529.45 1871.51 1530.21 Z\" fill=\"#ffffff\" fill-rule=\"evenodd\" fill-opacity=\"1\" /><path clip-path=\"url(#clip780)\" d=\"M1886.33 1514.29 L1908.55 1514.29 L1908.55 1516.28 L1896 1548.85 L1891.12 1548.85 L1902.92 1518.22 L1886.33 1518.22 L1886.33 1514.29 Z\" fill=\"#ffffff\" fill-rule=\"evenodd\" fill-opacity=\"1\" /><path clip-path=\"url(#clip780)\" d=\"M2280.27 1530.21 Q2283.63 1530.93 2285.5 1533.2 Q2287.4 1535.47 2287.4 1538.8 Q2287.4 1543.92 2283.88 1546.72 Q2280.36 1549.52 2273.88 1549.52 Q2271.71 1549.52 2269.39 1549.08 Q2267.1 1548.66 2264.65 1547.81 L2264.65 1543.29 Q2266.59 1544.43 2268.9 1545.01 Q2271.22 1545.58 2273.74 1545.58 Q2278.14 1545.58 2280.43 1543.85 Q2282.75 1542.11 2282.75 1538.8 Q2282.75 1535.75 2280.59 1534.03 Q2278.46 1532.3 2274.65 1532.3 L2270.62 1532.3 L2270.62 1528.45 L2274.83 1528.45 Q2278.28 1528.45 2280.11 1527.09 Q2281.94 1525.7 2281.94 1523.11 Q2281.94 1520.45 2280.04 1519.03 Q2278.16 1517.6 2274.65 1517.6 Q2272.72 1517.6 2270.53 1518.01 Q2268.33 1518.43 2265.69 1519.31 L2265.69 1515.14 Q2268.35 1514.4 2270.66 1514.03 Q2273 1513.66 2275.06 1513.66 Q2280.39 1513.66 2283.49 1516.09 Q2286.59 1518.5 2286.59 1522.62 Q2286.59 1525.49 2284.95 1527.48 Q2283.3 1529.45 2280.27 1530.21 Z\" fill=\"#ffffff\" fill-rule=\"evenodd\" fill-opacity=\"1\" /><path clip-path=\"url(#clip780)\" d=\"M2306.27 1532.44 Q2302.93 1532.44 2301.01 1534.22 Q2299.11 1536 2299.11 1539.13 Q2299.11 1542.25 2301.01 1544.03 Q2302.93 1545.82 2306.27 1545.82 Q2309.6 1545.82 2311.52 1544.03 Q2313.44 1542.23 2313.44 1539.13 Q2313.44 1536 2311.52 1534.22 Q2309.62 1532.44 2306.27 1532.44 M2301.59 1530.45 Q2298.58 1529.7 2296.89 1527.64 Q2295.22 1525.58 2295.22 1522.62 Q2295.22 1518.48 2298.16 1516.07 Q2301.13 1513.66 2306.27 1513.66 Q2311.43 1513.66 2314.37 1516.07 Q2317.31 1518.48 2317.31 1522.62 Q2317.31 1525.58 2315.62 1527.64 Q2313.95 1529.7 2310.96 1530.45 Q2314.34 1531.23 2316.22 1533.52 Q2318.12 1535.82 2318.12 1539.13 Q2318.12 1544.15 2315.04 1546.83 Q2311.98 1549.52 2306.27 1549.52 Q2300.55 1549.52 2297.47 1546.83 Q2294.41 1544.15 2294.41 1539.13 Q2294.41 1535.82 2296.31 1533.52 Q2298.21 1531.23 2301.59 1530.45 M2299.88 1523.06 Q2299.88 1525.75 2301.54 1527.25 Q2303.23 1528.76 2306.27 1528.76 Q2309.27 1528.76 2310.96 1527.25 Q2312.68 1525.75 2312.68 1523.06 Q2312.68 1520.38 2310.96 1518.87 Q2309.27 1517.37 2306.27 1517.37 Q2303.23 1517.37 2301.54 1518.87 Q2299.88 1520.38 2299.88 1523.06 Z\" fill=\"#ffffff\" fill-rule=\"evenodd\" fill-opacity=\"1\" /><polyline clip-path=\"url(#clip782)\" style=\"stroke:#adb2b7; stroke-linecap:butt; stroke-linejoin:round; stroke-width:2; stroke-opacity:0.1; fill:none\" points=\"\n",
       "  184.191,1380.78 2352.76,1380.78 \n",
       "  \"/>\n",
       "<polyline clip-path=\"url(#clip782)\" style=\"stroke:#adb2b7; stroke-linecap:butt; stroke-linejoin:round; stroke-width:2; stroke-opacity:0.1; fill:none\" points=\"\n",
       "  184.191,1115.14 2352.76,1115.14 \n",
       "  \"/>\n",
       "<polyline clip-path=\"url(#clip782)\" style=\"stroke:#adb2b7; stroke-linecap:butt; stroke-linejoin:round; stroke-width:2; stroke-opacity:0.1; fill:none\" points=\"\n",
       "  184.191,849.491 2352.76,849.491 \n",
       "  \"/>\n",
       "<polyline clip-path=\"url(#clip782)\" style=\"stroke:#adb2b7; stroke-linecap:butt; stroke-linejoin:round; stroke-width:2; stroke-opacity:0.1; fill:none\" points=\"\n",
       "  184.191,583.846 2352.76,583.846 \n",
       "  \"/>\n",
       "<polyline clip-path=\"url(#clip782)\" style=\"stroke:#adb2b7; stroke-linecap:butt; stroke-linejoin:round; stroke-width:2; stroke-opacity:0.1; fill:none\" points=\"\n",
       "  184.191,318.202 2352.76,318.202 \n",
       "  \"/>\n",
       "<polyline clip-path=\"url(#clip782)\" style=\"stroke:#adb2b7; stroke-linecap:butt; stroke-linejoin:round; stroke-width:2; stroke-opacity:0.1; fill:none\" points=\"\n",
       "  184.191,52.557 2352.76,52.557 \n",
       "  \"/>\n",
       "<polyline clip-path=\"url(#clip780)\" style=\"stroke:#adb2b7; stroke-linecap:butt; stroke-linejoin:round; stroke-width:4; stroke-opacity:1; fill:none\" points=\"\n",
       "  184.191,1486.45 184.191,47.2441 \n",
       "  \"/>\n",
       "<polyline clip-path=\"url(#clip780)\" style=\"stroke:#adb2b7; stroke-linecap:butt; stroke-linejoin:round; stroke-width:4; stroke-opacity:1; fill:none\" points=\"\n",
       "  184.191,1380.78 203.088,1380.78 \n",
       "  \"/>\n",
       "<polyline clip-path=\"url(#clip780)\" style=\"stroke:#adb2b7; stroke-linecap:butt; stroke-linejoin:round; stroke-width:4; stroke-opacity:1; fill:none\" points=\"\n",
       "  184.191,1115.14 203.088,1115.14 \n",
       "  \"/>\n",
       "<polyline clip-path=\"url(#clip780)\" style=\"stroke:#adb2b7; stroke-linecap:butt; stroke-linejoin:round; stroke-width:4; stroke-opacity:1; fill:none\" points=\"\n",
       "  184.191,849.491 203.088,849.491 \n",
       "  \"/>\n",
       "<polyline clip-path=\"url(#clip780)\" style=\"stroke:#adb2b7; stroke-linecap:butt; stroke-linejoin:round; stroke-width:4; stroke-opacity:1; fill:none\" points=\"\n",
       "  184.191,583.846 203.088,583.846 \n",
       "  \"/>\n",
       "<polyline clip-path=\"url(#clip780)\" style=\"stroke:#adb2b7; stroke-linecap:butt; stroke-linejoin:round; stroke-width:4; stroke-opacity:1; fill:none\" points=\"\n",
       "  184.191,318.202 203.088,318.202 \n",
       "  \"/>\n",
       "<polyline clip-path=\"url(#clip780)\" style=\"stroke:#adb2b7; stroke-linecap:butt; stroke-linejoin:round; stroke-width:4; stroke-opacity:1; fill:none\" points=\"\n",
       "  184.191,52.557 203.088,52.557 \n",
       "  \"/>\n",
       "<path clip-path=\"url(#clip780)\" d=\"M51.6634 1394.13 L59.3023 1394.13 L59.3023 1367.76 L50.9921 1369.43 L50.9921 1365.17 L59.256 1363.5 L63.9319 1363.5 L63.9319 1394.13 L71.5707 1394.13 L71.5707 1398.06 L51.6634 1398.06 L51.6634 1394.13 Z\" fill=\"#ffffff\" fill-rule=\"evenodd\" fill-opacity=\"1\" /><path clip-path=\"url(#clip780)\" d=\"M95.1817 1379.43 Q98.5382 1380.14 100.413 1382.41 Q102.311 1384.68 102.311 1388.01 Q102.311 1393.13 98.7928 1395.93 Q95.2743 1398.73 88.7928 1398.73 Q86.6169 1398.73 84.3021 1398.29 Q82.0105 1397.88 79.5568 1397.02 L79.5568 1392.5 Q81.5012 1393.64 83.816 1394.22 Q86.1308 1394.8 88.654 1394.8 Q93.0521 1394.8 95.3437 1393.06 Q97.6585 1391.32 97.6585 1388.01 Q97.6585 1384.96 95.5058 1383.25 Q93.3762 1381.51 89.5567 1381.51 L85.529 1381.51 L85.529 1377.67 L89.7419 1377.67 Q93.191 1377.67 95.0197 1376.3 Q96.8484 1374.91 96.8484 1372.32 Q96.8484 1369.66 94.9502 1368.25 Q93.0752 1366.81 89.5567 1366.81 Q87.6354 1366.81 85.4364 1367.23 Q83.2373 1367.64 80.5984 1368.52 L80.5984 1364.36 Q83.2605 1363.62 85.5753 1363.25 Q87.9132 1362.88 89.9734 1362.88 Q95.2974 1362.88 98.3993 1365.31 Q101.501 1367.71 101.501 1371.83 Q101.501 1374.7 99.8576 1376.69 Q98.2141 1378.66 95.1817 1379.43 Z\" fill=\"#ffffff\" fill-rule=\"evenodd\" fill-opacity=\"1\" /><path clip-path=\"url(#clip780)\" d=\"M111.177 1392.18 L116.061 1392.18 L116.061 1398.06 L111.177 1398.06 L111.177 1392.18 Z\" fill=\"#ffffff\" fill-rule=\"evenodd\" fill-opacity=\"1\" /><path clip-path=\"url(#clip780)\" d=\"M136.246 1366.58 Q132.635 1366.58 130.807 1370.14 Q129.001 1373.69 129.001 1380.82 Q129.001 1387.92 130.807 1391.49 Q132.635 1395.03 136.246 1395.03 Q139.881 1395.03 141.686 1391.49 Q143.515 1387.92 143.515 1380.82 Q143.515 1373.69 141.686 1370.14 Q139.881 1366.58 136.246 1366.58 M136.246 1362.88 Q142.056 1362.88 145.112 1367.48 Q148.191 1372.07 148.191 1380.82 Q148.191 1389.54 145.112 1394.15 Q142.056 1398.73 136.246 1398.73 Q130.436 1398.73 127.357 1394.15 Q124.302 1389.54 124.302 1380.82 Q124.302 1372.07 127.357 1367.48 Q130.436 1362.88 136.246 1362.88 Z\" fill=\"#ffffff\" fill-rule=\"evenodd\" fill-opacity=\"1\" /><path clip-path=\"url(#clip780)\" d=\"M52.6588 1128.48 L60.2976 1128.48 L60.2976 1102.11 L51.9875 1103.78 L51.9875 1099.52 L60.2513 1097.86 L64.9272 1097.86 L64.9272 1128.48 L72.5661 1128.48 L72.5661 1132.42 L52.6588 1132.42 L52.6588 1128.48 Z\" fill=\"#ffffff\" fill-rule=\"evenodd\" fill-opacity=\"1\" /><path clip-path=\"url(#clip780)\" d=\"M96.1771 1113.78 Q99.5335 1114.5 101.409 1116.77 Q103.307 1119.04 103.307 1122.37 Q103.307 1127.49 99.7882 1130.29 Q96.2697 1133.09 89.7882 1133.09 Q87.6123 1133.09 85.2975 1132.65 Q83.0058 1132.23 80.5522 1131.37 L80.5522 1126.86 Q82.4966 1127.99 84.8114 1128.57 Q87.1262 1129.15 89.6493 1129.15 Q94.0475 1129.15 96.3391 1127.42 Q98.6539 1125.68 98.6539 1122.37 Q98.6539 1119.31 96.5011 1117.6 Q94.3715 1115.86 90.5521 1115.86 L86.5243 1115.86 L86.5243 1112.02 L90.7373 1112.02 Q94.1863 1112.02 96.015 1110.66 Q97.8437 1109.27 97.8437 1106.68 Q97.8437 1104.01 95.9456 1102.6 Q94.0706 1101.17 90.5521 1101.17 Q88.6308 1101.17 86.4318 1101.58 Q84.2327 1102 81.5938 1102.88 L81.5938 1098.71 Q84.2558 1097.97 86.5706 1097.6 Q88.9086 1097.23 90.9688 1097.23 Q96.2928 1097.23 99.3946 1099.66 Q102.496 1102.07 102.496 1106.19 Q102.496 1109.06 100.853 1111.05 Q99.2095 1113.02 96.1771 1113.78 Z\" fill=\"#ffffff\" fill-rule=\"evenodd\" fill-opacity=\"1\" /><path clip-path=\"url(#clip780)\" d=\"M112.172 1126.54 L117.057 1126.54 L117.057 1132.42 L112.172 1132.42 L112.172 1126.54 Z\" fill=\"#ffffff\" fill-rule=\"evenodd\" fill-opacity=\"1\" /><path clip-path=\"url(#clip780)\" d=\"M127.288 1097.86 L145.644 1097.86 L145.644 1101.79 L131.57 1101.79 L131.57 1110.26 Q132.589 1109.92 133.607 1109.75 Q134.626 1109.57 135.644 1109.57 Q141.431 1109.57 144.811 1112.74 Q148.191 1115.91 148.191 1121.33 Q148.191 1126.91 144.718 1130.01 Q141.246 1133.09 134.927 1133.09 Q132.751 1133.09 130.482 1132.72 Q128.237 1132.35 125.83 1131.61 L125.83 1126.91 Q127.913 1128.04 130.135 1128.6 Q132.357 1129.15 134.834 1129.15 Q138.839 1129.15 141.177 1127.05 Q143.515 1124.94 143.515 1121.33 Q143.515 1117.72 141.177 1115.61 Q138.839 1113.5 134.834 1113.5 Q132.959 1113.5 131.084 1113.92 Q129.232 1114.34 127.288 1115.22 L127.288 1097.86 Z\" fill=\"#ffffff\" fill-rule=\"evenodd\" fill-opacity=\"1\" /><path clip-path=\"url(#clip780)\" d=\"M51.6634 862.836 L59.3023 862.836 L59.3023 836.47 L50.9921 838.137 L50.9921 833.878 L59.256 832.211 L63.9319 832.211 L63.9319 862.836 L71.5707 862.836 L71.5707 866.771 L51.6634 866.771 L51.6634 862.836 Z\" fill=\"#ffffff\" fill-rule=\"evenodd\" fill-opacity=\"1\" /><path clip-path=\"url(#clip780)\" d=\"M93.8623 836.285 L82.0568 854.734 L93.8623 854.734 L93.8623 836.285 M92.6354 832.211 L98.515 832.211 L98.515 854.734 L103.446 854.734 L103.446 858.623 L98.515 858.623 L98.515 866.771 L93.8623 866.771 L93.8623 858.623 L78.2605 858.623 L78.2605 854.109 L92.6354 832.211 Z\" fill=\"#ffffff\" fill-rule=\"evenodd\" fill-opacity=\"1\" /><path clip-path=\"url(#clip780)\" d=\"M111.177 860.891 L116.061 860.891 L116.061 866.771 L111.177 866.771 L111.177 860.891 Z\" fill=\"#ffffff\" fill-rule=\"evenodd\" fill-opacity=\"1\" /><path clip-path=\"url(#clip780)\" d=\"M136.246 835.29 Q132.635 835.29 130.807 838.854 Q129.001 842.396 129.001 849.526 Q129.001 856.632 130.807 860.197 Q132.635 863.739 136.246 863.739 Q139.881 863.739 141.686 860.197 Q143.515 856.632 143.515 849.526 Q143.515 842.396 141.686 838.854 Q139.881 835.29 136.246 835.29 M136.246 831.586 Q142.056 831.586 145.112 836.192 Q148.191 840.776 148.191 849.526 Q148.191 858.253 145.112 862.859 Q142.056 867.442 136.246 867.442 Q130.436 867.442 127.357 862.859 Q124.302 858.253 124.302 849.526 Q124.302 840.776 127.357 836.192 Q130.436 831.586 136.246 831.586 Z\" fill=\"#ffffff\" fill-rule=\"evenodd\" fill-opacity=\"1\" /><path clip-path=\"url(#clip780)\" d=\"M52.6588 597.191 L60.2976 597.191 L60.2976 570.826 L51.9875 572.492 L51.9875 568.233 L60.2513 566.566 L64.9272 566.566 L64.9272 597.191 L72.5661 597.191 L72.5661 601.126 L52.6588 601.126 L52.6588 597.191 Z\" fill=\"#ffffff\" fill-rule=\"evenodd\" fill-opacity=\"1\" /><path clip-path=\"url(#clip780)\" d=\"M94.8576 570.64 L83.0521 589.089 L94.8576 589.089 L94.8576 570.64 M93.6308 566.566 L99.5104 566.566 L99.5104 589.089 L104.441 589.089 L104.441 592.978 L99.5104 592.978 L99.5104 601.126 L94.8576 601.126 L94.8576 592.978 L79.2559 592.978 L79.2559 588.464 L93.6308 566.566 Z\" fill=\"#ffffff\" fill-rule=\"evenodd\" fill-opacity=\"1\" /><path clip-path=\"url(#clip780)\" d=\"M112.172 595.247 L117.057 595.247 L117.057 601.126 L112.172 601.126 L112.172 595.247 Z\" fill=\"#ffffff\" fill-rule=\"evenodd\" fill-opacity=\"1\" /><path clip-path=\"url(#clip780)\" d=\"M127.288 566.566 L145.644 566.566 L145.644 570.501 L131.57 570.501 L131.57 578.974 Q132.589 578.626 133.607 578.464 Q134.626 578.279 135.644 578.279 Q141.431 578.279 144.811 581.451 Q148.191 584.622 148.191 590.038 Q148.191 595.617 144.718 598.719 Q141.246 601.798 134.927 601.798 Q132.751 601.798 130.482 601.427 Q128.237 601.057 125.83 600.316 L125.83 595.617 Q127.913 596.751 130.135 597.307 Q132.357 597.862 134.834 597.862 Q138.839 597.862 141.177 595.756 Q143.515 593.65 143.515 590.038 Q143.515 586.427 141.177 584.321 Q138.839 582.214 134.834 582.214 Q132.959 582.214 131.084 582.631 Q129.232 583.048 127.288 583.927 L127.288 566.566 Z\" fill=\"#ffffff\" fill-rule=\"evenodd\" fill-opacity=\"1\" /><path clip-path=\"url(#clip780)\" d=\"M51.6634 331.546 L59.3023 331.546 L59.3023 305.181 L50.9921 306.848 L50.9921 302.588 L59.256 300.922 L63.9319 300.922 L63.9319 331.546 L71.5707 331.546 L71.5707 335.482 L51.6634 335.482 L51.6634 331.546 Z\" fill=\"#ffffff\" fill-rule=\"evenodd\" fill-opacity=\"1\" /><path clip-path=\"url(#clip780)\" d=\"M81.0614 300.922 L99.4178 300.922 L99.4178 304.857 L85.3438 304.857 L85.3438 313.329 Q86.3623 312.982 87.3808 312.82 Q88.3993 312.635 89.4178 312.635 Q95.2049 312.635 98.5845 315.806 Q101.964 318.977 101.964 324.394 Q101.964 329.972 98.4919 333.074 Q95.0197 336.153 88.7003 336.153 Q86.5243 336.153 84.2558 335.783 Q82.0105 335.412 79.6031 334.671 L79.6031 329.972 Q81.6864 331.107 83.9086 331.662 Q86.1308 332.218 88.6077 332.218 Q92.6123 332.218 94.9502 330.111 Q97.2882 328.005 97.2882 324.394 Q97.2882 320.783 94.9502 318.676 Q92.6123 316.57 88.6077 316.57 Q86.7327 316.57 84.8577 316.986 Q83.0058 317.403 81.0614 318.283 L81.0614 300.922 Z\" fill=\"#ffffff\" fill-rule=\"evenodd\" fill-opacity=\"1\" /><path clip-path=\"url(#clip780)\" d=\"M111.177 329.602 L116.061 329.602 L116.061 335.482 L111.177 335.482 L111.177 329.602 Z\" fill=\"#ffffff\" fill-rule=\"evenodd\" fill-opacity=\"1\" /><path clip-path=\"url(#clip780)\" d=\"M136.246 304 Q132.635 304 130.807 307.565 Q129.001 311.107 129.001 318.236 Q129.001 325.343 130.807 328.908 Q132.635 332.449 136.246 332.449 Q139.881 332.449 141.686 328.908 Q143.515 325.343 143.515 318.236 Q143.515 311.107 141.686 307.565 Q139.881 304 136.246 304 M136.246 300.297 Q142.056 300.297 145.112 304.903 Q148.191 309.486 148.191 318.236 Q148.191 326.963 145.112 331.57 Q142.056 336.153 136.246 336.153 Q130.436 336.153 127.357 331.57 Q124.302 326.963 124.302 318.236 Q124.302 309.486 127.357 304.903 Q130.436 300.297 136.246 300.297 Z\" fill=\"#ffffff\" fill-rule=\"evenodd\" fill-opacity=\"1\" /><path clip-path=\"url(#clip780)\" d=\"M52.6588 65.9018 L60.2976 65.9018 L60.2976 39.5362 L51.9875 41.2029 L51.9875 36.9436 L60.2513 35.277 L64.9272 35.277 L64.9272 65.9018 L72.5661 65.9018 L72.5661 69.837 L52.6588 69.837 L52.6588 65.9018 Z\" fill=\"#ffffff\" fill-rule=\"evenodd\" fill-opacity=\"1\" /><path clip-path=\"url(#clip780)\" d=\"M82.0568 35.277 L100.413 35.277 L100.413 39.2122 L86.3392 39.2122 L86.3392 47.6843 Q87.3577 47.3371 88.3762 47.1751 Q89.3947 46.9899 90.4132 46.9899 Q96.2002 46.9899 99.5798 50.1612 Q102.959 53.3324 102.959 58.7491 Q102.959 64.3278 99.4872 67.4296 Q96.015 70.5083 89.6956 70.5083 Q87.5197 70.5083 85.2512 70.1379 Q83.0058 69.7675 80.5984 69.0268 L80.5984 64.3278 Q82.6818 65.462 84.904 66.0176 Q87.1262 66.5731 89.603 66.5731 Q93.6076 66.5731 95.9456 64.4666 Q98.2835 62.3602 98.2835 58.7491 Q98.2835 55.138 95.9456 53.0315 Q93.6076 50.9251 89.603 50.9251 Q87.728 50.9251 85.8531 51.3417 Q84.0012 51.7584 82.0568 52.638 L82.0568 35.277 Z\" fill=\"#ffffff\" fill-rule=\"evenodd\" fill-opacity=\"1\" /><path clip-path=\"url(#clip780)\" d=\"M112.172 63.9574 L117.057 63.9574 L117.057 69.837 L112.172 69.837 L112.172 63.9574 Z\" fill=\"#ffffff\" fill-rule=\"evenodd\" fill-opacity=\"1\" /><path clip-path=\"url(#clip780)\" d=\"M127.288 35.277 L145.644 35.277 L145.644 39.2122 L131.57 39.2122 L131.57 47.6843 Q132.589 47.3371 133.607 47.1751 Q134.626 46.9899 135.644 46.9899 Q141.431 46.9899 144.811 50.1612 Q148.191 53.3324 148.191 58.7491 Q148.191 64.3278 144.718 67.4296 Q141.246 70.5083 134.927 70.5083 Q132.751 70.5083 130.482 70.1379 Q128.237 69.7675 125.83 69.0268 L125.83 64.3278 Q127.913 65.462 130.135 66.0176 Q132.357 66.5731 134.834 66.5731 Q138.839 66.5731 141.177 64.4666 Q143.515 62.3602 143.515 58.7491 Q143.515 55.138 141.177 53.0315 Q138.839 50.9251 134.834 50.9251 Q132.959 50.9251 131.084 51.3417 Q129.232 51.7584 127.288 52.638 L127.288 35.277 Z\" fill=\"#ffffff\" fill-rule=\"evenodd\" fill-opacity=\"1\" /><polyline clip-path=\"url(#clip782)\" style=\"stroke:#fe4365; stroke-linecap:butt; stroke-linejoin:round; stroke-width:4; stroke-opacity:1; fill:none\" points=\"\n",
       "  245.565,87.9763 266.23,99.1084 286.895,110.293 307.56,121.531 328.224,132.821 348.889,144.164 369.554,155.56 390.219,167.008 410.884,178.509 431.548,190.063 \n",
       "  452.213,201.669 472.878,213.328 493.543,225.04 514.208,236.805 534.873,248.622 555.537,260.492 576.202,272.415 596.867,284.39 617.532,296.418 638.197,308.499 \n",
       "  658.861,320.633 679.526,332.819 700.191,345.058 720.856,357.349 741.521,369.694 762.185,382.091 782.85,394.54 803.515,407.043 824.18,419.598 844.845,432.205 \n",
       "  865.509,444.866 886.174,457.579 906.839,470.345 927.504,483.164 948.169,496.035 968.834,508.959 989.498,521.936 1010.16,534.965 1030.83,548.047 1051.49,561.182 \n",
       "  1072.16,574.37 1092.82,587.61 1113.49,600.903 1134.15,614.248 1154.82,627.647 1175.48,641.098 1196.15,654.601 1216.81,668.158 1237.48,681.767 1258.14,695.429 \n",
       "  1278.81,709.143 1299.47,722.911 1320.14,736.731 1340.8,750.603 1361.46,764.529 1382.13,778.507 1402.79,792.537 1423.46,806.621 1444.12,820.757 1464.79,834.946 \n",
       "  1485.45,849.187 1506.12,863.482 1526.78,877.829 1547.45,892.228 1568.11,906.681 1588.78,921.186 1609.44,935.744 1630.11,950.354 1650.77,965.017 1671.44,979.733 \n",
       "  1692.1,994.502 1712.77,1009.32 1733.43,1024.2 1754.1,1039.12 1774.76,1054.1 1795.43,1069.14 1816.09,1084.22 1836.76,1099.36 1857.42,1114.55 1878.09,1129.79 \n",
       "  1898.75,1145.09 1919.41,1160.43 1940.08,1175.84 1960.74,1191.29 1981.41,1206.8 2002.07,1222.35 2022.74,1237.97 2043.4,1253.63 2064.07,1269.35 2084.73,1285.12 \n",
       "  2105.4,1300.94 2126.06,1316.82 2146.73,1332.74 2167.39,1348.72 2188.06,1364.76 2208.72,1380.84 2229.39,1396.98 2250.05,1413.17 2270.72,1429.42 2291.38,1445.72 \n",
       "  \n",
       "  \"/>\n",
       "<polyline clip-path=\"url(#clip782)\" style=\"stroke:#eca25c; stroke-linecap:butt; stroke-linejoin:round; stroke-width:4; stroke-opacity:1; fill:none\" stroke-dasharray=\"2, 4\" points=\"\n",
       "  1882.22,2925.65 1882.22,-1391.96 \n",
       "  \"/>\n",
       "<polyline clip-path=\"url(#clip782)\" style=\"stroke:#3f9778; stroke-linecap:butt; stroke-linejoin:round; stroke-width:4; stroke-opacity:1; fill:none\" stroke-dasharray=\"2, 4\" points=\"\n",
       "  -1984.37,1132.85 4521.32,1132.85 \n",
       "  \"/>\n",
       "<circle clip-path=\"url(#clip782)\" cx=\"1882.22\" cy=\"1132.85\" r=\"14\" fill=\"#005d7f\" fill-rule=\"evenodd\" fill-opacity=\"1\" stroke=\"#adb2b7\" stroke-opacity=\"1\" stroke-width=\"3.2\"/>\n",
       "<path clip-path=\"url(#clip780)\" d=\"\n",
       "M1987.09 198.898 L2280.47 198.898 L2280.47 95.2176 L1987.09 95.2176  Z\n",
       "  \" fill=\"#363d46\" fill-rule=\"evenodd\" fill-opacity=\"1\"/>\n",
       "<polyline clip-path=\"url(#clip780)\" style=\"stroke:#ffffff; stroke-linecap:butt; stroke-linejoin:round; stroke-width:4; stroke-opacity:1; fill:none\" points=\"\n",
       "  1987.09,198.898 2280.47,198.898 2280.47,95.2176 1987.09,95.2176 1987.09,198.898 \n",
       "  \"/>\n",
       "<polyline clip-path=\"url(#clip780)\" style=\"stroke:#fe4365; stroke-linecap:butt; stroke-linejoin:round; stroke-width:4; stroke-opacity:1; fill:none\" points=\"\n",
       "  2011.18,147.058 2155.75,147.058 \n",
       "  \"/>\n",
       "<path clip-path=\"url(#clip780)\" d=\"M2193.69 166.745 Q2191.89 171.375 2190.17 172.787 Q2188.46 174.199 2185.59 174.199 L2182.19 174.199 L2182.19 170.634 L2184.69 170.634 Q2186.45 170.634 2187.42 169.8 Q2188.39 168.967 2189.57 165.865 L2190.34 163.921 L2179.85 138.412 L2184.36 138.412 L2192.47 158.689 L2200.57 138.412 L2205.08 138.412 L2193.69 166.745 Z\" fill=\"#ffffff\" fill-rule=\"evenodd\" fill-opacity=\"1\" /><path clip-path=\"url(#clip780)\" d=\"M2212.37 160.402 L2220.01 160.402 L2220.01 134.037 L2211.7 135.703 L2211.7 131.444 L2219.97 129.778 L2224.64 129.778 L2224.64 160.402 L2232.28 160.402 L2232.28 164.338 L2212.37 164.338 L2212.37 160.402 Z\" fill=\"#ffffff\" fill-rule=\"evenodd\" fill-opacity=\"1\" /></svg>\n"
      ]
     },
     "execution_count": 11,
     "metadata": {},
     "output_type": "execute_result"
    }
   ],
   "source": [
    "t(T) = coeffs_timextemp[3]T^2 + coeffs_timextemp[2]T + coeffs_timextemp[1] # Funcao tempo\n",
    "\n",
    "x = range(33, 38, length=100)\n",
    "plot(x, t.(x))\n",
    "plot!([37], seriestype=:vline, linestyle=:dot, label=\"\")\n",
    "plot!([t(37)], seriestype=:hline, linestyle=:dot, label=\"\")\n",
    "plot!([37], [t(37)], seriestype=:scatter, label=\"\")"
   ]
  },
  {
   "cell_type": "code",
   "execution_count": 12,
   "metadata": {},
   "outputs": [
    {
     "name": "stdout",
     "output_type": "stream",
     "text": [
      "13h27m"
     ]
    }
   ],
   "source": [
    "death_time = t(37)\n",
    "hour = trunc(Int, floor(death_time))\n",
    "minutes = trunc(Int, floor((death_time - hour) * 60))\n",
    "print(hour, \"h\", minutes, \"m\")"
   ]
  },
  {
   "cell_type": "markdown",
   "metadata": {},
   "source": [
    "Dessa forma conseguimos encontrar um tempo para a temperatura de 37, às 13h27m. Como a polícia chegou ao local às 15h e o corpo estava com 34°, esta é uma aproximação convincente"
   ]
  },
  {
   "cell_type": "markdown",
   "metadata": {},
   "source": [
    "## Exercício 6 (1.6)"
   ]
  },
  {
   "cell_type": "markdown",
   "metadata": {},
   "source": [
    "Para aproximar a função podemos usar a interpolação bilinear para 4 pontos. Esse método recebe os 2 vértices que formam um retângulo do domínio. A ideia é ter 4 argumentos na função, sendo para cada ponto um polinômio que dê o valor $1$ quando está no ponto correspondente e o valor $0$ quando estiver em outro extremo, assim como é feito no método de Lagrange."
   ]
  },
  {
   "cell_type": "code",
   "execution_count": 13,
   "metadata": {},
   "outputs": [
    {
     "data": {
      "text/plain": [
       "4-element Vector{Float64}:\n",
       " 1450.0\n",
       " -250.0\n",
       " -275.0\n",
       "   75.0"
      ]
     },
     "execution_count": 13,
     "metadata": {},
     "output_type": "execute_result"
    }
   ],
   "source": [
    "points = [1, 3, 2, 4]\n",
    "z = [800, 400, 600, 500]\n",
    "coeffs_mountain = bilinear_interpolation(points, z)"
   ]
  },
  {
   "cell_type": "markdown",
   "metadata": {},
   "source": [
    "Com os coeficientes, obtemos o polinômio $1450 - 250x - 275y + 75xy$. Para encontrar os pontos de máximo e mínimo é preciso fazer as derivadas parciais e ver os pontos em que são $0$\n",
    "\n",
    "$$f_x(x, y) = -250 + 75y$$\n",
    "$$f_y(x, y) = -275 + 75x$$\n",
    "\n",
    "Igualando a 0, obtemos o seguinte ponto para o ponto crítico:"
   ]
  },
  {
   "cell_type": "code",
   "execution_count": 14,
   "metadata": {},
   "outputs": [
    {
     "data": {
      "text/plain": [
       "533.3333333333334"
      ]
     },
     "execution_count": 14,
     "metadata": {},
     "output_type": "execute_result"
    }
   ],
   "source": [
    "x0 = 275/75\n",
    "y0 = 250/75\n",
    "coeffs_mountain[1] + coeffs_mountain[2]*x0 + coeffs_mountain[3]*y0 + coeffs_mountain[4]*x0*y0"
   ]
  },
  {
   "cell_type": "markdown",
   "metadata": {},
   "source": [
    "Encontramos um ponto crítico no meio da função, mas podemos facilmente ver que ele não é máximo nem mínimo global. Além de vermos os pontos críticos é preciso ver os limites do intervalo, os valores que temos são: $800$, $400$, $500$, $600$ e $533.33$\n",
    "\n",
    "Dessa forma, o ponto de máximo dessa função é $(1, 2)$ com valor $800$ e o ponto de mínimo é $(1, 4)$ com valor $400$"
   ]
  },
  {
   "cell_type": "markdown",
   "metadata": {},
   "source": [
    "## Exercício 7 (1.7)"
   ]
  },
  {
   "cell_type": "markdown",
   "metadata": {},
   "source": [
    "Queremos realizar a interpolação por partes usando cúbicas em 5 pontos, isso implica nas seguintes definições:\n",
    "1. Os 5 pontos serão os pares $(x_1, y_1)$, ..., $(x_5, y_5)$\n",
    "2. $P(x)$ é a cúbica que passa pelos pontos $\\{(x_1, y_1), (x_2, y_2), (x_3, y_3)\\}$\n",
    "3. $Q(x)$ é a cúbica que passa pelos pontos $\\{(x_3, y_3), (x_4, y_4), (x_5, y_5)\\}$\n",
    "4. $P(x) = c_1 + c_2x + c_3x^2 + c_4x^3$\n",
    "5. $Q(x) = d_1 + d_2x + d_3x^2 + d_4x^3$\n",
    "\n",
    "Agora que temos esse formalismo para nos ajudar, podemos realizar uma mudança na interpolação para que essas duas cúbicas sejam interpoladas nos pontos da forma descrita. As equações que devem ser satisfeitas são as seguintes:\n",
    "* $P(x_1) = y_1 \\rightarrow c_1 + c_2x_1 + c_3x_1^2 + c_4x_1^3 = y_1$\n",
    "* $P(x_2) = y_2 \\rightarrow c_1 + c_2x_2 + c_3x_2^2 + c_4x_2^3 = y_2$\n",
    "* $P(x_3) = y_3 \\rightarrow c_1 + c_2x_3 + c_3x_3^2 + c_4x_3^3 = y_3$\n",
    "* $Q(x_3) = y_3 \\rightarrow d_1 + d_2x_3 + d_3x_3^2 + d_4x_3^3 = y_3$\n",
    "* $Q(x_4) = y_4 \\rightarrow d_1 + d_2x_4 + d_3x_4^2 + d_4x_4^3 = y_4$\n",
    "* $Q(x_5) = y_5 \\rightarrow d_1 + d_2x_5 + d_3x_5^2 + d_4x_5^3 = y_5$\n",
    "* $P'(x_3) = Q'(x_3) \\rightarrow c_2 + 2c_3x_3 + 3c_4x_3^2 = d_2 + 2d_3x_3 + 3d_4x_3^2$\n",
    "* $P''(x_3) = Q''(x_3) \\rightarrow 2c_3 + 6c_4x_3 = 2d_3 + 6d_4x_3$\n",
    "\n",
    "Com essas equações, podemos montar um sistema com matrizes, possuindo o seguinte formato:\n",
    "$ \\begin{bmatrix}\n",
    "1  & x_1 & x_1^2 & x_1^3 & 0 & 0 & 0 & 0 \\\\\n",
    "1  & x_2 & x_2^2 & x_2^3 & 0 & 0 & 0 & 0 \\\\\n",
    "1  & x_3 & x_3^2 & x_3^3 & 0 & 0 & 0 & 0 \\\\\n",
    "0 & 0 & 0 & 0 & 1 & x_3 & x_3^2 & x_3^3 \\\\\n",
    "0 & 0 & 0 & 0 & 1 & x_4 & x_4^2 & x_4^3 \\\\\n",
    "0 & 0 & 0 & 0 & 1 & x_5 & x_5^2 & x_5^3 \\\\\n",
    "0 & 1 & 2x_3 & 3x_3^2 & 0 & -1 & -2x_3 & -3x_3^2 \\\\\n",
    "0 & 0 & 2 & 6x_3 & 0 & 0 & -2 & -6x_3\n",
    "\\end{bmatrix}  \n",
    "\\begin{bmatrix}\n",
    "c_1 \\\\\n",
    "c_2 \\\\\n",
    "c_3 \\\\\n",
    "c_4 \\\\\n",
    "d_1 \\\\\n",
    "d_2 \\\\\n",
    "d_3 \\\\\n",
    "d_4 \\\\\n",
    "\\end{bmatrix} =   \n",
    "\\begin{bmatrix}\n",
    "y_1 \\\\\n",
    "y_2 \\\\\n",
    "y_3 \\\\\n",
    "y_3 \\\\\n",
    "y_4 \\\\\n",
    "y_5 \\\\\n",
    "0 \\\\\n",
    "0 \\\\\n",
    "\\end{bmatrix}$\n",
    "\n",
    "Resolvendo esse sistema, encontraremos os coeficientes tanto de $P(x)$ quanto de $Q(x)$, e assim, encontraremos as duas cúbicas:"
   ]
  },
  {
   "cell_type": "code",
   "execution_count": 15,
   "metadata": {},
   "outputs": [
    {
     "data": {
      "text/plain": [
       "([0.0, 4.666666666666657, -4.999999999999993, 1.3333333333333321], [23.999999999999986, -31.33333333333333, 13.0, -1.6666666666666667])"
      ]
     },
     "execution_count": 15,
     "metadata": {},
     "output_type": "execute_result"
    }
   ],
   "source": [
    "# Os 5 pontos a serem interpolados\n",
    "x = [0,1,2,3,4]\n",
    "y = [0,1,0,2,0]\n",
    "\n",
    "# Lista dos coeficientes c_i e d_i das funcoes\n",
    "c, d = spline_interpolation(x, y)"
   ]
  },
  {
   "cell_type": "markdown",
   "metadata": {},
   "source": [
    "Agora precisamos plotar as funções, para isso podemos fazer um código similar ao feito na última lista"
   ]
  },
  {
   "cell_type": "code",
   "execution_count": 16,
   "metadata": {},
   "outputs": [],
   "source": [
    "P(x) = c[1] + c[2]x + c[3]x^2 + c[4]x^3\n",
    "Q(x) = d[1] + d[2]x + d[3]x^2 + d[4]x^3;"
   ]
  },
  {
   "cell_type": "code",
   "execution_count": 17,
   "metadata": {},
   "outputs": [],
   "source": [
    "px = range(x[1], x[3], length=100)\n",
    "qx = range(x[3], x[5], length=100)\n",
    "py = P.(px)\n",
    "qy = Q.(qx)\n",
    ";"
   ]
  },
  {
   "cell_type": "code",
   "execution_count": 18,
   "metadata": {},
   "outputs": [
    {
     "data": {
      "image/svg+xml": [
       "<?xml version=\"1.0\" encoding=\"utf-8\"?>\n",
       "<svg xmlns=\"http://www.w3.org/2000/svg\" xmlns:xlink=\"http://www.w3.org/1999/xlink\" width=\"600\" height=\"400\" viewBox=\"0 0 2400 1600\">\n",
       "<defs>\n",
       "  <clipPath id=\"clip820\">\n",
       "    <rect x=\"0\" y=\"0\" width=\"2400\" height=\"1600\"/>\n",
       "  </clipPath>\n",
       "</defs>\n",
       "<path clip-path=\"url(#clip820)\" d=\"\n",
       "M0 1600 L2400 1600 L2400 0 L0 0  Z\n",
       "  \" fill=\"#363d46\" fill-rule=\"evenodd\" fill-opacity=\"1\"/>\n",
       "<defs>\n",
       "  <clipPath id=\"clip821\">\n",
       "    <rect x=\"480\" y=\"0\" width=\"1681\" height=\"1600\"/>\n",
       "  </clipPath>\n",
       "</defs>\n",
       "<path clip-path=\"url(#clip820)\" d=\"\n",
       "M156.112 1486.45 L2352.76 1486.45 L2352.76 47.2441 L156.112 47.2441  Z\n",
       "  \" fill=\"#30343b\" fill-rule=\"evenodd\" fill-opacity=\"1\"/>\n",
       "<defs>\n",
       "  <clipPath id=\"clip822\">\n",
       "    <rect x=\"156\" y=\"47\" width=\"2198\" height=\"1440\"/>\n",
       "  </clipPath>\n",
       "</defs>\n",
       "<polyline clip-path=\"url(#clip822)\" style=\"stroke:#adb2b7; stroke-linecap:butt; stroke-linejoin:round; stroke-width:2; stroke-opacity:0.1; fill:none\" points=\"\n",
       "  218.281,1486.45 218.281,47.2441 \n",
       "  \"/>\n",
       "<polyline clip-path=\"url(#clip822)\" style=\"stroke:#adb2b7; stroke-linecap:butt; stroke-linejoin:round; stroke-width:2; stroke-opacity:0.1; fill:none\" points=\"\n",
       "  736.358,1486.45 736.358,47.2441 \n",
       "  \"/>\n",
       "<polyline clip-path=\"url(#clip822)\" style=\"stroke:#adb2b7; stroke-linecap:butt; stroke-linejoin:round; stroke-width:2; stroke-opacity:0.1; fill:none\" points=\"\n",
       "  1254.43,1486.45 1254.43,47.2441 \n",
       "  \"/>\n",
       "<polyline clip-path=\"url(#clip822)\" style=\"stroke:#adb2b7; stroke-linecap:butt; stroke-linejoin:round; stroke-width:2; stroke-opacity:0.1; fill:none\" points=\"\n",
       "  1772.51,1486.45 1772.51,47.2441 \n",
       "  \"/>\n",
       "<polyline clip-path=\"url(#clip822)\" style=\"stroke:#adb2b7; stroke-linecap:butt; stroke-linejoin:round; stroke-width:2; stroke-opacity:0.1; fill:none\" points=\"\n",
       "  2290.59,1486.45 2290.59,47.2441 \n",
       "  \"/>\n",
       "<polyline clip-path=\"url(#clip820)\" style=\"stroke:#adb2b7; stroke-linecap:butt; stroke-linejoin:round; stroke-width:4; stroke-opacity:1; fill:none\" points=\"\n",
       "  156.112,1486.45 2352.76,1486.45 \n",
       "  \"/>\n",
       "<polyline clip-path=\"url(#clip820)\" style=\"stroke:#adb2b7; stroke-linecap:butt; stroke-linejoin:round; stroke-width:4; stroke-opacity:1; fill:none\" points=\"\n",
       "  218.281,1486.45 218.281,1467.55 \n",
       "  \"/>\n",
       "<polyline clip-path=\"url(#clip820)\" style=\"stroke:#adb2b7; stroke-linecap:butt; stroke-linejoin:round; stroke-width:4; stroke-opacity:1; fill:none\" points=\"\n",
       "  736.358,1486.45 736.358,1467.55 \n",
       "  \"/>\n",
       "<polyline clip-path=\"url(#clip820)\" style=\"stroke:#adb2b7; stroke-linecap:butt; stroke-linejoin:round; stroke-width:4; stroke-opacity:1; fill:none\" points=\"\n",
       "  1254.43,1486.45 1254.43,1467.55 \n",
       "  \"/>\n",
       "<polyline clip-path=\"url(#clip820)\" style=\"stroke:#adb2b7; stroke-linecap:butt; stroke-linejoin:round; stroke-width:4; stroke-opacity:1; fill:none\" points=\"\n",
       "  1772.51,1486.45 1772.51,1467.55 \n",
       "  \"/>\n",
       "<polyline clip-path=\"url(#clip820)\" style=\"stroke:#adb2b7; stroke-linecap:butt; stroke-linejoin:round; stroke-width:4; stroke-opacity:1; fill:none\" points=\"\n",
       "  2290.59,1486.45 2290.59,1467.55 \n",
       "  \"/>\n",
       "<path clip-path=\"url(#clip820)\" d=\"M218.281 1517.37 Q214.67 1517.37 212.842 1520.93 Q211.036 1524.47 211.036 1531.6 Q211.036 1538.71 212.842 1542.27 Q214.67 1545.82 218.281 1545.82 Q221.916 1545.82 223.721 1542.27 Q225.55 1538.71 225.55 1531.6 Q225.55 1524.47 223.721 1520.93 Q221.916 1517.37 218.281 1517.37 M218.281 1513.66 Q224.091 1513.66 227.147 1518.27 Q230.226 1522.85 230.226 1531.6 Q230.226 1540.33 227.147 1544.94 Q224.091 1549.52 218.281 1549.52 Q212.471 1549.52 209.392 1544.94 Q206.337 1540.33 206.337 1531.6 Q206.337 1522.85 209.392 1518.27 Q212.471 1513.66 218.281 1513.66 Z\" fill=\"#ffffff\" fill-rule=\"evenodd\" fill-opacity=\"1\" /><path clip-path=\"url(#clip820)\" d=\"M726.74 1544.91 L734.378 1544.91 L734.378 1518.55 L726.068 1520.21 L726.068 1515.95 L734.332 1514.29 L739.008 1514.29 L739.008 1544.91 L746.647 1544.91 L746.647 1548.85 L726.74 1548.85 L726.74 1544.91 Z\" fill=\"#ffffff\" fill-rule=\"evenodd\" fill-opacity=\"1\" /><path clip-path=\"url(#clip820)\" d=\"M1249.09 1544.91 L1265.41 1544.91 L1265.41 1548.85 L1243.46 1548.85 L1243.46 1544.91 Q1246.12 1542.16 1250.71 1537.53 Q1255.31 1532.88 1256.49 1531.53 Q1258.74 1529.01 1259.62 1527.27 Q1260.52 1525.51 1260.52 1523.82 Q1260.52 1521.07 1258.58 1519.33 Q1256.66 1517.6 1253.55 1517.6 Q1251.36 1517.6 1248.9 1518.36 Q1246.47 1519.13 1243.69 1520.68 L1243.69 1515.95 Q1246.52 1514.82 1248.97 1514.24 Q1251.42 1513.66 1253.46 1513.66 Q1258.83 1513.66 1262.03 1516.35 Q1265.22 1519.03 1265.22 1523.52 Q1265.22 1525.65 1264.41 1527.57 Q1263.62 1529.47 1261.52 1532.07 Q1260.94 1532.74 1257.84 1535.95 Q1254.73 1539.15 1249.09 1544.91 Z\" fill=\"#ffffff\" fill-rule=\"evenodd\" fill-opacity=\"1\" /><path clip-path=\"url(#clip820)\" d=\"M1776.76 1530.21 Q1780.11 1530.93 1781.99 1533.2 Q1783.89 1535.47 1783.89 1538.8 Q1783.89 1543.92 1780.37 1546.72 Q1776.85 1549.52 1770.37 1549.52 Q1768.19 1549.52 1765.88 1549.08 Q1763.59 1548.66 1761.13 1547.81 L1761.13 1543.29 Q1763.08 1544.43 1765.39 1545.01 Q1767.71 1545.58 1770.23 1545.58 Q1774.63 1545.58 1776.92 1543.85 Q1779.23 1542.11 1779.23 1538.8 Q1779.23 1535.75 1777.08 1534.03 Q1774.95 1532.3 1771.13 1532.3 L1767.11 1532.3 L1767.11 1528.45 L1771.32 1528.45 Q1774.77 1528.45 1776.6 1527.09 Q1778.42 1525.7 1778.42 1523.11 Q1778.42 1520.45 1776.53 1519.03 Q1774.65 1517.6 1771.13 1517.6 Q1769.21 1517.6 1767.01 1518.01 Q1764.81 1518.43 1762.17 1519.31 L1762.17 1515.14 Q1764.84 1514.4 1767.15 1514.03 Q1769.49 1513.66 1771.55 1513.66 Q1776.87 1513.66 1779.98 1516.09 Q1783.08 1518.5 1783.08 1522.62 Q1783.08 1525.49 1781.43 1527.48 Q1779.79 1529.45 1776.76 1530.21 Z\" fill=\"#ffffff\" fill-rule=\"evenodd\" fill-opacity=\"1\" /><path clip-path=\"url(#clip820)\" d=\"M2293.6 1518.36 L2281.79 1536.81 L2293.6 1536.81 L2293.6 1518.36 M2292.37 1514.29 L2298.25 1514.29 L2298.25 1536.81 L2303.18 1536.81 L2303.18 1540.7 L2298.25 1540.7 L2298.25 1548.85 L2293.6 1548.85 L2293.6 1540.7 L2277.99 1540.7 L2277.99 1536.19 L2292.37 1514.29 Z\" fill=\"#ffffff\" fill-rule=\"evenodd\" fill-opacity=\"1\" /><polyline clip-path=\"url(#clip822)\" style=\"stroke:#adb2b7; stroke-linecap:butt; stroke-linejoin:round; stroke-width:2; stroke-opacity:0.1; fill:none\" points=\"\n",
       "  156.112,1422.77 2352.76,1422.77 \n",
       "  \"/>\n",
       "<polyline clip-path=\"url(#clip822)\" style=\"stroke:#adb2b7; stroke-linecap:butt; stroke-linejoin:round; stroke-width:2; stroke-opacity:0.1; fill:none\" points=\"\n",
       "  156.112,1129.37 2352.76,1129.37 \n",
       "  \"/>\n",
       "<polyline clip-path=\"url(#clip822)\" style=\"stroke:#adb2b7; stroke-linecap:butt; stroke-linejoin:round; stroke-width:2; stroke-opacity:0.1; fill:none\" points=\"\n",
       "  156.112,835.971 2352.76,835.971 \n",
       "  \"/>\n",
       "<polyline clip-path=\"url(#clip822)\" style=\"stroke:#adb2b7; stroke-linecap:butt; stroke-linejoin:round; stroke-width:2; stroke-opacity:0.1; fill:none\" points=\"\n",
       "  156.112,542.573 2352.76,542.573 \n",
       "  \"/>\n",
       "<polyline clip-path=\"url(#clip822)\" style=\"stroke:#adb2b7; stroke-linecap:butt; stroke-linejoin:round; stroke-width:2; stroke-opacity:0.1; fill:none\" points=\"\n",
       "  156.112,249.174 2352.76,249.174 \n",
       "  \"/>\n",
       "<polyline clip-path=\"url(#clip820)\" style=\"stroke:#adb2b7; stroke-linecap:butt; stroke-linejoin:round; stroke-width:4; stroke-opacity:1; fill:none\" points=\"\n",
       "  156.112,1486.45 156.112,47.2441 \n",
       "  \"/>\n",
       "<polyline clip-path=\"url(#clip820)\" style=\"stroke:#adb2b7; stroke-linecap:butt; stroke-linejoin:round; stroke-width:4; stroke-opacity:1; fill:none\" points=\"\n",
       "  156.112,1422.77 175.01,1422.77 \n",
       "  \"/>\n",
       "<polyline clip-path=\"url(#clip820)\" style=\"stroke:#adb2b7; stroke-linecap:butt; stroke-linejoin:round; stroke-width:4; stroke-opacity:1; fill:none\" points=\"\n",
       "  156.112,1129.37 175.01,1129.37 \n",
       "  \"/>\n",
       "<polyline clip-path=\"url(#clip820)\" style=\"stroke:#adb2b7; stroke-linecap:butt; stroke-linejoin:round; stroke-width:4; stroke-opacity:1; fill:none\" points=\"\n",
       "  156.112,835.971 175.01,835.971 \n",
       "  \"/>\n",
       "<polyline clip-path=\"url(#clip820)\" style=\"stroke:#adb2b7; stroke-linecap:butt; stroke-linejoin:round; stroke-width:4; stroke-opacity:1; fill:none\" points=\"\n",
       "  156.112,542.573 175.01,542.573 \n",
       "  \"/>\n",
       "<polyline clip-path=\"url(#clip820)\" style=\"stroke:#adb2b7; stroke-linecap:butt; stroke-linejoin:round; stroke-width:4; stroke-opacity:1; fill:none\" points=\"\n",
       "  156.112,249.174 175.01,249.174 \n",
       "  \"/>\n",
       "<path clip-path=\"url(#clip820)\" d=\"M62.9365 1408.57 Q59.3254 1408.57 57.4967 1412.13 Q55.6912 1415.67 55.6912 1422.8 Q55.6912 1429.91 57.4967 1433.47 Q59.3254 1437.02 62.9365 1437.02 Q66.5707 1437.02 68.3763 1433.47 Q70.205 1429.91 70.205 1422.8 Q70.205 1415.67 68.3763 1412.13 Q66.5707 1408.57 62.9365 1408.57 M62.9365 1404.86 Q68.7467 1404.86 71.8022 1409.47 Q74.8809 1414.05 74.8809 1422.8 Q74.8809 1431.53 71.8022 1436.14 Q68.7467 1440.72 62.9365 1440.72 Q57.1264 1440.72 54.0477 1436.14 Q50.9921 1431.53 50.9921 1422.8 Q50.9921 1414.05 54.0477 1409.47 Q57.1264 1404.86 62.9365 1404.86 Z\" fill=\"#ffffff\" fill-rule=\"evenodd\" fill-opacity=\"1\" /><path clip-path=\"url(#clip820)\" d=\"M83.0984 1434.17 L87.9827 1434.17 L87.9827 1440.05 L83.0984 1440.05 L83.0984 1434.17 Z\" fill=\"#ffffff\" fill-rule=\"evenodd\" fill-opacity=\"1\" /><path clip-path=\"url(#clip820)\" d=\"M108.168 1408.57 Q104.557 1408.57 102.728 1412.13 Q100.922 1415.67 100.922 1422.8 Q100.922 1429.91 102.728 1433.47 Q104.557 1437.02 108.168 1437.02 Q111.802 1437.02 113.608 1433.47 Q115.436 1429.91 115.436 1422.8 Q115.436 1415.67 113.608 1412.13 Q111.802 1408.57 108.168 1408.57 M108.168 1404.86 Q113.978 1404.86 117.033 1409.47 Q120.112 1414.05 120.112 1422.8 Q120.112 1431.53 117.033 1436.14 Q113.978 1440.72 108.168 1440.72 Q102.358 1440.72 99.2789 1436.14 Q96.2234 1431.53 96.2234 1422.8 Q96.2234 1414.05 99.2789 1409.47 Q102.358 1404.86 108.168 1404.86 Z\" fill=\"#ffffff\" fill-rule=\"evenodd\" fill-opacity=\"1\" /><path clip-path=\"url(#clip820)\" d=\"M63.9319 1115.17 Q60.3208 1115.17 58.4921 1118.73 Q56.6865 1122.28 56.6865 1129.4 Q56.6865 1136.51 58.4921 1140.08 Q60.3208 1143.62 63.9319 1143.62 Q67.5661 1143.62 69.3717 1140.08 Q71.2004 1136.51 71.2004 1129.4 Q71.2004 1122.28 69.3717 1118.73 Q67.5661 1115.17 63.9319 1115.17 M63.9319 1111.47 Q69.742 1111.47 72.7976 1116.07 Q75.8763 1120.65 75.8763 1129.4 Q75.8763 1138.13 72.7976 1142.74 Q69.742 1147.32 63.9319 1147.32 Q58.1217 1147.32 55.043 1142.74 Q51.9875 1138.13 51.9875 1129.4 Q51.9875 1120.65 55.043 1116.07 Q58.1217 1111.47 63.9319 1111.47 Z\" fill=\"#ffffff\" fill-rule=\"evenodd\" fill-opacity=\"1\" /><path clip-path=\"url(#clip820)\" d=\"M84.0938 1140.77 L88.978 1140.77 L88.978 1146.65 L84.0938 1146.65 L84.0938 1140.77 Z\" fill=\"#ffffff\" fill-rule=\"evenodd\" fill-opacity=\"1\" /><path clip-path=\"url(#clip820)\" d=\"M99.2095 1112.09 L117.566 1112.09 L117.566 1116.03 L103.492 1116.03 L103.492 1124.5 Q104.51 1124.15 105.529 1123.99 Q106.547 1123.8 107.566 1123.8 Q113.353 1123.8 116.733 1126.97 Q120.112 1130.15 120.112 1135.56 Q120.112 1141.14 116.64 1144.24 Q113.168 1147.32 106.848 1147.32 Q104.672 1147.32 102.404 1146.95 Q100.159 1146.58 97.7511 1145.84 L97.7511 1141.14 Q99.8345 1142.28 102.057 1142.83 Q104.279 1143.39 106.756 1143.39 Q110.76 1143.39 113.098 1141.28 Q115.436 1139.17 115.436 1135.56 Q115.436 1131.95 113.098 1129.84 Q110.76 1127.74 106.756 1127.74 Q104.881 1127.74 103.006 1128.15 Q101.154 1128.57 99.2095 1129.45 L99.2095 1112.09 Z\" fill=\"#ffffff\" fill-rule=\"evenodd\" fill-opacity=\"1\" /><path clip-path=\"url(#clip820)\" d=\"M53.7467 849.316 L61.3856 849.316 L61.3856 822.951 L53.0754 824.617 L53.0754 820.358 L61.3393 818.691 L66.0152 818.691 L66.0152 849.316 L73.654 849.316 L73.654 853.251 L53.7467 853.251 L53.7467 849.316 Z\" fill=\"#ffffff\" fill-rule=\"evenodd\" fill-opacity=\"1\" /><path clip-path=\"url(#clip820)\" d=\"M83.0984 847.372 L87.9827 847.372 L87.9827 853.251 L83.0984 853.251 L83.0984 847.372 Z\" fill=\"#ffffff\" fill-rule=\"evenodd\" fill-opacity=\"1\" /><path clip-path=\"url(#clip820)\" d=\"M108.168 821.77 Q104.557 821.77 102.728 825.335 Q100.922 828.877 100.922 836.006 Q100.922 843.113 102.728 846.677 Q104.557 850.219 108.168 850.219 Q111.802 850.219 113.608 846.677 Q115.436 843.113 115.436 836.006 Q115.436 828.877 113.608 825.335 Q111.802 821.77 108.168 821.77 M108.168 818.066 Q113.978 818.066 117.033 822.673 Q120.112 827.256 120.112 836.006 Q120.112 844.733 117.033 849.339 Q113.978 853.923 108.168 853.923 Q102.358 853.923 99.2789 849.339 Q96.2234 844.733 96.2234 836.006 Q96.2234 827.256 99.2789 822.673 Q102.358 818.066 108.168 818.066 Z\" fill=\"#ffffff\" fill-rule=\"evenodd\" fill-opacity=\"1\" /><path clip-path=\"url(#clip820)\" d=\"M54.7421 555.918 L62.381 555.918 L62.381 529.552 L54.0708 531.219 L54.0708 526.959 L62.3347 525.293 L67.0106 525.293 L67.0106 555.918 L74.6494 555.918 L74.6494 559.853 L54.7421 559.853 L54.7421 555.918 Z\" fill=\"#ffffff\" fill-rule=\"evenodd\" fill-opacity=\"1\" /><path clip-path=\"url(#clip820)\" d=\"M84.0938 553.973 L88.978 553.973 L88.978 559.853 L84.0938 559.853 L84.0938 553.973 Z\" fill=\"#ffffff\" fill-rule=\"evenodd\" fill-opacity=\"1\" /><path clip-path=\"url(#clip820)\" d=\"M99.2095 525.293 L117.566 525.293 L117.566 529.228 L103.492 529.228 L103.492 537.7 Q104.51 537.353 105.529 537.191 Q106.547 537.006 107.566 537.006 Q113.353 537.006 116.733 540.177 Q120.112 543.348 120.112 548.765 Q120.112 554.343 116.64 557.445 Q113.168 560.524 106.848 560.524 Q104.672 560.524 102.404 560.154 Q100.159 559.783 97.7511 559.043 L97.7511 554.343 Q99.8345 555.478 102.057 556.033 Q104.279 556.589 106.756 556.589 Q110.76 556.589 113.098 554.482 Q115.436 552.376 115.436 548.765 Q115.436 545.154 113.098 543.047 Q110.76 540.941 106.756 540.941 Q104.881 540.941 103.006 541.357 Q101.154 541.774 99.2095 542.654 L99.2095 525.293 Z\" fill=\"#ffffff\" fill-rule=\"evenodd\" fill-opacity=\"1\" /><path clip-path=\"url(#clip820)\" d=\"M56.9643 262.519 L73.2837 262.519 L73.2837 266.454 L51.3393 266.454 L51.3393 262.519 Q54.0014 259.764 58.5847 255.135 Q63.1911 250.482 64.3717 249.139 Q66.617 246.616 67.4967 244.88 Q68.3994 243.121 68.3994 241.431 Q68.3994 238.676 66.455 236.94 Q64.5337 235.204 61.4319 235.204 Q59.2328 235.204 56.7791 235.968 Q54.3486 236.732 51.5708 238.283 L51.5708 233.561 Q54.3949 232.426 56.8486 231.848 Q59.3023 231.269 61.3393 231.269 Q66.7096 231.269 69.9041 233.954 Q73.0985 236.639 73.0985 241.13 Q73.0985 243.26 72.2883 245.181 Q71.5013 247.079 69.3948 249.672 Q68.8161 250.343 65.7143 253.561 Q62.6124 256.755 56.9643 262.519 Z\" fill=\"#ffffff\" fill-rule=\"evenodd\" fill-opacity=\"1\" /><path clip-path=\"url(#clip820)\" d=\"M83.0984 260.574 L87.9827 260.574 L87.9827 266.454 L83.0984 266.454 L83.0984 260.574 Z\" fill=\"#ffffff\" fill-rule=\"evenodd\" fill-opacity=\"1\" /><path clip-path=\"url(#clip820)\" d=\"M108.168 234.973 Q104.557 234.973 102.728 238.538 Q100.922 242.079 100.922 249.209 Q100.922 256.315 102.728 259.88 Q104.557 263.422 108.168 263.422 Q111.802 263.422 113.608 259.88 Q115.436 256.315 115.436 249.209 Q115.436 242.079 113.608 238.538 Q111.802 234.973 108.168 234.973 M108.168 231.269 Q113.978 231.269 117.033 235.876 Q120.112 240.459 120.112 249.209 Q120.112 257.936 117.033 262.542 Q113.978 267.125 108.168 267.125 Q102.358 267.125 99.2789 262.542 Q96.2234 257.936 96.2234 249.209 Q96.2234 240.459 99.2789 235.876 Q102.358 231.269 108.168 231.269 Z\" fill=\"#ffffff\" fill-rule=\"evenodd\" fill-opacity=\"1\" /><polyline clip-path=\"url(#clip822)\" style=\"stroke:#fe4365; stroke-linecap:butt; stroke-linejoin:round; stroke-width:8; stroke-opacity:1; fill:none\" points=\"\n",
       "  218.281,1422.77 228.747,1368.64 239.214,1316.86 249.68,1267.41 260.146,1220.23 270.612,1175.29 281.078,1132.56 291.545,1091.98 302.011,1053.53 312.477,1017.17 \n",
       "  322.943,982.851 333.409,950.54 343.876,920.199 354.342,891.788 364.808,865.269 375.274,840.603 385.74,817.751 396.207,796.675 406.673,777.336 417.139,759.695 \n",
       "  427.605,743.713 438.071,729.352 448.537,716.573 459.004,705.337 469.47,695.606 479.936,687.341 490.402,680.503 500.868,675.054 511.335,670.955 521.801,668.166 \n",
       "  532.267,666.65 542.733,666.368 553.199,667.281 563.666,669.35 574.132,672.537 584.598,676.802 595.064,682.108 605.53,688.415 615.996,695.685 626.463,703.879 \n",
       "  636.929,712.959 647.395,722.885 657.861,733.619 668.327,745.122 678.794,757.356 689.26,770.282 699.726,783.861 710.192,798.054 720.658,812.823 731.125,828.129 \n",
       "  741.591,843.933 752.057,860.197 762.523,876.882 772.989,893.949 783.456,911.36 793.922,929.075 804.388,947.057 814.854,965.266 825.32,983.663 835.786,1002.21 \n",
       "  846.253,1020.87 856.719,1039.6 867.185,1058.37 877.651,1077.13 888.117,1095.84 898.584,1114.48 909.05,1132.99 919.516,1151.35 929.982,1169.5 940.448,1187.42 \n",
       "  950.915,1205.06 961.381,1222.39 971.847,1239.37 982.313,1255.95 992.779,1272.1 1003.25,1287.79 1013.71,1302.96 1024.18,1317.59 1034.64,1331.63 1045.11,1345.05 \n",
       "  1055.58,1357.81 1066.04,1369.86 1076.51,1381.18 1086.97,1391.71 1097.44,1401.43 1107.91,1410.29 1118.37,1418.26 1128.84,1425.29 1139.31,1431.35 1149.77,1436.4 \n",
       "  1160.24,1440.4 1170.7,1443.31 1181.17,1445.1 1191.64,1445.72 1202.1,1445.13 1212.57,1443.3 1223.04,1440.19 1233.5,1435.75 1243.97,1429.96 1254.43,1422.77 \n",
       "  \n",
       "  \"/>\n",
       "<polyline clip-path=\"url(#clip822)\" style=\"stroke:#eca25c; stroke-linecap:butt; stroke-linejoin:round; stroke-width:8; stroke-opacity:1; fill:none\" points=\"\n",
       "  1254.43,1422.77 1264.9,1414.16 1275.37,1404.15 1285.83,1392.81 1296.3,1380.18 1306.76,1366.3 1317.23,1351.23 1327.7,1335.01 1338.16,1317.69 1348.63,1299.33 \n",
       "  1359.1,1279.96 1369.56,1259.64 1380.03,1238.41 1390.49,1216.33 1400.96,1193.44 1411.43,1169.79 1421.89,1145.42 1432.36,1120.4 1442.83,1094.76 1453.29,1068.56 \n",
       "  1463.76,1041.83 1474.22,1014.64 1484.69,987.031 1495.16,959.046 1505.62,930.737 1516.09,902.152 1526.55,873.339 1537.02,844.348 1547.49,815.226 1557.95,786.022 \n",
       "  1568.42,756.784 1578.89,727.56 1589.35,698.399 1599.82,669.35 1610.28,640.46 1620.75,611.778 1631.22,583.353 1641.68,555.233 1652.15,527.465 1662.62,500.1 \n",
       "  1673.08,473.184 1683.55,446.766 1694.01,420.895 1704.48,395.62 1714.95,370.987 1725.41,347.047 1735.88,323.847 1746.34,301.435 1756.81,279.861 1767.28,259.172 \n",
       "  1777.74,239.416 1788.21,220.643 1798.68,202.9 1809.14,186.236 1819.61,170.699 1830.07,156.338 1840.54,143.201 1851.01,131.337 1861.47,120.793 1871.94,111.618 \n",
       "  1882.41,103.861 1892.87,97.5702 1903.34,92.7934 1913.8,89.5793 1924.27,87.9763 1934.74,88.0327 1945.2,89.797 1955.67,93.3175 1966.13,98.6426 1976.6,105.821 \n",
       "  1987.07,114.9 1997.53,125.929 2008,138.957 2018.47,154.031 2028.93,171.199 2039.4,190.511 2049.86,212.015 2060.33,235.758 2070.8,261.791 2081.26,290.159 \n",
       "  2091.73,320.913 2102.2,354.101 2112.66,389.771 2123.13,427.97 2133.59,468.749 2144.06,512.154 2154.53,558.235 2164.99,607.04 2175.46,658.617 2185.92,713.015 \n",
       "  2196.39,770.282 2206.86,830.466 2217.32,893.616 2227.79,959.78 2238.26,1029.01 2248.72,1101.34 2259.19,1176.84 2269.65,1255.54 2280.12,1337.5 2290.59,1422.77 \n",
       "  \n",
       "  \"/>\n",
       "<circle clip-path=\"url(#clip822)\" cx=\"218.281\" cy=\"1422.77\" r=\"14\" fill=\"#3f9778\" fill-rule=\"evenodd\" fill-opacity=\"1\" stroke=\"#adb2b7\" stroke-opacity=\"1\" stroke-width=\"3.2\"/>\n",
       "<circle clip-path=\"url(#clip822)\" cx=\"736.358\" cy=\"835.971\" r=\"14\" fill=\"#3f9778\" fill-rule=\"evenodd\" fill-opacity=\"1\" stroke=\"#adb2b7\" stroke-opacity=\"1\" stroke-width=\"3.2\"/>\n",
       "<circle clip-path=\"url(#clip822)\" cx=\"1254.43\" cy=\"1422.77\" r=\"14\" fill=\"#3f9778\" fill-rule=\"evenodd\" fill-opacity=\"1\" stroke=\"#adb2b7\" stroke-opacity=\"1\" stroke-width=\"3.2\"/>\n",
       "<circle clip-path=\"url(#clip822)\" cx=\"1772.51\" cy=\"249.174\" r=\"14\" fill=\"#3f9778\" fill-rule=\"evenodd\" fill-opacity=\"1\" stroke=\"#adb2b7\" stroke-opacity=\"1\" stroke-width=\"3.2\"/>\n",
       "<circle clip-path=\"url(#clip822)\" cx=\"2290.59\" cy=\"1422.77\" r=\"14\" fill=\"#3f9778\" fill-rule=\"evenodd\" fill-opacity=\"1\" stroke=\"#adb2b7\" stroke-opacity=\"1\" stroke-width=\"3.2\"/>\n",
       "<path clip-path=\"url(#clip820)\" d=\"\n",
       "M229.334 302.578 L624.677 302.578 L624.677 95.2176 L229.334 95.2176  Z\n",
       "  \" fill=\"#363d46\" fill-rule=\"evenodd\" fill-opacity=\"1\"/>\n",
       "<polyline clip-path=\"url(#clip820)\" style=\"stroke:#ffffff; stroke-linecap:butt; stroke-linejoin:round; stroke-width:4; stroke-opacity:1; fill:none\" points=\"\n",
       "  229.334,302.578 624.677,302.578 624.677,95.2176 229.334,95.2176 229.334,302.578 \n",
       "  \"/>\n",
       "<polyline clip-path=\"url(#clip820)\" style=\"stroke:#fe4365; stroke-linecap:butt; stroke-linejoin:round; stroke-width:4; stroke-opacity:1; fill:none\" points=\"\n",
       "  253.741,147.058 400.184,147.058 \n",
       "  \"/>\n",
       "<path clip-path=\"url(#clip820)\" d=\"M429.267 133.62 L429.267 146.606 L435.146 146.606 Q438.41 146.606 440.193 144.916 Q441.975 143.227 441.975 140.102 Q441.975 137 440.193 135.31 Q438.41 133.62 435.146 133.62 L429.267 133.62 M424.591 129.778 L435.146 129.778 Q440.956 129.778 443.919 132.416 Q446.906 135.032 446.906 140.102 Q446.906 145.217 443.919 147.833 Q440.956 150.449 435.146 150.449 L429.267 150.449 L429.267 164.338 L424.591 164.338 L424.591 129.778 Z\" fill=\"#ffffff\" fill-rule=\"evenodd\" fill-opacity=\"1\" /><path clip-path=\"url(#clip820)\" d=\"M463.225 128.366 Q460.123 133.69 458.618 138.898 Q457.114 144.106 457.114 149.453 Q457.114 154.801 458.618 160.055 Q460.146 165.287 463.225 170.588 L459.521 170.588 Q456.049 165.148 454.313 159.893 Q452.6 154.639 452.6 149.453 Q452.6 144.291 454.313 139.06 Q456.026 133.828 459.521 128.366 L463.225 128.366 Z\" fill=\"#ffffff\" fill-rule=\"evenodd\" fill-opacity=\"1\" /><path clip-path=\"url(#clip820)\" d=\"M493.04 138.412 L483.665 151.027 L493.526 164.338 L488.503 164.338 L480.956 154.152 L473.41 164.338 L468.387 164.338 L478.456 150.773 L469.243 138.412 L474.266 138.412 L481.141 147.648 L488.016 138.412 L493.04 138.412 Z\" fill=\"#ffffff\" fill-rule=\"evenodd\" fill-opacity=\"1\" /><path clip-path=\"url(#clip820)\" d=\"M498.873 128.366 L502.577 128.366 Q506.049 133.828 507.762 139.06 Q509.498 144.291 509.498 149.453 Q509.498 154.639 507.762 159.893 Q506.049 165.148 502.577 170.588 L498.873 170.588 Q501.952 165.287 503.456 160.055 Q504.984 154.801 504.984 149.453 Q504.984 144.106 503.456 138.898 Q501.952 133.69 498.873 128.366 Z\" fill=\"#ffffff\" fill-rule=\"evenodd\" fill-opacity=\"1\" /><polyline clip-path=\"url(#clip820)\" style=\"stroke:#eca25c; stroke-linecap:butt; stroke-linejoin:round; stroke-width:4; stroke-opacity:1; fill:none\" points=\"\n",
       "  253.741,198.898 400.184,198.898 \n",
       "  \"/>\n",
       "<path clip-path=\"url(#clip820)\" d=\"M440.609 184.789 Q435.517 184.789 432.507 188.585 Q429.521 192.381 429.521 198.932 Q429.521 205.46 432.507 209.256 Q435.517 213.053 440.609 213.053 Q445.702 213.053 448.665 209.256 Q451.651 205.46 451.651 198.932 Q451.651 192.381 448.665 188.585 Q445.702 184.789 440.609 184.789 M447.16 215.553 L453.318 222.289 L447.669 222.289 L442.554 216.756 Q441.79 216.803 441.373 216.826 Q440.98 216.849 440.609 216.849 Q433.318 216.849 428.943 211.988 Q424.591 207.104 424.591 198.932 Q424.591 190.738 428.943 185.877 Q433.318 180.993 440.609 180.993 Q447.878 180.993 452.23 185.877 Q456.581 190.738 456.581 198.932 Q456.581 204.951 454.151 209.233 Q451.743 213.516 447.16 215.553 Z\" fill=\"#ffffff\" fill-rule=\"evenodd\" fill-opacity=\"1\" /><path clip-path=\"url(#clip820)\" d=\"M473.942 180.206 Q470.841 185.53 469.336 190.738 Q467.831 195.946 467.831 201.293 Q467.831 206.641 469.336 211.895 Q470.864 217.127 473.942 222.428 L470.239 222.428 Q466.767 216.988 465.03 211.733 Q463.317 206.479 463.317 201.293 Q463.317 196.131 465.03 190.9 Q466.743 185.668 470.239 180.206 L473.942 180.206 Z\" fill=\"#ffffff\" fill-rule=\"evenodd\" fill-opacity=\"1\" /><path clip-path=\"url(#clip820)\" d=\"M503.757 190.252 L494.382 202.867 L504.243 216.178 L499.22 216.178 L491.674 205.992 L484.128 216.178 L479.104 216.178 L489.174 202.613 L479.961 190.252 L484.984 190.252 L491.859 199.488 L498.734 190.252 L503.757 190.252 Z\" fill=\"#ffffff\" fill-rule=\"evenodd\" fill-opacity=\"1\" /><path clip-path=\"url(#clip820)\" d=\"M509.59 180.206 L513.294 180.206 Q516.766 185.668 518.479 190.9 Q520.215 196.131 520.215 201.293 Q520.215 206.479 518.479 211.733 Q516.766 216.988 513.294 222.428 L509.59 222.428 Q512.669 217.127 514.174 211.895 Q515.701 206.641 515.701 201.293 Q515.701 195.946 514.174 190.738 Q512.669 185.53 509.59 180.206 Z\" fill=\"#ffffff\" fill-rule=\"evenodd\" fill-opacity=\"1\" /><circle clip-path=\"url(#clip820)\" cx=\"326.962\" cy=\"250.738\" r=\"23\" fill=\"#3f9778\" fill-rule=\"evenodd\" fill-opacity=\"1\" stroke=\"#adb2b7\" stroke-opacity=\"1\" stroke-width=\"5.12\"/>\n",
       "<path clip-path=\"url(#clip820)\" d=\"M429.267 237.3 L429.267 250.286 L435.146 250.286 Q438.41 250.286 440.193 248.596 Q441.975 246.907 441.975 243.782 Q441.975 240.68 440.193 238.99 Q438.41 237.3 435.146 237.3 L429.267 237.3 M424.591 233.458 L435.146 233.458 Q440.956 233.458 443.919 236.096 Q446.906 238.712 446.906 243.782 Q446.906 248.897 443.919 251.513 Q440.956 254.129 435.146 254.129 L429.267 254.129 L429.267 268.018 L424.591 268.018 L424.591 233.458 Z\" fill=\"#ffffff\" fill-rule=\"evenodd\" fill-opacity=\"1\" /><path clip-path=\"url(#clip820)\" d=\"M461.35 245.078 Q457.924 245.078 455.933 247.763 Q453.943 250.425 453.943 255.078 Q453.943 259.731 455.91 262.416 Q457.901 265.078 461.35 265.078 Q464.753 265.078 466.743 262.393 Q468.734 259.707 468.734 255.078 Q468.734 250.471 466.743 247.786 Q464.753 245.078 461.35 245.078 M461.35 241.467 Q466.905 241.467 470.077 245.078 Q473.248 248.689 473.248 255.078 Q473.248 261.444 470.077 265.078 Q466.905 268.689 461.35 268.689 Q455.771 268.689 452.6 265.078 Q449.452 261.444 449.452 255.078 Q449.452 248.689 452.6 245.078 Q455.771 241.467 461.35 241.467 Z\" fill=\"#ffffff\" fill-rule=\"evenodd\" fill-opacity=\"1\" /><path clip-path=\"url(#clip820)\" d=\"M501.859 252.369 L501.859 268.018 L497.6 268.018 L497.6 252.508 Q497.6 248.828 496.165 246.999 Q494.729 245.17 491.859 245.17 Q488.41 245.17 486.419 247.37 Q484.428 249.569 484.428 253.365 L484.428 268.018 L480.146 268.018 L480.146 242.092 L484.428 242.092 L484.428 246.12 Q485.956 243.782 488.016 242.624 Q490.1 241.467 492.808 241.467 Q497.276 241.467 499.567 244.245 Q501.859 246.999 501.859 252.369 Z\" fill=\"#ffffff\" fill-rule=\"evenodd\" fill-opacity=\"1\" /><path clip-path=\"url(#clip820)\" d=\"M514.567 234.731 L514.567 242.092 L523.34 242.092 L523.34 245.402 L514.567 245.402 L514.567 259.476 Q514.567 262.647 515.424 263.55 Q516.303 264.453 518.965 264.453 L523.34 264.453 L523.34 268.018 L518.965 268.018 Q514.035 268.018 512.16 266.189 Q510.285 264.337 510.285 259.476 L510.285 245.402 L507.16 245.402 L507.16 242.092 L510.285 242.092 L510.285 234.731 L514.567 234.731 Z\" fill=\"#ffffff\" fill-rule=\"evenodd\" fill-opacity=\"1\" /><path clip-path=\"url(#clip820)\" d=\"M538.988 245.078 Q535.562 245.078 533.572 247.763 Q531.581 250.425 531.581 255.078 Q531.581 259.731 533.549 262.416 Q535.539 265.078 538.988 265.078 Q542.391 265.078 544.382 262.393 Q546.373 259.707 546.373 255.078 Q546.373 250.471 544.382 247.786 Q542.391 245.078 538.988 245.078 M538.988 241.467 Q544.544 241.467 547.715 245.078 Q550.886 248.689 550.886 255.078 Q550.886 261.444 547.715 265.078 Q544.544 268.689 538.988 268.689 Q533.41 268.689 530.238 265.078 Q527.09 261.444 527.09 255.078 Q527.09 248.689 530.238 245.078 Q533.41 241.467 538.988 241.467 Z\" fill=\"#ffffff\" fill-rule=\"evenodd\" fill-opacity=\"1\" /><path clip-path=\"url(#clip820)\" d=\"M574.474 242.856 L574.474 246.883 Q572.669 245.957 570.724 245.495 Q568.78 245.032 566.697 245.032 Q563.525 245.032 561.928 246.004 Q560.354 246.976 560.354 248.92 Q560.354 250.402 561.488 251.258 Q562.622 252.092 566.048 252.856 L567.507 253.18 Q572.044 254.152 573.942 255.934 Q575.863 257.694 575.863 260.865 Q575.863 264.476 572.993 266.582 Q570.146 268.689 565.146 268.689 Q563.062 268.689 560.794 268.272 Q558.548 267.879 556.048 267.068 L556.048 262.67 Q558.41 263.897 560.701 264.522 Q562.993 265.124 565.238 265.124 Q568.247 265.124 569.868 264.106 Q571.488 263.064 571.488 261.189 Q571.488 259.453 570.308 258.527 Q569.15 257.601 565.192 256.744 L563.71 256.397 Q559.752 255.564 557.993 253.851 Q556.234 252.115 556.234 249.106 Q556.234 245.448 558.826 243.458 Q561.419 241.467 566.187 241.467 Q568.548 241.467 570.632 241.814 Q572.715 242.161 574.474 242.856 Z\" fill=\"#ffffff\" fill-rule=\"evenodd\" fill-opacity=\"1\" /></svg>\n"
      ]
     },
     "execution_count": 18,
     "metadata": {},
     "output_type": "execute_result"
    }
   ],
   "source": [
    "plot(px, py, label=\"P(x)\", legend=:topleft, lw=2)\n",
    "plot!(qx, qy, label=\"Q(x)\", lw=2)\n",
    "plot!(x, y, label=\"Pontos\", seriestype = :scatter)"
   ]
  }
 ],
 "metadata": {
  "kernelspec": {
   "display_name": "Julia 1.6.3",
   "language": "julia",
   "name": "julia-1.6"
  },
  "language_info": {
   "file_extension": ".jl",
   "mimetype": "application/julia",
   "name": "julia",
   "version": "1.6.3"
  }
 },
 "nbformat": 4,
 "nbformat_minor": 4
}
