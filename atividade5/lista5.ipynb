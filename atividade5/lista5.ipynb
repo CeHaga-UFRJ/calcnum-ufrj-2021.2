{
 "cells": [
  {
   "cell_type": "markdown",
   "metadata": {},
   "source": [
    "# Atividade 5 - Cálculo Numérico\n",
    "Carlos Bravo - 119136241\n",
    "\n",
    "As funções chamadas estão implementadas no arquivo _lib.jl_\n",
    "\n",
    "Algumas questões foram discutidas com:\n",
    "* Gabriele Jandres"
   ]
  },
  {
   "cell_type": "markdown",
   "metadata": {},
   "source": [
    "## Imports"
   ]
  },
  {
   "cell_type": "code",
   "execution_count": 1,
   "metadata": {},
   "outputs": [],
   "source": [
    "include(\"../lib.jl\");"
   ]
  },
  {
   "cell_type": "code",
   "execution_count": 2,
   "metadata": {},
   "outputs": [],
   "source": [
    "using Polynomials: Polynomial"
   ]
  },
  {
   "cell_type": "code",
   "execution_count": 3,
   "metadata": {},
   "outputs": [],
   "source": [
    "using Plots"
   ]
  },
  {
   "cell_type": "code",
   "execution_count": 4,
   "metadata": {},
   "outputs": [],
   "source": [
    "using Printf: @printf"
   ]
  },
  {
   "cell_type": "code",
   "execution_count": 5,
   "metadata": {},
   "outputs": [],
   "source": [
    "gr()\n",
    "theme(:dark)"
   ]
  },
  {
   "cell_type": "markdown",
   "metadata": {},
   "source": [
    "## Exercício 1"
   ]
  },
  {
   "cell_type": "markdown",
   "metadata": {},
   "source": [
    "Para pode fazer a regressão não-linear, usaremos a mesma estratégia usada na lista anterior:\n",
    "$$T = c_0x^{c_1}$$\n",
    "$$ln(T) = ln(c_0) + c_1ln(x)$$\n",
    "\n",
    "\"Dicionário\":\n",
    "* $T\\_exp = ln(T)$\n",
    "* $c0\\_exp = ln(c0)$\n",
    "* $c1\\_exp = c_1$\n",
    "* $x\\_exp = ln(x)$"
   ]
  },
  {
   "cell_type": "code",
   "execution_count": 6,
   "metadata": {},
   "outputs": [],
   "source": [
    "x = [0.1, 0.2, 0.4, 0.8, 0.9]\n",
    "T = [22, 43, 84, 210, 320];"
   ]
  },
  {
   "cell_type": "code",
   "execution_count": 7,
   "metadata": {},
   "outputs": [],
   "source": [
    "# Converte pelo dicionario e transforma em uma reta\n",
    "x_exp = log.(x)\n",
    "T_exp = log.(T)\n",
    "c_exp = interpolation(x_exp, T_exp, 1);"
   ]
  },
  {
   "cell_type": "code",
   "execution_count": 8,
   "metadata": {},
   "outputs": [
    {
     "data": {
      "image/svg+xml": [
       "<?xml version=\"1.0\" encoding=\"utf-8\"?>\n",
       "<svg xmlns=\"http://www.w3.org/2000/svg\" xmlns:xlink=\"http://www.w3.org/1999/xlink\" width=\"600\" height=\"400\" viewBox=\"0 0 2400 1600\">\n",
       "<defs>\n",
       "  <clipPath id=\"clip550\">\n",
       "    <rect x=\"0\" y=\"0\" width=\"2400\" height=\"1600\"/>\n",
       "  </clipPath>\n",
       "</defs>\n",
       "<path clip-path=\"url(#clip550)\" d=\"\n",
       "M0 1600 L2400 1600 L2400 0 L0 0  Z\n",
       "  \" fill=\"#363d46\" fill-rule=\"evenodd\" fill-opacity=\"1\"/>\n",
       "<defs>\n",
       "  <clipPath id=\"clip551\">\n",
       "    <rect x=\"480\" y=\"0\" width=\"1681\" height=\"1600\"/>\n",
       "  </clipPath>\n",
       "</defs>\n",
       "<path clip-path=\"url(#clip550)\" d=\"\n",
       "M156.922 1486.45 L2352.76 1486.45 L2352.76 47.2441 L156.922 47.2441  Z\n",
       "  \" fill=\"#30343b\" fill-rule=\"evenodd\" fill-opacity=\"1\"/>\n",
       "<defs>\n",
       "  <clipPath id=\"clip552\">\n",
       "    <rect x=\"156\" y=\"47\" width=\"2197\" height=\"1440\"/>\n",
       "  </clipPath>\n",
       "</defs>\n",
       "<polyline clip-path=\"url(#clip552)\" style=\"stroke:#adb2b7; stroke-linecap:butt; stroke-linejoin:round; stroke-width:2; stroke-opacity:0.1; fill:none\" points=\"\n",
       "  504.345,1486.45 504.345,47.2441 \n",
       "  \"/>\n",
       "<polyline clip-path=\"url(#clip552)\" style=\"stroke:#adb2b7; stroke-linecap:butt; stroke-linejoin:round; stroke-width:2; stroke-opacity:0.1; fill:none\" points=\"\n",
       "  975.745,1486.45 975.745,47.2441 \n",
       "  \"/>\n",
       "<polyline clip-path=\"url(#clip552)\" style=\"stroke:#adb2b7; stroke-linecap:butt; stroke-linejoin:round; stroke-width:2; stroke-opacity:0.1; fill:none\" points=\"\n",
       "  1447.14,1486.45 1447.14,47.2441 \n",
       "  \"/>\n",
       "<polyline clip-path=\"url(#clip552)\" style=\"stroke:#adb2b7; stroke-linecap:butt; stroke-linejoin:round; stroke-width:2; stroke-opacity:0.1; fill:none\" points=\"\n",
       "  1918.54,1486.45 1918.54,47.2441 \n",
       "  \"/>\n",
       "<polyline clip-path=\"url(#clip550)\" style=\"stroke:#adb2b7; stroke-linecap:butt; stroke-linejoin:round; stroke-width:4; stroke-opacity:1; fill:none\" points=\"\n",
       "  156.922,1486.45 2352.76,1486.45 \n",
       "  \"/>\n",
       "<polyline clip-path=\"url(#clip550)\" style=\"stroke:#adb2b7; stroke-linecap:butt; stroke-linejoin:round; stroke-width:4; stroke-opacity:1; fill:none\" points=\"\n",
       "  504.345,1486.45 504.345,1467.55 \n",
       "  \"/>\n",
       "<polyline clip-path=\"url(#clip550)\" style=\"stroke:#adb2b7; stroke-linecap:butt; stroke-linejoin:round; stroke-width:4; stroke-opacity:1; fill:none\" points=\"\n",
       "  975.745,1486.45 975.745,1467.55 \n",
       "  \"/>\n",
       "<polyline clip-path=\"url(#clip550)\" style=\"stroke:#adb2b7; stroke-linecap:butt; stroke-linejoin:round; stroke-width:4; stroke-opacity:1; fill:none\" points=\"\n",
       "  1447.14,1486.45 1447.14,1467.55 \n",
       "  \"/>\n",
       "<polyline clip-path=\"url(#clip550)\" style=\"stroke:#adb2b7; stroke-linecap:butt; stroke-linejoin:round; stroke-width:4; stroke-opacity:1; fill:none\" points=\"\n",
       "  1918.54,1486.45 1918.54,1467.55 \n",
       "  \"/>\n",
       "<path clip-path=\"url(#clip550)\" d=\"M450.874 1532.02 L480.549 1532.02 L480.549 1535.95 L450.874 1535.95 L450.874 1532.02 Z\" fill=\"#ffffff\" fill-rule=\"evenodd\" fill-opacity=\"1\" /><path clip-path=\"url(#clip550)\" d=\"M494.67 1544.91 L510.989 1544.91 L510.989 1548.85 L489.045 1548.85 L489.045 1544.91 Q491.707 1542.16 496.29 1537.53 Q500.896 1532.88 502.077 1531.53 Q504.322 1529.01 505.202 1527.27 Q506.105 1525.51 506.105 1523.82 Q506.105 1521.07 504.16 1519.33 Q502.239 1517.6 499.137 1517.6 Q496.938 1517.6 494.484 1518.36 Q492.054 1519.13 489.276 1520.68 L489.276 1515.95 Q492.1 1514.82 494.554 1514.24 Q497.008 1513.66 499.045 1513.66 Q504.415 1513.66 507.609 1516.35 Q510.804 1519.03 510.804 1523.52 Q510.804 1525.65 509.994 1527.57 Q509.207 1529.47 507.1 1532.07 Q506.521 1532.74 503.42 1535.95 Q500.318 1539.15 494.67 1544.91 Z\" fill=\"#ffffff\" fill-rule=\"evenodd\" fill-opacity=\"1\" /><path clip-path=\"url(#clip550)\" d=\"M520.804 1542.97 L525.688 1542.97 L525.688 1548.85 L520.804 1548.85 L520.804 1542.97 Z\" fill=\"#ffffff\" fill-rule=\"evenodd\" fill-opacity=\"1\" /><path clip-path=\"url(#clip550)\" d=\"M545.873 1517.37 Q542.262 1517.37 540.433 1520.93 Q538.628 1524.47 538.628 1531.6 Q538.628 1538.71 540.433 1542.27 Q542.262 1545.82 545.873 1545.82 Q549.507 1545.82 551.313 1542.27 Q553.141 1538.71 553.141 1531.6 Q553.141 1524.47 551.313 1520.93 Q549.507 1517.37 545.873 1517.37 M545.873 1513.66 Q551.683 1513.66 554.739 1518.27 Q557.817 1522.85 557.817 1531.6 Q557.817 1540.33 554.739 1544.94 Q551.683 1549.52 545.873 1549.52 Q540.063 1549.52 536.984 1544.94 Q533.929 1540.33 533.929 1531.6 Q533.929 1522.85 536.984 1518.27 Q540.063 1513.66 545.873 1513.66 Z\" fill=\"#ffffff\" fill-rule=\"evenodd\" fill-opacity=\"1\" /><path clip-path=\"url(#clip550)\" d=\"M922.771 1532.02 L952.446 1532.02 L952.446 1535.95 L922.771 1535.95 L922.771 1532.02 Z\" fill=\"#ffffff\" fill-rule=\"evenodd\" fill-opacity=\"1\" /><path clip-path=\"url(#clip550)\" d=\"M963.349 1544.91 L970.988 1544.91 L970.988 1518.55 L962.678 1520.21 L962.678 1515.95 L970.942 1514.29 L975.618 1514.29 L975.618 1544.91 L983.256 1544.91 L983.256 1548.85 L963.349 1548.85 L963.349 1544.91 Z\" fill=\"#ffffff\" fill-rule=\"evenodd\" fill-opacity=\"1\" /><path clip-path=\"url(#clip550)\" d=\"M992.701 1542.97 L997.585 1542.97 L997.585 1548.85 L992.701 1548.85 L992.701 1542.97 Z\" fill=\"#ffffff\" fill-rule=\"evenodd\" fill-opacity=\"1\" /><path clip-path=\"url(#clip550)\" d=\"M1007.82 1514.29 L1026.17 1514.29 L1026.17 1518.22 L1012.1 1518.22 L1012.1 1526.7 Q1013.12 1526.35 1014.14 1526.19 Q1015.15 1526 1016.17 1526 Q1021.96 1526 1025.34 1529.17 Q1028.72 1532.34 1028.72 1537.76 Q1028.72 1543.34 1025.25 1546.44 Q1021.77 1549.52 1015.46 1549.52 Q1013.28 1549.52 1011.01 1549.15 Q1008.77 1548.78 1006.36 1548.04 L1006.36 1543.34 Q1008.44 1544.47 1010.66 1545.03 Q1012.89 1545.58 1015.36 1545.58 Q1019.37 1545.58 1021.71 1543.48 Q1024.04 1541.37 1024.04 1537.76 Q1024.04 1534.15 1021.71 1532.04 Q1019.37 1529.94 1015.36 1529.94 Q1013.49 1529.94 1011.61 1530.35 Q1009.76 1530.77 1007.82 1531.65 L1007.82 1514.29 Z\" fill=\"#ffffff\" fill-rule=\"evenodd\" fill-opacity=\"1\" /><path clip-path=\"url(#clip550)\" d=\"M1393.67 1532.02 L1423.35 1532.02 L1423.35 1535.95 L1393.67 1535.95 L1393.67 1532.02 Z\" fill=\"#ffffff\" fill-rule=\"evenodd\" fill-opacity=\"1\" /><path clip-path=\"url(#clip550)\" d=\"M1434.25 1544.91 L1441.89 1544.91 L1441.89 1518.55 L1433.58 1520.21 L1433.58 1515.95 L1441.84 1514.29 L1446.52 1514.29 L1446.52 1544.91 L1454.16 1544.91 L1454.16 1548.85 L1434.25 1548.85 L1434.25 1544.91 Z\" fill=\"#ffffff\" fill-rule=\"evenodd\" fill-opacity=\"1\" /><path clip-path=\"url(#clip550)\" d=\"M1463.6 1542.97 L1468.49 1542.97 L1468.49 1548.85 L1463.6 1548.85 L1463.6 1542.97 Z\" fill=\"#ffffff\" fill-rule=\"evenodd\" fill-opacity=\"1\" /><path clip-path=\"url(#clip550)\" d=\"M1488.67 1517.37 Q1485.06 1517.37 1483.23 1520.93 Q1481.43 1524.47 1481.43 1531.6 Q1481.43 1538.71 1483.23 1542.27 Q1485.06 1545.82 1488.67 1545.82 Q1492.31 1545.82 1494.11 1542.27 Q1495.94 1538.71 1495.94 1531.6 Q1495.94 1524.47 1494.11 1520.93 Q1492.31 1517.37 1488.67 1517.37 M1488.67 1513.66 Q1494.48 1513.66 1497.54 1518.27 Q1500.62 1522.85 1500.62 1531.6 Q1500.62 1540.33 1497.54 1544.94 Q1494.48 1549.52 1488.67 1549.52 Q1482.86 1549.52 1479.78 1544.94 Q1476.73 1540.33 1476.73 1531.6 Q1476.73 1522.85 1479.78 1518.27 Q1482.86 1513.66 1488.67 1513.66 Z\" fill=\"#ffffff\" fill-rule=\"evenodd\" fill-opacity=\"1\" /><path clip-path=\"url(#clip550)\" d=\"M1865.57 1532.02 L1895.25 1532.02 L1895.25 1535.95 L1865.57 1535.95 L1865.57 1532.02 Z\" fill=\"#ffffff\" fill-rule=\"evenodd\" fill-opacity=\"1\" /><path clip-path=\"url(#clip550)\" d=\"M1915.34 1517.37 Q1911.73 1517.37 1909.9 1520.93 Q1908.09 1524.47 1908.09 1531.6 Q1908.09 1538.71 1909.9 1542.27 Q1911.73 1545.82 1915.34 1545.82 Q1918.97 1545.82 1920.78 1542.27 Q1922.61 1538.71 1922.61 1531.6 Q1922.61 1524.47 1920.78 1520.93 Q1918.97 1517.37 1915.34 1517.37 M1915.34 1513.66 Q1921.15 1513.66 1924.2 1518.27 Q1927.28 1522.85 1927.28 1531.6 Q1927.28 1540.33 1924.2 1544.94 Q1921.15 1549.52 1915.34 1549.52 Q1909.53 1549.52 1906.45 1544.94 Q1903.39 1540.33 1903.39 1531.6 Q1903.39 1522.85 1906.45 1518.27 Q1909.53 1513.66 1915.34 1513.66 Z\" fill=\"#ffffff\" fill-rule=\"evenodd\" fill-opacity=\"1\" /><path clip-path=\"url(#clip550)\" d=\"M1935.5 1542.97 L1940.38 1542.97 L1940.38 1548.85 L1935.5 1548.85 L1935.5 1542.97 Z\" fill=\"#ffffff\" fill-rule=\"evenodd\" fill-opacity=\"1\" /><path clip-path=\"url(#clip550)\" d=\"M1950.62 1514.29 L1968.97 1514.29 L1968.97 1518.22 L1954.9 1518.22 L1954.9 1526.7 Q1955.92 1526.35 1956.93 1526.19 Q1957.95 1526 1958.97 1526 Q1964.76 1526 1968.14 1529.17 Q1971.52 1532.34 1971.52 1537.76 Q1971.52 1543.34 1968.05 1546.44 Q1964.57 1549.52 1958.25 1549.52 Q1956.08 1549.52 1953.81 1549.15 Q1951.56 1548.78 1949.16 1548.04 L1949.16 1543.34 Q1951.24 1544.47 1953.46 1545.03 Q1955.68 1545.58 1958.16 1545.58 Q1962.17 1545.58 1964.5 1543.48 Q1966.84 1541.37 1966.84 1537.76 Q1966.84 1534.15 1964.5 1532.04 Q1962.17 1529.94 1958.16 1529.94 Q1956.29 1529.94 1954.41 1530.35 Q1952.56 1530.77 1950.62 1531.65 L1950.62 1514.29 Z\" fill=\"#ffffff\" fill-rule=\"evenodd\" fill-opacity=\"1\" /><polyline clip-path=\"url(#clip552)\" style=\"stroke:#adb2b7; stroke-linecap:butt; stroke-linejoin:round; stroke-width:2; stroke-opacity:0.1; fill:none\" points=\"\n",
       "  156.922,1441.16 2352.76,1441.16 \n",
       "  \"/>\n",
       "<polyline clip-path=\"url(#clip552)\" style=\"stroke:#adb2b7; stroke-linecap:butt; stroke-linejoin:round; stroke-width:2; stroke-opacity:0.1; fill:none\" points=\"\n",
       "  156.922,1196.75 2352.76,1196.75 \n",
       "  \"/>\n",
       "<polyline clip-path=\"url(#clip552)\" style=\"stroke:#adb2b7; stroke-linecap:butt; stroke-linejoin:round; stroke-width:2; stroke-opacity:0.1; fill:none\" points=\"\n",
       "  156.922,952.349 2352.76,952.349 \n",
       "  \"/>\n",
       "<polyline clip-path=\"url(#clip552)\" style=\"stroke:#adb2b7; stroke-linecap:butt; stroke-linejoin:round; stroke-width:2; stroke-opacity:0.1; fill:none\" points=\"\n",
       "  156.922,707.944 2352.76,707.944 \n",
       "  \"/>\n",
       "<polyline clip-path=\"url(#clip552)\" style=\"stroke:#adb2b7; stroke-linecap:butt; stroke-linejoin:round; stroke-width:2; stroke-opacity:0.1; fill:none\" points=\"\n",
       "  156.922,463.539 2352.76,463.539 \n",
       "  \"/>\n",
       "<polyline clip-path=\"url(#clip552)\" style=\"stroke:#adb2b7; stroke-linecap:butt; stroke-linejoin:round; stroke-width:2; stroke-opacity:0.1; fill:none\" points=\"\n",
       "  156.922,219.134 2352.76,219.134 \n",
       "  \"/>\n",
       "<polyline clip-path=\"url(#clip550)\" style=\"stroke:#adb2b7; stroke-linecap:butt; stroke-linejoin:round; stroke-width:4; stroke-opacity:1; fill:none\" points=\"\n",
       "  156.922,1486.45 156.922,47.2441 \n",
       "  \"/>\n",
       "<polyline clip-path=\"url(#clip550)\" style=\"stroke:#adb2b7; stroke-linecap:butt; stroke-linejoin:round; stroke-width:4; stroke-opacity:1; fill:none\" points=\"\n",
       "  156.922,1441.16 175.82,1441.16 \n",
       "  \"/>\n",
       "<polyline clip-path=\"url(#clip550)\" style=\"stroke:#adb2b7; stroke-linecap:butt; stroke-linejoin:round; stroke-width:4; stroke-opacity:1; fill:none\" points=\"\n",
       "  156.922,1196.75 175.82,1196.75 \n",
       "  \"/>\n",
       "<polyline clip-path=\"url(#clip550)\" style=\"stroke:#adb2b7; stroke-linecap:butt; stroke-linejoin:round; stroke-width:4; stroke-opacity:1; fill:none\" points=\"\n",
       "  156.922,952.349 175.82,952.349 \n",
       "  \"/>\n",
       "<polyline clip-path=\"url(#clip550)\" style=\"stroke:#adb2b7; stroke-linecap:butt; stroke-linejoin:round; stroke-width:4; stroke-opacity:1; fill:none\" points=\"\n",
       "  156.922,707.944 175.82,707.944 \n",
       "  \"/>\n",
       "<polyline clip-path=\"url(#clip550)\" style=\"stroke:#adb2b7; stroke-linecap:butt; stroke-linejoin:round; stroke-width:4; stroke-opacity:1; fill:none\" points=\"\n",
       "  156.922,463.539 175.82,463.539 \n",
       "  \"/>\n",
       "<polyline clip-path=\"url(#clip550)\" style=\"stroke:#adb2b7; stroke-linecap:butt; stroke-linejoin:round; stroke-width:4; stroke-opacity:1; fill:none\" points=\"\n",
       "  156.922,219.134 175.82,219.134 \n",
       "  \"/>\n",
       "<path clip-path=\"url(#clip550)\" d=\"M67.9133 1439.81 Q71.2698 1440.52 73.1448 1442.79 Q75.0429 1445.06 75.0429 1448.39 Q75.0429 1453.51 71.5244 1456.31 Q68.0059 1459.11 61.5245 1459.11 Q59.3486 1459.11 57.0338 1458.67 Q54.7421 1458.25 52.2884 1457.4 L52.2884 1452.88 Q54.2328 1454.02 56.5477 1454.6 Q58.8625 1455.18 61.3856 1455.18 Q65.7837 1455.18 68.0754 1453.44 Q70.3902 1451.7 70.3902 1448.39 Q70.3902 1445.34 68.2374 1443.62 Q66.1078 1441.89 62.2884 1441.89 L58.2606 1441.89 L58.2606 1438.05 L62.4735 1438.05 Q65.9226 1438.05 67.7513 1436.68 Q69.58 1435.29 69.58 1432.7 Q69.58 1430.04 67.6819 1428.62 Q65.8069 1427.19 62.2884 1427.19 Q60.3671 1427.19 58.168 1427.61 Q55.969 1428.02 53.3301 1428.9 L53.3301 1424.74 Q55.9921 1423.99 58.3069 1423.62 Q60.6449 1423.25 62.705 1423.25 Q68.0291 1423.25 71.1309 1425.68 Q74.2327 1428.09 74.2327 1432.21 Q74.2327 1435.08 72.5892 1437.07 Q70.9457 1439.04 67.9133 1439.81 Z\" fill=\"#ffffff\" fill-rule=\"evenodd\" fill-opacity=\"1\" /><path clip-path=\"url(#clip550)\" d=\"M83.9086 1452.56 L88.7928 1452.56 L88.7928 1458.44 L83.9086 1458.44 L83.9086 1452.56 Z\" fill=\"#ffffff\" fill-rule=\"evenodd\" fill-opacity=\"1\" /><path clip-path=\"url(#clip550)\" d=\"M108.978 1426.96 Q105.367 1426.96 103.538 1430.52 Q101.733 1434.06 101.733 1441.19 Q101.733 1448.3 103.538 1451.87 Q105.367 1455.41 108.978 1455.41 Q112.612 1455.41 114.418 1451.87 Q116.246 1448.3 116.246 1441.19 Q116.246 1434.06 114.418 1430.52 Q112.612 1426.96 108.978 1426.96 M108.978 1423.25 Q114.788 1423.25 117.844 1427.86 Q120.922 1432.44 120.922 1441.19 Q120.922 1449.92 117.844 1454.53 Q114.788 1459.11 108.978 1459.11 Q103.168 1459.11 100.089 1454.53 Q97.0335 1449.92 97.0335 1441.19 Q97.0335 1432.44 100.089 1427.86 Q103.168 1423.25 108.978 1423.25 Z\" fill=\"#ffffff\" fill-rule=\"evenodd\" fill-opacity=\"1\" /><path clip-path=\"url(#clip550)\" d=\"M68.9087 1195.4 Q72.2652 1196.12 74.1402 1198.39 Q76.0383 1200.65 76.0383 1203.99 Q76.0383 1209.1 72.5198 1211.9 Q69.0013 1214.71 62.5198 1214.71 Q60.3439 1214.71 58.0291 1214.27 Q55.7375 1213.85 53.2838 1212.99 L53.2838 1208.48 Q55.2282 1209.61 57.543 1210.19 Q59.8578 1210.77 62.381 1210.77 Q66.7791 1210.77 69.0707 1209.03 Q71.3855 1207.3 71.3855 1203.99 Q71.3855 1200.93 69.2328 1199.22 Q67.1032 1197.48 63.2837 1197.48 L59.256 1197.48 L59.256 1193.64 L63.4689 1193.64 Q66.918 1193.64 68.7467 1192.28 Q70.5754 1190.89 70.5754 1188.29 Q70.5754 1185.63 68.6772 1184.22 Q66.8022 1182.78 63.2837 1182.78 Q61.3624 1182.78 59.1634 1183.2 Q56.9643 1183.62 54.3254 1184.5 L54.3254 1180.33 Q56.9875 1179.59 59.3023 1179.22 Q61.6402 1178.85 63.7004 1178.85 Q69.0244 1178.85 72.1263 1181.28 Q75.2281 1183.69 75.2281 1187.81 Q75.2281 1190.68 73.5846 1192.67 Q71.9411 1194.64 68.9087 1195.4 Z\" fill=\"#ffffff\" fill-rule=\"evenodd\" fill-opacity=\"1\" /><path clip-path=\"url(#clip550)\" d=\"M84.904 1208.15 L89.7882 1208.15 L89.7882 1214.03 L84.904 1214.03 L84.904 1208.15 Z\" fill=\"#ffffff\" fill-rule=\"evenodd\" fill-opacity=\"1\" /><path clip-path=\"url(#clip550)\" d=\"M100.02 1179.47 L118.376 1179.47 L118.376 1183.41 L104.302 1183.41 L104.302 1191.88 Q105.321 1191.53 106.339 1191.37 Q107.358 1191.19 108.376 1191.19 Q114.163 1191.19 117.543 1194.36 Q120.922 1197.53 120.922 1202.95 Q120.922 1208.52 117.45 1211.63 Q113.978 1214.71 107.658 1214.71 Q105.483 1214.71 103.214 1214.34 Q100.969 1213.96 98.5613 1213.22 L98.5613 1208.52 Q100.645 1209.66 102.867 1210.21 Q105.089 1210.77 107.566 1210.77 Q111.571 1210.77 113.908 1208.66 Q116.246 1206.56 116.246 1202.95 Q116.246 1199.34 113.908 1197.23 Q111.571 1195.12 107.566 1195.12 Q105.691 1195.12 103.816 1195.54 Q101.964 1195.96 100.02 1196.84 L100.02 1179.47 Z\" fill=\"#ffffff\" fill-rule=\"evenodd\" fill-opacity=\"1\" /><path clip-path=\"url(#clip550)\" d=\"M66.5939 939.143 L54.7884 957.592 L66.5939 957.592 L66.5939 939.143 M65.367 935.069 L71.2466 935.069 L71.2466 957.592 L76.1772 957.592 L76.1772 961.481 L71.2466 961.481 L71.2466 969.629 L66.5939 969.629 L66.5939 961.481 L50.9921 961.481 L50.9921 956.967 L65.367 935.069 Z\" fill=\"#ffffff\" fill-rule=\"evenodd\" fill-opacity=\"1\" /><path clip-path=\"url(#clip550)\" d=\"M83.9086 963.75 L88.7928 963.75 L88.7928 969.629 L83.9086 969.629 L83.9086 963.75 Z\" fill=\"#ffffff\" fill-rule=\"evenodd\" fill-opacity=\"1\" /><path clip-path=\"url(#clip550)\" d=\"M108.978 938.148 Q105.367 938.148 103.538 941.713 Q101.733 945.254 101.733 952.384 Q101.733 959.49 103.538 963.055 Q105.367 966.597 108.978 966.597 Q112.612 966.597 114.418 963.055 Q116.246 959.49 116.246 952.384 Q116.246 945.254 114.418 941.713 Q112.612 938.148 108.978 938.148 M108.978 934.444 Q114.788 934.444 117.844 939.051 Q120.922 943.634 120.922 952.384 Q120.922 961.111 117.844 965.717 Q114.788 970.301 108.978 970.301 Q103.168 970.301 100.089 965.717 Q97.0335 961.111 97.0335 952.384 Q97.0335 943.634 100.089 939.051 Q103.168 934.444 108.978 934.444 Z\" fill=\"#ffffff\" fill-rule=\"evenodd\" fill-opacity=\"1\" /><path clip-path=\"url(#clip550)\" d=\"M67.5893 694.738 L55.7838 713.187 L67.5893 713.187 L67.5893 694.738 M66.3624 690.664 L72.242 690.664 L72.242 713.187 L77.1725 713.187 L77.1725 717.076 L72.242 717.076 L72.242 725.224 L67.5893 725.224 L67.5893 717.076 L51.9875 717.076 L51.9875 712.562 L66.3624 690.664 Z\" fill=\"#ffffff\" fill-rule=\"evenodd\" fill-opacity=\"1\" /><path clip-path=\"url(#clip550)\" d=\"M84.904 719.345 L89.7882 719.345 L89.7882 725.224 L84.904 725.224 L84.904 719.345 Z\" fill=\"#ffffff\" fill-rule=\"evenodd\" fill-opacity=\"1\" /><path clip-path=\"url(#clip550)\" d=\"M100.02 690.664 L118.376 690.664 L118.376 694.599 L104.302 694.599 L104.302 703.072 Q105.321 702.724 106.339 702.562 Q107.358 702.377 108.376 702.377 Q114.163 702.377 117.543 705.548 Q120.922 708.72 120.922 714.136 Q120.922 719.715 117.45 722.817 Q113.978 725.896 107.658 725.896 Q105.483 725.896 103.214 725.525 Q100.969 725.155 98.5613 724.414 L98.5613 719.715 Q100.645 720.849 102.867 721.405 Q105.089 721.96 107.566 721.96 Q111.571 721.96 113.908 719.854 Q116.246 717.747 116.246 714.136 Q116.246 710.525 113.908 708.419 Q111.571 706.312 107.566 706.312 Q105.691 706.312 103.816 706.729 Q101.964 707.146 100.02 708.025 L100.02 690.664 Z\" fill=\"#ffffff\" fill-rule=\"evenodd\" fill-opacity=\"1\" /><path clip-path=\"url(#clip550)\" d=\"M53.793 446.259 L72.1494 446.259 L72.1494 450.194 L58.0754 450.194 L58.0754 458.667 Q59.0939 458.319 60.1124 458.157 Q61.131 457.972 62.1495 457.972 Q67.9365 457.972 71.3161 461.143 Q74.6957 464.315 74.6957 469.731 Q74.6957 475.31 71.2235 478.412 Q67.7513 481.491 61.4319 481.491 Q59.256 481.491 56.9875 481.12 Q54.7421 480.75 52.3347 480.009 L52.3347 475.31 Q54.418 476.444 56.6402 477 Q58.8625 477.555 61.3393 477.555 Q65.3439 477.555 67.6819 475.449 Q70.0198 473.342 70.0198 469.731 Q70.0198 466.12 67.6819 464.014 Q65.3439 461.907 61.3393 461.907 Q59.4643 461.907 57.5893 462.324 Q55.7375 462.741 53.793 463.62 L53.793 446.259 Z\" fill=\"#ffffff\" fill-rule=\"evenodd\" fill-opacity=\"1\" /><path clip-path=\"url(#clip550)\" d=\"M83.9086 474.94 L88.7928 474.94 L88.7928 480.819 L83.9086 480.819 L83.9086 474.94 Z\" fill=\"#ffffff\" fill-rule=\"evenodd\" fill-opacity=\"1\" /><path clip-path=\"url(#clip550)\" d=\"M108.978 449.338 Q105.367 449.338 103.538 452.903 Q101.733 456.444 101.733 463.574 Q101.733 470.68 103.538 474.245 Q105.367 477.787 108.978 477.787 Q112.612 477.787 114.418 474.245 Q116.246 470.68 116.246 463.574 Q116.246 456.444 114.418 452.903 Q112.612 449.338 108.978 449.338 M108.978 445.634 Q114.788 445.634 117.844 450.241 Q120.922 454.824 120.922 463.574 Q120.922 472.301 117.844 476.907 Q114.788 481.491 108.978 481.491 Q103.168 481.491 100.089 476.907 Q97.0335 472.301 97.0335 463.574 Q97.0335 454.824 100.089 450.241 Q103.168 445.634 108.978 445.634 Z\" fill=\"#ffffff\" fill-rule=\"evenodd\" fill-opacity=\"1\" /><path clip-path=\"url(#clip550)\" d=\"M54.7884 201.854 L73.1448 201.854 L73.1448 205.789 L59.0708 205.789 L59.0708 214.262 Q60.0893 213.914 61.1078 213.752 Q62.1263 213.567 63.1448 213.567 Q68.9318 213.567 72.3115 216.738 Q75.6911 219.91 75.6911 225.326 Q75.6911 230.905 72.2189 234.007 Q68.7467 237.086 62.4272 237.086 Q60.2513 237.086 57.9828 236.715 Q55.7375 236.345 53.3301 235.604 L53.3301 230.905 Q55.4134 232.039 57.6356 232.595 Q59.8578 233.15 62.3347 233.15 Q66.3393 233.15 68.6772 231.044 Q71.0152 228.937 71.0152 225.326 Q71.0152 221.715 68.6772 219.609 Q66.3393 217.502 62.3347 217.502 Q60.4597 217.502 58.5847 217.919 Q56.7328 218.336 54.7884 219.215 L54.7884 201.854 Z\" fill=\"#ffffff\" fill-rule=\"evenodd\" fill-opacity=\"1\" /><path clip-path=\"url(#clip550)\" d=\"M84.904 230.535 L89.7882 230.535 L89.7882 236.414 L84.904 236.414 L84.904 230.535 Z\" fill=\"#ffffff\" fill-rule=\"evenodd\" fill-opacity=\"1\" /><path clip-path=\"url(#clip550)\" d=\"M100.02 201.854 L118.376 201.854 L118.376 205.789 L104.302 205.789 L104.302 214.262 Q105.321 213.914 106.339 213.752 Q107.358 213.567 108.376 213.567 Q114.163 213.567 117.543 216.738 Q120.922 219.91 120.922 225.326 Q120.922 230.905 117.45 234.007 Q113.978 237.086 107.658 237.086 Q105.483 237.086 103.214 236.715 Q100.969 236.345 98.5613 235.604 L98.5613 230.905 Q100.645 232.039 102.867 232.595 Q105.089 233.15 107.566 233.15 Q111.571 233.15 113.908 231.044 Q116.246 228.937 116.246 225.326 Q116.246 221.715 113.908 219.609 Q111.571 217.502 107.566 217.502 Q105.691 217.502 103.816 217.919 Q101.964 218.336 100.02 219.215 L100.02 201.854 Z\" fill=\"#ffffff\" fill-rule=\"evenodd\" fill-opacity=\"1\" /><circle clip-path=\"url(#clip552)\" cx=\"219.069\" cy=\"1396.66\" r=\"14\" fill=\"#fe4365\" fill-rule=\"evenodd\" fill-opacity=\"1\" stroke=\"#adb2b7\" stroke-opacity=\"1\" stroke-width=\"3.2\"/>\n",
       "<circle clip-path=\"url(#clip552)\" cx=\"872.567\" cy=\"1069.08\" r=\"14\" fill=\"#fe4365\" fill-rule=\"evenodd\" fill-opacity=\"1\" stroke=\"#adb2b7\" stroke-opacity=\"1\" stroke-width=\"3.2\"/>\n",
       "<circle clip-path=\"url(#clip552)\" cx=\"1526.07\" cy=\"741.762\" r=\"14\" fill=\"#fe4365\" fill-rule=\"evenodd\" fill-opacity=\"1\" stroke=\"#adb2b7\" stroke-opacity=\"1\" stroke-width=\"3.2\"/>\n",
       "<circle clip-path=\"url(#clip552)\" cx=\"2179.56\" cy=\"293.87\" r=\"14\" fill=\"#fe4365\" fill-rule=\"evenodd\" fill-opacity=\"1\" stroke=\"#adb2b7\" stroke-opacity=\"1\" stroke-width=\"3.2\"/>\n",
       "<circle clip-path=\"url(#clip552)\" cx=\"2290.61\" cy=\"87.9763\" r=\"14\" fill=\"#fe4365\" fill-rule=\"evenodd\" fill-opacity=\"1\" stroke=\"#adb2b7\" stroke-opacity=\"1\" stroke-width=\"3.2\"/>\n",
       "<polyline clip-path=\"url(#clip552)\" style=\"stroke:#eca25c; stroke-linecap:butt; stroke-linejoin:round; stroke-width:4; stroke-opacity:1; fill:none\" points=\"\n",
       "  219.069,1445.72 239.784,1433.14 260.499,1420.55 281.215,1407.97 301.93,1395.39 322.646,1382.81 343.361,1370.23 364.076,1357.65 384.792,1345.07 405.507,1332.49 \n",
       "  426.223,1319.91 446.938,1307.33 467.653,1294.75 488.369,1282.17 509.084,1269.59 529.8,1257.01 550.515,1244.43 571.231,1231.85 591.946,1219.27 612.661,1206.69 \n",
       "  633.377,1194.11 654.092,1181.53 674.808,1168.95 695.523,1156.37 716.238,1143.79 736.954,1131.21 757.669,1118.63 778.385,1106.05 799.1,1093.47 819.815,1080.88 \n",
       "  840.531,1068.3 861.246,1055.72 881.962,1043.14 902.677,1030.56 923.393,1017.98 944.108,1005.4 964.823,992.822 985.539,980.242 1006.25,967.661 1026.97,955.081 \n",
       "  1047.68,942.501 1068.4,929.92 1089.12,917.34 1109.83,904.76 1130.55,892.179 1151.26,879.599 1171.98,867.018 1192.69,854.438 1213.41,841.858 1234.12,829.277 \n",
       "  1254.84,816.697 1275.55,804.117 1296.27,791.536 1316.99,778.956 1337.7,766.375 1358.42,753.795 1379.13,741.215 1399.85,728.634 1420.56,716.054 1441.28,703.474 \n",
       "  1461.99,690.893 1482.71,678.313 1503.42,665.732 1524.14,653.152 1544.85,640.572 1565.57,627.991 1586.29,615.411 1607,602.831 1627.72,590.25 1648.43,577.67 \n",
       "  1669.15,565.089 1689.86,552.509 1710.58,539.929 1731.29,527.348 1752.01,514.768 1772.72,502.188 1793.44,489.607 1814.16,477.027 1834.87,464.446 1855.59,451.866 \n",
       "  1876.3,439.286 1897.02,426.705 1917.73,414.125 1938.45,401.545 1959.16,388.964 1979.88,376.384 2000.59,363.803 2021.31,351.223 2042.02,338.643 2062.74,326.062 \n",
       "  2083.46,313.482 2104.17,300.902 2124.89,288.321 2145.6,275.741 2166.32,263.16 2187.03,250.58 2207.75,238 2228.46,225.419 2249.18,212.839 2269.89,200.259 \n",
       "  2290.61,187.678 \n",
       "  \"/>\n",
       "</svg>\n"
      ]
     },
     "execution_count": 8,
     "metadata": {},
     "output_type": "execute_result"
    }
   ],
   "source": [
    "scatter(x_exp, T_exp, leg=false)\n",
    "plot!(Polynomial(c_exp), extrema(x_exp)...)"
   ]
  },
  {
   "cell_type": "markdown",
   "metadata": {},
   "source": [
    "Agora que temos a interpolação após a transformação, podemos retornar à função original"
   ]
  },
  {
   "cell_type": "code",
   "execution_count": 9,
   "metadata": {},
   "outputs": [
    {
     "name": "stdout",
     "output_type": "stream",
     "text": [
      "72.061\n"
     ]
    }
   ],
   "source": [
    "c = [exp(c_exp[1]), c_exp[2]]\n",
    "Tf(x) = c[1]x^c[2]\n",
    "@printf(\"%.3f\\n\",Tf(0.3))"
   ]
  },
  {
   "cell_type": "markdown",
   "metadata": {},
   "source": [
    "A temperatura em $0.3cm$ com 3 casas decimais é $72.061°C$.\n",
    "\n",
    "As células a seguir serão usadas na questão 5:"
   ]
  },
  {
   "cell_type": "code",
   "execution_count": 10,
   "metadata": {},
   "outputs": [],
   "source": [
    "erroQ1 = mse(Tf.(x), T)\n",
    "coeffQ1 = c\n",
    ";"
   ]
  },
  {
   "cell_type": "markdown",
   "metadata": {},
   "source": [
    "## Exercício 2"
   ]
  },
  {
   "cell_type": "markdown",
   "metadata": {},
   "source": [
    "### 1. Encontre a altura"
   ]
  },
  {
   "cell_type": "markdown",
   "metadata": {},
   "source": [
    "Para estimar a altura podemos integrar a função velocidade, pois isso nos dará a distância percorrida. Vamos considerar um trapézio entre cada par de pontos e somar suas áreas:"
   ]
  },
  {
   "cell_type": "code",
   "execution_count": 11,
   "metadata": {},
   "outputs": [],
   "source": [
    "time = [0, 10, 15, 20, 32, 59, 62, 125]\n",
    "velocity = [0, 185, 319, 447, 742, 1325, 1445, 4151]\n",
    "n = length(time)\n",
    ";"
   ]
  },
  {
   "cell_type": "code",
   "execution_count": 12,
   "metadata": {},
   "outputs": [],
   "source": [
    "# Calcula a area do trapezio que sera formado entre os pontos a & b\n",
    "function trapezoid_area(a, b, fa, fb)\n",
    "    return (b-a)*(fa+fb)/2\n",
    "end\n",
    ";"
   ]
  },
  {
   "cell_type": "code",
   "execution_count": 13,
   "metadata": {},
   "outputs": [
    {
     "data": {
      "text/plain": [
       "219567.5"
      ]
     },
     "execution_count": 13,
     "metadata": {},
     "output_type": "execute_result"
    }
   ],
   "source": [
    "S = 0\n",
    "for i = 1:n-1\n",
    "    S += trapezoid_area(time[i], time[i+1], velocity[i], velocity[i+1])\n",
    "end\n",
    "S"
   ]
  },
  {
   "cell_type": "markdown",
   "metadata": {},
   "source": [
    "Então a altura alcançada pela nave foi de $219567.5$ pés. Convertendo para medidas de verdade, $66924.174m \\approx 66.9km$  "
   ]
  },
  {
   "cell_type": "markdown",
   "metadata": {},
   "source": [
    "### 2. Erro máximo"
   ]
  },
  {
   "cell_type": "markdown",
   "metadata": {},
   "source": [
    "Para conseguir estimar o erro máximo é necessário saber a segunda derivada da função que estamos integrando. Neste caso, precisamos saber qual o arranque do ônibus espacial.\n",
    "\n",
    "Conseguindo limitar seu arranque superiormente, é possível usar esse mesmo teto para estimar o erro"
   ]
  },
  {
   "cell_type": "markdown",
   "metadata": {},
   "source": [
    "### 3. Estime a altura com uma reta"
   ]
  },
  {
   "cell_type": "markdown",
   "metadata": {},
   "source": [
    "Aproximando uma função podemos usar o método dos trapézios em vários pontos equidistantes. Para isso vai ser necessário criar uma função diferente para o método do trapézio.\n",
    "\n",
    "Como nesse caso específico é uma reta, não precisamos de vários trapézios, podemos usar um único:"
   ]
  },
  {
   "cell_type": "code",
   "execution_count": 14,
   "metadata": {},
   "outputs": [
    {
     "data": {
      "text/html": [
       "&#45;232.97096383346047 &#43; 32.438909320952575&#8729;x"
      ],
      "text/latex": [
       "$-232.97096383346047 + 32.438909320952575\\cdot x$"
      ],
      "text/plain": [
       "Polynomial(-232.97096383346047 + 32.438909320952575*x)"
      ]
     },
     "execution_count": 14,
     "metadata": {},
     "output_type": "execute_result"
    }
   ],
   "source": [
    "P1 = Polynomial(interpolation(time, velocity, 1))"
   ]
  },
  {
   "cell_type": "code",
   "execution_count": 15,
   "metadata": {},
   "outputs": [
    {
     "data": {
      "text/plain": [
       "224307.60859075945"
      ]
     },
     "execution_count": 15,
     "metadata": {},
     "output_type": "execute_result"
    }
   ],
   "source": [
    "integral_trapezoid(P1, 0, 125, 1)"
   ]
  },
  {
   "cell_type": "markdown",
   "metadata": {},
   "source": [
    "Usando o método dos trapézios em uma reta encontrada por Regressão, a altura alcançada pela nave é de $224307.6085907594$ pés, ou, $68368.959098463470582m \\approx 68.3km$"
   ]
  },
  {
   "cell_type": "markdown",
   "metadata": {},
   "source": [
    "## Exercício 3"
   ]
  },
  {
   "cell_type": "markdown",
   "metadata": {},
   "source": [
    "### 1. Aproximação da área"
   ]
  },
  {
   "cell_type": "markdown",
   "metadata": {},
   "source": [
    "Podemos aproximar a área do círculo no primeiro quadrante calculando a integral da função $y=\\sqrt{1-x^2}$, no intervalo $[0,1]$. Sabemos também que:\n",
    "$$h = \\frac{b-a}{n}$$\n",
    "$$n = \\frac{b-a}{h}$$\n",
    "Como queremos que $h = 0.1$, temos que $n = 10$"
   ]
  },
  {
   "cell_type": "code",
   "execution_count": 16,
   "metadata": {},
   "outputs": [
    {
     "data": {
      "text/plain": [
       "0.7761295823071377"
      ]
     },
     "execution_count": 16,
     "metadata": {},
     "output_type": "execute_result"
    }
   ],
   "source": [
    "y(x) = sqrt(1 - x^2)\n",
    "area_q1 = integral_trapezoid(y, 0, 1, 10)"
   ]
  },
  {
   "cell_type": "markdown",
   "metadata": {},
   "source": [
    "Esse valor é a área do primeiro quadrante. Para a área do círculo inteiro precisamos multiplicar esse valor por $4$."
   ]
  },
  {
   "cell_type": "code",
   "execution_count": 17,
   "metadata": {},
   "outputs": [
    {
     "data": {
      "text/plain": [
       "3.1045183292285508"
      ]
     },
     "execution_count": 17,
     "metadata": {},
     "output_type": "execute_result"
    }
   ],
   "source": [
    "area_q1 * 4"
   ]
  },
  {
   "cell_type": "markdown",
   "metadata": {},
   "source": [
    "Assim, temos que a área do círculo é aproximadamente $3.1045183292285508$. Esse número também é uma aproximação de $\\pi$"
   ]
  },
  {
   "cell_type": "markdown",
   "metadata": {},
   "source": [
    "### 2. Erro ao estimar o erro"
   ]
  },
  {
   "cell_type": "markdown",
   "metadata": {},
   "source": [
    "Não podemos estimar o erro com a fórmula pois para isso é necessário uma segunda derivada limitada no intervalo. A segunda derivada da função $\\sqrt{1 - x^2}$ é $1/(1-x^2)^{3/2}$.\n",
    "\n",
    "Seu menor valor no intervalo $[0,1]$ é quando $x=0$, com seu valor sendo $1$.\n",
    "\n",
    "Mas seu maior valor é quando $x\\rightarrow 1$. Nesse caso o denominador está tendendo a 0, logo, seu valor está tendendo a infinito. Como não é possível limitar superiormente a segunda derivada da função, não podemos estimar seu erro com aquela fórmula"
   ]
  },
  {
   "cell_type": "markdown",
   "metadata": {},
   "source": [
    "## Exercício 4"
   ]
  },
  {
   "cell_type": "markdown",
   "metadata": {},
   "source": [
    "O método criado em aula calcula a integral para cada $y$ e para cada $x$. Agora $x$ está variando entre $h(y)$ e $g(y)$, então basta mudar os limites para esses valores:"
   ]
  },
  {
   "cell_type": "code",
   "execution_count": 18,
   "metadata": {},
   "outputs": [
    {
     "data": {
      "text/plain": [
       "0.024999917261990877"
      ]
     },
     "execution_count": 18,
     "metadata": {},
     "output_type": "execute_result"
    }
   ],
   "source": [
    "f(x, y) = x^2 * y\n",
    "a = 0\n",
    "b = 1\n",
    "h(y) = y^2\n",
    "g(y) = y\n",
    "double_integral_trapezoid(f, a, b, h, g)"
   ]
  },
  {
   "cell_type": "markdown",
   "metadata": {},
   "source": [
    "## Exercício 5"
   ]
  },
  {
   "cell_type": "markdown",
   "metadata": {},
   "source": [
    "Quando fizemos a questão 1, minimizamos o erro nesse mundo linear que chegamos, mas é possível minimizar o erro original da função, usando Gradiente Descendente. O erro é:\n",
    "$$\\sum_{i=1}^N{(y_i - c_0x_i^{c_1})^2}$$\n",
    "Seu gradiente será:\n",
    "$$\\sum_{i=1}^N{-2x_i^{c_1}(y_i-c_0x_i^{c_1})(1, c_0x_i^{c_1}ln(x_i))}$$"
   ]
  },
  {
   "cell_type": "code",
   "execution_count": 19,
   "metadata": {},
   "outputs": [],
   "source": [
    "function gradient(x, y, c0, c1)\n",
    "    n = length(x)\n",
    "    ∇c0 = 0\n",
    "    ∇c1 = 0\n",
    "    for i = 1:n\n",
    "        coeff = -2x[i]^c1 * (y[i]-c0*x[i]^c1)\n",
    "        ∇c0 += coeff\n",
    "        ∇c1 += coeff * c0*x[i]^c1 * log(x[i])\n",
    "    end\n",
    "    return (∇c0, ∇c1)\n",
    "end\n",
    ";"
   ]
  },
  {
   "cell_type": "markdown",
   "metadata": {},
   "source": [
    "Agora que temos a função gradiente, precisamos definir a taxa de aprendizado (O quanto será percorrido nessa direção) e a quantidade de épocas (O número de passos nessa direção).\n",
    "\n",
    "Além disso, precisamos começar em algum lugar. Para fugir de mínimos locais, vamos começar com um valor que sabemos estar próximo do correto, os valores da questão 1:"
   ]
  },
  {
   "cell_type": "code",
   "execution_count": 20,
   "metadata": {},
   "outputs": [
    {
     "data": {
      "text/plain": [
       "2-element Vector{Float64}:\n",
       " 295.232768178912\n",
       "   1.1713294485597148"
      ]
     },
     "execution_count": 20,
     "metadata": {},
     "output_type": "execute_result"
    }
   ],
   "source": [
    "coeffQ1"
   ]
  },
  {
   "cell_type": "code",
   "execution_count": 21,
   "metadata": {},
   "outputs": [],
   "source": [
    "function gradient_descent(gradient, x, y, α = 1e-5, epochs = 1e5)\n",
    "    c0, c1 = 295.23, 1.17\n",
    "    for i=1:epochs\n",
    "        grad = gradient(x, y, c0, c1)\n",
    "        c0 -= α * grad[1]\n",
    "        c1 -= α * grad[2]\n",
    "    end\n",
    "    return c0, c1\n",
    "end\n",
    ";"
   ]
  },
  {
   "cell_type": "code",
   "execution_count": 26,
   "metadata": {},
   "outputs": [
    {
     "data": {
      "text/plain": [
       "(0.0001, 10000.0, 48.94548005985822, [334.08385524675697, 1.5362547311864048])"
      ]
     },
     "execution_count": 26,
     "metadata": {},
     "output_type": "execute_result"
    }
   ],
   "source": [
    "x = [0.1, 0.2, 0.4, 0.8, 0.9]\n",
    "T = [22, 43, 84, 210, 320]\n",
    "\n",
    "possible_α = [1e-3, 1e-4, 1e-5, 1e-6]\n",
    "possible_epochs = [1e3, 1e4, 1e5, 1e6]\n",
    "\n",
    "best_α = 0\n",
    "best_epochs = 0\n",
    "best_coeff = 0\n",
    "best_mse = -1\n",
    "\n",
    "for α in possible_α\n",
    "    for epochs in possible_epochs\n",
    "        c0, c1 = gradient_descent(gradient, x, T, α, epochs)\n",
    "        Tf(x) = c0 * x^c1\n",
    "        error = mse(Tf.(x), T)\n",
    "        if(best_mse == -1) best_mse = error end\n",
    "        if(error <= best_mse)\n",
    "            best_α = α\n",
    "            best_epochs = epochs\n",
    "            best_mse = error\n",
    "            best_coeff = [c0, c1]\n",
    "        end\n",
    "    end\n",
    "end\n",
    "best_α, best_epochs, best_mse, best_coeff"
   ]
  },
  {
   "cell_type": "markdown",
   "metadata": {},
   "source": [
    "Sabemos então que nosso melhor resultado obteve um erro de $48.94548005985822$, com taxa de aprendizado de $1e-4$, $1e4$ épocas e com coeficientes $334.08385524675697$ e $1.5362547311864048$. Vamos ver o gráfico desse resultado:"
   ]
  },
  {
   "cell_type": "code",
   "execution_count": 27,
   "metadata": {},
   "outputs": [
    {
     "data": {
      "image/svg+xml": [
       "<?xml version=\"1.0\" encoding=\"utf-8\"?>\n",
       "<svg xmlns=\"http://www.w3.org/2000/svg\" xmlns:xlink=\"http://www.w3.org/1999/xlink\" width=\"600\" height=\"400\" viewBox=\"0 0 2400 1600\">\n",
       "<defs>\n",
       "  <clipPath id=\"clip670\">\n",
       "    <rect x=\"0\" y=\"0\" width=\"2400\" height=\"1600\"/>\n",
       "  </clipPath>\n",
       "</defs>\n",
       "<path clip-path=\"url(#clip670)\" d=\"\n",
       "M0 1600 L2400 1600 L2400 0 L0 0  Z\n",
       "  \" fill=\"#363d46\" fill-rule=\"evenodd\" fill-opacity=\"1\"/>\n",
       "<defs>\n",
       "  <clipPath id=\"clip671\">\n",
       "    <rect x=\"480\" y=\"0\" width=\"1681\" height=\"1600\"/>\n",
       "  </clipPath>\n",
       "</defs>\n",
       "<path clip-path=\"url(#clip670)\" d=\"\n",
       "M170.857 1486.45 L2352.76 1486.45 L2352.76 47.2441 L170.857 47.2441  Z\n",
       "  \" fill=\"#30343b\" fill-rule=\"evenodd\" fill-opacity=\"1\"/>\n",
       "<defs>\n",
       "  <clipPath id=\"clip672\">\n",
       "    <rect x=\"170\" y=\"47\" width=\"2183\" height=\"1440\"/>\n",
       "  </clipPath>\n",
       "</defs>\n",
       "<polyline clip-path=\"url(#clip672)\" style=\"stroke:#adb2b7; stroke-linecap:butt; stroke-linejoin:round; stroke-width:2; stroke-opacity:0.1; fill:none\" points=\"\n",
       "  489.909,1486.45 489.909,47.2441 \n",
       "  \"/>\n",
       "<polyline clip-path=\"url(#clip672)\" style=\"stroke:#adb2b7; stroke-linecap:butt; stroke-linejoin:round; stroke-width:2; stroke-opacity:0.1; fill:none\" points=\"\n",
       "  1004.51,1486.45 1004.51,47.2441 \n",
       "  \"/>\n",
       "<polyline clip-path=\"url(#clip672)\" style=\"stroke:#adb2b7; stroke-linecap:butt; stroke-linejoin:round; stroke-width:2; stroke-opacity:0.1; fill:none\" points=\"\n",
       "  1519.11,1486.45 1519.11,47.2441 \n",
       "  \"/>\n",
       "<polyline clip-path=\"url(#clip672)\" style=\"stroke:#adb2b7; stroke-linecap:butt; stroke-linejoin:round; stroke-width:2; stroke-opacity:0.1; fill:none\" points=\"\n",
       "  2033.7,1486.45 2033.7,47.2441 \n",
       "  \"/>\n",
       "<polyline clip-path=\"url(#clip670)\" style=\"stroke:#adb2b7; stroke-linecap:butt; stroke-linejoin:round; stroke-width:4; stroke-opacity:1; fill:none\" points=\"\n",
       "  170.857,1486.45 2352.76,1486.45 \n",
       "  \"/>\n",
       "<polyline clip-path=\"url(#clip670)\" style=\"stroke:#adb2b7; stroke-linecap:butt; stroke-linejoin:round; stroke-width:4; stroke-opacity:1; fill:none\" points=\"\n",
       "  489.909,1486.45 489.909,1467.55 \n",
       "  \"/>\n",
       "<polyline clip-path=\"url(#clip670)\" style=\"stroke:#adb2b7; stroke-linecap:butt; stroke-linejoin:round; stroke-width:4; stroke-opacity:1; fill:none\" points=\"\n",
       "  1004.51,1486.45 1004.51,1467.55 \n",
       "  \"/>\n",
       "<polyline clip-path=\"url(#clip670)\" style=\"stroke:#adb2b7; stroke-linecap:butt; stroke-linejoin:round; stroke-width:4; stroke-opacity:1; fill:none\" points=\"\n",
       "  1519.11,1486.45 1519.11,1467.55 \n",
       "  \"/>\n",
       "<polyline clip-path=\"url(#clip670)\" style=\"stroke:#adb2b7; stroke-linecap:butt; stroke-linejoin:round; stroke-width:4; stroke-opacity:1; fill:none\" points=\"\n",
       "  2033.7,1486.45 2033.7,1467.55 \n",
       "  \"/>\n",
       "<path clip-path=\"url(#clip670)\" d=\"M468.092 1517.37 Q464.481 1517.37 462.652 1520.93 Q460.846 1524.47 460.846 1531.6 Q460.846 1538.71 462.652 1542.27 Q464.481 1545.82 468.092 1545.82 Q471.726 1545.82 473.531 1542.27 Q475.36 1538.71 475.36 1531.6 Q475.36 1524.47 473.531 1520.93 Q471.726 1517.37 468.092 1517.37 M468.092 1513.66 Q473.902 1513.66 476.957 1518.27 Q480.036 1522.85 480.036 1531.6 Q480.036 1540.33 476.957 1544.94 Q473.902 1549.52 468.092 1549.52 Q462.281 1549.52 459.203 1544.94 Q456.147 1540.33 456.147 1531.6 Q456.147 1522.85 459.203 1518.27 Q462.281 1513.66 468.092 1513.66 Z\" fill=\"#ffffff\" fill-rule=\"evenodd\" fill-opacity=\"1\" /><path clip-path=\"url(#clip670)\" d=\"M488.254 1542.97 L493.138 1542.97 L493.138 1548.85 L488.254 1548.85 L488.254 1542.97 Z\" fill=\"#ffffff\" fill-rule=\"evenodd\" fill-opacity=\"1\" /><path clip-path=\"url(#clip670)\" d=\"M507.351 1544.91 L523.67 1544.91 L523.67 1548.85 L501.726 1548.85 L501.726 1544.91 Q504.388 1542.16 508.971 1537.53 Q513.577 1532.88 514.758 1531.53 Q517.003 1529.01 517.883 1527.27 Q518.786 1525.51 518.786 1523.82 Q518.786 1521.07 516.841 1519.33 Q514.92 1517.6 511.818 1517.6 Q509.619 1517.6 507.165 1518.36 Q504.735 1519.13 501.957 1520.68 L501.957 1515.95 Q504.781 1514.82 507.235 1514.24 Q509.689 1513.66 511.726 1513.66 Q517.096 1513.66 520.29 1516.35 Q523.485 1519.03 523.485 1523.52 Q523.485 1525.65 522.675 1527.57 Q521.888 1529.47 519.781 1532.07 Q519.202 1532.74 516.101 1535.95 Q512.999 1539.15 507.351 1544.91 Z\" fill=\"#ffffff\" fill-rule=\"evenodd\" fill-opacity=\"1\" /><path clip-path=\"url(#clip670)\" d=\"M981.649 1517.37 Q978.038 1517.37 976.209 1520.93 Q974.403 1524.47 974.403 1531.6 Q974.403 1538.71 976.209 1542.27 Q978.038 1545.82 981.649 1545.82 Q985.283 1545.82 987.088 1542.27 Q988.917 1538.71 988.917 1531.6 Q988.917 1524.47 987.088 1520.93 Q985.283 1517.37 981.649 1517.37 M981.649 1513.66 Q987.459 1513.66 990.514 1518.27 Q993.593 1522.85 993.593 1531.6 Q993.593 1540.33 990.514 1544.94 Q987.459 1549.52 981.649 1549.52 Q975.838 1549.52 972.76 1544.94 Q969.704 1540.33 969.704 1531.6 Q969.704 1522.85 972.76 1518.27 Q975.838 1513.66 981.649 1513.66 Z\" fill=\"#ffffff\" fill-rule=\"evenodd\" fill-opacity=\"1\" /><path clip-path=\"url(#clip670)\" d=\"M1001.81 1542.97 L1006.69 1542.97 L1006.69 1548.85 L1001.81 1548.85 L1001.81 1542.97 Z\" fill=\"#ffffff\" fill-rule=\"evenodd\" fill-opacity=\"1\" /><path clip-path=\"url(#clip670)\" d=\"M1029.73 1518.36 L1017.92 1536.81 L1029.73 1536.81 L1029.73 1518.36 M1028.5 1514.29 L1034.38 1514.29 L1034.38 1536.81 L1039.31 1536.81 L1039.31 1540.7 L1034.38 1540.7 L1034.38 1548.85 L1029.73 1548.85 L1029.73 1540.7 L1014.13 1540.7 L1014.13 1536.19 L1028.5 1514.29 Z\" fill=\"#ffffff\" fill-rule=\"evenodd\" fill-opacity=\"1\" /><path clip-path=\"url(#clip670)\" d=\"M1496.41 1517.37 Q1492.8 1517.37 1490.97 1520.93 Q1489.16 1524.47 1489.16 1531.6 Q1489.16 1538.71 1490.97 1542.27 Q1492.8 1545.82 1496.41 1545.82 Q1500.04 1545.82 1501.85 1542.27 Q1503.68 1538.71 1503.68 1531.6 Q1503.68 1524.47 1501.85 1520.93 Q1500.04 1517.37 1496.41 1517.37 M1496.41 1513.66 Q1502.22 1513.66 1505.28 1518.27 Q1508.35 1522.85 1508.35 1531.6 Q1508.35 1540.33 1505.28 1544.94 Q1502.22 1549.52 1496.41 1549.52 Q1490.6 1549.52 1487.52 1544.94 Q1484.46 1540.33 1484.46 1531.6 Q1484.46 1522.85 1487.52 1518.27 Q1490.6 1513.66 1496.41 1513.66 Z\" fill=\"#ffffff\" fill-rule=\"evenodd\" fill-opacity=\"1\" /><path clip-path=\"url(#clip670)\" d=\"M1516.57 1542.97 L1521.46 1542.97 L1521.46 1548.85 L1516.57 1548.85 L1516.57 1542.97 Z\" fill=\"#ffffff\" fill-rule=\"evenodd\" fill-opacity=\"1\" /><path clip-path=\"url(#clip670)\" d=\"M1542.22 1529.7 Q1539.07 1529.7 1537.22 1531.86 Q1535.39 1534.01 1535.39 1537.76 Q1535.39 1541.49 1537.22 1543.66 Q1539.07 1545.82 1542.22 1545.82 Q1545.37 1545.82 1547.2 1543.66 Q1549.05 1541.49 1549.05 1537.76 Q1549.05 1534.01 1547.2 1531.86 Q1545.37 1529.7 1542.22 1529.7 M1551.5 1515.05 L1551.5 1519.31 Q1549.74 1518.48 1547.94 1518.04 Q1546.15 1517.6 1544.4 1517.6 Q1539.77 1517.6 1537.31 1520.72 Q1534.88 1523.85 1534.53 1530.17 Q1535.9 1528.15 1537.96 1527.09 Q1540.02 1526 1542.5 1526 Q1547.71 1526 1550.71 1529.17 Q1553.75 1532.32 1553.75 1537.76 Q1553.75 1543.08 1550.6 1546.3 Q1547.45 1549.52 1542.22 1549.52 Q1536.22 1549.52 1533.05 1544.94 Q1529.88 1540.33 1529.88 1531.6 Q1529.88 1523.41 1533.77 1518.55 Q1537.66 1513.66 1544.21 1513.66 Q1545.97 1513.66 1547.75 1514.01 Q1549.56 1514.36 1551.5 1515.05 Z\" fill=\"#ffffff\" fill-rule=\"evenodd\" fill-opacity=\"1\" /><path clip-path=\"url(#clip670)\" d=\"M2011.14 1517.37 Q2007.52 1517.37 2005.7 1520.93 Q2003.89 1524.47 2003.89 1531.6 Q2003.89 1538.71 2005.7 1542.27 Q2007.52 1545.82 2011.14 1545.82 Q2014.77 1545.82 2016.58 1542.27 Q2018.4 1538.71 2018.4 1531.6 Q2018.4 1524.47 2016.58 1520.93 Q2014.77 1517.37 2011.14 1517.37 M2011.14 1513.66 Q2016.95 1513.66 2020 1518.27 Q2023.08 1522.85 2023.08 1531.6 Q2023.08 1540.33 2020 1544.94 Q2016.95 1549.52 2011.14 1549.52 Q2005.33 1549.52 2002.25 1544.94 Q1999.19 1540.33 1999.19 1531.6 Q1999.19 1522.85 2002.25 1518.27 Q2005.33 1513.66 2011.14 1513.66 Z\" fill=\"#ffffff\" fill-rule=\"evenodd\" fill-opacity=\"1\" /><path clip-path=\"url(#clip670)\" d=\"M2031.3 1542.97 L2036.18 1542.97 L2036.18 1548.85 L2031.3 1548.85 L2031.3 1542.97 Z\" fill=\"#ffffff\" fill-rule=\"evenodd\" fill-opacity=\"1\" /><path clip-path=\"url(#clip670)\" d=\"M2056.37 1532.44 Q2053.03 1532.44 2051.11 1534.22 Q2049.21 1536 2049.21 1539.13 Q2049.21 1542.25 2051.11 1544.03 Q2053.03 1545.82 2056.37 1545.82 Q2059.7 1545.82 2061.62 1544.03 Q2063.54 1542.23 2063.54 1539.13 Q2063.54 1536 2061.62 1534.22 Q2059.72 1532.44 2056.37 1532.44 M2051.69 1530.45 Q2048.68 1529.7 2046.99 1527.64 Q2045.33 1525.58 2045.33 1522.62 Q2045.33 1518.48 2048.26 1516.07 Q2051.23 1513.66 2056.37 1513.66 Q2061.53 1513.66 2064.47 1516.07 Q2067.41 1518.48 2067.41 1522.62 Q2067.41 1525.58 2065.72 1527.64 Q2064.05 1529.7 2061.07 1530.45 Q2064.45 1531.23 2066.32 1533.52 Q2068.22 1535.82 2068.22 1539.13 Q2068.22 1544.15 2065.14 1546.83 Q2062.08 1549.52 2056.37 1549.52 Q2050.65 1549.52 2047.57 1546.83 Q2044.51 1544.15 2044.51 1539.13 Q2044.51 1535.82 2046.41 1533.52 Q2048.31 1531.23 2051.69 1530.45 M2049.98 1523.06 Q2049.98 1525.75 2051.64 1527.25 Q2053.33 1528.76 2056.37 1528.76 Q2059.38 1528.76 2061.07 1527.25 Q2062.78 1525.75 2062.78 1523.06 Q2062.78 1520.38 2061.07 1518.87 Q2059.38 1517.37 2056.37 1517.37 Q2053.33 1517.37 2051.64 1518.87 Q2049.98 1520.38 2049.98 1523.06 Z\" fill=\"#ffffff\" fill-rule=\"evenodd\" fill-opacity=\"1\" /><polyline clip-path=\"url(#clip672)\" style=\"stroke:#adb2b7; stroke-linecap:butt; stroke-linejoin:round; stroke-width:2; stroke-opacity:0.1; fill:none\" points=\"\n",
       "  170.857,1269.45 2352.76,1269.45 \n",
       "  \"/>\n",
       "<polyline clip-path=\"url(#clip672)\" style=\"stroke:#adb2b7; stroke-linecap:butt; stroke-linejoin:round; stroke-width:2; stroke-opacity:0.1; fill:none\" points=\"\n",
       "  170.857,1050.66 2352.76,1050.66 \n",
       "  \"/>\n",
       "<polyline clip-path=\"url(#clip672)\" style=\"stroke:#adb2b7; stroke-linecap:butt; stroke-linejoin:round; stroke-width:2; stroke-opacity:0.1; fill:none\" points=\"\n",
       "  170.857,831.868 2352.76,831.868 \n",
       "  \"/>\n",
       "<polyline clip-path=\"url(#clip672)\" style=\"stroke:#adb2b7; stroke-linecap:butt; stroke-linejoin:round; stroke-width:2; stroke-opacity:0.1; fill:none\" points=\"\n",
       "  170.857,613.076 2352.76,613.076 \n",
       "  \"/>\n",
       "<polyline clip-path=\"url(#clip672)\" style=\"stroke:#adb2b7; stroke-linecap:butt; stroke-linejoin:round; stroke-width:2; stroke-opacity:0.1; fill:none\" points=\"\n",
       "  170.857,394.284 2352.76,394.284 \n",
       "  \"/>\n",
       "<polyline clip-path=\"url(#clip672)\" style=\"stroke:#adb2b7; stroke-linecap:butt; stroke-linejoin:round; stroke-width:2; stroke-opacity:0.1; fill:none\" points=\"\n",
       "  170.857,175.493 2352.76,175.493 \n",
       "  \"/>\n",
       "<polyline clip-path=\"url(#clip670)\" style=\"stroke:#adb2b7; stroke-linecap:butt; stroke-linejoin:round; stroke-width:4; stroke-opacity:1; fill:none\" points=\"\n",
       "  170.857,1486.45 170.857,47.2441 \n",
       "  \"/>\n",
       "<polyline clip-path=\"url(#clip670)\" style=\"stroke:#adb2b7; stroke-linecap:butt; stroke-linejoin:round; stroke-width:4; stroke-opacity:1; fill:none\" points=\"\n",
       "  170.857,1269.45 189.755,1269.45 \n",
       "  \"/>\n",
       "<polyline clip-path=\"url(#clip670)\" style=\"stroke:#adb2b7; stroke-linecap:butt; stroke-linejoin:round; stroke-width:4; stroke-opacity:1; fill:none\" points=\"\n",
       "  170.857,1050.66 189.755,1050.66 \n",
       "  \"/>\n",
       "<polyline clip-path=\"url(#clip670)\" style=\"stroke:#adb2b7; stroke-linecap:butt; stroke-linejoin:round; stroke-width:4; stroke-opacity:1; fill:none\" points=\"\n",
       "  170.857,831.868 189.755,831.868 \n",
       "  \"/>\n",
       "<polyline clip-path=\"url(#clip670)\" style=\"stroke:#adb2b7; stroke-linecap:butt; stroke-linejoin:round; stroke-width:4; stroke-opacity:1; fill:none\" points=\"\n",
       "  170.857,613.076 189.755,613.076 \n",
       "  \"/>\n",
       "<polyline clip-path=\"url(#clip670)\" style=\"stroke:#adb2b7; stroke-linecap:butt; stroke-linejoin:round; stroke-width:4; stroke-opacity:1; fill:none\" points=\"\n",
       "  170.857,394.284 189.755,394.284 \n",
       "  \"/>\n",
       "<polyline clip-path=\"url(#clip670)\" style=\"stroke:#adb2b7; stroke-linecap:butt; stroke-linejoin:round; stroke-width:4; stroke-opacity:1; fill:none\" points=\"\n",
       "  170.857,175.493 189.755,175.493 \n",
       "  \"/>\n",
       "<path clip-path=\"url(#clip670)\" d=\"M82.7975 1252.17 L101.154 1252.17 L101.154 1256.11 L87.0799 1256.11 L87.0799 1264.58 Q88.0984 1264.23 89.1169 1264.07 Q90.1354 1263.88 91.1539 1263.88 Q96.941 1263.88 100.321 1267.05 Q103.7 1270.23 103.7 1275.64 Q103.7 1281.22 100.228 1284.32 Q96.7558 1287.4 90.4364 1287.4 Q88.2604 1287.4 85.9919 1287.03 Q83.7466 1286.66 81.3392 1285.92 L81.3392 1281.22 Q83.4225 1282.36 85.6447 1282.91 Q87.8669 1283.47 90.3438 1283.47 Q94.3484 1283.47 96.6863 1281.36 Q99.0243 1279.25 99.0243 1275.64 Q99.0243 1272.03 96.6863 1269.93 Q94.3484 1267.82 90.3438 1267.82 Q88.4688 1267.82 86.5938 1268.24 Q84.7419 1268.65 82.7975 1269.53 L82.7975 1252.17 Z\" fill=\"#ffffff\" fill-rule=\"evenodd\" fill-opacity=\"1\" /><path clip-path=\"url(#clip670)\" d=\"M122.913 1255.25 Q119.302 1255.25 117.473 1258.81 Q115.668 1262.36 115.668 1269.49 Q115.668 1276.59 117.473 1280.16 Q119.302 1283.7 122.913 1283.7 Q126.547 1283.7 128.353 1280.16 Q130.182 1276.59 130.182 1269.49 Q130.182 1262.36 128.353 1258.81 Q126.547 1255.25 122.913 1255.25 M122.913 1251.55 Q128.723 1251.55 131.779 1256.15 Q134.857 1260.74 134.857 1269.49 Q134.857 1278.21 131.779 1282.82 Q128.723 1287.4 122.913 1287.4 Q117.103 1287.4 114.024 1282.82 Q110.969 1278.21 110.969 1269.49 Q110.969 1260.74 114.024 1256.15 Q117.103 1251.55 122.913 1251.55 Z\" fill=\"#ffffff\" fill-rule=\"evenodd\" fill-opacity=\"1\" /><path clip-path=\"url(#clip670)\" d=\"M53.3995 1064 L61.0384 1064 L61.0384 1037.64 L52.7282 1039.31 L52.7282 1035.05 L60.9921 1033.38 L65.668 1033.38 L65.668 1064 L73.3068 1064 L73.3068 1067.94 L53.3995 1067.94 L53.3995 1064 Z\" fill=\"#ffffff\" fill-rule=\"evenodd\" fill-opacity=\"1\" /><path clip-path=\"url(#clip670)\" d=\"M92.7512 1036.46 Q89.1401 1036.46 87.3114 1040.02 Q85.5058 1043.56 85.5058 1050.69 Q85.5058 1057.8 87.3114 1061.37 Q89.1401 1064.91 92.7512 1064.91 Q96.3854 1064.91 98.1909 1061.37 Q100.02 1057.8 100.02 1050.69 Q100.02 1043.56 98.1909 1040.02 Q96.3854 1036.46 92.7512 1036.46 M92.7512 1032.75 Q98.5613 1032.75 101.617 1037.36 Q104.696 1041.94 104.696 1050.69 Q104.696 1059.42 101.617 1064.03 Q98.5613 1068.61 92.7512 1068.61 Q86.941 1068.61 83.8623 1064.03 Q80.8068 1059.42 80.8068 1050.69 Q80.8068 1041.94 83.8623 1037.36 Q86.941 1032.75 92.7512 1032.75 Z\" fill=\"#ffffff\" fill-rule=\"evenodd\" fill-opacity=\"1\" /><path clip-path=\"url(#clip670)\" d=\"M122.913 1036.46 Q119.302 1036.46 117.473 1040.02 Q115.668 1043.56 115.668 1050.69 Q115.668 1057.8 117.473 1061.37 Q119.302 1064.91 122.913 1064.91 Q126.547 1064.91 128.353 1061.37 Q130.182 1057.8 130.182 1050.69 Q130.182 1043.56 128.353 1040.02 Q126.547 1036.46 122.913 1036.46 M122.913 1032.75 Q128.723 1032.75 131.779 1037.36 Q134.857 1041.94 134.857 1050.69 Q134.857 1059.42 131.779 1064.03 Q128.723 1068.61 122.913 1068.61 Q117.103 1068.61 114.024 1064.03 Q110.969 1059.42 110.969 1050.69 Q110.969 1041.94 114.024 1037.36 Q117.103 1032.75 122.913 1032.75 Z\" fill=\"#ffffff\" fill-rule=\"evenodd\" fill-opacity=\"1\" /><path clip-path=\"url(#clip670)\" d=\"M53.3995 845.212 L61.0384 845.212 L61.0384 818.847 L52.7282 820.514 L52.7282 816.254 L60.9921 814.588 L65.668 814.588 L65.668 845.212 L73.3068 845.212 L73.3068 849.148 L53.3995 849.148 L53.3995 845.212 Z\" fill=\"#ffffff\" fill-rule=\"evenodd\" fill-opacity=\"1\" /><path clip-path=\"url(#clip670)\" d=\"M82.7975 814.588 L101.154 814.588 L101.154 818.523 L87.0799 818.523 L87.0799 826.995 Q88.0984 826.648 89.1169 826.486 Q90.1354 826.301 91.1539 826.301 Q96.941 826.301 100.321 829.472 Q103.7 832.643 103.7 838.06 Q103.7 843.638 100.228 846.74 Q96.7558 849.819 90.4364 849.819 Q88.2604 849.819 85.9919 849.449 Q83.7466 849.078 81.3392 848.337 L81.3392 843.638 Q83.4225 844.773 85.6447 845.328 Q87.8669 845.884 90.3438 845.884 Q94.3484 845.884 96.6863 843.777 Q99.0243 841.671 99.0243 838.06 Q99.0243 834.449 96.6863 832.342 Q94.3484 830.236 90.3438 830.236 Q88.4688 830.236 86.5938 830.652 Q84.7419 831.069 82.7975 831.949 L82.7975 814.588 Z\" fill=\"#ffffff\" fill-rule=\"evenodd\" fill-opacity=\"1\" /><path clip-path=\"url(#clip670)\" d=\"M122.913 817.666 Q119.302 817.666 117.473 821.231 Q115.668 824.773 115.668 831.902 Q115.668 839.009 117.473 842.574 Q119.302 846.115 122.913 846.115 Q126.547 846.115 128.353 842.574 Q130.182 839.009 130.182 831.902 Q130.182 824.773 128.353 821.231 Q126.547 817.666 122.913 817.666 M122.913 813.963 Q128.723 813.963 131.779 818.569 Q134.857 823.152 134.857 831.902 Q134.857 840.629 131.779 845.236 Q128.723 849.819 122.913 849.819 Q117.103 849.819 114.024 845.236 Q110.969 840.629 110.969 831.902 Q110.969 823.152 114.024 818.569 Q117.103 813.963 122.913 813.963 Z\" fill=\"#ffffff\" fill-rule=\"evenodd\" fill-opacity=\"1\" /><path clip-path=\"url(#clip670)\" d=\"M56.6171 626.421 L72.9365 626.421 L72.9365 630.356 L50.9921 630.356 L50.9921 626.421 Q53.6541 623.666 58.2375 619.037 Q62.8439 614.384 64.0245 613.041 Q66.2698 610.518 67.1494 608.782 Q68.0522 607.023 68.0522 605.333 Q68.0522 602.578 66.1078 600.842 Q64.1865 599.106 61.0847 599.106 Q58.8856 599.106 56.4319 599.87 Q54.0014 600.634 51.2236 602.185 L51.2236 597.463 Q54.0477 596.328 56.5014 595.75 Q58.955 595.171 60.9921 595.171 Q66.3624 595.171 69.5568 597.856 Q72.7513 600.541 72.7513 605.032 Q72.7513 607.162 71.9411 609.083 Q71.1541 610.981 69.0476 613.574 Q68.4689 614.245 65.367 617.463 Q62.2652 620.657 56.6171 626.421 Z\" fill=\"#ffffff\" fill-rule=\"evenodd\" fill-opacity=\"1\" /><path clip-path=\"url(#clip670)\" d=\"M92.7512 598.875 Q89.1401 598.875 87.3114 602.44 Q85.5058 605.981 85.5058 613.111 Q85.5058 620.217 87.3114 623.782 Q89.1401 627.324 92.7512 627.324 Q96.3854 627.324 98.1909 623.782 Q100.02 620.217 100.02 613.111 Q100.02 605.981 98.1909 602.44 Q96.3854 598.875 92.7512 598.875 M92.7512 595.171 Q98.5613 595.171 101.617 599.778 Q104.696 604.361 104.696 613.111 Q104.696 621.838 101.617 626.444 Q98.5613 631.027 92.7512 631.027 Q86.941 631.027 83.8623 626.444 Q80.8068 621.838 80.8068 613.111 Q80.8068 604.361 83.8623 599.778 Q86.941 595.171 92.7512 595.171 Z\" fill=\"#ffffff\" fill-rule=\"evenodd\" fill-opacity=\"1\" /><path clip-path=\"url(#clip670)\" d=\"M122.913 598.875 Q119.302 598.875 117.473 602.44 Q115.668 605.981 115.668 613.111 Q115.668 620.217 117.473 623.782 Q119.302 627.324 122.913 627.324 Q126.547 627.324 128.353 623.782 Q130.182 620.217 130.182 613.111 Q130.182 605.981 128.353 602.44 Q126.547 598.875 122.913 598.875 M122.913 595.171 Q128.723 595.171 131.779 599.778 Q134.857 604.361 134.857 613.111 Q134.857 621.838 131.779 626.444 Q128.723 631.027 122.913 631.027 Q117.103 631.027 114.024 626.444 Q110.969 621.838 110.969 613.111 Q110.969 604.361 114.024 599.778 Q117.103 595.171 122.913 595.171 Z\" fill=\"#ffffff\" fill-rule=\"evenodd\" fill-opacity=\"1\" /><path clip-path=\"url(#clip670)\" d=\"M56.6171 407.629 L72.9365 407.629 L72.9365 411.564 L50.9921 411.564 L50.9921 407.629 Q53.6541 404.875 58.2375 400.245 Q62.8439 395.592 64.0245 394.25 Q66.2698 391.727 67.1494 389.991 Q68.0522 388.231 68.0522 386.541 Q68.0522 383.787 66.1078 382.051 Q64.1865 380.315 61.0847 380.315 Q58.8856 380.315 56.4319 381.079 Q54.0014 381.842 51.2236 383.393 L51.2236 378.671 Q54.0477 377.537 56.5014 376.958 Q58.955 376.379 60.9921 376.379 Q66.3624 376.379 69.5568 379.065 Q72.7513 381.75 72.7513 386.241 Q72.7513 388.37 71.9411 390.291 Q71.1541 392.19 69.0476 394.782 Q68.4689 395.453 65.367 398.671 Q62.2652 401.865 56.6171 407.629 Z\" fill=\"#ffffff\" fill-rule=\"evenodd\" fill-opacity=\"1\" /><path clip-path=\"url(#clip670)\" d=\"M82.7975 377.004 L101.154 377.004 L101.154 380.94 L87.0799 380.94 L87.0799 389.412 Q88.0984 389.065 89.1169 388.903 Q90.1354 388.717 91.1539 388.717 Q96.941 388.717 100.321 391.889 Q103.7 395.06 103.7 400.477 Q103.7 406.055 100.228 409.157 Q96.7558 412.236 90.4364 412.236 Q88.2604 412.236 85.9919 411.865 Q83.7466 411.495 81.3392 410.754 L81.3392 406.055 Q83.4225 407.19 85.6447 407.745 Q87.8669 408.301 90.3438 408.301 Q94.3484 408.301 96.6863 406.194 Q99.0243 404.088 99.0243 400.477 Q99.0243 396.865 96.6863 394.759 Q94.3484 392.653 90.3438 392.653 Q88.4688 392.653 86.5938 393.069 Q84.7419 393.486 82.7975 394.366 L82.7975 377.004 Z\" fill=\"#ffffff\" fill-rule=\"evenodd\" fill-opacity=\"1\" /><path clip-path=\"url(#clip670)\" d=\"M122.913 380.083 Q119.302 380.083 117.473 383.648 Q115.668 387.19 115.668 394.319 Q115.668 401.426 117.473 404.99 Q119.302 408.532 122.913 408.532 Q126.547 408.532 128.353 404.99 Q130.182 401.426 130.182 394.319 Q130.182 387.19 128.353 383.648 Q126.547 380.083 122.913 380.083 M122.913 376.379 Q128.723 376.379 131.779 380.986 Q134.857 385.569 134.857 394.319 Q134.857 403.046 131.779 407.652 Q128.723 412.236 122.913 412.236 Q117.103 412.236 114.024 407.652 Q110.969 403.046 110.969 394.319 Q110.969 385.569 114.024 380.986 Q117.103 376.379 122.913 376.379 Z\" fill=\"#ffffff\" fill-rule=\"evenodd\" fill-opacity=\"1\" /><path clip-path=\"url(#clip670)\" d=\"M66.7559 174.139 Q70.1124 174.856 71.9874 177.125 Q73.8855 179.393 73.8855 182.727 Q73.8855 187.842 70.367 190.643 Q66.8485 193.444 60.3671 193.444 Q58.1912 193.444 55.8764 193.004 Q53.5847 192.588 51.131 191.731 L51.131 187.217 Q53.0754 188.352 55.3903 188.93 Q57.7051 189.509 60.2282 189.509 Q64.6263 189.509 66.918 187.773 Q69.2328 186.037 69.2328 182.727 Q69.2328 179.671 67.08 177.958 Q64.9504 176.222 61.131 176.222 L57.1032 176.222 L57.1032 172.379 L61.3161 172.379 Q64.7652 172.379 66.5939 171.014 Q68.4226 169.625 68.4226 167.032 Q68.4226 164.37 66.5245 162.958 Q64.6495 161.523 61.131 161.523 Q59.2097 161.523 57.0106 161.94 Q54.8115 162.356 52.1727 163.236 L52.1727 159.069 Q54.8347 158.329 57.1495 157.958 Q59.4875 157.588 61.5476 157.588 Q66.8717 157.588 69.9735 160.018 Q73.0753 162.426 73.0753 166.546 Q73.0753 169.417 71.4318 171.407 Q69.7883 173.375 66.7559 174.139 Z\" fill=\"#ffffff\" fill-rule=\"evenodd\" fill-opacity=\"1\" /><path clip-path=\"url(#clip670)\" d=\"M92.7512 161.292 Q89.1401 161.292 87.3114 164.856 Q85.5058 168.398 85.5058 175.528 Q85.5058 182.634 87.3114 186.199 Q89.1401 189.741 92.7512 189.741 Q96.3854 189.741 98.1909 186.199 Q100.02 182.634 100.02 175.528 Q100.02 168.398 98.1909 164.856 Q96.3854 161.292 92.7512 161.292 M92.7512 157.588 Q98.5613 157.588 101.617 162.194 Q104.696 166.778 104.696 175.528 Q104.696 184.254 101.617 188.861 Q98.5613 193.444 92.7512 193.444 Q86.941 193.444 83.8623 188.861 Q80.8068 184.254 80.8068 175.528 Q80.8068 166.778 83.8623 162.194 Q86.941 157.588 92.7512 157.588 Z\" fill=\"#ffffff\" fill-rule=\"evenodd\" fill-opacity=\"1\" /><path clip-path=\"url(#clip670)\" d=\"M122.913 161.292 Q119.302 161.292 117.473 164.856 Q115.668 168.398 115.668 175.528 Q115.668 182.634 117.473 186.199 Q119.302 189.741 122.913 189.741 Q126.547 189.741 128.353 186.199 Q130.182 182.634 130.182 175.528 Q130.182 168.398 128.353 164.856 Q126.547 161.292 122.913 161.292 M122.913 157.588 Q128.723 157.588 131.779 162.194 Q134.857 166.778 134.857 175.528 Q134.857 184.254 131.779 188.861 Q128.723 193.444 122.913 193.444 Q117.103 193.444 114.024 188.861 Q110.969 184.254 110.969 175.528 Q110.969 166.778 114.024 162.194 Q117.103 157.588 122.913 157.588 Z\" fill=\"#ffffff\" fill-rule=\"evenodd\" fill-opacity=\"1\" /><circle clip-path=\"url(#clip672)\" cx=\"232.609\" cy=\"1391.97\" r=\"14\" fill=\"#fe4365\" fill-rule=\"evenodd\" fill-opacity=\"1\" stroke=\"#adb2b7\" stroke-opacity=\"1\" stroke-width=\"3.2\"/>\n",
       "<circle clip-path=\"url(#clip672)\" cx=\"489.909\" cy=\"1300.08\" r=\"14\" fill=\"#fe4365\" fill-rule=\"evenodd\" fill-opacity=\"1\" stroke=\"#adb2b7\" stroke-opacity=\"1\" stroke-width=\"3.2\"/>\n",
       "<circle clip-path=\"url(#clip672)\" cx=\"1004.51\" cy=\"1120.67\" r=\"14\" fill=\"#fe4365\" fill-rule=\"evenodd\" fill-opacity=\"1\" stroke=\"#adb2b7\" stroke-opacity=\"1\" stroke-width=\"3.2\"/>\n",
       "<circle clip-path=\"url(#clip672)\" cx=\"2033.7\" cy=\"569.318\" r=\"14\" fill=\"#fe4365\" fill-rule=\"evenodd\" fill-opacity=\"1\" stroke=\"#adb2b7\" stroke-opacity=\"1\" stroke-width=\"3.2\"/>\n",
       "<circle clip-path=\"url(#clip672)\" cx=\"2291\" cy=\"87.9763\" r=\"14\" fill=\"#fe4365\" fill-rule=\"evenodd\" fill-opacity=\"1\" stroke=\"#adb2b7\" stroke-opacity=\"1\" stroke-width=\"3.2\"/>\n",
       "<polyline clip-path=\"url(#clip672)\" style=\"stroke:#eca25c; stroke-linecap:butt; stroke-linejoin:round; stroke-width:4; stroke-opacity:1; fill:none\" points=\"\n",
       "  232.609,1445.72 489.909,1364.9 1004.51,1130.49 2033.7,450.624 2291,244.814 \n",
       "  \"/>\n",
       "</svg>\n"
      ]
     },
     "execution_count": 27,
     "metadata": {},
     "output_type": "execute_result"
    }
   ],
   "source": [
    "Tf(x) = best_coeff[1] * x^best_coeff[2]\n",
    "scatter(x, T, leg=false)\n",
    "plot!(x, Tf.(x))"
   ]
  },
  {
   "cell_type": "markdown",
   "metadata": {},
   "source": [
    "Comparando com a questão 1, o erro tinha sido de:"
   ]
  },
  {
   "cell_type": "code",
   "execution_count": 31,
   "metadata": {},
   "outputs": [
    {
     "name": "stdout",
     "output_type": "stream",
     "text": [
      "63.88227679458349\n"
     ]
    },
    {
     "data": {
      "text/plain": [
       "0.23381753882622647"
      ]
     },
     "execution_count": 31,
     "metadata": {},
     "output_type": "execute_result"
    }
   ],
   "source": [
    "println(erroQ1)\n",
    "1 - best_mse / erroQ1"
   ]
  },
  {
   "cell_type": "markdown",
   "metadata": {},
   "source": [
    "Podemos ver que o resultado com gradiente descente já proporcionou uma melhora no resultado, com uma melhora de $23\\%$ no erro."
   ]
  }
 ],
 "metadata": {
  "kernelspec": {
   "display_name": "Julia 1.6.3",
   "language": "julia",
   "name": "julia-1.6"
  },
  "language_info": {
   "file_extension": ".jl",
   "mimetype": "application/julia",
   "name": "julia",
   "version": "1.6.3"
  }
 },
 "nbformat": 4,
 "nbformat_minor": 4
}
