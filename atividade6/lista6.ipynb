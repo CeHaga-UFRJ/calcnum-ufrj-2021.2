{
 "cells": [
  {
   "cell_type": "markdown",
   "metadata": {},
   "source": [
    "# Atividade 6 - Cálculo Numérico\n",
    "Carlos Bravo - 119136241\n",
    "\n",
    "As funções chamadas estão implementadas no arquivo _lib.jl_\n",
    "\n",
    "O grupo formado foi:\n",
    "* Carlos Bravo\n",
    "* Markson Arguello\n",
    "\n",
    "Algumas questões individuais foram discutidas com:\n",
    "* Gabriele Jandres\n",
    "* Markson Arguello"
   ]
  },
  {
   "cell_type": "markdown",
   "metadata": {},
   "source": [
    "## Imports"
   ]
  },
  {
   "cell_type": "code",
   "execution_count": 1,
   "metadata": {},
   "outputs": [],
   "source": [
    "include(\"../lib.jl\");"
   ]
  },
  {
   "cell_type": "code",
   "execution_count": 2,
   "metadata": {},
   "outputs": [],
   "source": [
    "using LinearAlgebra"
   ]
  },
  {
   "cell_type": "code",
   "execution_count": 3,
   "metadata": {},
   "outputs": [],
   "source": [
    "using Polynomials: Polynomial"
   ]
  },
  {
   "cell_type": "code",
   "execution_count": 4,
   "metadata": {},
   "outputs": [],
   "source": [
    "using Plots\n",
    "gr()\n",
    "theme(:dark)"
   ]
  },
  {
   "cell_type": "markdown",
   "metadata": {},
   "source": [
    "## Exercício 1"
   ]
  },
  {
   "cell_type": "markdown",
   "metadata": {},
   "source": [
    "##### Resolve Diagonal"
   ]
  },
  {
   "cell_type": "markdown",
   "metadata": {},
   "source": [
    "Como sabemos, a multiplicação de uma matriz no formato $(n, n)$ por uma matriz $(n,1)$ tem o  seguinte resultado:\n",
    "\n",
    "$$\n",
    "\\begin{bmatrix}\n",
    "    a_{1,1} & a_{1,2} & ... & a_{1,n} \\\\\n",
    "    a_{2,1} & a_{2,2} & ... & a_{2,n} \\\\\n",
    "    \\vdots & \\vdots & \\ddots & \\vdots \\\\\n",
    "    a_{n,1} & a_{n,2} & ... & a_{n,n}\n",
    "\\end{bmatrix}\n",
    "\\cdot\n",
    "\\begin{bmatrix}\n",
    "    x_{1,1} \\\\\n",
    "    x_{2,1} \\\\\n",
    "    \\vdots \\\\\n",
    "    x_{n,1}\n",
    "\\end{bmatrix}\n",
    "=\n",
    "\\begin{bmatrix}\n",
    "    y_{1,1} \\\\\n",
    "    y_{2,1} \\\\\n",
    "    \\vdots \\\\\n",
    "    y_{n,1}\n",
    "\\end{bmatrix}\n",
    "$$\n",
    "\n",
    "Onde, $$y_{i, 1} = a_{i,1} \\cdot x_{1, 1} + a_{i,2} \\cdot x_{2, 1} + ... + a_{i,n} \\cdot x_{n, 1}$$\n",
    "\n",
    "Com essa generalização e sabendo que uma matriz diagonal possuí números diferentes de 0 apenas em posições $(i,i)$ com $1 \\leq i \\leq n$, então podemos ignorar todos os elementos que não multiplicam $a_{i,i}$. \n",
    "\n",
    "Com isso, a multiplicação de uma matriz diagonal no formato $(n, n)$ por uma matriz $(n,1)$ tem o  seguinte resultado:\n",
    "\n",
    "$$\n",
    "\\begin{bmatrix}\n",
    "    a_{1,1} & 0 & ... & 0 \\\\\n",
    "    0 & a_{2,2} & ... & 0 \\\\\n",
    "    \\vdots & \\vdots & \\ddots & \\vdots \\\\\n",
    "    0 & 0 & ... & a_{n,n}\n",
    "\\end{bmatrix}\n",
    "\\cdot\n",
    "\\begin{bmatrix}\n",
    "    x_{1,1} \\\\\n",
    "    x_{2,1} \\\\\n",
    "    \\vdots \\\\\n",
    "    x_{n,1}\n",
    "\\end{bmatrix}\n",
    "=\n",
    "\\begin{bmatrix}\n",
    "    y_{1,1} \\\\\n",
    "    y_{2,1} \\\\\n",
    "    \\vdots \\\\\n",
    "    y_{n,1}\n",
    "\\end{bmatrix}\n",
    "$$\n",
    "\n",
    "Onde, $$y_{i, 1} = a_{i,i} \\cdot x_{i, 1}$$\n",
    "\n",
    "Assim, para resolvermos um sistema $Ax = y$ onde $A$ eh uma matriz diagonal e $y$ é o lado direito da equacao no formato $(n,1)$, a partir da afirmação acima, precisamos que $x$ seja uma matriz no formato $(n,1)$ onde:\n",
    "\n",
    "$$x_{i, 1} = \\frac{y_{i, 1}}{a_{i,i}}$$\n",
    "\n",
    "Onde $x_{i, 1}$ é o elemento da matriz $x$ na posição $(i, 1)$ com $1 \\leq i \\leq n$ <br>\n",
    "$y_{i, 1}$ é o elemento da matriz $y$ na posição $(i, 1)$ com $1 \\leq i \\leq n$ <br>\n",
    "$a_{i, i}$ é o elemento da matriz $A$ na posição $(i, i)$ com $1 \\leq i \\leq n$"
   ]
  },
  {
   "cell_type": "code",
   "execution_count": 5,
   "metadata": {},
   "outputs": [],
   "source": [
    "#Entrada: Matrizes A, x e y.\n",
    "#Retorna: Se a matriz x é a solução do sistema linear Ax = y (true) ou não (false)\n",
    "function testa_matrizes(A, x, y) # Função que verifica se o x é solução de Ax = y\n",
    "    y_teste = A * x \n",
    "    return norm(y_teste - y) < 1e-9\n",
    "end;    "
   ]
  },
  {
   "cell_type": "code",
   "execution_count": 6,
   "metadata": {
    "scrolled": true
   },
   "outputs": [
    {
     "data": {
      "text/plain": [
       "3-element Vector{Float64}:\n",
       " 16.0\n",
       " 27.0\n",
       " 15.0"
      ]
     },
     "execution_count": 6,
     "metadata": {},
     "output_type": "execute_result"
    }
   ],
   "source": [
    "# Exemplo 1\n",
    "A_1 = [\n",
    "    1 0 0;\n",
    "    0 1 0;\n",
    "    0 0 1;\n",
    "]\n",
    "y_1 = [\n",
    "    16;\n",
    "    27;\n",
    "    15;\n",
    "]\n",
    "\n",
    "x_1 = resolve_diagonal(A_1, y_1)"
   ]
  },
  {
   "cell_type": "code",
   "execution_count": 7,
   "metadata": {},
   "outputs": [
    {
     "data": {
      "text/plain": [
       "true"
      ]
     },
     "execution_count": 7,
     "metadata": {},
     "output_type": "execute_result"
    }
   ],
   "source": [
    "testa_matrizes(A_1, x_1, y_1) # Teste para verificar se o x encontrado é solução"
   ]
  },
  {
   "cell_type": "code",
   "execution_count": 8,
   "metadata": {},
   "outputs": [
    {
     "data": {
      "text/plain": [
       "4-element Vector{Float64}:\n",
       "  6.4605263157894735\n",
       "  1.0875\n",
       "  6.021052631578947\n",
       " 65.0"
      ]
     },
     "execution_count": 8,
     "metadata": {},
     "output_type": "execute_result"
    }
   ],
   "source": [
    "# Exemplo 2\n",
    "A_2 = [\n",
    "    152 0 0 0;\n",
    "    0 320 0 0;\n",
    "    0 0 95 0;\n",
    "    0 0 0 13;\n",
    "]\n",
    "y_2 = [\n",
    "    982;\n",
    "    348;\n",
    "    572;\n",
    "    845;\n",
    "]\n",
    "\n",
    "x_2 = resolve_diagonal(A_2, y_2)"
   ]
  },
  {
   "cell_type": "code",
   "execution_count": 9,
   "metadata": {},
   "outputs": [
    {
     "data": {
      "text/plain": [
       "true"
      ]
     },
     "execution_count": 9,
     "metadata": {},
     "output_type": "execute_result"
    }
   ],
   "source": [
    "testa_matrizes(A_2, x_2, y_2) # Teste para verificar se o x encontrado é solução"
   ]
  },
  {
   "cell_type": "code",
   "execution_count": 10,
   "metadata": {},
   "outputs": [
    {
     "data": {
      "text/plain": [
       "5-element Vector{Float64}:\n",
       "   2.798889152122983\n",
       " 128.50969650487565\n",
       "   0.7974547974547974\n",
       "  68.07791077257889\n",
       "   0.24008675913177074"
      ]
     },
     "execution_count": 10,
     "metadata": {},
     "output_type": "execute_result"
    }
   ],
   "source": [
    "# Exemplo 3\n",
    "A_3 = [\n",
    "    75978 0 0 0 0;\n",
    "    0 18254 0 0 0;\n",
    "    0 0 15873 0 0;\n",
    "    0 0 0 32165 0;\n",
    "    0 0 0 0 564321\n",
    "]\n",
    "y_3 = [\n",
    "    212654;\n",
    "    2345816;\n",
    "    12658;\n",
    "    2189726;\n",
    "    135486;\n",
    "]\n",
    "\n",
    "x_3 = resolve_diagonal(A_3, y_3)"
   ]
  },
  {
   "cell_type": "code",
   "execution_count": 11,
   "metadata": {},
   "outputs": [
    {
     "data": {
      "text/plain": [
       "true"
      ]
     },
     "execution_count": 11,
     "metadata": {},
     "output_type": "execute_result"
    }
   ],
   "source": [
    "testa_matrizes(A_3, x_3, y_3) # Teste para verificar se o x encontrado é solução"
   ]
  },
  {
   "cell_type": "markdown",
   "metadata": {},
   "source": [
    "##### Resolve triangular superior"
   ]
  },
  {
   "cell_type": "markdown",
   "metadata": {},
   "source": [
    "Como visto em aula, dado um sistema com matriz triangular superior precisamos resolve-lá de baixo para cima. Sabemos que no sistema $Ax = y$, com $A$ sendo a matriz triangular superior no formato $(n,n)$ e $y$ sendo uma matriz coluna de tamanho $n$, temos seguinte:\n",
    "\n",
    "$$\n",
    "\\begin{bmatrix}\n",
    "    a_{1,1} & a_{1,2} & ... & a_{1,n-1} & a_{1,n} \\\\\n",
    "    0 & a_{2,2} & ... & a_{2,n-1} & a_{2,n} \\\\\n",
    "    \\vdots & \\vdots & \\ddots & \\vdots & \\vdots \\\\\n",
    "    0 & 0 & ... & a_{n-1,n-1} & a_{n-1,n} \\\\\n",
    "    0 & 0 & ... & 0 & a_{n,n}\n",
    "\\end{bmatrix}\n",
    "\\cdot\n",
    "\\begin{bmatrix}\n",
    "    x_{1,1} \\\\\n",
    "    x_{2,1} \\\\\n",
    "    \\vdots \\\\\n",
    "    x_{n-1,1} \\\\\n",
    "    x_{n,1}\n",
    "\\end{bmatrix}\n",
    "=\n",
    "\\begin{bmatrix}\n",
    "    y_{1,1} \\\\\n",
    "    y_{2,1} \\\\\n",
    "    \\vdots \\\\\n",
    "    y_{n-1,1} \\\\\n",
    "    y_{n,1}\n",
    "\\end{bmatrix}\n",
    "$$\n"
   ]
  },
  {
   "cell_type": "markdown",
   "metadata": {},
   "source": [
    "Onde,\n",
    "$$\n",
    "    y_{i,1} = \\sum_{j = i}^{n}(a_{i,j} \\cdot x_{j, 1}) = a_{i,i} \\cdot x_{i, 1} +  a_{i,i+1} \\cdot x_{i+1, 1} + ... +  a_{i,n} \\cdot x_{n, 1}\n",
    "$$\n",
    "\n",
    "A única equação que podemos resolver é a que tem apenas uma variável. A única linha (equação) que contém apenas uma variável é a última, com isso, sabemos qué:\n",
    "\n",
    "$$\n",
    "    x_{n,1} = \\frac{y_{n,1}}{a_{n,n}}\n",
    "$$\n",
    "\n",
    "Como descobrimos o valor de $x_{n,1}$ podemos utilizar esse valor na linha $n-1$, ficando com:\n",
    "\n",
    "$$\n",
    "    x_{n-1,1} = \\frac{y_{n-1,1} - a_{n-1, n} \\cdot x_{n,1}}{a_{n-1,n-1}} \n",
    "$$\n",
    "\n",
    "E agora, como descobrimos o valor de $x_{n-1,1}$ podemos utilizar esse valor e o de $x_{n,1}$ na linha (equação) $n-2$. O método segue assim até a primeira linha."
   ]
  },
  {
   "cell_type": "code",
   "execution_count": 12,
   "metadata": {},
   "outputs": [
    {
     "data": {
      "text/plain": [
       "3-element Vector{Float64}:\n",
       " 16.0\n",
       " 27.0\n",
       " 15.0"
      ]
     },
     "execution_count": 12,
     "metadata": {},
     "output_type": "execute_result"
    }
   ],
   "source": [
    "# Exemplo 1\n",
    "A_1 = [\n",
    "    1 0 0;\n",
    "    0 1 0;\n",
    "    0 0 1;\n",
    "]\n",
    "y_1 = [\n",
    "    16;\n",
    "    27;\n",
    "    15;\n",
    "]\n",
    "\n",
    "x_1 = resolve_triangular_superior(A_1, y_1)"
   ]
  },
  {
   "cell_type": "code",
   "execution_count": 13,
   "metadata": {},
   "outputs": [
    {
     "data": {
      "text/plain": [
       "true"
      ]
     },
     "execution_count": 13,
     "metadata": {},
     "output_type": "execute_result"
    }
   ],
   "source": [
    "testa_matrizes(A_1, x_1, y_1) # Teste para verificar se o x encontrado é solução"
   ]
  },
  {
   "cell_type": "code",
   "execution_count": 14,
   "metadata": {},
   "outputs": [
    {
     "data": {
      "text/plain": [
       "4-element Vector{Float64}:\n",
       " -2.425438596491228\n",
       " -0.6315789473684208\n",
       " -1.105263157894737\n",
       "  4.0"
      ]
     },
     "execution_count": 14,
     "metadata": {},
     "output_type": "execute_result"
    }
   ],
   "source": [
    "# Exemplo 2\n",
    "A_2 = [\n",
    "    12 5 7 14;\n",
    "    0 9 3 9;\n",
    "    0 0 19 9;\n",
    "    0 0 0 3;\n",
    "]\n",
    "y_2 = [\n",
    "    16;\n",
    "    27;\n",
    "    15;\n",
    "    12;\n",
    "]\n",
    "\n",
    "x_2 = resolve_triangular_superior(A_2, y_2)"
   ]
  },
  {
   "cell_type": "code",
   "execution_count": 15,
   "metadata": {},
   "outputs": [
    {
     "data": {
      "text/plain": [
       "true"
      ]
     },
     "execution_count": 15,
     "metadata": {},
     "output_type": "execute_result"
    }
   ],
   "source": [
    "testa_matrizes(A_2, x_2, y_2) # Teste para verificar se o x encontrado é solução"
   ]
  },
  {
   "cell_type": "code",
   "execution_count": 16,
   "metadata": {},
   "outputs": [
    {
     "data": {
      "text/plain": [
       "5-element Vector{Float64}:\n",
       "   19.093774931920727\n",
       " 1283.1169746761816\n",
       " -676.069293110203\n",
       "  678.9382207288777\n",
       "    2.4009313847969507"
      ]
     },
     "execution_count": 16,
     "metadata": {},
     "output_type": "execute_result"
    }
   ],
   "source": [
    "# Exemplo 3\n",
    "A_3 = [\n",
    "    75978 535 84 68 9;\n",
    "    0 18254 24 78 28;\n",
    "    0 0 15873 15991 2;\n",
    "    0 0 0 32165 4864;\n",
    "    0 0 0 0 564321\n",
    "]\n",
    "y_3 = [\n",
    "    2126574;\n",
    "    23458816;\n",
    "    125658;\n",
    "    21849726;\n",
    "    1354896;\n",
    "]\n",
    "\n",
    "x_3 = resolve_triangular_superior(A_3, y_3)"
   ]
  },
  {
   "cell_type": "code",
   "execution_count": 17,
   "metadata": {},
   "outputs": [
    {
     "data": {
      "text/plain": [
       "true"
      ]
     },
     "execution_count": 17,
     "metadata": {},
     "output_type": "execute_result"
    }
   ],
   "source": [
    "testa_matrizes(A_3, x_3, y_3) # Teste para verificar se o x encontrado é solução"
   ]
  },
  {
   "cell_type": "markdown",
   "metadata": {},
   "source": [
    "##### Resolve triangular inferior"
   ]
  },
  {
   "cell_type": "markdown",
   "metadata": {},
   "source": [
    "Analogamente, para resolver um sistema com matriz triangular inferior nós precisamos começar de cima e ir resolvendo as equações até a última"
   ]
  },
  {
   "cell_type": "code",
   "execution_count": 18,
   "metadata": {},
   "outputs": [
    {
     "data": {
      "text/plain": [
       "3-element Vector{Float64}:\n",
       " 16.0\n",
       " 27.0\n",
       " 15.0"
      ]
     },
     "execution_count": 18,
     "metadata": {},
     "output_type": "execute_result"
    }
   ],
   "source": [
    "# Exemplo 1\n",
    "A_1 = [\n",
    "    1 0 0;\n",
    "    0 1 0;\n",
    "    0 0 1;\n",
    "]\n",
    "y_1 = [\n",
    "    16;\n",
    "    27;\n",
    "    15;\n",
    "]\n",
    "\n",
    "x_1 = resolve_triangular_inferior(A_1, y_1)"
   ]
  },
  {
   "cell_type": "code",
   "execution_count": 19,
   "metadata": {},
   "outputs": [
    {
     "data": {
      "text/plain": [
       "true"
      ]
     },
     "execution_count": 19,
     "metadata": {},
     "output_type": "execute_result"
    }
   ],
   "source": [
    "testa_matrizes(A_1, x_1, y_1) # Teste para verificar se o x encontrado é solução"
   ]
  },
  {
   "cell_type": "code",
   "execution_count": 20,
   "metadata": {},
   "outputs": [
    {
     "data": {
      "text/plain": [
       "4-element Vector{Float64}:\n",
       "  3.3333333333333335\n",
       " -4.13888888888889\n",
       "  4.962592592592594\n",
       " -6.303349794238685"
      ]
     },
     "execution_count": 20,
     "metadata": {},
     "output_type": "execute_result"
    }
   ],
   "source": [
    "# Exemplo 2\n",
    "A_2 = [\n",
    "    48 0 0 0;\n",
    "    98 12 0 0;\n",
    "    54 95 75 0;\n",
    "    94 37 68 45;\n",
    "]\n",
    "y_2 = [\n",
    "    160;\n",
    "    277;\n",
    "    159;\n",
    "    214;\n",
    "]\n",
    "\n",
    "x_2 = resolve_triangular_inferior(A_2, y_2)"
   ]
  },
  {
   "cell_type": "code",
   "execution_count": 21,
   "metadata": {},
   "outputs": [
    {
     "data": {
      "text/plain": [
       "true"
      ]
     },
     "execution_count": 21,
     "metadata": {},
     "output_type": "execute_result"
    }
   ],
   "source": [
    "testa_matrizes(A_2, x_2, y_2) # Teste para verificar se o x encontrado é solução"
   ]
  },
  {
   "cell_type": "code",
   "execution_count": 22,
   "metadata": {},
   "outputs": [
    {
     "data": {
      "text/plain": [
       "5-element Vector{Float64}:\n",
       "  128.203125\n",
       " -369.14506880733944\n",
       "  426.51554631075544\n",
       " -566.4067874234464\n",
       "  733.8470960420751"
      ]
     },
     "execution_count": 22,
     "metadata": {},
     "output_type": "execute_result"
    }
   ],
   "source": [
    "# Exemplo 3\n",
    "A_3 = [\n",
    "    128 0 0 0 0;\n",
    "    840 218 0 0 0;\n",
    "    554 965 705 0 0;\n",
    "    941 372 678 459 0;\n",
    "    231 972 543 845 851;\n",
    "]\n",
    "y_3 = [\n",
    "    16410;\n",
    "    27217;\n",
    "    15493;\n",
    "    12514;\n",
    "    48294;\n",
    "]\n",
    "\n",
    "x_3 = resolve_triangular_inferior(A_3, y_3)"
   ]
  },
  {
   "cell_type": "code",
   "execution_count": 23,
   "metadata": {},
   "outputs": [
    {
     "data": {
      "text/plain": [
       "true"
      ]
     },
     "execution_count": 23,
     "metadata": {},
     "output_type": "execute_result"
    }
   ],
   "source": [
    "testa_matrizes(A_3, x_3, y_3) # Teste para verificar se o x encontrado é solução"
   ]
  },
  {
   "cell_type": "markdown",
   "metadata": {},
   "source": [
    "#### Decomposição LU"
   ]
  },
  {
   "cell_type": "markdown",
   "metadata": {},
   "source": [
    "Para decompor a matriz $A$ em uma matriz diagonal inferior $L$ e diagonal superior $U$, onde $A=L \\cdot U$, utilizamos o algoritmo visto em aula. \n",
    "$$\n",
    "\\begin{bmatrix}\n",
    "    a_{1,1} & a_{1,2} & ... & a_{1,n} \\\\\n",
    "    a_{2,1} & a_{2,2} & ... & a_{2,n} \\\\\n",
    "    \\vdots & \\vdots & \\ddots & \\vdots \\\\\n",
    "    a_{n,1} & a_{n,2} & ... & a_{n,n}\n",
    "\\end{bmatrix}\n",
    "=\n",
    "\\begin{bmatrix}\n",
    "    1 & 0 & ... & 0 \\\\\n",
    "    l_{2,1} & 1 & ... & 0 \\\\\n",
    "    \\vdots & \\vdots & \\ddots & \\vdots \\\\\n",
    "    l_{n,1} & l_{n,2} & ... & 1\n",
    "\\end{bmatrix}\n",
    "\\cdot\n",
    "\\begin{bmatrix}\n",
    "    u_{1,1} & u_{1,2} & ... & u_{1,n} \\\\\n",
    "    0 & u_{2,2} & ... & u_{2,n} \\\\\n",
    "    \\vdots & \\vdots & \\ddots & \\vdots \\\\\n",
    "    0 & 0 & ... & u_{n,n}\n",
    "\\end{bmatrix}\n",
    "$$\n",
    "\n",
    "\n",
    "\n",
    "Como visto em aula, para encontrarmos a matriz $U$ precisamos escalonar a matriz $A$. Usando a diagonal principal como pivot podemos encontrar coeficientes que quando multiplicados a linha do pivot gerem os elementos na mesma coluna abaixo. Contudo, esses coeficientes são os elementos da matriz $L$, assim, nosso código pode escalonar $A$ para encontrar $U$ e a medida que encontrar os coeficientes, monta a matriz $L$."
   ]
  },
  {
   "cell_type": "code",
   "execution_count": 24,
   "metadata": {},
   "outputs": [],
   "source": [
    "# Exemplo 1\n",
    "A_1 = Float64.([\n",
    "    1 0 0;\n",
    "    0 1 0;\n",
    "    0 0 1;\n",
    "]);\n",
    "\n",
    "L_1, U_1 = decomposicao_lu(A_1);"
   ]
  },
  {
   "cell_type": "code",
   "execution_count": 25,
   "metadata": {},
   "outputs": [
    {
     "data": {
      "text/plain": [
       "3×3 Matrix{Float64}:\n",
       " 1.0  0.0  0.0\n",
       " 0.0  1.0  0.0\n",
       " 0.0  0.0  1.0"
      ]
     },
     "execution_count": 25,
     "metadata": {},
     "output_type": "execute_result"
    }
   ],
   "source": [
    "# Para verificarmos a corretude basta multiplicar as matrizes L e U e ver se o resultado é a matriz A\n",
    "A_teste_1 = L_1 * U_1"
   ]
  },
  {
   "cell_type": "code",
   "execution_count": 26,
   "metadata": {},
   "outputs": [
    {
     "data": {
      "text/plain": [
       "true"
      ]
     },
     "execution_count": 26,
     "metadata": {},
     "output_type": "execute_result"
    }
   ],
   "source": [
    "norm(A_teste_1 - A_1) < 1e-9 # Teste para saber se as matrizes são aproximadamente iguais"
   ]
  },
  {
   "cell_type": "code",
   "execution_count": 27,
   "metadata": {},
   "outputs": [],
   "source": [
    "# Exemplo 2\n",
    "A_2 = Float64.([\n",
    "    98 87 12 38;\n",
    "    23 84 18 68;\n",
    "    92 87 23 12;\n",
    "    48 91 73 15;\n",
    "]);\n",
    "\n",
    "L_2, U_2 = decomposicao_lu(A_2);"
   ]
  },
  {
   "cell_type": "code",
   "execution_count": 28,
   "metadata": {},
   "outputs": [
    {
     "data": {
      "text/plain": [
       "4×4 Matrix{Float64}:\n",
       " 98.0  87.0  12.0  38.0\n",
       " 23.0  84.0  18.0  68.0\n",
       " 92.0  87.0  23.0  12.0\n",
       " 48.0  91.0  73.0  15.0"
      ]
     },
     "execution_count": 28,
     "metadata": {},
     "output_type": "execute_result"
    }
   ],
   "source": [
    "# Para verificarmos a corretude basta multiplicar as matrizes L e U e ver se o resultado é a matriz A\n",
    "A_teste_2 = L_2 * U_2"
   ]
  },
  {
   "cell_type": "code",
   "execution_count": 29,
   "metadata": {},
   "outputs": [
    {
     "data": {
      "text/plain": [
       "true"
      ]
     },
     "execution_count": 29,
     "metadata": {},
     "output_type": "execute_result"
    }
   ],
   "source": [
    "norm(A_teste_2 - A_2) < 1e-9 # Teste para saber se as matrizes são aproximadamente iguais"
   ]
  },
  {
   "cell_type": "code",
   "execution_count": 30,
   "metadata": {},
   "outputs": [],
   "source": [
    "# Exemplo 3\n",
    "A_3 = Float64.([\n",
    "    4 3 7;\n",
    "    7 5 9; \n",
    "    2 4 6;\n",
    "]);\n",
    "\n",
    "L_3, U_3 = decomposicao_lu(A_3);"
   ]
  },
  {
   "cell_type": "code",
   "execution_count": 31,
   "metadata": {},
   "outputs": [
    {
     "data": {
      "text/plain": [
       "3×3 Matrix{Float64}:\n",
       " 4.0  3.0  7.0\n",
       " 7.0  5.0  9.0\n",
       " 2.0  4.0  6.0"
      ]
     },
     "execution_count": 31,
     "metadata": {},
     "output_type": "execute_result"
    }
   ],
   "source": [
    "A_teste_3 = L_3 * U_3"
   ]
  },
  {
   "cell_type": "code",
   "execution_count": 32,
   "metadata": {},
   "outputs": [
    {
     "data": {
      "text/plain": [
       "true"
      ]
     },
     "execution_count": 32,
     "metadata": {},
     "output_type": "execute_result"
    }
   ],
   "source": [
    "norm(A_teste_3 - A_3) < 1e-9 # Teste para saber se as matrizes são aproximadamente iguais"
   ]
  },
  {
   "cell_type": "markdown",
   "metadata": {},
   "source": [
    "#### Inversa usando LU\n",
    "Utilizando decomposição LU conseguimos facilmente resolver sistemas do tipo $Ax=b$, onde $A$ é uma matriz $(n,n)$ e $x$ e $b$ são matrizes $(n, 1)$. A ideia é substituir $A=LU$:\n",
    "\n",
    "$$\n",
    "\\begin{bmatrix}\n",
    "    a_{1,1} & a_{1,2} & a_{1,3} \\\\\n",
    "    a_{2,1} & a_{2,2} & a_{2,3} \\\\\n",
    "    a_{3,1} & a_{3,2} & a_{3,3} \n",
    "\\end{bmatrix}\n",
    "=\n",
    "\\begin{bmatrix}\n",
    "    l_{1,1} & 0 & 0 \\\\\n",
    "    l_{2,1} & l_{2,2} & 0 \\\\\n",
    "    l_{3,1} & l_{3,2} & l_{3,3} \n",
    "\\end{bmatrix}\n",
    "\\cdot\n",
    "\\begin{bmatrix}\n",
    "    u_{1,1} & u_{1,2} & u_{1,3} \\\\\n",
    "    0 & u_{2,2} & u_{2,3} \\\\\n",
    "    0 & 0 & u_{3,3} \n",
    "\\end{bmatrix}\n",
    "$$\n",
    "\n",
    "Logo o sistema $Ax=b$ será $(LU)x=b$:\n",
    "$$\n",
    "\\begin{bmatrix}\n",
    "    a_{1,1} & a_{1,2} & a_{1,3} \\\\\n",
    "    a_{2,1} & a_{2,2} & a_{2,3} \\\\\n",
    "    a_{3,1} & a_{3,2} & a_{3,3} \n",
    "\\end{bmatrix}\n",
    "\\cdot\n",
    "\\begin{bmatrix}\n",
    "    x_{1,1} \\\\\n",
    "    x_{2,1} \\\\\n",
    "    x_{3,1} \n",
    "\\end{bmatrix}\n",
    "=\n",
    "\\begin{bmatrix}\n",
    "    b_{1,1} \\\\\n",
    "    b_{2,1} \\\\\n",
    "    b_{3,1} \n",
    "\\end{bmatrix}\n",
    "$$\n",
    "\n",
    "$$\n",
    "\\left(\n",
    "\\begin{bmatrix}\n",
    "    l_{1,1} & 0 & 0 \\\\\n",
    "    l_{2,1} & l_{2,2} & 0 \\\\\n",
    "    l_{3,1} & l_{3,2} & l_{3,3} \n",
    "\\end{bmatrix}\n",
    "\\cdot\n",
    "\\begin{bmatrix}\n",
    "    u_{1,1} & u_{1,2} & u_{1,3} \\\\\n",
    "    0 & u_{2,2} & u_{2,3} \\\\\n",
    "    0 & 0 & u_{3,3} \n",
    "\\end{bmatrix}\n",
    "\\right)\n",
    "\\cdot\n",
    "\\begin{bmatrix}\n",
    "    x_{1,1} \\\\\n",
    "    x_{2,1} \\\\\n",
    "    x_{3,1} \n",
    "\\end{bmatrix}\n",
    "=\n",
    "\\begin{bmatrix}\n",
    "    b_{1,1} \\\\\n",
    "    b_{2,1} \\\\\n",
    "    b_{3,1} \n",
    "\\end{bmatrix}\n",
    "$$\n",
    "\n"
   ]
  },
  {
   "cell_type": "markdown",
   "metadata": {},
   "source": [
    "Se nós mudarmos os parêntesis conseguimos resolver dois sistemas mais simples:\n",
    "\n",
    "$$\n",
    "\\begin{bmatrix}\n",
    "    l_{1,1} & 0 & 0 \\\\\n",
    "    l_{2,1} & l_{2,2} & 0 \\\\\n",
    "    l_{3,1} & l_{3,2} & l_{3,3} \n",
    "\\end{bmatrix}\n",
    "\\cdot\n",
    "\\left(\n",
    "\\begin{bmatrix}\n",
    "    u_{1,1} & u_{1,2} & u_{1,3} \\\\\n",
    "    0 & u_{2,2} & u_{2,3} \\\\\n",
    "    0 & 0 & u_{3,3} \n",
    "\\end{bmatrix}\n",
    "\\cdot\n",
    "\\begin{bmatrix}\n",
    "    x_{1,1} \\\\\n",
    "    x_{2,1} \\\\\n",
    "    x_{3,1} \n",
    "\\end{bmatrix}\n",
    "\\right)\n",
    "=\n",
    "\\begin{bmatrix}\n",
    "    b_{1,1} \\\\\n",
    "    b_{2,1} \\\\\n",
    "    b_{3,1} \n",
    "\\end{bmatrix}\n",
    "$$\n",
    "\n",
    "Se dissermos que $Ux=d$ teremos dois sistemas do tipo $Ax=b$\n",
    "$$\n",
    "\\begin{bmatrix}\n",
    "    u_{1,1} & u_{1,2} & u_{1,3} \\\\\n",
    "    0 & u_{2,2} & u_{2,3} \\\\\n",
    "    0 & 0 & u_{3,3} \n",
    "\\end{bmatrix}\n",
    "\\cdot\n",
    "\\begin{bmatrix}\n",
    "    x_{1,1} \\\\\n",
    "    x_{2,1} \\\\\n",
    "    x_{3,1} \n",
    "\\end{bmatrix}\n",
    "=\n",
    "\\begin{bmatrix}\n",
    "    d_{1,1} \\\\\n",
    "    d_{2,1} \\\\\n",
    "    d_{3,1} \n",
    "\\end{bmatrix}\n",
    "$$\n",
    "\n",
    "$$\n",
    "\\begin{bmatrix}\n",
    "    l_{1,1} & 0 & 0 \\\\\n",
    "    l_{2,1} & l_{2,2} & 0 \\\\\n",
    "    l_{3,1} & l_{3,2} & l_{3,3} \n",
    "\\end{bmatrix}\n",
    "\\cdot\n",
    "\\begin{bmatrix}\n",
    "    d_{1,1} \\\\\n",
    "    d_{2,1} \\\\\n",
    "    d_{3,1} \n",
    "\\end{bmatrix}\n",
    "=\n",
    "\\begin{bmatrix}\n",
    "    b_{1,1} \\\\\n",
    "    b_{2,1} \\\\\n",
    "    b_{3,1} \n",
    "\\end{bmatrix}\n",
    "$$\n"
   ]
  },
  {
   "cell_type": "markdown",
   "metadata": {},
   "source": [
    "Com isso, nós conseguimos achar a inversa de uma matriz $A$ utilizando a decomposição LU pois podemos separar o problema:\n",
    "$$\n",
    "\\begin{bmatrix}\n",
    "    a_{1,1} & a_{1,2} & a_{1,3} \\\\\n",
    "    a_{2,1} & a_{2,2} & a_{2,3} \\\\\n",
    "    a_{3,1} & a_{3,2} & a_{3,3} \n",
    "\\end{bmatrix}\n",
    "\\cdot\n",
    "\\begin{bmatrix}\n",
    "    a'_{1,1} & a'_{1,2} & a'_{1,3} \\\\\n",
    "    a'_{2,1} & a'_{2,2} & a'_{2,3} \\\\\n",
    "    a'_{3,1} & a'_{3,2} & a'_{3,3} \n",
    "\\end{bmatrix}\n",
    "=\n",
    "\\begin{bmatrix}\n",
    "    1 & 0 & 0 \\\\\n",
    "    0 & 1 & 0 \\\\\n",
    "    0 & 0 & 1\n",
    "\\end{bmatrix}\n",
    "$$\n",
    "\n",
    "nos seguintes problemas:\n",
    "$$\n",
    "\\begin{bmatrix}\n",
    "    a_{1,1} & a_{1,2} & a_{1,3} \\\\\n",
    "    a_{2,1} & a_{2,2} & a_{2,3} \\\\\n",
    "    a_{3,1} & a_{3,2} & a_{3,3} \n",
    "\\end{bmatrix}\n",
    "\\cdot\n",
    "\\begin{bmatrix}\n",
    "    a'_{1,1}  \\\\\n",
    "    a'_{2,1}  \\\\\n",
    "    a'_{3,1} \n",
    "\\end{bmatrix}\n",
    "=\n",
    "\\begin{bmatrix}\n",
    "    1  \\\\\n",
    "    0  \\\\\n",
    "    0 \n",
    "\\end{bmatrix}\\\\\n",
    "$$\n",
    "$$\n",
    "\\begin{bmatrix}\n",
    "    a_{1,1} & a_{1,2} & a_{1,3} \\\\\n",
    "    a_{2,1} & a_{2,2} & a_{2,3} \\\\\n",
    "    a_{3,1} & a_{3,2} & a_{3,3} \n",
    "\\end{bmatrix}\n",
    "\\cdot\n",
    "\\begin{bmatrix}\n",
    "    a'_{1,2}  \\\\\n",
    "    a'_{2,2}  \\\\\n",
    "    a'_{3,2} \n",
    "\\end{bmatrix}\n",
    "=\n",
    "\\begin{bmatrix}\n",
    "    0  \\\\\n",
    "    1  \\\\\n",
    "    0 \n",
    "\\end{bmatrix}\\\\\n",
    "$$\n",
    "$$\n",
    "\\begin{bmatrix}\n",
    "    a_{1,1} & a_{1,2} & a_{1,3} \\\\\n",
    "    a_{2,1} & a_{2,2} & a_{2,3} \\\\\n",
    "    a_{3,1} & a_{3,2} & a_{3,3} \n",
    "\\end{bmatrix}\n",
    "\\cdot\n",
    "\\begin{bmatrix}\n",
    "    a'_{1,3}  \\\\\n",
    "    a'_{2,3}  \\\\\n",
    "    a'_{3,3} \n",
    "\\end{bmatrix}\n",
    "=\n",
    "\\begin{bmatrix}\n",
    "    0  \\\\\n",
    "    0  \\\\\n",
    "    1 \n",
    "\\end{bmatrix}\n",
    "$$\n",
    "onde $A'$ é a inversa de A"
   ]
  },
  {
   "cell_type": "markdown",
   "metadata": {},
   "source": [
    "E esses problemas podem ser resolvidos facilmente utilizando a decomposição LU"
   ]
  },
  {
   "cell_type": "code",
   "execution_count": 33,
   "metadata": {},
   "outputs": [],
   "source": [
    "# Caso 1: Identidade\n",
    "A1 = [\n",
    "    1 0 0;\n",
    "    0 1 0;\n",
    "    0 0 1\n",
    "]\n",
    "B1 = inverse_LU(A1)\n",
    "\n",
    "# Caso 2: Triangular\n",
    "A2 = [\n",
    "    1 0 0;\n",
    "    2 1 0;\n",
    "    3 4 1\n",
    "]\n",
    "B2 = inverse_LU(A2)\n",
    "\n",
    "# Caso 3: Aleatorio\n",
    "A3 = randn(5,5)\n",
    "B3 = inverse_LU(A3)\n",
    "\n",
    "function check_inverse_norm(A, B)\n",
    "    n,m = size(A)\n",
    "    return norm(A*B - Matrix(1.0I, n, m))\n",
    "end\n",
    "\n",
    "@assert(check_inverse_norm(A1, B1) < 1e-14)\n",
    "@assert(check_inverse_norm(A2, B2) < 1e-14)\n",
    "@assert(check_inverse_norm(A3, B3) < 1e-14)"
   ]
  },
  {
   "cell_type": "markdown",
   "metadata": {},
   "source": [
    "#### Qual a complexidade?\n",
    "1. Decomposição LU: $O(n^3)$\n",
    "0. Criação da matrize inversa $O(n^2)$\n",
    "0. Resolução dos sistemas $O(n^3)$\n",
    "    * A resolução de um sistema usando LU é $O(n^2)$, porém, como resolvemos $n$ sistemas então o total será $O(n^3)$\n",
    "    * A criação do vetor $y$ é $O(n)$, porém, como criamos $n$ vetores então o total será $O(n^2)$\n",
    "    * Adicionar o vetor como coluna da matriz inversa é $O(n)$, porém, como adicionamos $n$ colunas então o total será $O(n^2)$\n",
    "    \n",
    "Então a complexidade total é $O(n^3)$"
   ]
  },
  {
   "cell_type": "markdown",
   "metadata": {},
   "source": [
    "## Exercício 2"
   ]
  },
  {
   "cell_type": "markdown",
   "metadata": {},
   "source": [
    "### 2a. Monte o sistema"
   ]
  },
  {
   "cell_type": "markdown",
   "metadata": {},
   "source": [
    "É possível aproximar uma derivada de duas formas:\n",
    "$$f'(k) \\approx \\frac{f(k+h)-f(k)}{h} \\approx \\frac{f(k)-f(k-h)}{h}$$\n",
    "\n",
    "$$f'(k) \\approx \\frac{f(k+h)-f(k-h)}{2h}$$\n",
    "\n",
    "Podemos aplicar a mesma lógica para a segunda derivada e manipular a aproximação:\n",
    "$$f''(k) \\approx \\frac{f'(k+h)-f'(k-h)}{2h}$$\n",
    "\n",
    "$$f'(k+h) \\approx \\frac{f(k+h)-f(k)}{h}$$\n",
    "\n",
    "$$f'(k-h) \\approx \\frac{f(k)-f(k-h)}{h}$$\n",
    "\n",
    "$$f''(k) \\approx \\frac{\\frac{f(k+h)-f(k)}{h}-\\frac{f(k)-f(k-h)}{h}}{2h} \\approx\n",
    "\\frac{f(k+h) - 2f(k) + f(k-h)}{2h^2}$$\n",
    "\n",
    "Sabemos que a segunda derivada é $4x$ em qualquer ponto, sabemos o valor da função nos pontos $0$ e $10$ e não sabemos a distância entre os pontos, mas sabemos a quantidade de divisões que devem ser feitas. Para calcular a distância precisamos dividir a distância total pela quantidade de divisões. Podemos então fazer o seguinte sistema:\n",
    "* $f(0) = 5$\n",
    "* $f(10) = 20$\n",
    "* $f''(x) = 4x$\n",
    "* $h = \\frac{x_f - x_i}{\\text{n_divisoes}} = \\frac{10 - 0}{6}$\n",
    "\n",
    "Assim, obtemos o seguinte sistema:\n",
    "$$\n",
    "\\begin{bmatrix}\n",
    "-2 & 1 & 0 & 0 & 0\\\\\n",
    "1 & -2 & 1 & 0 & 0\\\\\n",
    "0 & 1 & -2 & 1 & 0\\\\\n",
    "0 & 0 & 1 & -2 & 1\\\\\n",
    "0 & 0 & 0 & 1 & -2\n",
    "\\end{bmatrix}\n",
    "\\begin{bmatrix}\n",
    "f(x_i+h)\\\\\n",
    "f(x_i+2h)\\\\\n",
    "f(x_i+3h)\\\\\n",
    "f(x_i+4h)\\\\\n",
    "f(x_i+5h)\n",
    "\\end{bmatrix}\n",
    "=\n",
    "\\begin{bmatrix}\n",
    "f''(x_i+h) * 2 * h^2 - f(x_i)\\\\\n",
    "f''(x_i+2h) * 2 * h^2\\\\\n",
    "f''(x_i+3h) * 2 * h^2\\\\\n",
    "f''(x_i+4h) * 2 * h^2\\\\\n",
    "f''(x_i+5h) * 2 * h^2 - f(x_f)\n",
    "\\end{bmatrix}\n",
    "$$"
   ]
  },
  {
   "cell_type": "markdown",
   "metadata": {},
   "source": [
    "### 2b. Resolva o sistema\n",
    "\n",
    "Podemos chamar as funções criadas e passar os parâmetros, assim resolvendo o sistema"
   ]
  },
  {
   "cell_type": "code",
   "execution_count": 34,
   "metadata": {},
   "outputs": [
    {
     "name": "stdout",
     "output_type": "stream",
     "text": [
      "f(0.0) ≈ 5.0\n",
      "f(1.6666666666666667) ≈ -208.5493827160494\n",
      "f(3.3333333333333335) ≈ -385.0617283950617\n",
      "f(5.0) ≈ -487.50000000000006\n",
      "f(6.666666666666667) ≈ -478.82716049382725\n",
      "f(8.333333333333334) ≈ -322.0061728395063\n",
      "f(10.0) ≈ 20.0\n"
     ]
    }
   ],
   "source": [
    "n = 7\n",
    "sd(x) = 4x\n",
    "yi = 5.0\n",
    "yf = 20.0\n",
    "xi = 0.0\n",
    "xf = 10.0\n",
    "y_between = finite_difference(n, sd, yi, yf, xi, xf)\n",
    "\n",
    "\n",
    "h = (xf - xi)/(n-1)\n",
    "\n",
    "X = xi:h:xf\n",
    "Y = [yi; y_between; yf]\n",
    "\n",
    "for i=1:length(Y)\n",
    "    println(\"f($(xi + (i-1)*h)) ≈ $(Y[i])\")\n",
    "end"
   ]
  },
  {
   "cell_type": "markdown",
   "metadata": {},
   "source": [
    "Agora que temos os pontos, é possível passar para o próximo passo: interpolar."
   ]
  },
  {
   "cell_type": "markdown",
   "metadata": {},
   "source": [
    "### 2c. Interpole y(3.2345)\n",
    "\n",
    "Sabemos que $y''(x) = 4x$, o que significa que a resposta é a integral realizada duas vezes. Não vamos resolver a EDO agora por métodos tradicionais, mas sabemos que será um polinômio de terceiro grau.\n",
    "\n",
    "Pela nossa intuição, uma interpolação de grau 3 deve se sair melhor que uma de grau 2, mas a melhor forma de saber é vendo na prática:"
   ]
  },
  {
   "cell_type": "code",
   "execution_count": 35,
   "metadata": {},
   "outputs": [],
   "source": [
    "P2 = Polynomial(interpolation(X, Y, 2))\n",
    "P3 = Polynomial(interpolation(X, Y, 3));"
   ]
  },
  {
   "cell_type": "code",
   "execution_count": 36,
   "metadata": {},
   "outputs": [
    {
     "data": {
      "image/svg+xml": [
       "<?xml version=\"1.0\" encoding=\"utf-8\"?>\n",
       "<svg xmlns=\"http://www.w3.org/2000/svg\" xmlns:xlink=\"http://www.w3.org/1999/xlink\" width=\"600\" height=\"400\" viewBox=\"0 0 2400 1600\">\n",
       "<defs>\n",
       "  <clipPath id=\"clip350\">\n",
       "    <rect x=\"0\" y=\"0\" width=\"2400\" height=\"1600\"/>\n",
       "  </clipPath>\n",
       "</defs>\n",
       "<path clip-path=\"url(#clip350)\" d=\"\n",
       "M0 1600 L2400 1600 L2400 0 L0 0  Z\n",
       "  \" fill=\"#363d46\" fill-rule=\"evenodd\" fill-opacity=\"1\"/>\n",
       "<defs>\n",
       "  <clipPath id=\"clip351\">\n",
       "    <rect x=\"480\" y=\"0\" width=\"1681\" height=\"1600\"/>\n",
       "  </clipPath>\n",
       "</defs>\n",
       "<path clip-path=\"url(#clip350)\" d=\"\n",
       "M209.029 1486.45 L2352.76 1486.45 L2352.76 47.2441 L209.029 47.2441  Z\n",
       "  \" fill=\"#30343b\" fill-rule=\"evenodd\" fill-opacity=\"1\"/>\n",
       "<defs>\n",
       "  <clipPath id=\"clip352\">\n",
       "    <rect x=\"209\" y=\"47\" width=\"2145\" height=\"1440\"/>\n",
       "  </clipPath>\n",
       "</defs>\n",
       "<polyline clip-path=\"url(#clip352)\" style=\"stroke:#adb2b7; stroke-linecap:butt; stroke-linejoin:round; stroke-width:2; stroke-opacity:0.1; fill:none\" points=\"\n",
       "  269.7,1486.45 269.7,47.2441 \n",
       "  \"/>\n",
       "<polyline clip-path=\"url(#clip352)\" style=\"stroke:#adb2b7; stroke-linecap:butt; stroke-linejoin:round; stroke-width:2; stroke-opacity:0.1; fill:none\" points=\"\n",
       "  775.296,1486.45 775.296,47.2441 \n",
       "  \"/>\n",
       "<polyline clip-path=\"url(#clip352)\" style=\"stroke:#adb2b7; stroke-linecap:butt; stroke-linejoin:round; stroke-width:2; stroke-opacity:0.1; fill:none\" points=\"\n",
       "  1280.89,1486.45 1280.89,47.2441 \n",
       "  \"/>\n",
       "<polyline clip-path=\"url(#clip352)\" style=\"stroke:#adb2b7; stroke-linecap:butt; stroke-linejoin:round; stroke-width:2; stroke-opacity:0.1; fill:none\" points=\"\n",
       "  1786.49,1486.45 1786.49,47.2441 \n",
       "  \"/>\n",
       "<polyline clip-path=\"url(#clip352)\" style=\"stroke:#adb2b7; stroke-linecap:butt; stroke-linejoin:round; stroke-width:2; stroke-opacity:0.1; fill:none\" points=\"\n",
       "  2292.08,1486.45 2292.08,47.2441 \n",
       "  \"/>\n",
       "<polyline clip-path=\"url(#clip350)\" style=\"stroke:#adb2b7; stroke-linecap:butt; stroke-linejoin:round; stroke-width:4; stroke-opacity:1; fill:none\" points=\"\n",
       "  209.029,1486.45 2352.76,1486.45 \n",
       "  \"/>\n",
       "<polyline clip-path=\"url(#clip350)\" style=\"stroke:#adb2b7; stroke-linecap:butt; stroke-linejoin:round; stroke-width:4; stroke-opacity:1; fill:none\" points=\"\n",
       "  269.7,1486.45 269.7,1467.55 \n",
       "  \"/>\n",
       "<polyline clip-path=\"url(#clip350)\" style=\"stroke:#adb2b7; stroke-linecap:butt; stroke-linejoin:round; stroke-width:4; stroke-opacity:1; fill:none\" points=\"\n",
       "  775.296,1486.45 775.296,1467.55 \n",
       "  \"/>\n",
       "<polyline clip-path=\"url(#clip350)\" style=\"stroke:#adb2b7; stroke-linecap:butt; stroke-linejoin:round; stroke-width:4; stroke-opacity:1; fill:none\" points=\"\n",
       "  1280.89,1486.45 1280.89,1467.55 \n",
       "  \"/>\n",
       "<polyline clip-path=\"url(#clip350)\" style=\"stroke:#adb2b7; stroke-linecap:butt; stroke-linejoin:round; stroke-width:4; stroke-opacity:1; fill:none\" points=\"\n",
       "  1786.49,1486.45 1786.49,1467.55 \n",
       "  \"/>\n",
       "<polyline clip-path=\"url(#clip350)\" style=\"stroke:#adb2b7; stroke-linecap:butt; stroke-linejoin:round; stroke-width:4; stroke-opacity:1; fill:none\" points=\"\n",
       "  2292.08,1486.45 2292.08,1467.55 \n",
       "  \"/>\n",
       "<path clip-path=\"url(#clip350)\" d=\"M247.084 1517.37 Q243.473 1517.37 241.645 1520.93 Q239.839 1524.47 239.839 1531.6 Q239.839 1538.71 241.645 1542.27 Q243.473 1545.82 247.084 1545.82 Q250.719 1545.82 252.524 1542.27 Q254.353 1538.71 254.353 1531.6 Q254.353 1524.47 252.524 1520.93 Q250.719 1517.37 247.084 1517.37 M247.084 1513.66 Q252.895 1513.66 255.95 1518.27 Q259.029 1522.85 259.029 1531.6 Q259.029 1540.33 255.95 1544.94 Q252.895 1549.52 247.084 1549.52 Q241.274 1549.52 238.196 1544.94 Q235.14 1540.33 235.14 1531.6 Q235.14 1522.85 238.196 1518.27 Q241.274 1513.66 247.084 1513.66 Z\" fill=\"#ffffff\" fill-rule=\"evenodd\" fill-opacity=\"1\" /><path clip-path=\"url(#clip350)\" d=\"M267.246 1542.97 L272.131 1542.97 L272.131 1548.85 L267.246 1548.85 L267.246 1542.97 Z\" fill=\"#ffffff\" fill-rule=\"evenodd\" fill-opacity=\"1\" /><path clip-path=\"url(#clip350)\" d=\"M292.316 1517.37 Q288.705 1517.37 286.876 1520.93 Q285.07 1524.47 285.07 1531.6 Q285.07 1538.71 286.876 1542.27 Q288.705 1545.82 292.316 1545.82 Q295.95 1545.82 297.755 1542.27 Q299.584 1538.71 299.584 1531.6 Q299.584 1524.47 297.755 1520.93 Q295.95 1517.37 292.316 1517.37 M292.316 1513.66 Q298.126 1513.66 301.181 1518.27 Q304.26 1522.85 304.26 1531.6 Q304.26 1540.33 301.181 1544.94 Q298.126 1549.52 292.316 1549.52 Q286.506 1549.52 283.427 1544.94 Q280.371 1540.33 280.371 1531.6 Q280.371 1522.85 283.427 1518.27 Q286.506 1513.66 292.316 1513.66 Z\" fill=\"#ffffff\" fill-rule=\"evenodd\" fill-opacity=\"1\" /><path clip-path=\"url(#clip350)\" d=\"M747.032 1544.91 L763.352 1544.91 L763.352 1548.85 L741.407 1548.85 L741.407 1544.91 Q744.069 1542.16 748.653 1537.53 Q753.259 1532.88 754.44 1531.53 Q756.685 1529.01 757.565 1527.27 Q758.468 1525.51 758.468 1523.82 Q758.468 1521.07 756.523 1519.33 Q754.602 1517.6 751.5 1517.6 Q749.301 1517.6 746.847 1518.36 Q744.417 1519.13 741.639 1520.68 L741.639 1515.95 Q744.463 1514.82 746.917 1514.24 Q749.37 1513.66 751.407 1513.66 Q756.778 1513.66 759.972 1516.35 Q763.167 1519.03 763.167 1523.52 Q763.167 1525.65 762.356 1527.57 Q761.569 1529.47 759.463 1532.07 Q758.884 1532.74 755.782 1535.95 Q752.681 1539.15 747.032 1544.91 Z\" fill=\"#ffffff\" fill-rule=\"evenodd\" fill-opacity=\"1\" /><path clip-path=\"url(#clip350)\" d=\"M773.167 1542.97 L778.051 1542.97 L778.051 1548.85 L773.167 1548.85 L773.167 1542.97 Z\" fill=\"#ffffff\" fill-rule=\"evenodd\" fill-opacity=\"1\" /><path clip-path=\"url(#clip350)\" d=\"M788.282 1514.29 L806.639 1514.29 L806.639 1518.22 L792.565 1518.22 L792.565 1526.7 Q793.583 1526.35 794.602 1526.19 Q795.62 1526 796.639 1526 Q802.426 1526 805.805 1529.17 Q809.185 1532.34 809.185 1537.76 Q809.185 1543.34 805.713 1546.44 Q802.24 1549.52 795.921 1549.52 Q793.745 1549.52 791.477 1549.15 Q789.231 1548.78 786.824 1548.04 L786.824 1543.34 Q788.907 1544.47 791.129 1545.03 Q793.352 1545.58 795.828 1545.58 Q799.833 1545.58 802.171 1543.48 Q804.509 1541.37 804.509 1537.76 Q804.509 1534.15 802.171 1532.04 Q799.833 1529.94 795.828 1529.94 Q793.953 1529.94 792.078 1530.35 Q790.227 1530.77 788.282 1531.65 L788.282 1514.29 Z\" fill=\"#ffffff\" fill-rule=\"evenodd\" fill-opacity=\"1\" /><path clip-path=\"url(#clip350)\" d=\"M1248.06 1514.29 L1266.41 1514.29 L1266.41 1518.22 L1252.34 1518.22 L1252.34 1526.7 Q1253.36 1526.35 1254.38 1526.19 Q1255.39 1526 1256.41 1526 Q1262.2 1526 1265.58 1529.17 Q1268.96 1532.34 1268.96 1537.76 Q1268.96 1543.34 1265.49 1546.44 Q1262.01 1549.52 1255.7 1549.52 Q1253.52 1549.52 1251.25 1549.15 Q1249.01 1548.78 1246.6 1548.04 L1246.6 1543.34 Q1248.68 1544.47 1250.9 1545.03 Q1253.13 1545.58 1255.6 1545.58 Q1259.61 1545.58 1261.95 1543.48 Q1264.28 1541.37 1264.28 1537.76 Q1264.28 1534.15 1261.95 1532.04 Q1259.61 1529.94 1255.6 1529.94 Q1253.73 1529.94 1251.85 1530.35 Q1250 1530.77 1248.06 1531.65 L1248.06 1514.29 Z\" fill=\"#ffffff\" fill-rule=\"evenodd\" fill-opacity=\"1\" /><path clip-path=\"url(#clip350)\" d=\"M1278.17 1542.97 L1283.06 1542.97 L1283.06 1548.85 L1278.17 1548.85 L1278.17 1542.97 Z\" fill=\"#ffffff\" fill-rule=\"evenodd\" fill-opacity=\"1\" /><path clip-path=\"url(#clip350)\" d=\"M1303.24 1517.37 Q1299.63 1517.37 1297.8 1520.93 Q1296 1524.47 1296 1531.6 Q1296 1538.71 1297.8 1542.27 Q1299.63 1545.82 1303.24 1545.82 Q1306.88 1545.82 1308.68 1542.27 Q1310.51 1538.71 1310.51 1531.6 Q1310.51 1524.47 1308.68 1520.93 Q1306.88 1517.37 1303.24 1517.37 M1303.24 1513.66 Q1309.05 1513.66 1312.11 1518.27 Q1315.19 1522.85 1315.19 1531.6 Q1315.19 1540.33 1312.11 1544.94 Q1309.05 1549.52 1303.24 1549.52 Q1297.43 1549.52 1294.35 1544.94 Q1291.3 1540.33 1291.3 1531.6 Q1291.3 1522.85 1294.35 1518.27 Q1297.43 1513.66 1303.24 1513.66 Z\" fill=\"#ffffff\" fill-rule=\"evenodd\" fill-opacity=\"1\" /><path clip-path=\"url(#clip350)\" d=\"M1752.81 1514.29 L1775.03 1514.29 L1775.03 1516.28 L1762.48 1548.85 L1757.6 1548.85 L1769.41 1518.22 L1752.81 1518.22 L1752.81 1514.29 Z\" fill=\"#ffffff\" fill-rule=\"evenodd\" fill-opacity=\"1\" /><path clip-path=\"url(#clip350)\" d=\"M1784.15 1542.97 L1789.03 1542.97 L1789.03 1548.85 L1784.15 1548.85 L1784.15 1542.97 Z\" fill=\"#ffffff\" fill-rule=\"evenodd\" fill-opacity=\"1\" /><path clip-path=\"url(#clip350)\" d=\"M1799.27 1514.29 L1817.62 1514.29 L1817.62 1518.22 L1803.55 1518.22 L1803.55 1526.7 Q1804.57 1526.35 1805.59 1526.19 Q1806.6 1526 1807.62 1526 Q1813.41 1526 1816.79 1529.17 Q1820.17 1532.34 1820.17 1537.76 Q1820.17 1543.34 1816.7 1546.44 Q1813.22 1549.52 1806.9 1549.52 Q1804.73 1549.52 1802.46 1549.15 Q1800.22 1548.78 1797.81 1548.04 L1797.81 1543.34 Q1799.89 1544.47 1802.11 1545.03 Q1804.34 1545.58 1806.81 1545.58 Q1810.82 1545.58 1813.15 1543.48 Q1815.49 1541.37 1815.49 1537.76 Q1815.49 1534.15 1813.15 1532.04 Q1810.82 1529.94 1806.81 1529.94 Q1804.94 1529.94 1803.06 1530.35 Q1801.21 1530.77 1799.27 1531.65 L1799.27 1514.29 Z\" fill=\"#ffffff\" fill-rule=\"evenodd\" fill-opacity=\"1\" /><path clip-path=\"url(#clip350)\" d=\"M2244.16 1544.91 L2251.8 1544.91 L2251.8 1518.55 L2243.49 1520.21 L2243.49 1515.95 L2251.75 1514.29 L2256.42 1514.29 L2256.42 1544.91 L2264.06 1544.91 L2264.06 1548.85 L2244.16 1548.85 L2244.16 1544.91 Z\" fill=\"#ffffff\" fill-rule=\"evenodd\" fill-opacity=\"1\" /><path clip-path=\"url(#clip350)\" d=\"M2283.51 1517.37 Q2279.9 1517.37 2278.07 1520.93 Q2276.26 1524.47 2276.26 1531.6 Q2276.26 1538.71 2278.07 1542.27 Q2279.9 1545.82 2283.51 1545.82 Q2287.14 1545.82 2288.95 1542.27 Q2290.78 1538.71 2290.78 1531.6 Q2290.78 1524.47 2288.95 1520.93 Q2287.14 1517.37 2283.51 1517.37 M2283.51 1513.66 Q2289.32 1513.66 2292.37 1518.27 Q2295.45 1522.85 2295.45 1531.6 Q2295.45 1540.33 2292.37 1544.94 Q2289.32 1549.52 2283.51 1549.52 Q2277.7 1549.52 2274.62 1544.94 Q2271.56 1540.33 2271.56 1531.6 Q2271.56 1522.85 2274.62 1518.27 Q2277.7 1513.66 2283.51 1513.66 Z\" fill=\"#ffffff\" fill-rule=\"evenodd\" fill-opacity=\"1\" /><path clip-path=\"url(#clip350)\" d=\"M2303.67 1542.97 L2308.55 1542.97 L2308.55 1548.85 L2303.67 1548.85 L2303.67 1542.97 Z\" fill=\"#ffffff\" fill-rule=\"evenodd\" fill-opacity=\"1\" /><path clip-path=\"url(#clip350)\" d=\"M2328.74 1517.37 Q2325.13 1517.37 2323.3 1520.93 Q2321.49 1524.47 2321.49 1531.6 Q2321.49 1538.71 2323.3 1542.27 Q2325.13 1545.82 2328.74 1545.82 Q2332.37 1545.82 2334.18 1542.27 Q2336.01 1538.71 2336.01 1531.6 Q2336.01 1524.47 2334.18 1520.93 Q2332.37 1517.37 2328.74 1517.37 M2328.74 1513.66 Q2334.55 1513.66 2337.6 1518.27 Q2340.68 1522.85 2340.68 1531.6 Q2340.68 1540.33 2337.6 1544.94 Q2334.55 1549.52 2328.74 1549.52 Q2322.93 1549.52 2319.85 1544.94 Q2316.79 1540.33 2316.79 1531.6 Q2316.79 1522.85 2319.85 1518.27 Q2322.93 1513.66 2328.74 1513.66 Z\" fill=\"#ffffff\" fill-rule=\"evenodd\" fill-opacity=\"1\" /><polyline clip-path=\"url(#clip352)\" style=\"stroke:#adb2b7; stroke-linecap:butt; stroke-linejoin:round; stroke-width:2; stroke-opacity:0.1; fill:none\" points=\"\n",
       "  209.029,1477.77 2352.76,1477.77 \n",
       "  \"/>\n",
       "<polyline clip-path=\"url(#clip352)\" style=\"stroke:#adb2b7; stroke-linecap:butt; stroke-linejoin:round; stroke-width:2; stroke-opacity:0.1; fill:none\" points=\"\n",
       "  209.029,1221.36 2352.76,1221.36 \n",
       "  \"/>\n",
       "<polyline clip-path=\"url(#clip352)\" style=\"stroke:#adb2b7; stroke-linecap:butt; stroke-linejoin:round; stroke-width:2; stroke-opacity:0.1; fill:none\" points=\"\n",
       "  209.029,964.963 2352.76,964.963 \n",
       "  \"/>\n",
       "<polyline clip-path=\"url(#clip352)\" style=\"stroke:#adb2b7; stroke-linecap:butt; stroke-linejoin:round; stroke-width:2; stroke-opacity:0.1; fill:none\" points=\"\n",
       "  209.029,708.562 2352.76,708.562 \n",
       "  \"/>\n",
       "<polyline clip-path=\"url(#clip352)\" style=\"stroke:#adb2b7; stroke-linecap:butt; stroke-linejoin:round; stroke-width:2; stroke-opacity:0.1; fill:none\" points=\"\n",
       "  209.029,452.161 2352.76,452.161 \n",
       "  \"/>\n",
       "<polyline clip-path=\"url(#clip352)\" style=\"stroke:#adb2b7; stroke-linecap:butt; stroke-linejoin:round; stroke-width:2; stroke-opacity:0.1; fill:none\" points=\"\n",
       "  209.029,195.76 2352.76,195.76 \n",
       "  \"/>\n",
       "<polyline clip-path=\"url(#clip350)\" style=\"stroke:#adb2b7; stroke-linecap:butt; stroke-linejoin:round; stroke-width:4; stroke-opacity:1; fill:none\" points=\"\n",
       "  209.029,1486.45 209.029,47.2441 \n",
       "  \"/>\n",
       "<polyline clip-path=\"url(#clip350)\" style=\"stroke:#adb2b7; stroke-linecap:butt; stroke-linejoin:round; stroke-width:4; stroke-opacity:1; fill:none\" points=\"\n",
       "  209.029,1477.77 227.926,1477.77 \n",
       "  \"/>\n",
       "<polyline clip-path=\"url(#clip350)\" style=\"stroke:#adb2b7; stroke-linecap:butt; stroke-linejoin:round; stroke-width:4; stroke-opacity:1; fill:none\" points=\"\n",
       "  209.029,1221.36 227.926,1221.36 \n",
       "  \"/>\n",
       "<polyline clip-path=\"url(#clip350)\" style=\"stroke:#adb2b7; stroke-linecap:butt; stroke-linejoin:round; stroke-width:4; stroke-opacity:1; fill:none\" points=\"\n",
       "  209.029,964.963 227.926,964.963 \n",
       "  \"/>\n",
       "<polyline clip-path=\"url(#clip350)\" style=\"stroke:#adb2b7; stroke-linecap:butt; stroke-linejoin:round; stroke-width:4; stroke-opacity:1; fill:none\" points=\"\n",
       "  209.029,708.562 227.926,708.562 \n",
       "  \"/>\n",
       "<polyline clip-path=\"url(#clip350)\" style=\"stroke:#adb2b7; stroke-linecap:butt; stroke-linejoin:round; stroke-width:4; stroke-opacity:1; fill:none\" points=\"\n",
       "  209.029,452.161 227.926,452.161 \n",
       "  \"/>\n",
       "<polyline clip-path=\"url(#clip350)\" style=\"stroke:#adb2b7; stroke-linecap:butt; stroke-linejoin:round; stroke-width:4; stroke-opacity:1; fill:none\" points=\"\n",
       "  209.029,195.76 227.926,195.76 \n",
       "  \"/>\n",
       "<path clip-path=\"url(#clip350)\" d=\"M50.9921 1478.22 L80.6679 1478.22 L80.6679 1482.15 L50.9921 1482.15 L50.9921 1478.22 Z\" fill=\"#ffffff\" fill-rule=\"evenodd\" fill-opacity=\"1\" /><path clip-path=\"url(#clip350)\" d=\"M90.8067 1460.49 L109.163 1460.49 L109.163 1464.42 L95.0891 1464.42 L95.0891 1472.89 Q96.1076 1472.55 97.1261 1472.38 Q98.1447 1472.2 99.1632 1472.2 Q104.95 1472.2 108.33 1475.37 Q111.709 1478.54 111.709 1483.96 Q111.709 1489.54 108.237 1492.64 Q104.765 1495.72 98.4456 1495.72 Q96.2697 1495.72 94.0012 1495.35 Q91.7558 1494.98 89.3484 1494.24 L89.3484 1489.54 Q91.4317 1490.67 93.6539 1491.23 Q95.8761 1491.78 98.353 1491.78 Q102.358 1491.78 104.696 1489.68 Q107.033 1487.57 107.033 1483.96 Q107.033 1480.35 104.696 1478.24 Q102.358 1476.13 98.353 1476.13 Q96.478 1476.13 94.603 1476.55 Q92.7512 1476.97 90.8067 1477.85 L90.8067 1460.49 Z\" fill=\"#ffffff\" fill-rule=\"evenodd\" fill-opacity=\"1\" /><path clip-path=\"url(#clip350)\" d=\"M130.922 1463.56 Q127.311 1463.56 125.482 1467.13 Q123.677 1470.67 123.677 1477.8 Q123.677 1484.91 125.482 1488.47 Q127.311 1492.01 130.922 1492.01 Q134.556 1492.01 136.362 1488.47 Q138.191 1484.91 138.191 1477.8 Q138.191 1470.67 136.362 1467.13 Q134.556 1463.56 130.922 1463.56 M130.922 1459.86 Q136.732 1459.86 139.788 1464.47 Q142.867 1469.05 142.867 1477.8 Q142.867 1486.53 139.788 1491.13 Q136.732 1495.72 130.922 1495.72 Q125.112 1495.72 122.033 1491.13 Q118.978 1486.53 118.978 1477.8 Q118.978 1469.05 122.033 1464.47 Q125.112 1459.86 130.922 1459.86 Z\" fill=\"#ffffff\" fill-rule=\"evenodd\" fill-opacity=\"1\" /><path clip-path=\"url(#clip350)\" d=\"M161.084 1463.56 Q157.473 1463.56 155.644 1467.13 Q153.839 1470.67 153.839 1477.8 Q153.839 1484.91 155.644 1488.47 Q157.473 1492.01 161.084 1492.01 Q164.718 1492.01 166.524 1488.47 Q168.353 1484.91 168.353 1477.8 Q168.353 1470.67 166.524 1467.13 Q164.718 1463.56 161.084 1463.56 M161.084 1459.86 Q166.894 1459.86 169.95 1464.47 Q173.029 1469.05 173.029 1477.8 Q173.029 1486.53 169.95 1491.13 Q166.894 1495.72 161.084 1495.72 Q155.274 1495.72 152.195 1491.13 Q149.14 1486.53 149.14 1477.8 Q149.14 1469.05 152.195 1464.47 Q155.274 1459.86 161.084 1459.86 Z\" fill=\"#ffffff\" fill-rule=\"evenodd\" fill-opacity=\"1\" /><path clip-path=\"url(#clip350)\" d=\"M50.9921 1221.82 L80.6679 1221.82 L80.6679 1225.75 L50.9921 1225.75 L50.9921 1221.82 Z\" fill=\"#ffffff\" fill-rule=\"evenodd\" fill-opacity=\"1\" /><path clip-path=\"url(#clip350)\" d=\"M103.608 1208.16 L91.8021 1226.61 L103.608 1226.61 L103.608 1208.16 M102.381 1204.08 L108.26 1204.08 L108.26 1226.61 L113.191 1226.61 L113.191 1230.5 L108.26 1230.5 L108.26 1238.64 L103.608 1238.64 L103.608 1230.5 L88.0058 1230.5 L88.0058 1225.98 L102.381 1204.08 Z\" fill=\"#ffffff\" fill-rule=\"evenodd\" fill-opacity=\"1\" /><path clip-path=\"url(#clip350)\" d=\"M130.922 1207.16 Q127.311 1207.16 125.482 1210.73 Q123.677 1214.27 123.677 1221.4 Q123.677 1228.51 125.482 1232.07 Q127.311 1235.61 130.922 1235.61 Q134.556 1235.61 136.362 1232.07 Q138.191 1228.51 138.191 1221.4 Q138.191 1214.27 136.362 1210.73 Q134.556 1207.16 130.922 1207.16 M130.922 1203.46 Q136.732 1203.46 139.788 1208.07 Q142.867 1212.65 142.867 1221.4 Q142.867 1230.13 139.788 1234.73 Q136.732 1239.32 130.922 1239.32 Q125.112 1239.32 122.033 1234.73 Q118.978 1230.13 118.978 1221.4 Q118.978 1212.65 122.033 1208.07 Q125.112 1203.46 130.922 1203.46 Z\" fill=\"#ffffff\" fill-rule=\"evenodd\" fill-opacity=\"1\" /><path clip-path=\"url(#clip350)\" d=\"M161.084 1207.16 Q157.473 1207.16 155.644 1210.73 Q153.839 1214.27 153.839 1221.4 Q153.839 1228.51 155.644 1232.07 Q157.473 1235.61 161.084 1235.61 Q164.718 1235.61 166.524 1232.07 Q168.353 1228.51 168.353 1221.4 Q168.353 1214.27 166.524 1210.73 Q164.718 1207.16 161.084 1207.16 M161.084 1203.46 Q166.894 1203.46 169.95 1208.07 Q173.029 1212.65 173.029 1221.4 Q173.029 1230.13 169.95 1234.73 Q166.894 1239.32 161.084 1239.32 Q155.274 1239.32 152.195 1234.73 Q149.14 1230.13 149.14 1221.4 Q149.14 1212.65 152.195 1208.07 Q155.274 1203.46 161.084 1203.46 Z\" fill=\"#ffffff\" fill-rule=\"evenodd\" fill-opacity=\"1\" /><path clip-path=\"url(#clip350)\" d=\"M50.9921 965.415 L80.6679 965.415 L80.6679 969.35 L50.9921 969.35 L50.9921 965.415 Z\" fill=\"#ffffff\" fill-rule=\"evenodd\" fill-opacity=\"1\" /><path clip-path=\"url(#clip350)\" d=\"M104.927 963.609 Q108.283 964.327 110.158 966.595 Q112.057 968.864 112.057 972.197 Q112.057 977.313 108.538 980.114 Q105.02 982.915 98.5382 982.915 Q96.3623 982.915 94.0475 982.475 Q91.7558 982.058 89.3021 981.202 L89.3021 976.688 Q91.2465 977.822 93.5613 978.401 Q95.8761 978.98 98.3993 978.98 Q102.797 978.98 105.089 977.243 Q107.404 975.507 107.404 972.197 Q107.404 969.142 105.251 967.429 Q103.121 965.693 99.3021 965.693 L95.2743 965.693 L95.2743 961.85 L99.4872 961.85 Q102.936 961.85 104.765 960.484 Q106.594 959.095 106.594 956.503 Q106.594 953.841 104.696 952.429 Q102.821 950.994 99.3021 950.994 Q97.3808 950.994 95.1817 951.41 Q92.9826 951.827 90.3438 952.707 L90.3438 948.54 Q93.0058 947.799 95.3206 947.429 Q97.6585 947.058 99.7187 947.058 Q105.043 947.058 108.145 949.489 Q111.246 951.896 111.246 956.017 Q111.246 958.887 109.603 960.878 Q107.959 962.845 104.927 963.609 Z\" fill=\"#ffffff\" fill-rule=\"evenodd\" fill-opacity=\"1\" /><path clip-path=\"url(#clip350)\" d=\"M130.922 950.762 Q127.311 950.762 125.482 954.327 Q123.677 957.869 123.677 964.998 Q123.677 972.105 125.482 975.669 Q127.311 979.211 130.922 979.211 Q134.556 979.211 136.362 975.669 Q138.191 972.105 138.191 964.998 Q138.191 957.869 136.362 954.327 Q134.556 950.762 130.922 950.762 M130.922 947.058 Q136.732 947.058 139.788 951.665 Q142.867 956.248 142.867 964.998 Q142.867 973.725 139.788 978.331 Q136.732 982.915 130.922 982.915 Q125.112 982.915 122.033 978.331 Q118.978 973.725 118.978 964.998 Q118.978 956.248 122.033 951.665 Q125.112 947.058 130.922 947.058 Z\" fill=\"#ffffff\" fill-rule=\"evenodd\" fill-opacity=\"1\" /><path clip-path=\"url(#clip350)\" d=\"M161.084 950.762 Q157.473 950.762 155.644 954.327 Q153.839 957.869 153.839 964.998 Q153.839 972.105 155.644 975.669 Q157.473 979.211 161.084 979.211 Q164.718 979.211 166.524 975.669 Q168.353 972.105 168.353 964.998 Q168.353 957.869 166.524 954.327 Q164.718 950.762 161.084 950.762 M161.084 947.058 Q166.894 947.058 169.95 951.665 Q173.029 956.248 173.029 964.998 Q173.029 973.725 169.95 978.331 Q166.894 982.915 161.084 982.915 Q155.274 982.915 152.195 978.331 Q149.14 973.725 149.14 964.998 Q149.14 956.248 152.195 951.665 Q155.274 947.058 161.084 947.058 Z\" fill=\"#ffffff\" fill-rule=\"evenodd\" fill-opacity=\"1\" /><path clip-path=\"url(#clip350)\" d=\"M50.9921 709.014 L80.6679 709.014 L80.6679 712.949 L50.9921 712.949 L50.9921 709.014 Z\" fill=\"#ffffff\" fill-rule=\"evenodd\" fill-opacity=\"1\" /><path clip-path=\"url(#clip350)\" d=\"M94.7882 721.907 L111.108 721.907 L111.108 725.842 L89.1632 725.842 L89.1632 721.907 Q91.8252 719.152 96.4085 714.523 Q101.015 709.87 102.196 708.527 Q104.441 706.004 105.321 704.268 Q106.223 702.509 106.223 700.819 Q106.223 698.065 104.279 696.328 Q102.358 694.592 99.2558 694.592 Q97.0567 694.592 94.603 695.356 Q92.1725 696.12 89.3947 697.671 L89.3947 692.949 Q92.2188 691.815 94.6724 691.236 Q97.1261 690.657 99.1632 690.657 Q104.534 690.657 107.728 693.342 Q110.922 696.028 110.922 700.518 Q110.922 702.648 110.112 704.569 Q109.325 706.467 107.219 709.06 Q106.64 709.731 103.538 712.949 Q100.436 716.143 94.7882 721.907 Z\" fill=\"#ffffff\" fill-rule=\"evenodd\" fill-opacity=\"1\" /><path clip-path=\"url(#clip350)\" d=\"M130.922 694.361 Q127.311 694.361 125.482 697.926 Q123.677 701.467 123.677 708.597 Q123.677 715.703 125.482 719.268 Q127.311 722.81 130.922 722.81 Q134.556 722.81 136.362 719.268 Q138.191 715.703 138.191 708.597 Q138.191 701.467 136.362 697.926 Q134.556 694.361 130.922 694.361 M130.922 690.657 Q136.732 690.657 139.788 695.264 Q142.867 699.847 142.867 708.597 Q142.867 717.324 139.788 721.93 Q136.732 726.513 130.922 726.513 Q125.112 726.513 122.033 721.93 Q118.978 717.324 118.978 708.597 Q118.978 699.847 122.033 695.264 Q125.112 690.657 130.922 690.657 Z\" fill=\"#ffffff\" fill-rule=\"evenodd\" fill-opacity=\"1\" /><path clip-path=\"url(#clip350)\" d=\"M161.084 694.361 Q157.473 694.361 155.644 697.926 Q153.839 701.467 153.839 708.597 Q153.839 715.703 155.644 719.268 Q157.473 722.81 161.084 722.81 Q164.718 722.81 166.524 719.268 Q168.353 715.703 168.353 708.597 Q168.353 701.467 166.524 697.926 Q164.718 694.361 161.084 694.361 M161.084 690.657 Q166.894 690.657 169.95 695.264 Q173.029 699.847 173.029 708.597 Q173.029 717.324 169.95 721.93 Q166.894 726.513 161.084 726.513 Q155.274 726.513 152.195 721.93 Q149.14 717.324 149.14 708.597 Q149.14 699.847 152.195 695.264 Q155.274 690.657 161.084 690.657 Z\" fill=\"#ffffff\" fill-rule=\"evenodd\" fill-opacity=\"1\" /><path clip-path=\"url(#clip350)\" d=\"M50.9921 452.612 L80.6679 452.612 L80.6679 456.548 L50.9921 456.548 L50.9921 452.612 Z\" fill=\"#ffffff\" fill-rule=\"evenodd\" fill-opacity=\"1\" /><path clip-path=\"url(#clip350)\" d=\"M91.5706 465.506 L99.2095 465.506 L99.2095 439.14 L90.8993 440.807 L90.8993 436.548 L99.1632 434.881 L103.839 434.881 L103.839 465.506 L111.478 465.506 L111.478 469.441 L91.5706 469.441 L91.5706 465.506 Z\" fill=\"#ffffff\" fill-rule=\"evenodd\" fill-opacity=\"1\" /><path clip-path=\"url(#clip350)\" d=\"M130.922 437.96 Q127.311 437.96 125.482 441.524 Q123.677 445.066 123.677 452.196 Q123.677 459.302 125.482 462.867 Q127.311 466.409 130.922 466.409 Q134.556 466.409 136.362 462.867 Q138.191 459.302 138.191 452.196 Q138.191 445.066 136.362 441.524 Q134.556 437.96 130.922 437.96 M130.922 434.256 Q136.732 434.256 139.788 438.862 Q142.867 443.446 142.867 452.196 Q142.867 460.922 139.788 465.529 Q136.732 470.112 130.922 470.112 Q125.112 470.112 122.033 465.529 Q118.978 460.922 118.978 452.196 Q118.978 443.446 122.033 438.862 Q125.112 434.256 130.922 434.256 Z\" fill=\"#ffffff\" fill-rule=\"evenodd\" fill-opacity=\"1\" /><path clip-path=\"url(#clip350)\" d=\"M161.084 437.96 Q157.473 437.96 155.644 441.524 Q153.839 445.066 153.839 452.196 Q153.839 459.302 155.644 462.867 Q157.473 466.409 161.084 466.409 Q164.718 466.409 166.524 462.867 Q168.353 459.302 168.353 452.196 Q168.353 445.066 166.524 441.524 Q164.718 437.96 161.084 437.96 M161.084 434.256 Q166.894 434.256 169.95 438.862 Q173.029 443.446 173.029 452.196 Q173.029 460.922 169.95 465.529 Q166.894 470.112 161.084 470.112 Q155.274 470.112 152.195 465.529 Q149.14 460.922 149.14 452.196 Q149.14 443.446 152.195 438.862 Q155.274 434.256 161.084 434.256 Z\" fill=\"#ffffff\" fill-rule=\"evenodd\" fill-opacity=\"1\" /><path clip-path=\"url(#clip350)\" d=\"M161.084 181.558 Q157.473 181.558 155.644 185.123 Q153.839 188.665 153.839 195.794 Q153.839 202.901 155.644 206.466 Q157.473 210.007 161.084 210.007 Q164.718 210.007 166.524 206.466 Q168.353 202.901 168.353 195.794 Q168.353 188.665 166.524 185.123 Q164.718 181.558 161.084 181.558 M161.084 177.855 Q166.894 177.855 169.95 182.461 Q173.029 187.045 173.029 195.794 Q173.029 204.521 169.95 209.128 Q166.894 213.711 161.084 213.711 Q155.274 213.711 152.195 209.128 Q149.14 204.521 149.14 195.794 Q149.14 187.045 152.195 182.461 Q155.274 177.855 161.084 177.855 Z\" fill=\"#ffffff\" fill-rule=\"evenodd\" fill-opacity=\"1\" /><circle clip-path=\"url(#clip352)\" cx=\"269.7\" cy=\"182.94\" r=\"14\" fill=\"#fe4365\" fill-rule=\"evenodd\" fill-opacity=\"1\" stroke=\"#adb2b7\" stroke-opacity=\"1\" stroke-width=\"3.2\"/>\n",
       "<circle clip-path=\"url(#clip352)\" cx=\"606.764\" cy=\"730.483\" r=\"14\" fill=\"#fe4365\" fill-rule=\"evenodd\" fill-opacity=\"1\" stroke=\"#adb2b7\" stroke-opacity=\"1\" stroke-width=\"3.2\"/>\n",
       "<circle clip-path=\"url(#clip352)\" cx=\"943.828\" cy=\"1183.06\" r=\"14\" fill=\"#fe4365\" fill-rule=\"evenodd\" fill-opacity=\"1\" stroke=\"#adb2b7\" stroke-opacity=\"1\" stroke-width=\"3.2\"/>\n",
       "<circle clip-path=\"url(#clip352)\" cx=\"1280.89\" cy=\"1445.72\" r=\"14\" fill=\"#fe4365\" fill-rule=\"evenodd\" fill-opacity=\"1\" stroke=\"#adb2b7\" stroke-opacity=\"1\" stroke-width=\"3.2\"/>\n",
       "<circle clip-path=\"url(#clip352)\" cx=\"1617.96\" cy=\"1423.48\" r=\"14\" fill=\"#fe4365\" fill-rule=\"evenodd\" fill-opacity=\"1\" stroke=\"#adb2b7\" stroke-opacity=\"1\" stroke-width=\"3.2\"/>\n",
       "<circle clip-path=\"url(#clip352)\" cx=\"1955.02\" cy=\"1021.39\" r=\"14\" fill=\"#fe4365\" fill-rule=\"evenodd\" fill-opacity=\"1\" stroke=\"#adb2b7\" stroke-opacity=\"1\" stroke-width=\"3.2\"/>\n",
       "<circle clip-path=\"url(#clip352)\" cx=\"2292.08\" cy=\"144.48\" r=\"14\" fill=\"#fe4365\" fill-rule=\"evenodd\" fill-opacity=\"1\" stroke=\"#adb2b7\" stroke-opacity=\"1\" stroke-width=\"3.2\"/>\n",
       "<polyline clip-path=\"url(#clip352)\" style=\"stroke:#eca25c; stroke-linecap:butt; stroke-linejoin:round; stroke-width:4; stroke-opacity:1; fill:none\" points=\"\n",
       "  269.7,87.9763 606.764,825.446 943.828,1278.03 1280.89,1445.72 1617.96,1328.52 1955.02,926.424 2292.08,239.443 \n",
       "  \"/>\n",
       "<polyline clip-path=\"url(#clip352)\" style=\"stroke:#3f9778; stroke-linecap:butt; stroke-linejoin:round; stroke-width:4; stroke-opacity:1; fill:none\" points=\"\n",
       "  269.7,182.94 606.764,730.483 943.828,1183.06 1280.89,1445.72 1617.96,1423.48 1955.02,1021.39 2292.08,144.48 \n",
       "  \"/>\n",
       "<path clip-path=\"url(#clip350)\" d=\"\n",
       "M280.486 1438.47 L983.189 1438.47 L983.189 1231.11 L280.486 1231.11  Z\n",
       "  \" fill=\"#363d46\" fill-rule=\"evenodd\" fill-opacity=\"1\"/>\n",
       "<polyline clip-path=\"url(#clip350)\" style=\"stroke:#ffffff; stroke-linecap:butt; stroke-linejoin:round; stroke-width:4; stroke-opacity:1; fill:none\" points=\"\n",
       "  280.486,1438.47 983.189,1438.47 983.189,1231.11 280.486,1231.11 280.486,1438.47 \n",
       "  \"/>\n",
       "<circle clip-path=\"url(#clip350)\" cx=\"375.763\" cy=\"1282.95\" r=\"23\" fill=\"#fe4365\" fill-rule=\"evenodd\" fill-opacity=\"1\" stroke=\"#adb2b7\" stroke-opacity=\"1\" stroke-width=\"5.12\"/>\n",
       "<path clip-path=\"url(#clip350)\" d=\"M475.716 1269.52 L475.716 1282.5 L481.595 1282.5 Q484.859 1282.5 486.641 1280.81 Q488.424 1279.12 488.424 1276 Q488.424 1272.9 486.641 1271.21 Q484.859 1269.52 481.595 1269.52 L475.716 1269.52 M471.04 1265.67 L481.595 1265.67 Q487.405 1265.67 490.368 1268.31 Q493.354 1270.93 493.354 1276 Q493.354 1281.11 490.368 1283.73 Q487.405 1286.35 481.595 1286.35 L475.716 1286.35 L475.716 1300.23 L471.04 1300.23 L471.04 1265.67 Z\" fill=\"#ffffff\" fill-rule=\"evenodd\" fill-opacity=\"1\" /><path clip-path=\"url(#clip350)\" d=\"M507.799 1277.29 Q504.373 1277.29 502.382 1279.98 Q500.391 1282.64 500.391 1287.29 Q500.391 1291.95 502.359 1294.63 Q504.35 1297.29 507.799 1297.29 Q511.201 1297.29 513.192 1294.61 Q515.183 1291.92 515.183 1287.29 Q515.183 1282.69 513.192 1280 Q511.201 1277.29 507.799 1277.29 M507.799 1273.68 Q513.354 1273.68 516.526 1277.29 Q519.697 1280.91 519.697 1287.29 Q519.697 1293.66 516.526 1297.29 Q513.354 1300.91 507.799 1300.91 Q502.22 1300.91 499.049 1297.29 Q495.901 1293.66 495.901 1287.29 Q495.901 1280.91 499.049 1277.29 Q502.22 1273.68 507.799 1273.68 Z\" fill=\"#ffffff\" fill-rule=\"evenodd\" fill-opacity=\"1\" /><path clip-path=\"url(#clip350)\" d=\"M548.308 1284.59 L548.308 1300.23 L544.049 1300.23 L544.049 1284.73 Q544.049 1281.04 542.613 1279.22 Q541.178 1277.39 538.308 1277.39 Q534.859 1277.39 532.868 1279.59 Q530.877 1281.79 530.877 1285.58 L530.877 1300.23 L526.595 1300.23 L526.595 1274.31 L530.877 1274.31 L530.877 1278.34 Q532.405 1276 534.465 1274.84 Q536.549 1273.68 539.257 1273.68 Q543.724 1273.68 546.016 1276.46 Q548.308 1279.22 548.308 1284.59 Z\" fill=\"#ffffff\" fill-rule=\"evenodd\" fill-opacity=\"1\" /><path clip-path=\"url(#clip350)\" d=\"M561.016 1266.95 L561.016 1274.31 L569.789 1274.31 L569.789 1277.62 L561.016 1277.62 L561.016 1291.69 Q561.016 1294.86 561.872 1295.77 Q562.752 1296.67 565.414 1296.67 L569.789 1296.67 L569.789 1300.23 L565.414 1300.23 Q560.484 1300.23 558.609 1298.41 Q556.734 1296.55 556.734 1291.69 L556.734 1277.62 L553.609 1277.62 L553.609 1274.31 L556.734 1274.31 L556.734 1266.95 L561.016 1266.95 Z\" fill=\"#ffffff\" fill-rule=\"evenodd\" fill-opacity=\"1\" /><path clip-path=\"url(#clip350)\" d=\"M585.437 1277.29 Q582.011 1277.29 580.021 1279.98 Q578.03 1282.64 578.03 1287.29 Q578.03 1291.95 579.997 1294.63 Q581.988 1297.29 585.437 1297.29 Q588.84 1297.29 590.831 1294.61 Q592.821 1291.92 592.821 1287.29 Q592.821 1282.69 590.831 1280 Q588.84 1277.29 585.437 1277.29 M585.437 1273.68 Q590.993 1273.68 594.164 1277.29 Q597.335 1280.91 597.335 1287.29 Q597.335 1293.66 594.164 1297.29 Q590.993 1300.91 585.437 1300.91 Q579.858 1300.91 576.687 1297.29 Q573.539 1293.66 573.539 1287.29 Q573.539 1280.91 576.687 1277.29 Q579.858 1273.68 585.437 1273.68 Z\" fill=\"#ffffff\" fill-rule=\"evenodd\" fill-opacity=\"1\" /><path clip-path=\"url(#clip350)\" d=\"M620.923 1275.07 L620.923 1279.1 Q619.118 1278.17 617.173 1277.71 Q615.229 1277.25 613.145 1277.25 Q609.974 1277.25 608.377 1278.22 Q606.803 1279.19 606.803 1281.14 Q606.803 1282.62 607.937 1283.48 Q609.071 1284.31 612.497 1285.07 L613.956 1285.4 Q618.493 1286.37 620.391 1288.15 Q622.312 1289.91 622.312 1293.08 Q622.312 1296.69 619.442 1298.8 Q616.594 1300.91 611.594 1300.91 Q609.511 1300.91 607.243 1300.49 Q604.997 1300.1 602.497 1299.29 L602.497 1294.89 Q604.858 1296.11 607.15 1296.74 Q609.442 1297.34 611.687 1297.34 Q614.696 1297.34 616.317 1296.32 Q617.937 1295.28 617.937 1293.41 Q617.937 1291.67 616.756 1290.74 Q615.599 1289.82 611.641 1288.96 L610.159 1288.61 Q606.201 1287.78 604.442 1286.07 Q602.682 1284.33 602.682 1281.32 Q602.682 1277.67 605.275 1275.67 Q607.868 1273.68 612.636 1273.68 Q614.997 1273.68 617.081 1274.03 Q619.164 1274.38 620.923 1275.07 Z\" fill=\"#ffffff\" fill-rule=\"evenodd\" fill-opacity=\"1\" /><polyline clip-path=\"url(#clip350)\" style=\"stroke:#eca25c; stroke-linecap:butt; stroke-linejoin:round; stroke-width:4; stroke-opacity:1; fill:none\" points=\"\n",
       "  304.305,1334.79 447.22,1334.79 \n",
       "  \"/>\n",
       "<path clip-path=\"url(#clip350)\" d=\"M475.716 1321.36 L475.716 1334.34 L481.595 1334.34 Q484.859 1334.34 486.641 1332.65 Q488.424 1330.96 488.424 1327.84 Q488.424 1324.74 486.641 1323.05 Q484.859 1321.36 481.595 1321.36 L475.716 1321.36 M471.04 1317.51 L481.595 1317.51 Q487.405 1317.51 490.368 1320.15 Q493.354 1322.77 493.354 1327.84 Q493.354 1332.95 490.368 1335.57 Q487.405 1338.19 481.595 1338.19 L475.716 1338.19 L475.716 1352.07 L471.04 1352.07 L471.04 1317.51 Z\" fill=\"#ffffff\" fill-rule=\"evenodd\" fill-opacity=\"1\" /><path clip-path=\"url(#clip350)\" d=\"M507.799 1329.13 Q504.373 1329.13 502.382 1331.82 Q500.391 1334.48 500.391 1339.13 Q500.391 1343.79 502.359 1346.47 Q504.35 1349.13 507.799 1349.13 Q511.201 1349.13 513.192 1346.45 Q515.183 1343.76 515.183 1339.13 Q515.183 1334.53 513.192 1331.84 Q511.201 1329.13 507.799 1329.13 M507.799 1325.52 Q513.354 1325.52 516.526 1329.13 Q519.697 1332.75 519.697 1339.13 Q519.697 1345.5 516.526 1349.13 Q513.354 1352.75 507.799 1352.75 Q502.22 1352.75 499.049 1349.13 Q495.901 1345.5 495.901 1339.13 Q495.901 1332.75 499.049 1329.13 Q502.22 1325.52 507.799 1325.52 Z\" fill=\"#ffffff\" fill-rule=\"evenodd\" fill-opacity=\"1\" /><path clip-path=\"url(#clip350)\" d=\"M526.757 1316.06 L531.016 1316.06 L531.016 1352.07 L526.757 1352.07 L526.757 1316.06 Z\" fill=\"#ffffff\" fill-rule=\"evenodd\" fill-opacity=\"1\" /><path clip-path=\"url(#clip350)\" d=\"M539.928 1326.15 L544.187 1326.15 L544.187 1352.07 L539.928 1352.07 L539.928 1326.15 M539.928 1316.06 L544.187 1316.06 L544.187 1321.45 L539.928 1321.45 L539.928 1316.06 Z\" fill=\"#ffffff\" fill-rule=\"evenodd\" fill-opacity=\"1\" /><path clip-path=\"url(#clip350)\" d=\"M574.65 1336.43 L574.65 1352.07 L570.391 1352.07 L570.391 1336.57 Q570.391 1332.88 568.956 1331.06 Q567.521 1329.23 564.65 1329.23 Q561.201 1329.23 559.21 1331.43 Q557.22 1333.63 557.22 1337.42 L557.22 1352.07 L552.937 1352.07 L552.937 1326.15 L557.22 1326.15 L557.22 1330.18 Q558.747 1327.84 560.808 1326.68 Q562.891 1325.52 565.599 1325.52 Q570.067 1325.52 572.359 1328.3 Q574.65 1331.06 574.65 1336.43 Z\" fill=\"#ffffff\" fill-rule=\"evenodd\" fill-opacity=\"1\" /><path clip-path=\"url(#clip350)\" d=\"M593.192 1329.13 Q589.766 1329.13 587.775 1331.82 Q585.784 1334.48 585.784 1339.13 Q585.784 1343.79 587.752 1346.47 Q589.743 1349.13 593.192 1349.13 Q596.595 1349.13 598.585 1346.45 Q600.576 1343.76 600.576 1339.13 Q600.576 1334.53 598.585 1331.84 Q596.595 1329.13 593.192 1329.13 M593.192 1325.52 Q598.747 1325.52 601.919 1329.13 Q605.09 1332.75 605.09 1339.13 Q605.09 1345.5 601.919 1349.13 Q598.747 1352.75 593.192 1352.75 Q587.613 1352.75 584.442 1349.13 Q581.294 1345.5 581.294 1339.13 Q581.294 1332.75 584.442 1329.13 Q587.613 1325.52 593.192 1325.52 M591.479 1314.16 L594.905 1314.16 L600.576 1322.86 L597.358 1322.86 L593.192 1317.19 L589.025 1322.86 L585.808 1322.86 L591.479 1314.16 Z\" fill=\"#ffffff\" fill-rule=\"evenodd\" fill-opacity=\"1\" /><path clip-path=\"url(#clip350)\" d=\"M632.335 1331.13 Q633.932 1328.26 636.154 1326.89 Q638.377 1325.52 641.386 1325.52 Q645.437 1325.52 647.636 1328.37 Q649.835 1331.19 649.835 1336.43 L649.835 1352.07 L645.553 1352.07 L645.553 1336.57 Q645.553 1332.84 644.233 1331.03 Q642.914 1329.23 640.205 1329.23 Q636.895 1329.23 634.974 1331.43 Q633.053 1333.63 633.053 1337.42 L633.053 1352.07 L628.77 1352.07 L628.77 1336.57 Q628.77 1332.82 627.451 1331.03 Q626.131 1329.23 623.377 1329.23 Q620.113 1329.23 618.192 1331.45 Q616.27 1333.65 616.27 1337.42 L616.27 1352.07 L611.988 1352.07 L611.988 1326.15 L616.27 1326.15 L616.27 1330.18 Q617.729 1327.79 619.766 1326.66 Q621.803 1325.52 624.604 1325.52 Q627.428 1325.52 629.395 1326.96 Q631.386 1328.39 632.335 1331.13 Z\" fill=\"#ffffff\" fill-rule=\"evenodd\" fill-opacity=\"1\" /><path clip-path=\"url(#clip350)\" d=\"M658.33 1326.15 L662.59 1326.15 L662.59 1352.07 L658.33 1352.07 L658.33 1326.15 M658.33 1316.06 L662.59 1316.06 L662.59 1321.45 L658.33 1321.45 L658.33 1316.06 Z\" fill=\"#ffffff\" fill-rule=\"evenodd\" fill-opacity=\"1\" /><path clip-path=\"url(#clip350)\" d=\"M681.548 1329.13 Q678.122 1329.13 676.131 1331.82 Q674.14 1334.48 674.14 1339.13 Q674.14 1343.79 676.108 1346.47 Q678.099 1349.13 681.548 1349.13 Q684.951 1349.13 686.941 1346.45 Q688.932 1343.76 688.932 1339.13 Q688.932 1334.53 686.941 1331.84 Q684.951 1329.13 681.548 1329.13 M681.548 1325.52 Q687.103 1325.52 690.275 1329.13 Q693.446 1332.75 693.446 1339.13 Q693.446 1345.5 690.275 1349.13 Q687.103 1352.75 681.548 1352.75 Q675.969 1352.75 672.798 1349.13 Q669.65 1345.5 669.65 1339.13 Q669.65 1332.75 672.798 1329.13 Q675.969 1325.52 681.548 1325.52 Z\" fill=\"#ffffff\" fill-rule=\"evenodd\" fill-opacity=\"1\" /><path clip-path=\"url(#clip350)\" d=\"M732.635 1330.08 L732.635 1316.06 L736.895 1316.06 L736.895 1352.07 L732.635 1352.07 L732.635 1348.19 Q731.293 1350.5 729.233 1351.63 Q727.196 1352.75 724.325 1352.75 Q719.626 1352.75 716.663 1349 Q713.724 1345.25 713.724 1339.13 Q713.724 1333.02 716.663 1329.27 Q719.626 1325.52 724.325 1325.52 Q727.196 1325.52 729.233 1326.66 Q731.293 1327.77 732.635 1330.08 M718.122 1339.13 Q718.122 1343.83 720.043 1346.52 Q721.987 1349.18 725.367 1349.18 Q728.747 1349.18 730.691 1346.52 Q732.635 1343.83 732.635 1339.13 Q732.635 1334.44 730.691 1331.77 Q728.747 1329.09 725.367 1329.09 Q721.987 1329.09 720.043 1331.77 Q718.122 1334.44 718.122 1339.13 Z\" fill=\"#ffffff\" fill-rule=\"evenodd\" fill-opacity=\"1\" /><path clip-path=\"url(#clip350)\" d=\"M767.844 1338.05 L767.844 1340.13 L748.26 1340.13 Q748.538 1344.53 750.899 1346.84 Q753.283 1349.13 757.52 1349.13 Q759.973 1349.13 762.265 1348.53 Q764.58 1347.93 766.848 1346.73 L766.848 1350.75 Q764.557 1351.73 762.149 1352.24 Q759.742 1352.75 757.265 1352.75 Q751.061 1352.75 747.427 1349.13 Q743.816 1345.52 743.816 1339.37 Q743.816 1333 747.242 1329.27 Q750.691 1325.52 756.524 1325.52 Q761.756 1325.52 764.788 1328.9 Q767.844 1332.26 767.844 1338.05 M763.584 1336.8 Q763.538 1333.3 761.617 1331.22 Q759.719 1329.13 756.571 1329.13 Q753.006 1329.13 750.853 1331.15 Q748.723 1333.16 748.399 1336.82 L763.584 1336.8 Z\" fill=\"#ffffff\" fill-rule=\"evenodd\" fill-opacity=\"1\" /><path clip-path=\"url(#clip350)\" d=\"M806.964 1338.81 Q806.964 1334.18 805.042 1331.63 Q803.144 1329.09 799.695 1329.09 Q796.269 1329.09 794.348 1331.63 Q792.45 1334.18 792.45 1338.81 Q792.45 1343.42 794.348 1345.96 Q796.269 1348.51 799.695 1348.51 Q803.144 1348.51 805.042 1345.96 Q806.964 1343.42 806.964 1338.81 M811.223 1348.86 Q811.223 1355.48 808.283 1358.69 Q805.343 1361.94 799.279 1361.94 Q797.033 1361.94 795.043 1361.59 Q793.052 1361.26 791.177 1360.57 L791.177 1356.43 Q793.052 1357.44 794.88 1357.93 Q796.709 1358.42 798.607 1358.42 Q802.797 1358.42 804.88 1356.22 Q806.964 1354.04 806.964 1349.62 L806.964 1347.51 Q805.644 1349.81 803.584 1350.94 Q801.524 1352.07 798.654 1352.07 Q793.885 1352.07 790.968 1348.44 Q788.052 1344.81 788.052 1338.81 Q788.052 1332.79 790.968 1329.16 Q793.885 1325.52 798.654 1325.52 Q801.524 1325.52 803.584 1326.66 Q805.644 1327.79 806.964 1330.08 L806.964 1326.15 L811.223 1326.15 L811.223 1348.86 Z\" fill=\"#ffffff\" fill-rule=\"evenodd\" fill-opacity=\"1\" /><path clip-path=\"url(#clip350)\" d=\"M835.019 1330.13 Q834.302 1329.71 833.445 1329.53 Q832.612 1329.32 831.593 1329.32 Q827.982 1329.32 826.038 1331.68 Q824.116 1334.02 824.116 1338.42 L824.116 1352.07 L819.834 1352.07 L819.834 1326.15 L824.116 1326.15 L824.116 1330.18 Q825.459 1327.82 827.612 1326.68 Q829.765 1325.52 832.843 1325.52 Q833.283 1325.52 833.815 1325.59 Q834.348 1325.64 834.996 1325.76 L835.019 1330.13 Z\" fill=\"#ffffff\" fill-rule=\"evenodd\" fill-opacity=\"1\" /><path clip-path=\"url(#clip350)\" d=\"M851.269 1339.04 Q846.107 1339.04 844.116 1340.22 Q842.126 1341.4 842.126 1344.25 Q842.126 1346.52 843.607 1347.86 Q845.112 1349.18 847.681 1349.18 Q851.223 1349.18 853.352 1346.68 Q855.505 1344.16 855.505 1339.99 L855.505 1339.04 L851.269 1339.04 M859.764 1337.28 L859.764 1352.07 L855.505 1352.07 L855.505 1348.14 Q854.047 1350.5 851.871 1351.63 Q849.695 1352.75 846.547 1352.75 Q842.565 1352.75 840.204 1350.52 Q837.866 1348.28 837.866 1344.53 Q837.866 1340.15 840.783 1337.93 Q843.723 1335.71 849.533 1335.71 L855.505 1335.71 L855.505 1335.29 Q855.505 1332.35 853.561 1330.76 Q851.639 1329.13 848.144 1329.13 Q845.922 1329.13 843.815 1329.67 Q841.709 1330.2 839.765 1331.26 L839.765 1327.33 Q842.102 1326.43 844.302 1325.99 Q846.501 1325.52 848.584 1325.52 Q854.209 1325.52 856.987 1328.44 Q859.764 1331.36 859.764 1337.28 Z\" fill=\"#ffffff\" fill-rule=\"evenodd\" fill-opacity=\"1\" /><path clip-path=\"url(#clip350)\" d=\"M868.098 1341.84 L868.098 1326.15 L872.357 1326.15 L872.357 1341.68 Q872.357 1345.36 873.792 1347.21 Q875.227 1349.04 878.098 1349.04 Q881.547 1349.04 883.537 1346.84 Q885.551 1344.64 885.551 1340.85 L885.551 1326.15 L889.811 1326.15 L889.811 1352.07 L885.551 1352.07 L885.551 1348.09 Q884 1350.45 881.94 1351.61 Q879.903 1352.75 877.195 1352.75 Q872.727 1352.75 870.412 1349.97 Q868.098 1347.19 868.098 1341.84 M878.815 1325.52 L878.815 1325.52 Z\" fill=\"#ffffff\" fill-rule=\"evenodd\" fill-opacity=\"1\" /><path clip-path=\"url(#clip350)\" d=\"M918.283 1348.14 L934.602 1348.14 L934.602 1352.07 L912.658 1352.07 L912.658 1348.14 Q915.32 1345.38 919.903 1340.76 Q924.509 1336.1 925.69 1334.76 Q927.935 1332.24 928.815 1330.5 Q929.718 1328.74 929.718 1327.05 Q929.718 1324.3 927.773 1322.56 Q925.852 1320.82 922.75 1320.82 Q920.551 1320.82 918.097 1321.59 Q915.667 1322.35 912.889 1323.9 L912.889 1319.18 Q915.713 1318.05 918.167 1317.47 Q920.621 1316.89 922.658 1316.89 Q928.028 1316.89 931.222 1319.57 Q934.417 1322.26 934.417 1326.75 Q934.417 1328.88 933.607 1330.8 Q932.82 1332.7 930.713 1335.29 Q930.134 1335.96 927.033 1339.18 Q923.931 1342.38 918.283 1348.14 Z\" fill=\"#ffffff\" fill-rule=\"evenodd\" fill-opacity=\"1\" /><polyline clip-path=\"url(#clip350)\" style=\"stroke:#3f9778; stroke-linecap:butt; stroke-linejoin:round; stroke-width:4; stroke-opacity:1; fill:none\" points=\"\n",
       "  304.305,1386.63 447.22,1386.63 \n",
       "  \"/>\n",
       "<path clip-path=\"url(#clip350)\" d=\"M475.716 1373.2 L475.716 1386.18 L481.595 1386.18 Q484.859 1386.18 486.641 1384.49 Q488.424 1382.8 488.424 1379.68 Q488.424 1376.58 486.641 1374.89 Q484.859 1373.2 481.595 1373.2 L475.716 1373.2 M471.04 1369.35 L481.595 1369.35 Q487.405 1369.35 490.368 1371.99 Q493.354 1374.61 493.354 1379.68 Q493.354 1384.79 490.368 1387.41 Q487.405 1390.03 481.595 1390.03 L475.716 1390.03 L475.716 1403.91 L471.04 1403.91 L471.04 1369.35 Z\" fill=\"#ffffff\" fill-rule=\"evenodd\" fill-opacity=\"1\" /><path clip-path=\"url(#clip350)\" d=\"M507.799 1380.97 Q504.373 1380.97 502.382 1383.66 Q500.391 1386.32 500.391 1390.97 Q500.391 1395.63 502.359 1398.31 Q504.35 1400.97 507.799 1400.97 Q511.201 1400.97 513.192 1398.29 Q515.183 1395.6 515.183 1390.97 Q515.183 1386.37 513.192 1383.68 Q511.201 1380.97 507.799 1380.97 M507.799 1377.36 Q513.354 1377.36 516.526 1380.97 Q519.697 1384.59 519.697 1390.97 Q519.697 1397.34 516.526 1400.97 Q513.354 1404.59 507.799 1404.59 Q502.22 1404.59 499.049 1400.97 Q495.901 1397.34 495.901 1390.97 Q495.901 1384.59 499.049 1380.97 Q502.22 1377.36 507.799 1377.36 Z\" fill=\"#ffffff\" fill-rule=\"evenodd\" fill-opacity=\"1\" /><path clip-path=\"url(#clip350)\" d=\"M526.757 1367.9 L531.016 1367.9 L531.016 1403.91 L526.757 1403.91 L526.757 1367.9 Z\" fill=\"#ffffff\" fill-rule=\"evenodd\" fill-opacity=\"1\" /><path clip-path=\"url(#clip350)\" d=\"M539.928 1377.99 L544.187 1377.99 L544.187 1403.91 L539.928 1403.91 L539.928 1377.99 M539.928 1367.9 L544.187 1367.9 L544.187 1373.29 L539.928 1373.29 L539.928 1367.9 Z\" fill=\"#ffffff\" fill-rule=\"evenodd\" fill-opacity=\"1\" /><path clip-path=\"url(#clip350)\" d=\"M574.65 1388.27 L574.65 1403.91 L570.391 1403.91 L570.391 1388.41 Q570.391 1384.72 568.956 1382.9 Q567.521 1381.07 564.65 1381.07 Q561.201 1381.07 559.21 1383.27 Q557.22 1385.47 557.22 1389.26 L557.22 1403.91 L552.937 1403.91 L552.937 1377.99 L557.22 1377.99 L557.22 1382.02 Q558.747 1379.68 560.808 1378.52 Q562.891 1377.36 565.599 1377.36 Q570.067 1377.36 572.359 1380.14 Q574.65 1382.9 574.65 1388.27 Z\" fill=\"#ffffff\" fill-rule=\"evenodd\" fill-opacity=\"1\" /><path clip-path=\"url(#clip350)\" d=\"M593.192 1380.97 Q589.766 1380.97 587.775 1383.66 Q585.784 1386.32 585.784 1390.97 Q585.784 1395.63 587.752 1398.31 Q589.743 1400.97 593.192 1400.97 Q596.595 1400.97 598.585 1398.29 Q600.576 1395.6 600.576 1390.97 Q600.576 1386.37 598.585 1383.68 Q596.595 1380.97 593.192 1380.97 M593.192 1377.36 Q598.747 1377.36 601.919 1380.97 Q605.09 1384.59 605.09 1390.97 Q605.09 1397.34 601.919 1400.97 Q598.747 1404.59 593.192 1404.59 Q587.613 1404.59 584.442 1400.97 Q581.294 1397.34 581.294 1390.97 Q581.294 1384.59 584.442 1380.97 Q587.613 1377.36 593.192 1377.36 M591.479 1366 L594.905 1366 L600.576 1374.7 L597.358 1374.7 L593.192 1369.03 L589.025 1374.7 L585.808 1374.7 L591.479 1366 Z\" fill=\"#ffffff\" fill-rule=\"evenodd\" fill-opacity=\"1\" /><path clip-path=\"url(#clip350)\" d=\"M632.335 1382.97 Q633.932 1380.1 636.154 1378.73 Q638.377 1377.36 641.386 1377.36 Q645.437 1377.36 647.636 1380.21 Q649.835 1383.03 649.835 1388.27 L649.835 1403.91 L645.553 1403.91 L645.553 1388.41 Q645.553 1384.68 644.233 1382.87 Q642.914 1381.07 640.205 1381.07 Q636.895 1381.07 634.974 1383.27 Q633.053 1385.47 633.053 1389.26 L633.053 1403.91 L628.77 1403.91 L628.77 1388.41 Q628.77 1384.66 627.451 1382.87 Q626.131 1381.07 623.377 1381.07 Q620.113 1381.07 618.192 1383.29 Q616.27 1385.49 616.27 1389.26 L616.27 1403.91 L611.988 1403.91 L611.988 1377.99 L616.27 1377.99 L616.27 1382.02 Q617.729 1379.63 619.766 1378.5 Q621.803 1377.36 624.604 1377.36 Q627.428 1377.36 629.395 1378.8 Q631.386 1380.23 632.335 1382.97 Z\" fill=\"#ffffff\" fill-rule=\"evenodd\" fill-opacity=\"1\" /><path clip-path=\"url(#clip350)\" d=\"M658.33 1377.99 L662.59 1377.99 L662.59 1403.91 L658.33 1403.91 L658.33 1377.99 M658.33 1367.9 L662.59 1367.9 L662.59 1373.29 L658.33 1373.29 L658.33 1367.9 Z\" fill=\"#ffffff\" fill-rule=\"evenodd\" fill-opacity=\"1\" /><path clip-path=\"url(#clip350)\" d=\"M681.548 1380.97 Q678.122 1380.97 676.131 1383.66 Q674.14 1386.32 674.14 1390.97 Q674.14 1395.63 676.108 1398.31 Q678.099 1400.97 681.548 1400.97 Q684.951 1400.97 686.941 1398.29 Q688.932 1395.6 688.932 1390.97 Q688.932 1386.37 686.941 1383.68 Q684.951 1380.97 681.548 1380.97 M681.548 1377.36 Q687.103 1377.36 690.275 1380.97 Q693.446 1384.59 693.446 1390.97 Q693.446 1397.34 690.275 1400.97 Q687.103 1404.59 681.548 1404.59 Q675.969 1404.59 672.798 1400.97 Q669.65 1397.34 669.65 1390.97 Q669.65 1384.59 672.798 1380.97 Q675.969 1377.36 681.548 1377.36 Z\" fill=\"#ffffff\" fill-rule=\"evenodd\" fill-opacity=\"1\" /><path clip-path=\"url(#clip350)\" d=\"M732.635 1381.92 L732.635 1367.9 L736.895 1367.9 L736.895 1403.91 L732.635 1403.91 L732.635 1400.03 Q731.293 1402.34 729.233 1403.47 Q727.196 1404.59 724.325 1404.59 Q719.626 1404.59 716.663 1400.84 Q713.724 1397.09 713.724 1390.97 Q713.724 1384.86 716.663 1381.11 Q719.626 1377.36 724.325 1377.36 Q727.196 1377.36 729.233 1378.5 Q731.293 1379.61 732.635 1381.92 M718.122 1390.97 Q718.122 1395.67 720.043 1398.36 Q721.987 1401.02 725.367 1401.02 Q728.747 1401.02 730.691 1398.36 Q732.635 1395.67 732.635 1390.97 Q732.635 1386.28 730.691 1383.61 Q728.747 1380.93 725.367 1380.93 Q721.987 1380.93 720.043 1383.61 Q718.122 1386.28 718.122 1390.97 Z\" fill=\"#ffffff\" fill-rule=\"evenodd\" fill-opacity=\"1\" /><path clip-path=\"url(#clip350)\" d=\"M767.844 1389.89 L767.844 1391.97 L748.26 1391.97 Q748.538 1396.37 750.899 1398.68 Q753.283 1400.97 757.52 1400.97 Q759.973 1400.97 762.265 1400.37 Q764.58 1399.77 766.848 1398.57 L766.848 1402.59 Q764.557 1403.57 762.149 1404.08 Q759.742 1404.59 757.265 1404.59 Q751.061 1404.59 747.427 1400.97 Q743.816 1397.36 743.816 1391.21 Q743.816 1384.84 747.242 1381.11 Q750.691 1377.36 756.524 1377.36 Q761.756 1377.36 764.788 1380.74 Q767.844 1384.1 767.844 1389.89 M763.584 1388.64 Q763.538 1385.14 761.617 1383.06 Q759.719 1380.97 756.571 1380.97 Q753.006 1380.97 750.853 1382.99 Q748.723 1385 748.399 1388.66 L763.584 1388.64 Z\" fill=\"#ffffff\" fill-rule=\"evenodd\" fill-opacity=\"1\" /><path clip-path=\"url(#clip350)\" d=\"M806.964 1390.65 Q806.964 1386.02 805.042 1383.47 Q803.144 1380.93 799.695 1380.93 Q796.269 1380.93 794.348 1383.47 Q792.45 1386.02 792.45 1390.65 Q792.45 1395.26 794.348 1397.8 Q796.269 1400.35 799.695 1400.35 Q803.144 1400.35 805.042 1397.8 Q806.964 1395.26 806.964 1390.65 M811.223 1400.7 Q811.223 1407.32 808.283 1410.53 Q805.343 1413.78 799.279 1413.78 Q797.033 1413.78 795.043 1413.43 Q793.052 1413.1 791.177 1412.41 L791.177 1408.27 Q793.052 1409.28 794.88 1409.77 Q796.709 1410.26 798.607 1410.26 Q802.797 1410.26 804.88 1408.06 Q806.964 1405.88 806.964 1401.46 L806.964 1399.35 Q805.644 1401.65 803.584 1402.78 Q801.524 1403.91 798.654 1403.91 Q793.885 1403.91 790.968 1400.28 Q788.052 1396.65 788.052 1390.65 Q788.052 1384.63 790.968 1381 Q793.885 1377.36 798.654 1377.36 Q801.524 1377.36 803.584 1378.5 Q805.644 1379.63 806.964 1381.92 L806.964 1377.99 L811.223 1377.99 L811.223 1400.7 Z\" fill=\"#ffffff\" fill-rule=\"evenodd\" fill-opacity=\"1\" /><path clip-path=\"url(#clip350)\" d=\"M835.019 1381.97 Q834.302 1381.55 833.445 1381.37 Q832.612 1381.16 831.593 1381.16 Q827.982 1381.16 826.038 1383.52 Q824.116 1385.86 824.116 1390.26 L824.116 1403.91 L819.834 1403.91 L819.834 1377.99 L824.116 1377.99 L824.116 1382.02 Q825.459 1379.66 827.612 1378.52 Q829.765 1377.36 832.843 1377.36 Q833.283 1377.36 833.815 1377.43 Q834.348 1377.48 834.996 1377.6 L835.019 1381.97 Z\" fill=\"#ffffff\" fill-rule=\"evenodd\" fill-opacity=\"1\" /><path clip-path=\"url(#clip350)\" d=\"M851.269 1390.88 Q846.107 1390.88 844.116 1392.06 Q842.126 1393.24 842.126 1396.09 Q842.126 1398.36 843.607 1399.7 Q845.112 1401.02 847.681 1401.02 Q851.223 1401.02 853.352 1398.52 Q855.505 1396 855.505 1391.83 L855.505 1390.88 L851.269 1390.88 M859.764 1389.12 L859.764 1403.91 L855.505 1403.91 L855.505 1399.98 Q854.047 1402.34 851.871 1403.47 Q849.695 1404.59 846.547 1404.59 Q842.565 1404.59 840.204 1402.36 Q837.866 1400.12 837.866 1396.37 Q837.866 1391.99 840.783 1389.77 Q843.723 1387.55 849.533 1387.55 L855.505 1387.55 L855.505 1387.13 Q855.505 1384.19 853.561 1382.6 Q851.639 1380.97 848.144 1380.97 Q845.922 1380.97 843.815 1381.51 Q841.709 1382.04 839.765 1383.1 L839.765 1379.17 Q842.102 1378.27 844.302 1377.83 Q846.501 1377.36 848.584 1377.36 Q854.209 1377.36 856.987 1380.28 Q859.764 1383.2 859.764 1389.12 Z\" fill=\"#ffffff\" fill-rule=\"evenodd\" fill-opacity=\"1\" /><path clip-path=\"url(#clip350)\" d=\"M868.098 1393.68 L868.098 1377.99 L872.357 1377.99 L872.357 1393.52 Q872.357 1397.2 873.792 1399.05 Q875.227 1400.88 878.098 1400.88 Q881.547 1400.88 883.537 1398.68 Q885.551 1396.48 885.551 1392.69 L885.551 1377.99 L889.811 1377.99 L889.811 1403.91 L885.551 1403.91 L885.551 1399.93 Q884 1402.29 881.94 1403.45 Q879.903 1404.59 877.195 1404.59 Q872.727 1404.59 870.412 1401.81 Q868.098 1399.03 868.098 1393.68 M878.815 1377.36 L878.815 1377.36 Z\" fill=\"#ffffff\" fill-rule=\"evenodd\" fill-opacity=\"1\" /><path clip-path=\"url(#clip350)\" d=\"M928.421 1385.28 Q931.778 1386 933.653 1388.27 Q935.551 1390.53 935.551 1393.87 Q935.551 1398.98 932.033 1401.78 Q928.514 1404.59 922.033 1404.59 Q919.857 1404.59 917.542 1404.15 Q915.25 1403.73 912.797 1402.87 L912.797 1398.36 Q914.741 1399.49 917.056 1400.07 Q919.371 1400.65 921.894 1400.65 Q926.292 1400.65 928.583 1398.91 Q930.898 1397.18 930.898 1393.87 Q930.898 1390.81 928.746 1389.1 Q926.616 1387.36 922.796 1387.36 L918.769 1387.36 L918.769 1383.52 L922.982 1383.52 Q926.431 1383.52 928.259 1382.16 Q930.088 1380.77 930.088 1378.17 Q930.088 1375.51 928.19 1374.1 Q926.315 1372.66 922.796 1372.66 Q920.875 1372.66 918.676 1373.08 Q916.477 1373.5 913.838 1374.38 L913.838 1370.21 Q916.5 1369.47 918.815 1369.1 Q921.153 1368.73 923.213 1368.73 Q928.537 1368.73 931.639 1371.16 Q934.741 1373.57 934.741 1377.69 Q934.741 1380.56 933.097 1382.55 Q931.454 1384.52 928.421 1385.28 Z\" fill=\"#ffffff\" fill-rule=\"evenodd\" fill-opacity=\"1\" /></svg>\n"
      ]
     },
     "execution_count": 36,
     "metadata": {},
     "output_type": "execute_result"
    }
   ],
   "source": [
    "scatter(X, Y, label=\"Pontos\", legend=:bottomleft)\n",
    "plot!(X, P2.(X), label=\"Polinômio de grau 2\")\n",
    "plot!(X, P3.(X), label=\"Polinômio de grau 3\")"
   ]
  },
  {
   "cell_type": "markdown",
   "metadata": {},
   "source": [
    "O gráfico ficou meio reto por estarmos analisando poucos pontos na hora de plotar, mas podemos ver que a curva de grau 3 parece ser bem melhor que a de grau 2. Mas essa é apenas uma análise empírica, vamos calcular o erro máximo de cada curva para termos certeza:"
   ]
  },
  {
   "cell_type": "code",
   "execution_count": 37,
   "metadata": {},
   "outputs": [
    {
     "data": {
      "text/plain": [
       "90.72184232530297"
      ]
     },
     "execution_count": 37,
     "metadata": {},
     "output_type": "execute_result"
    }
   ],
   "source": [
    "mse(P2.(X), Y)"
   ]
  },
  {
   "cell_type": "code",
   "execution_count": 38,
   "metadata": {},
   "outputs": [
    {
     "data": {
      "text/plain": [
       "3.764043137885098e-13"
      ]
     },
     "execution_count": 38,
     "metadata": {},
     "output_type": "execute_result"
    }
   ],
   "source": [
    "mse(P3.(X), Y)"
   ]
  },
  {
   "cell_type": "markdown",
   "metadata": {},
   "source": [
    "O erro do polinômio de grau 3 foi bem melhor, então vamos usar esse polinômio para encontrar o valor no ponto:"
   ]
  },
  {
   "cell_type": "code",
   "execution_count": 39,
   "metadata": {},
   "outputs": [
    {
     "data": {
      "text/plain": [
       "-376.2958400485001"
      ]
     },
     "execution_count": 39,
     "metadata": {},
     "output_type": "execute_result"
    }
   ],
   "source": [
    "P3(3.2345)"
   ]
  },
  {
   "cell_type": "markdown",
   "metadata": {},
   "source": [
    "Assim, $y(3.2345) \\approx -376.59069822714196$"
   ]
  },
  {
   "cell_type": "markdown",
   "metadata": {},
   "source": [
    "## Exercício 3"
   ]
  },
  {
   "cell_type": "markdown",
   "metadata": {},
   "source": [
    "### 3a. Modele como um sistema"
   ]
  },
  {
   "cell_type": "markdown",
   "metadata": {},
   "source": [
    "Se a temperatura em um nó é a média das pontas temos as seguintes equações:\n",
    "* $x_1 = \\frac{5 + 15 + x_2 + x_3}{4}$\n",
    "* $x_2 = \\frac{15 + 35 + x_1 + x_4}{4}$\n",
    "* $x_3 = \\frac{5 + 10 + x_1 + x_4}{4}$\n",
    "* $x_4 = \\frac{10 + 35 + x_2 + x_3}{4}$\n",
    "\n",
    "Com isso temos o seguinte sistema:\n",
    "\n",
    "$$\n",
    "\\begin{bmatrix}\n",
    "4 & -1 & -1 & 0\\\\\n",
    "-1 & 4 & 0 & -1\\\\\n",
    "-1 & 0 & 4 & -1\\\\\n",
    "0 & -1 & -1 & 4\n",
    "\\end{bmatrix}\n",
    "\\begin{bmatrix}\n",
    "x_1\\\\\n",
    "x_2\\\\\n",
    "x_3\\\\\n",
    "x_4\n",
    "\\end{bmatrix}\n",
    "=\n",
    "\\begin{bmatrix}\n",
    "20\\\\\n",
    "50\\\\\n",
    "15\\\\\n",
    "45\n",
    "\\end{bmatrix}\n",
    "$$"
   ]
  },
  {
   "cell_type": "markdown",
   "metadata": {},
   "source": [
    "### 3b. Resolva com LU\n",
    "\n",
    "A resolução de um sistema usando decomposição $LU$ se baseia no fato de termos uma matriz triangular superior e uma inferior. Assim, o sistema $LUx = b$ pode ser resolvido inicial com $LY = b$ resolvendo $Y$ e depois igualando $Ux = Y$, resolvendo o sistema e chegando no valor esperado de $x$"
   ]
  },
  {
   "cell_type": "code",
   "execution_count": 40,
   "metadata": {},
   "outputs": [
    {
     "data": {
      "text/plain": [
       "4-element Vector{Float64}:\n",
       " 13.125\n",
       " 20.625\n",
       " 11.874999999999998\n",
       " 19.375"
      ]
     },
     "execution_count": 40,
     "metadata": {},
     "output_type": "execute_result"
    }
   ],
   "source": [
    "A = Float64.([\n",
    "    4 -1 -1 0;\n",
    "    -1 4 0 -1;\n",
    "    -1 0 4 -1;\n",
    "    0 -1 -1 4\n",
    "])\n",
    "\n",
    "y = [20; 50; 15; 45]\n",
    "\n",
    "L, U = decomposicao_lu(A)\n",
    "Y = resolve_triangular_inferior(L, y)\n",
    "x = resolve_triangular_superior(U, Y)"
   ]
  },
  {
   "cell_type": "markdown",
   "metadata": {},
   "source": [
    "Então as temperaturas são:\n",
    "* $x_1 = 13.125$\n",
    "* $x_2 = 20.625$\n",
    "* $x_3 = 11.875$\n",
    "* $x_4 = 19.375$"
   ]
  },
  {
   "cell_type": "markdown",
   "metadata": {},
   "source": [
    "### 3c. Discretize ainda mais\n",
    "\n",
    "Podemos generalizar uma função que calcule a temperatura de um lago de tamanho $(n,n)$"
   ]
  },
  {
   "cell_type": "code",
   "execution_count": 41,
   "metadata": {},
   "outputs": [
    {
     "data": {
      "text/plain": [
       "25-element Vector{Float64}:\n",
       " 22.656565656565654\n",
       " 21.76228632478632\n",
       " 21.286519036519035\n",
       " 20.89359945609946\n",
       " 20.46969696969697\n",
       " 23.863976301476303\n",
       " 23.106060606060602\n",
       " 22.49019036519036\n",
       " 21.818181818181817\n",
       " 20.98518842268842\n",
       " 24.69327894327894\n",
       " 24.30778943278943\n",
       " 23.75\n",
       " 22.90374902874903\n",
       " 21.652874902874903\n",
       " 25.60135003885004\n",
       " 25.68181818181818\n",
       " 25.29827117327117\n",
       " 24.393939393939394\n",
       " 22.722562160062164\n",
       " 27.03030303030303\n",
       " 27.519862082362085\n",
       " 27.367327117327115\n",
       " 26.651175213675213\n",
       " 24.843434343434346"
      ]
     },
     "execution_count": 41,
     "metadata": {},
     "output_type": "execute_result"
    }
   ],
   "source": [
    "n = 5\n",
    "tempN = 20\n",
    "tempW = 25\n",
    "tempS = 30\n",
    "tempE = 20\n",
    "lake_degree(n, tempN, tempW, tempS, tempE)"
   ]
  },
  {
   "cell_type": "markdown",
   "metadata": {},
   "source": [
    "### 3d. Maior n em 2 minutos\n",
    "\n",
    "Poderíamos testar com vários tamanhos de lago e ir calculando o tempo, mas podemos fazer de uma forma mais inteligente. Para resolver o problema usamos a função criada $\\text{lake_degree}$, vamos então fazer uma análise de complexidade:\n",
    "1. Criação da matriz: $O(n^4)$\n",
    "    * Como criamos uma matriz de lado $n^2$, a complexidade de criação é $O(n^4)$\n",
    "    * Ao preencher é feito um for para cada linha que modificada apenas 5 elementos, então a complexidade de preenchimento é $O(n^2)$\n",
    "0. Criação do vetor: $O(n^2)$\n",
    "    * Um vetor de $n^2$ elementos possui complexidade $O(n^2)$ para ser criado\n",
    "    * Cada preenchimento lateral é um for que percorre $n$ elementos, então sua complexidade é $O(n)$\n",
    "0. Resolução do sistema: $O(n^6)$\n",
    "    * Para fazer a decomposição LU a complexidade é $O(n^3)$, mas como a matriz possui lado $n^2$ a complexidade é $O(n^6)$\n",
    "    * Para resolver os sistemas triangulares será $O(n^2)$, mas com lado $n^2$ fica $O(n^4)$\n",
    "    \n",
    "Vamos aproximar que um computador consegue rodar $10^8$ operações em 1 segundo, então para 2 minutos precisaremos de $120 * 10^8 = 1.2*10^{10}$ operações."
   ]
  },
  {
   "cell_type": "code",
   "execution_count": 42,
   "metadata": {},
   "outputs": [
    {
     "data": {
      "text/plain": [
       "47.84797263319171"
      ]
     },
     "execution_count": 42,
     "metadata": {},
     "output_type": "execute_result"
    }
   ],
   "source": [
    "(1.2e10)^(1.0/6)"
   ]
  },
  {
   "cell_type": "markdown",
   "metadata": {},
   "source": [
    "Então é necessário um lago com tamanho de aproximadamente 47 pontos para que leve 2 minutos. Não conseguimos facilmente uma busca binária pois a princípio poderíamos ter infinitos pontos, impossibilitando um máximo. Então vamos começar nossa análise com 47 pontos e ir percorrendo linearmente mesmo. \n",
    "\n",
    "Para facilitar as contas, vamos considerar cada lado começando com temperatura da maior potência de $4$, pois assim poderão ser feitas várias divisões por 4 sem dar problemas com pontos flutuantes. O tamanho máximo de um inteiro é $2^{63}-1$, então vamos considerar o maior inteiro múltiplo de 4 em $4^{31}$."
   ]
  },
  {
   "cell_type": "code",
   "execution_count": 50,
   "metadata": {},
   "outputs": [
    {
     "name": "stdout",
     "output_type": "stream",
     "text": [
      "Rodando com tamanho 47: Levou 119.410526769 segundos\n",
      "Rodando com tamanho 48: Levou 203.335448605 segundos\n"
     ]
    },
    {
     "data": {
      "text/plain": [
       "47"
      ]
     },
     "execution_count": 50,
     "metadata": {},
     "output_type": "execute_result"
    }
   ],
   "source": [
    "function find_lake_size(initial_guess, max_time)\n",
    "    # Maior multiplo de 4 em cada temperatura\n",
    "    tempN = 4e31\n",
    "    tempW = 4e31\n",
    "    tempS = 4e31\n",
    "    tempE = 4e31\n",
    "    \n",
    "    # Dado um n, retorna o tempo que levou para executar\n",
    "    lake_time(n) = @elapsed lake_degree(n, tempN, tempW, tempS, tempE)\n",
    "    \n",
    "    n = initial_guess\n",
    "    time = 2^63 - 1 # Comeca o tempo com \"infinito\"\n",
    "    while(true)\n",
    "        print(\"Rodando com tamanho $n: \")\n",
    "        last_time = time\n",
    "        time = lake_time(n)\n",
    "        println(\"Levou $time segundos\")\n",
    "\n",
    "        if(time > max_time)\n",
    "            # Se passou do maximo tem que voltar\n",
    "            n -= 1\n",
    "            # Mas se o anterior for menor, eh porque encontrou a fronteira\n",
    "            if(last_time < time) return n end\n",
    "        else\n",
    "            # Senao tem que avancar\n",
    "            n += 1\n",
    "        end\n",
    "    end\n",
    "end\n",
    "\n",
    "find_lake_size(47, 2*60)"
   ]
  },
  {
   "cell_type": "markdown",
   "metadata": {},
   "source": [
    "E para o bem de todos e felicidade geral da nação, 47 é a resposta certa! Não precisamos rodar com tantos números para descobrir. Mas o que encontramos é que o tamanho do lago é 47, enquanto a questão pede a quantidade de nós. A quantidade de nós do lago é simplesmente o lado ao quadrado, então:"
   ]
  },
  {
   "cell_type": "code",
   "execution_count": 44,
   "metadata": {},
   "outputs": [
    {
     "name": "stdout",
     "output_type": "stream",
     "text": [
      "O lago possui 2209 nós\n"
     ]
    }
   ],
   "source": [
    "println(\"O lago possui $(47^2) nós\")"
   ]
  },
  {
   "cell_type": "markdown",
   "metadata": {},
   "source": [
    "## Exercício 4"
   ]
  },
  {
   "cell_type": "markdown",
   "metadata": {},
   "source": [
    "Antes de começar a questão, vamos criar o sistema. Sabemos que o fluxo de entrada de um nó deve ser igual ao de saída, então:\n",
    "<ol style=\"list-style-type: upper-alpha;\">\n",
    "  <li>$x_1 = 2000 + 5000$</li>\n",
    "  <li>$x_2 = 1500 + 2000$</li>\n",
    "  <li>$x_3 = 8000 + 1000$</li>\n",
    "  <li>$x_4 = x_1 + 30000 [+ x_9]$</li>\n",
    "  <li>$x_5 = x_3 + 3000$</li>\n",
    "  <li>$x_6 = x_4 + x_2$</li>\n",
    "  <li>$x_7 = x_5 + 3000$</li>\n",
    "  <li>$x_8 = x_6 + 500 + x+7$</li>\n",
    "</ol>\n",
    "\n",
    "Com isso podemos montar o seguinte sistema (Sem contar $x_9$):\n",
    "\n",
    "$$\n",
    "\\begin{bmatrix}\n",
    "1 & 0 & 0 & 0 & 0 & 0 & 0 & 0\\\\\n",
    "0 & 1 & 0 & 0 & 0 & 0 & 0 & 0\\\\\n",
    "0 & 0 & 1 & 0 & 0 & 0 & 0 & 0\\\\\n",
    "-1 & 0 & 0 & 1 & 0 & 0 & 0 & 0\\\\\n",
    "0 & 0 & -1 & 0 & 1 & 0 & 0 & 0\\\\\n",
    "0 & -1 & 0 & -1 & 0 & 1 & 0 & 0\\\\\n",
    "0 & 0 & 0 & 0 & -1 & 0 & 1 & 0\\\\\n",
    "0 & 0 & 0 & 0 & 0 & -1 & -1 & 1\\\\\n",
    "\\end{bmatrix}\n",
    "\\begin{bmatrix}\n",
    "x_1\\\\\n",
    "x_2\\\\\n",
    "x_3\\\\\n",
    "x_4\\\\\n",
    "x_5\\\\\n",
    "x_6\\\\\n",
    "x_7\\\\\n",
    "x_8\\\\\n",
    "\\end{bmatrix}\n",
    "=\n",
    "\\begin{bmatrix}\n",
    "7000\\\\\n",
    "3500\\\\\n",
    "9000\\\\\n",
    "30000\\\\\n",
    "3000\\\\\n",
    "0\\\\\n",
    "3000\\\\\n",
    "500\\\\\n",
    "\\end{bmatrix}\n",
    "$$"
   ]
  },
  {
   "cell_type": "markdown",
   "metadata": {},
   "source": [
    "### 4a. Resolva sem $x_9$"
   ]
  },
  {
   "cell_type": "markdown",
   "metadata": {},
   "source": [
    "Sabendo o sistema, vamos montar e resolver:"
   ]
  },
  {
   "cell_type": "code",
   "execution_count": 45,
   "metadata": {},
   "outputs": [],
   "source": [
    "A = [\n",
    "    1 0 0 0 0 0 0 0;\n",
    "    0 1 0 0 0 0 0 0;\n",
    "    0 0 1 0 0 0 0 0;\n",
    "    -1 0 0 1 0 0 0 0;\n",
    "    0 0 -1 0 1 0 0 0;\n",
    "    0 -1 0 -1 0 1 0 0;\n",
    "    0 0 0 0 -1 0 1 0;\n",
    "    0 0 0 0 0 -1 -1 1\n",
    "]\n",
    "\n",
    "y = [7000; 3500; 9000; 30000; 3000; 0; 3000; 500]\n",
    ";"
   ]
  },
  {
   "cell_type": "markdown",
   "metadata": {},
   "source": [
    "Podemos resolver da mesma forma que foi feito na questão 3"
   ]
  },
  {
   "cell_type": "code",
   "execution_count": 46,
   "metadata": {},
   "outputs": [
    {
     "data": {
      "text/plain": [
       "8-element Vector{Float64}:\n",
       "  7000.0\n",
       "  3500.0\n",
       "  9000.0\n",
       " 37000.0\n",
       " 12000.0\n",
       " 40500.0\n",
       " 15000.0\n",
       " 56000.0"
      ]
     },
     "execution_count": 46,
     "metadata": {},
     "output_type": "execute_result"
    }
   ],
   "source": [
    "L, U = decomposicao_lu(A)\n",
    "Y = resolve_triangular_inferior(L, y)\n",
    "x = resolve_triangular_superior(U, Y)"
   ]
  },
  {
   "cell_type": "markdown",
   "metadata": {},
   "source": [
    "### 4b. Resolva com $x_9$"
   ]
  },
  {
   "cell_type": "markdown",
   "metadata": {},
   "source": [
    "Ao adicionar $x_9$ teremos uma coluna e uma variável a mais"
   ]
  },
  {
   "cell_type": "code",
   "execution_count": 47,
   "metadata": {},
   "outputs": [],
   "source": [
    "A = [\n",
    "    1 0 0 0 0 0 0 0 0;\n",
    "    0 1 0 0 0 0 0 0 0;\n",
    "    0 0 1 0 0 0 0 0 0;\n",
    "    -1 0 0 1 0 0 0 0 -1;\n",
    "    0 0 -1 0 1 0 0 0 1;\n",
    "    0 -1 0 -1 0 1 0 0 0;\n",
    "    0 0 0 0 -1 0 1 0 0;\n",
    "    0 0 0 0 0 -1 -1 1 0\n",
    "]\n",
    ";"
   ]
  },
  {
   "cell_type": "code",
   "execution_count": 48,
   "metadata": {},
   "outputs": [
    {
     "data": {
      "text/plain": [
       "8-element Vector{Float64}:\n",
       "  7000.0\n",
       "  3500.0\n",
       "  9000.0\n",
       " 37000.0\n",
       " 12000.0\n",
       " 40500.0\n",
       " 15000.0\n",
       " 56000.0"
      ]
     },
     "execution_count": 48,
     "metadata": {},
     "output_type": "execute_result"
    }
   ],
   "source": [
    "L, U = decomposicao_lu(A)\n",
    "Y = resolve_triangular_inferior(L, y)\n",
    "x = resolve_triangular_superior(U, Y)"
   ]
  },
  {
   "cell_type": "markdown",
   "metadata": {},
   "source": [
    "A resposta é a mesma que se o cano $x_9$ não existisse, e isso faz sentido pela definição da decomposição $LU$. A decomposição apenas dá certo se a matriz $A$ for quadrada, mas não é o que acontece. Como temos 8 equações e 9 variáveis, temos uma matriz $(8,9)$. \n",
    "\n",
    "Da forma como a função foi feita, irá registrar o primeiro número $(8)$ como o tamanho da matriz e tratar como uma matriz quadrada. A coluna extra então passará despercebida. No entanto, se tivéssemos adicionado mais um bairro, teríamos uma matriz $(9,8)$ e, pela definição do código, iríamos tratar como uma matriz quadrada de tamanho $9$ e acessar posições inválidas da matriz, impedindo sua execução."
   ]
  }
 ],
 "metadata": {
  "kernelspec": {
   "display_name": "Julia 1.6.3",
   "language": "julia",
   "name": "julia-1.6"
  },
  "language_info": {
   "file_extension": ".jl",
   "mimetype": "application/julia",
   "name": "julia",
   "version": "1.6.3"
  }
 },
 "nbformat": 4,
 "nbformat_minor": 4
}
